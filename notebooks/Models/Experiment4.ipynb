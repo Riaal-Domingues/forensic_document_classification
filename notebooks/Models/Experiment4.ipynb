{
 "cells": [
  {
   "cell_type": "code",
   "execution_count": 1,
   "id": "4fc66a23-778c-42d9-beab-945fd6b19b67",
   "metadata": {
    "execution": {
     "iopub.execute_input": "2021-11-13T08:16:00.564114Z",
     "iopub.status.busy": "2021-11-13T08:16:00.555925Z",
     "iopub.status.idle": "2021-11-13T08:16:03.348206Z",
     "shell.execute_reply": "2021-11-13T08:16:03.346767Z",
     "shell.execute_reply.started": "2021-11-13T08:16:00.562522Z"
    },
    "tags": []
   },
   "outputs": [],
   "source": [
    "import os\n",
    "import re\n",
    "import os\n",
    "import tempfile\n",
    "import math\n",
    "from gensim.corpora import Dictionary\n",
    "from gensim.models import LdaModel\n",
    "from gensim.models import CoherenceModel\n",
    "import json\n",
    "from pprint import pprint\n",
    "\n",
    "from tqdm import tqdm\n",
    "\n",
    "import matplotlib.pyplot as plt\n",
    "from wordcloud import WordCloud\n",
    "import numpy as np\n",
    "\n",
    "import plotly.graph_objects as go\n",
    "\n",
    "\n",
    "################ Function definitions ###############\n",
    "# A helper function which loads the json email and returns it as a dictionary\n",
    "def loadMail(filename):\n",
    "    with open (filename, \"r\") as inputFile:\n",
    "        return json.load(inputFile)\n",
    "################ End Function definitions ###############\n",
    "\n",
    "\n",
    "########## Code: Loading Dictionaries #########\n",
    "def build_dictionaries(subdir, pre_pend_filter = \"\",  bow_docs_pos = None, dictionary_pos = None, texts_pos = None, filenames = None, limit = 10000, paragraphs = False):\n",
    "    # This technique requires dictionaries to fit in available memory.\n",
    "    # It is good for experimenting, but not for general purpose use if lots of data will be processed.\n",
    "    if(bow_docs_pos == None):\n",
    "        bow_docs_pos = []\n",
    "        texts_pos = []\n",
    "        dictionary_pos = Dictionary()      # Dictionary based on Part of Speech tagging\n",
    "        filenames = []\n",
    "    bow_docs_common = []\n",
    "    texts_common = []\n",
    "    dictionary_common = Dictionary()   # Dictionary based on common words\n",
    "\n",
    "\n",
    "    print(\"Building dictionaries\\n\")\n",
    "    #print(\"Files\")\n",
    "    #print(filenames)\n",
    "\n",
    "    # Build a dictionary of all the emails\n",
    "    count = 0\n",
    "    for root, dirs, files in os.walk(subdir):\n",
    "        for file in files:\n",
    "            if not re.search(r'^\\.',file):     #Filter out common files created by the OS\n",
    "                filename = os.path.basename(file)\n",
    "                if pre_pend_filter == \"\" or re.match(pre_pend_filter, filename, flags=re.IGNORECASE) != None:\n",
    "                    email_file = os.path.join(root,file)\n",
    "                    #new_mail.initMail(email_file)\n",
    "                    # Build a dictionary and BOW from common token documents\n",
    "\n",
    "                    #for key, value in developer.items():\n",
    "                        #print(key, \":\", value)\n",
    "                    email_dict = loadMail(email_file)\n",
    "                    if paragraphs:\n",
    "                        paragraph_list = email_dict['body_pos_paragraph_tokens']\n",
    "                        if len(paragraph_list) > 0:\n",
    "                            for paragraph in paragraph_list:\n",
    "                                texts_pos.append(paragraph)\n",
    "                                dictionary_pos.add_documents([paragraph])\n",
    "                                bow_docs_pos.append(dictionary_pos.doc2bow(paragraph))\n",
    "                                #print(email_file)\n",
    "                                filenames.append(email_file)\n",
    "                                \n",
    "                    else:\n",
    "                        texts_common.append(email_dict['body_tokens'])\n",
    "                        dictionary_common.add_documents([email_dict['body_tokens']])\n",
    "                        bow_docs_common.append(dictionary_common.doc2bow(email_dict[\"body_tokens\"]))\n",
    "\n",
    "                        # Build a specialised POS dictionary and BOW\n",
    "                        if(email_dict[\"body_pos_tokens\"] != None):\n",
    "                            texts_pos.append(email_dict[\"body_pos_tokens\"])\n",
    "                            dictionary_pos.add_documents([email_dict[\"body_pos_tokens\"]])\n",
    "                            bow_docs_pos.append(dictionary_pos.doc2bow(email_dict[\"body_pos_tokens\"]))\n",
    "                            filenames.append(email_file)\n",
    "\n",
    "                    if count == limit:\n",
    "                        break\n",
    "                    else:\n",
    "                        count = count + 1\n",
    "    print(\"Finished building dictionaries.\\n\\n\")\n",
    "\n",
    "    print(\"Number of documents in the BOW corpus: \",len(bow_docs_common))\n",
    "    print(\"Number of documents in the POS corpus: \",len(bow_docs_pos))\n",
    "    \n",
    "    return bow_docs_common,dictionary_common,texts_common,bow_docs_pos,dictionary_pos,texts_pos,filenames\n",
    "\n",
    "### Define a helper function to initialise and train the LDA model #####\n",
    "### The defaults fix some hyperparameters for the LDA model which can be overwritten #####\n",
    "def build_LDA_model(dictionary, bow_docs, num_topics = 2, \n",
    "              chunksize = 2000, \n",
    "              passes = 20, \n",
    "              iterations = 400, \n",
    "              eval_every = None):\n",
    "\n",
    "    dictionary[0]  # This is only to \"load\" the dictionary.\n",
    "    id2word = dictionary.id2token\n",
    "\n",
    "    model = LdaModel(\n",
    "        corpus=bow_docs,\n",
    "        id2word=id2word,\n",
    "        chunksize=chunksize,\n",
    "        alpha='auto',\n",
    "        eta='auto',\n",
    "        iterations=iterations,\n",
    "        num_topics=num_topics,\n",
    "        passes=passes,\n",
    "        eval_every=eval_every)\n",
    "\n",
    "    return model\n",
    "\n",
    "#Define a general helper function to take the trained model and plot a wordcloud of the topics.\n",
    "def plot_wordcloud(model,filename = ''):\n",
    "    # Extract the topic words and related frequecies.\n",
    "    topics = model.show_topics(formatted=False)\n",
    "\n",
    "    # Define a square mask to print the wordcloud.\n",
    "    x, y = np.ogrid[:500, :500]\n",
    "    mask = (x - 250) ** 2 + (y - 250) ** 2 > 250 ** 2\n",
    "    mask = 255 * mask.astype(int)\n",
    "\n",
    "    # For each topic, extract the word and frequencies, build a wordcloud and display it.\n",
    "    for topic_nr,topic in zip(range(0,len(topics)),topics):\n",
    "        topic_words = dict(topic[1])\n",
    "        cloud = WordCloud(mask=mask,background_color=\"white\").generate_from_frequencies(topic_words)\n",
    "        plt.figure()\n",
    "        plt.imshow(cloud)\n",
    "        plt.axis(\"off\")\n",
    "        plt.title(\"Topic nr : \" + str(topic_nr + 1))\n",
    "        plt.show()\n",
    "        if filename != '':\n",
    "            topic_filename = filename + '_topic_' + str(topic_nr + 1) + '.png'\n",
    "            print('Saving: ',topic_filename)\n",
    "            cloud.to_file(topic_filename)\n",
    "            \n",
    "# Helper function to score topics in a range and retain the models in memory\n",
    "def score_topics(dictionary, bow_docs, texts, start=1, stop=2, step=1, show_progress = True,\n",
    "                store_models = False, prefix='', num_topics_list = None):\n",
    "\n",
    "    scores = []\n",
    "    if num_topics_list is None:\n",
    "        num_topics_list = list(range(start,stop))   # Build a list of integers from start to stop\n",
    "        num_topics_subset = num_topics_list[::step] # Pick the subset with step size\n",
    "    else:\n",
    "        num_topics_subset = num_topics_list\n",
    "        \n",
    "  \n",
    "        \n",
    "    with tqdm(total=len(num_topics_subset)) as pbar:\n",
    "        for num_topics in num_topics_subset:\n",
    "            model = build_LDA_model(dictionary, bow_docs, num_topics)   #Build the model\n",
    "            coherence_model_lda = CoherenceModel(model=model, texts = texts, \n",
    "                                                 dictionary = dictionary, \n",
    "                                                 coherence='c_v')       # Build the coherence model\n",
    "            coherence_lda = coherence_model_lda.get_coherence()         # Get the coherence score\n",
    "            scores.append((num_topics, coherence_lda, model))           # Save the coherece score with the associated number of topics\n",
    "            #if store_models:\n",
    "            #    with tempfile.NamedTemporaryFile(mode='w+b', prefix=prefix + '_'+str(num_topics)+'_',\n",
    "            #                                     dir=tmpdir,delete=False) as tmp:\n",
    "            #        lda.save(tmp.name)\n",
    "            pbar.update(1)\n",
    "    \n",
    "    if store_models:\n",
    "        tmpdir = tempfile.mkdtemp(prefix = prefix + '_',dir = '.')     #Create a directory to save the models\n",
    "        score_pairs = {}\n",
    "        for score in scores:\n",
    "            num_topics,score,model = score       #Extract the three elements\n",
    "            with tempfile.NamedTemporaryFile(mode='w+b', prefix=prefix + '_'+str(num_topics)+'_',\n",
    "                                             dir=tmpdir,delete=False) as tmp:\n",
    "                    model.save(tmp.name)\n",
    "            score_pairs[num_topics] = score\n",
    "        \n",
    "        with tempfile.NamedTemporaryFile(mode='w', prefix=prefix + '_scores_', suffix = '.json',\n",
    "                                         dir=tmpdir,delete=False) as tmp:\n",
    "            print(score_pairs)\n",
    "            json.dump(score_pairs,tmp)\n",
    "\n",
    "    return scores\n",
    "\n",
    "# Helper function which uses plotly to plot the scores\n",
    "def plot_topic_scores(scores,reference = 0):\n",
    "    x = []\n",
    "    y = []\n",
    "    min = 1\n",
    "    max = 0\n",
    "\n",
    "    # Extract the scores as x,y pairs\n",
    "    for entry in scores:\n",
    "        x.append(entry[0])\n",
    "        y.append(entry[1])\n",
    "        if entry[1] > max:\n",
    "            max = entry[1]\n",
    "        if entry[1] < min:\n",
    "            min = entry[1];\n",
    "\n",
    "    fig = go.Figure(data=go.Scatter(x=x, y=y,name='Scores'))\n",
    "    if reference != 0:\n",
    "        fig.add_scatter(x=[reference]*100, y=np.linspace(min,max,100), name='Reference point')\n",
    "    fig.show()\n",
    "\n",
    "\n",
    "\n",
    "\n",
    "\n",
    "def vectorise(topic_scores,nr_topics):\n",
    "    vector = [0] * nr_topics\n",
    "    \n",
    "    for score in topic_scores:\n",
    "        vector[score[0]] = score[1]\n",
    "    return vector\n",
    "\n",
    "def dot_product(vector1,vector2):\n",
    "    dot_product_sum = 0\n",
    "    vector1_sum = 0\n",
    "    vector2_sum = 0\n",
    "    \n",
    "    for v1,v2 in zip(vector1,vector2):\n",
    "        dot_product_sum = dot_product_sum + (v1*v2)\n",
    "        vector1_sum = vector1_sum + v1*v1\n",
    "        vector2_sum = vector2_sum + v2*v2\n",
    "        \n",
    "    vector_product = round(dot_product_sum,20) / round(math.sqrt(vector1_sum) * math.sqrt(vector2_sum),20)\n",
    "    return (round(vector_product,5))\n",
    "\n",
    "def cosine_sim(vector1,vector2):\n",
    "    vector_product = dot_product(vector1,vector2)\n",
    "    try:\n",
    "        angle_radians = math.acos(vector_product)\n",
    "    except:\n",
    "        print(vector_product)\n",
    "        if(vector_product > 1.0):\n",
    "            vector_product = 1.0\n",
    "            angle_radians = math.acos(vector_product)\n",
    "    return math.degrees(angle_radians)\n",
    "\n",
    "def simialarity(score1,score2,nr_topics):\n",
    "    vector1 = vectorise(score1,nr_topics)\n",
    "    vector2 = vectorise(score2,nr_topics)\n",
    "    angle = cosine_sim(vector1,vector2)\n",
    "    percentage_simialarity = 100 * (90-angle) / 90\n",
    "    return percentage_simialarity\n",
    "\n",
    "def extract_model(scored_models, no_topics):\n",
    "    model = None\n",
    "    for scored_model in scored_models:\n",
    "        if scored_model[0] == no_topics:\n",
    "            model = scored_model\n",
    "    return model\n",
    "\n",
    "def store_scored_models(models_list, path, file_prepend):\n",
    "    for scored_reference in models_list:\n",
    "        print(scored_reference)\n",
    "        filename = path + file_prepend + str(scored_reference[0])\n",
    "        coherence_score = scored_reference[1]\n",
    "        model = scored_reference[2]\n",
    "        print(filename)\n",
    "        model.save(filename)\n",
    "\n",
    "\n",
    "def load_scored_model(path,file_prepend, no_topics,texts,dictionary):\n",
    "    filename = path + file_prepend +str(no_topics)\n",
    "    print('Loading model:',filename)\n",
    "    stored_model = LdaModel.load(filename)\n",
    "    print('Scoring model')\n",
    "    coherence_model_lda = CoherenceModel(model=stored_model, texts = texts, \n",
    "                                                 dictionary = dictionary, \n",
    "                                                 coherence='c_v')       # Build the coherence model\n",
    "    coherence_lda = coherence_model_lda.get_coherence()         # Get the coherence score\n",
    "    print('Model score:', coherence_lda)\n",
    "    print()\n",
    "    return (no_topics,coherence_lda,stored_model)\n",
    "\n",
    "\n",
    "def score_query(filename, model, dictionary):\n",
    "    # Load the query email and convert it to tokens.\n",
    "    email = loadMail(query_email_filename)\n",
    "    \n",
    "    bow = []\n",
    "    #Load the email and convert to BOW\n",
    "    if(email[\"body_pos_tokens\"] != None):\n",
    "        bow.append(dictionary.doc2bow(email[\"body_pos_tokens\"]))\n",
    "        score = model[2][bow[0]]\n",
    "    return score\n",
    "\n",
    "def score_mails(reference_model, query_email_scores, dictionary, texts, files, ranked = True):\n",
    "\n",
    "    score_dictionary = {}\n",
    "    file_mapping = {}\n",
    "    email_nr = 0\n",
    "    with tqdm(total=len(texts)) as pbar:\n",
    "        for tokens,filename in zip(texts,files):\n",
    "            email_nr = email_nr + 1\n",
    "\n",
    "            model = reference_model[2]     # Extract the model\n",
    "            bow = dictionary.doc2bow(tokens)\n",
    "            document_score = model[bow]    # Score the email\n",
    "\n",
    "            if len(document_score) == 0:\n",
    "                sim = 0.0\n",
    "            else:\n",
    "                sim = simialarity(query_email_scores,document_score,reference_model[0])  #Calculate simialarity to query email\n",
    "            #email_simialarity_scores[index].append(sim)   # Store the simialarity in order of scoring\n",
    "            score_dictionary[email_nr] = sim              # Store similariy in dictionary, with key posisition in scoring\n",
    "            file_mapping[email_nr] = filename\n",
    "            pbar.update(1)\n",
    " \n",
    "    if ranked:\n",
    "        score_dictionary = sorted(score_dictionary.items(),key=lambda x: x[1], reverse = True)\n",
    "        \n",
    "    return score_dictionary,file_mapping\n",
    "\n",
    "def extract_top_results(ranked_emails, file_mapping, top):\n",
    "    \n",
    "    unique_ranking = 1\n",
    "    overall_cnt = 0\n",
    "    extracted_filenames = {}\n",
    "    for email in ranked_emails:\n",
    "        #overall_cnt = overall_cnt + 1\n",
    "        index = email[0]\n",
    "        score = email[1]\n",
    "        if score != 0.0:\n",
    "            #filename = os.path.basename(file_mapping[index])\n",
    "            if file_mapping[index] not in extracted_filenames:\n",
    "                extracted_filenames[file_mapping[index]] = unique_ranking\n",
    "                unique_ranking = unique_ranking + 1\n",
    "                if (unique_ranking - 1) == top:\n",
    "                    break\n",
    "            #print(filename,score)\n",
    "    #print(unique_ranking - 1,overall_cnt)\n",
    "    return(extracted_filenames)\n",
    "\n",
    "def calculate_correct_hits(results,file_prepend):\n",
    "    relevant = 0\n",
    "    non_relevant = 0\n",
    "    zeros = 0\n",
    "    for result in results:\n",
    "        filename = os.path.basename(result)\n",
    "        if file_prepend in filename:\n",
    "            relevant = relevant + 1\n",
    "        else:\n",
    "            non_relevant = non_relevant + 1\n",
    "    return relevant,non_relevant\n",
    "\n",
    "def precision(relevant, non_relevant):\n",
    "    #print(relevant,non_relevant,relevant+non_relevant)\n",
    "    precision = relevant / (relevant + non_relevant)\n",
    "    return precision\n",
    "\n",
    "def recall(relevant, total_relevant):\n",
    "    recall = relevant / total_relevant\n",
    "    return recall\n",
    "\n",
    "def printStats(relevant, non_relevant, total_relevant, top_results):\n",
    "    print('Total number of results returned',len(top_results))\n",
    "    print('Relevant: ',relevant,'Non-relevant: ',non_relevant)\n",
    "    print('Precision: ',precision(relevant, non_relevant))\n",
    "    print('Recall : ', recall(relevant,total_relevant))\n",
    "    print()"
   ]
  },
  {
   "cell_type": "code",
   "execution_count": 2,
   "id": "f804bef5-ccf6-4e63-99a3-e60fd5c9608d",
   "metadata": {
    "execution": {
     "iopub.execute_input": "2021-11-13T08:16:05.481470Z",
     "iopub.status.busy": "2021-11-13T08:16:05.481049Z",
     "iopub.status.idle": "2021-11-13T08:16:06.385059Z",
     "shell.execute_reply": "2021-11-13T08:16:06.382992Z",
     "shell.execute_reply.started": "2021-11-13T08:16:05.481438Z"
    },
    "tags": []
   },
   "outputs": [
    {
     "name": "stdout",
     "output_type": "stream",
     "text": [
      "Building Multex dictionaries\n",
      "Building dictionaries\n",
      "\n",
      "Finished building dictionaries.\n",
      "\n",
      "\n",
      "Number of documents in the BOW corpus:  149\n",
      "Number of documents in the POS corpus:  149\n"
     ]
    }
   ],
   "source": [
    "########## Initialisation Section ##########\n",
    "# Set the location of the directory used for processing\n",
    "#maildir_path = os.path.join('..','..','data', 'processed', 'experimental_data')\n",
    "#subdir = os.path.join(maildir_path,'allen-p') \n",
    "#subdir = os.path.join(maildir_path,'allen-p','_sent_mail') \n",
    "\n",
    "maildir_path = os.path.join('..','..','data', 'processed', 'experimental_data')\n",
    "subdir = os.path.join(maildir_path,'allen-p') \n",
    "\n",
    "multex_subdir = os.path.join('..','..','data', 'processed', 'Multex')\n",
    "\n",
    "\n",
    "\n",
    "########## End Initialisation Section ##########\n",
    "\n",
    "\n",
    "\n",
    "print('Building Multex dictionaries')\n",
    "_,_,_,multex_bow,multex_dictionary,multex_texts,multex_files = build_dictionaries(multex_subdir,pre_pend_filter = \"\", paragraphs=False)\n",
    "#_,_,_,full_bow,full_dictionary,full_texts,full_files = build_dictionaries(subdir,pre_pend_filter = \"Full_\", paragraphs=False, bow_docs_pos = multex_bow, dictionary_pos = email_dictionary, texts_pos = email_texts, files = email_files)\n",
    "\n",
    "\n",
    "\n"
   ]
  },
  {
   "cell_type": "code",
   "execution_count": 6,
   "id": "187c3643-b954-44b4-9b34-1dae094e3181",
   "metadata": {
    "execution": {
     "iopub.execute_input": "2021-11-13T08:28:20.459453Z",
     "iopub.status.busy": "2021-11-13T08:28:20.458307Z",
     "iopub.status.idle": "2021-11-13T08:34:29.660414Z",
     "shell.execute_reply": "2021-11-13T08:34:29.658335Z",
     "shell.execute_reply.started": "2021-11-13T08:28:20.459399Z"
    },
    "tags": []
   },
   "outputs": [
    {
     "name": "stderr",
     "output_type": "stream",
     "text": [
      "100%|███████████████████████████████████████████| 17/17 [06:09<00:00, 21.71s/it]\n"
     ]
    },
    {
     "data": {
      "application/vnd.plotly.v1+json": {
       "config": {
        "plotlyServerURL": "https://plot.ly"
       },
       "data": [
        {
         "name": "Scores",
         "type": "scatter",
         "x": [
          1,
          4,
          7,
          10,
          13,
          16,
          19,
          22,
          25,
          28,
          31,
          34,
          37,
          40,
          43,
          46,
          49
         ],
         "y": [
          0.27108189724972126,
          0.2681295657627959,
          0.33481733465285046,
          0.3599397244085109,
          0.32058081700506597,
          0.2911107632853138,
          0.31107551125631483,
          0.2767092744448474,
          0.2976831075000242,
          0.24432363245609928,
          0.2805697362769851,
          0.3171641352202053,
          0.2717403056549738,
          0.292871633250863,
          0.276376190068313,
          0.2737474153078257,
          0.29437288576005516
         ]
        }
       ],
       "layout": {
        "autosize": true,
        "template": {
         "data": {
          "bar": [
           {
            "error_x": {
             "color": "#2a3f5f"
            },
            "error_y": {
             "color": "#2a3f5f"
            },
            "marker": {
             "line": {
              "color": "#E5ECF6",
              "width": 0.5
             },
             "pattern": {
              "fillmode": "overlay",
              "size": 10,
              "solidity": 0.2
             }
            },
            "type": "bar"
           }
          ],
          "barpolar": [
           {
            "marker": {
             "line": {
              "color": "#E5ECF6",
              "width": 0.5
             },
             "pattern": {
              "fillmode": "overlay",
              "size": 10,
              "solidity": 0.2
             }
            },
            "type": "barpolar"
           }
          ],
          "carpet": [
           {
            "aaxis": {
             "endlinecolor": "#2a3f5f",
             "gridcolor": "white",
             "linecolor": "white",
             "minorgridcolor": "white",
             "startlinecolor": "#2a3f5f"
            },
            "baxis": {
             "endlinecolor": "#2a3f5f",
             "gridcolor": "white",
             "linecolor": "white",
             "minorgridcolor": "white",
             "startlinecolor": "#2a3f5f"
            },
            "type": "carpet"
           }
          ],
          "choropleth": [
           {
            "colorbar": {
             "outlinewidth": 0,
             "ticks": ""
            },
            "type": "choropleth"
           }
          ],
          "contour": [
           {
            "colorbar": {
             "outlinewidth": 0,
             "ticks": ""
            },
            "colorscale": [
             [
              0,
              "#0d0887"
             ],
             [
              0.1111111111111111,
              "#46039f"
             ],
             [
              0.2222222222222222,
              "#7201a8"
             ],
             [
              0.3333333333333333,
              "#9c179e"
             ],
             [
              0.4444444444444444,
              "#bd3786"
             ],
             [
              0.5555555555555556,
              "#d8576b"
             ],
             [
              0.6666666666666666,
              "#ed7953"
             ],
             [
              0.7777777777777778,
              "#fb9f3a"
             ],
             [
              0.8888888888888888,
              "#fdca26"
             ],
             [
              1,
              "#f0f921"
             ]
            ],
            "type": "contour"
           }
          ],
          "contourcarpet": [
           {
            "colorbar": {
             "outlinewidth": 0,
             "ticks": ""
            },
            "type": "contourcarpet"
           }
          ],
          "heatmap": [
           {
            "colorbar": {
             "outlinewidth": 0,
             "ticks": ""
            },
            "colorscale": [
             [
              0,
              "#0d0887"
             ],
             [
              0.1111111111111111,
              "#46039f"
             ],
             [
              0.2222222222222222,
              "#7201a8"
             ],
             [
              0.3333333333333333,
              "#9c179e"
             ],
             [
              0.4444444444444444,
              "#bd3786"
             ],
             [
              0.5555555555555556,
              "#d8576b"
             ],
             [
              0.6666666666666666,
              "#ed7953"
             ],
             [
              0.7777777777777778,
              "#fb9f3a"
             ],
             [
              0.8888888888888888,
              "#fdca26"
             ],
             [
              1,
              "#f0f921"
             ]
            ],
            "type": "heatmap"
           }
          ],
          "heatmapgl": [
           {
            "colorbar": {
             "outlinewidth": 0,
             "ticks": ""
            },
            "colorscale": [
             [
              0,
              "#0d0887"
             ],
             [
              0.1111111111111111,
              "#46039f"
             ],
             [
              0.2222222222222222,
              "#7201a8"
             ],
             [
              0.3333333333333333,
              "#9c179e"
             ],
             [
              0.4444444444444444,
              "#bd3786"
             ],
             [
              0.5555555555555556,
              "#d8576b"
             ],
             [
              0.6666666666666666,
              "#ed7953"
             ],
             [
              0.7777777777777778,
              "#fb9f3a"
             ],
             [
              0.8888888888888888,
              "#fdca26"
             ],
             [
              1,
              "#f0f921"
             ]
            ],
            "type": "heatmapgl"
           }
          ],
          "histogram": [
           {
            "marker": {
             "pattern": {
              "fillmode": "overlay",
              "size": 10,
              "solidity": 0.2
             }
            },
            "type": "histogram"
           }
          ],
          "histogram2d": [
           {
            "colorbar": {
             "outlinewidth": 0,
             "ticks": ""
            },
            "colorscale": [
             [
              0,
              "#0d0887"
             ],
             [
              0.1111111111111111,
              "#46039f"
             ],
             [
              0.2222222222222222,
              "#7201a8"
             ],
             [
              0.3333333333333333,
              "#9c179e"
             ],
             [
              0.4444444444444444,
              "#bd3786"
             ],
             [
              0.5555555555555556,
              "#d8576b"
             ],
             [
              0.6666666666666666,
              "#ed7953"
             ],
             [
              0.7777777777777778,
              "#fb9f3a"
             ],
             [
              0.8888888888888888,
              "#fdca26"
             ],
             [
              1,
              "#f0f921"
             ]
            ],
            "type": "histogram2d"
           }
          ],
          "histogram2dcontour": [
           {
            "colorbar": {
             "outlinewidth": 0,
             "ticks": ""
            },
            "colorscale": [
             [
              0,
              "#0d0887"
             ],
             [
              0.1111111111111111,
              "#46039f"
             ],
             [
              0.2222222222222222,
              "#7201a8"
             ],
             [
              0.3333333333333333,
              "#9c179e"
             ],
             [
              0.4444444444444444,
              "#bd3786"
             ],
             [
              0.5555555555555556,
              "#d8576b"
             ],
             [
              0.6666666666666666,
              "#ed7953"
             ],
             [
              0.7777777777777778,
              "#fb9f3a"
             ],
             [
              0.8888888888888888,
              "#fdca26"
             ],
             [
              1,
              "#f0f921"
             ]
            ],
            "type": "histogram2dcontour"
           }
          ],
          "mesh3d": [
           {
            "colorbar": {
             "outlinewidth": 0,
             "ticks": ""
            },
            "type": "mesh3d"
           }
          ],
          "parcoords": [
           {
            "line": {
             "colorbar": {
              "outlinewidth": 0,
              "ticks": ""
             }
            },
            "type": "parcoords"
           }
          ],
          "pie": [
           {
            "automargin": true,
            "type": "pie"
           }
          ],
          "scatter": [
           {
            "marker": {
             "colorbar": {
              "outlinewidth": 0,
              "ticks": ""
             }
            },
            "type": "scatter"
           }
          ],
          "scatter3d": [
           {
            "line": {
             "colorbar": {
              "outlinewidth": 0,
              "ticks": ""
             }
            },
            "marker": {
             "colorbar": {
              "outlinewidth": 0,
              "ticks": ""
             }
            },
            "type": "scatter3d"
           }
          ],
          "scattercarpet": [
           {
            "marker": {
             "colorbar": {
              "outlinewidth": 0,
              "ticks": ""
             }
            },
            "type": "scattercarpet"
           }
          ],
          "scattergeo": [
           {
            "marker": {
             "colorbar": {
              "outlinewidth": 0,
              "ticks": ""
             }
            },
            "type": "scattergeo"
           }
          ],
          "scattergl": [
           {
            "marker": {
             "colorbar": {
              "outlinewidth": 0,
              "ticks": ""
             }
            },
            "type": "scattergl"
           }
          ],
          "scattermapbox": [
           {
            "marker": {
             "colorbar": {
              "outlinewidth": 0,
              "ticks": ""
             }
            },
            "type": "scattermapbox"
           }
          ],
          "scatterpolar": [
           {
            "marker": {
             "colorbar": {
              "outlinewidth": 0,
              "ticks": ""
             }
            },
            "type": "scatterpolar"
           }
          ],
          "scatterpolargl": [
           {
            "marker": {
             "colorbar": {
              "outlinewidth": 0,
              "ticks": ""
             }
            },
            "type": "scatterpolargl"
           }
          ],
          "scatterternary": [
           {
            "marker": {
             "colorbar": {
              "outlinewidth": 0,
              "ticks": ""
             }
            },
            "type": "scatterternary"
           }
          ],
          "surface": [
           {
            "colorbar": {
             "outlinewidth": 0,
             "ticks": ""
            },
            "colorscale": [
             [
              0,
              "#0d0887"
             ],
             [
              0.1111111111111111,
              "#46039f"
             ],
             [
              0.2222222222222222,
              "#7201a8"
             ],
             [
              0.3333333333333333,
              "#9c179e"
             ],
             [
              0.4444444444444444,
              "#bd3786"
             ],
             [
              0.5555555555555556,
              "#d8576b"
             ],
             [
              0.6666666666666666,
              "#ed7953"
             ],
             [
              0.7777777777777778,
              "#fb9f3a"
             ],
             [
              0.8888888888888888,
              "#fdca26"
             ],
             [
              1,
              "#f0f921"
             ]
            ],
            "type": "surface"
           }
          ],
          "table": [
           {
            "cells": {
             "fill": {
              "color": "#EBF0F8"
             },
             "line": {
              "color": "white"
             }
            },
            "header": {
             "fill": {
              "color": "#C8D4E3"
             },
             "line": {
              "color": "white"
             }
            },
            "type": "table"
           }
          ]
         },
         "layout": {
          "annotationdefaults": {
           "arrowcolor": "#2a3f5f",
           "arrowhead": 0,
           "arrowwidth": 1
          },
          "autotypenumbers": "strict",
          "coloraxis": {
           "colorbar": {
            "outlinewidth": 0,
            "ticks": ""
           }
          },
          "colorscale": {
           "diverging": [
            [
             0,
             "#8e0152"
            ],
            [
             0.1,
             "#c51b7d"
            ],
            [
             0.2,
             "#de77ae"
            ],
            [
             0.3,
             "#f1b6da"
            ],
            [
             0.4,
             "#fde0ef"
            ],
            [
             0.5,
             "#f7f7f7"
            ],
            [
             0.6,
             "#e6f5d0"
            ],
            [
             0.7,
             "#b8e186"
            ],
            [
             0.8,
             "#7fbc41"
            ],
            [
             0.9,
             "#4d9221"
            ],
            [
             1,
             "#276419"
            ]
           ],
           "sequential": [
            [
             0,
             "#0d0887"
            ],
            [
             0.1111111111111111,
             "#46039f"
            ],
            [
             0.2222222222222222,
             "#7201a8"
            ],
            [
             0.3333333333333333,
             "#9c179e"
            ],
            [
             0.4444444444444444,
             "#bd3786"
            ],
            [
             0.5555555555555556,
             "#d8576b"
            ],
            [
             0.6666666666666666,
             "#ed7953"
            ],
            [
             0.7777777777777778,
             "#fb9f3a"
            ],
            [
             0.8888888888888888,
             "#fdca26"
            ],
            [
             1,
             "#f0f921"
            ]
           ],
           "sequentialminus": [
            [
             0,
             "#0d0887"
            ],
            [
             0.1111111111111111,
             "#46039f"
            ],
            [
             0.2222222222222222,
             "#7201a8"
            ],
            [
             0.3333333333333333,
             "#9c179e"
            ],
            [
             0.4444444444444444,
             "#bd3786"
            ],
            [
             0.5555555555555556,
             "#d8576b"
            ],
            [
             0.6666666666666666,
             "#ed7953"
            ],
            [
             0.7777777777777778,
             "#fb9f3a"
            ],
            [
             0.8888888888888888,
             "#fdca26"
            ],
            [
             1,
             "#f0f921"
            ]
           ]
          },
          "colorway": [
           "#636efa",
           "#EF553B",
           "#00cc96",
           "#ab63fa",
           "#FFA15A",
           "#19d3f3",
           "#FF6692",
           "#B6E880",
           "#FF97FF",
           "#FECB52"
          ],
          "font": {
           "color": "#2a3f5f"
          },
          "geo": {
           "bgcolor": "white",
           "lakecolor": "white",
           "landcolor": "#E5ECF6",
           "showlakes": true,
           "showland": true,
           "subunitcolor": "white"
          },
          "hoverlabel": {
           "align": "left"
          },
          "hovermode": "closest",
          "mapbox": {
           "style": "light"
          },
          "paper_bgcolor": "white",
          "plot_bgcolor": "#E5ECF6",
          "polar": {
           "angularaxis": {
            "gridcolor": "white",
            "linecolor": "white",
            "ticks": ""
           },
           "bgcolor": "#E5ECF6",
           "radialaxis": {
            "gridcolor": "white",
            "linecolor": "white",
            "ticks": ""
           }
          },
          "scene": {
           "xaxis": {
            "backgroundcolor": "#E5ECF6",
            "gridcolor": "white",
            "gridwidth": 2,
            "linecolor": "white",
            "showbackground": true,
            "ticks": "",
            "zerolinecolor": "white"
           },
           "yaxis": {
            "backgroundcolor": "#E5ECF6",
            "gridcolor": "white",
            "gridwidth": 2,
            "linecolor": "white",
            "showbackground": true,
            "ticks": "",
            "zerolinecolor": "white"
           },
           "zaxis": {
            "backgroundcolor": "#E5ECF6",
            "gridcolor": "white",
            "gridwidth": 2,
            "linecolor": "white",
            "showbackground": true,
            "ticks": "",
            "zerolinecolor": "white"
           }
          },
          "shapedefaults": {
           "line": {
            "color": "#2a3f5f"
           }
          },
          "ternary": {
           "aaxis": {
            "gridcolor": "white",
            "linecolor": "white",
            "ticks": ""
           },
           "baxis": {
            "gridcolor": "white",
            "linecolor": "white",
            "ticks": ""
           },
           "bgcolor": "#E5ECF6",
           "caxis": {
            "gridcolor": "white",
            "linecolor": "white",
            "ticks": ""
           }
          },
          "title": {
           "x": 0.05
          },
          "xaxis": {
           "automargin": true,
           "gridcolor": "white",
           "linecolor": "white",
           "ticks": "",
           "title": {
            "standoff": 15
           },
           "zerolinecolor": "white",
           "zerolinewidth": 2
          },
          "yaxis": {
           "automargin": true,
           "gridcolor": "white",
           "linecolor": "white",
           "ticks": "",
           "title": {
            "standoff": 15
           },
           "zerolinecolor": "white",
           "zerolinewidth": 2
          }
         }
        },
        "xaxis": {
         "autorange": true,
         "range": [
          -2.0258620689655173,
          52.025862068965516
         ],
         "type": "linear"
        },
        "yaxis": {
         "autorange": true,
         "range": [
          0.23585493782264239,
          0.3684084190419678
         ],
         "type": "linear"
        }
       }
      },
      "text/html": [
       "<div>                            <div id=\"f4ba1e03-ca7b-4ace-b202-7b862de172c8\" class=\"plotly-graph-div\" style=\"height:525px; width:100%;\"></div>            <script type=\"text/javascript\">                require([\"plotly\"], function(Plotly) {                    window.PLOTLYENV=window.PLOTLYENV || {};                                    if (document.getElementById(\"f4ba1e03-ca7b-4ace-b202-7b862de172c8\")) {                    Plotly.newPlot(                        \"f4ba1e03-ca7b-4ace-b202-7b862de172c8\",                        [{\"name\":\"Scores\",\"type\":\"scatter\",\"x\":[1,4,7,10,13,16,19,22,25,28,31,34,37,40,43,46,49],\"y\":[0.27108189724972126,0.2681295657627959,0.33481733465285046,0.3599397244085109,0.32058081700506597,0.2911107632853138,0.31107551125631483,0.2767092744448474,0.2976831075000242,0.24432363245609928,0.2805697362769851,0.3171641352202053,0.2717403056549738,0.292871633250863,0.276376190068313,0.2737474153078257,0.29437288576005516]}],                        {\"template\":{\"data\":{\"bar\":[{\"error_x\":{\"color\":\"#2a3f5f\"},\"error_y\":{\"color\":\"#2a3f5f\"},\"marker\":{\"line\":{\"color\":\"#E5ECF6\",\"width\":0.5},\"pattern\":{\"fillmode\":\"overlay\",\"size\":10,\"solidity\":0.2}},\"type\":\"bar\"}],\"barpolar\":[{\"marker\":{\"line\":{\"color\":\"#E5ECF6\",\"width\":0.5},\"pattern\":{\"fillmode\":\"overlay\",\"size\":10,\"solidity\":0.2}},\"type\":\"barpolar\"}],\"carpet\":[{\"aaxis\":{\"endlinecolor\":\"#2a3f5f\",\"gridcolor\":\"white\",\"linecolor\":\"white\",\"minorgridcolor\":\"white\",\"startlinecolor\":\"#2a3f5f\"},\"baxis\":{\"endlinecolor\":\"#2a3f5f\",\"gridcolor\":\"white\",\"linecolor\":\"white\",\"minorgridcolor\":\"white\",\"startlinecolor\":\"#2a3f5f\"},\"type\":\"carpet\"}],\"choropleth\":[{\"colorbar\":{\"outlinewidth\":0,\"ticks\":\"\"},\"type\":\"choropleth\"}],\"contour\":[{\"colorbar\":{\"outlinewidth\":0,\"ticks\":\"\"},\"colorscale\":[[0.0,\"#0d0887\"],[0.1111111111111111,\"#46039f\"],[0.2222222222222222,\"#7201a8\"],[0.3333333333333333,\"#9c179e\"],[0.4444444444444444,\"#bd3786\"],[0.5555555555555556,\"#d8576b\"],[0.6666666666666666,\"#ed7953\"],[0.7777777777777778,\"#fb9f3a\"],[0.8888888888888888,\"#fdca26\"],[1.0,\"#f0f921\"]],\"type\":\"contour\"}],\"contourcarpet\":[{\"colorbar\":{\"outlinewidth\":0,\"ticks\":\"\"},\"type\":\"contourcarpet\"}],\"heatmap\":[{\"colorbar\":{\"outlinewidth\":0,\"ticks\":\"\"},\"colorscale\":[[0.0,\"#0d0887\"],[0.1111111111111111,\"#46039f\"],[0.2222222222222222,\"#7201a8\"],[0.3333333333333333,\"#9c179e\"],[0.4444444444444444,\"#bd3786\"],[0.5555555555555556,\"#d8576b\"],[0.6666666666666666,\"#ed7953\"],[0.7777777777777778,\"#fb9f3a\"],[0.8888888888888888,\"#fdca26\"],[1.0,\"#f0f921\"]],\"type\":\"heatmap\"}],\"heatmapgl\":[{\"colorbar\":{\"outlinewidth\":0,\"ticks\":\"\"},\"colorscale\":[[0.0,\"#0d0887\"],[0.1111111111111111,\"#46039f\"],[0.2222222222222222,\"#7201a8\"],[0.3333333333333333,\"#9c179e\"],[0.4444444444444444,\"#bd3786\"],[0.5555555555555556,\"#d8576b\"],[0.6666666666666666,\"#ed7953\"],[0.7777777777777778,\"#fb9f3a\"],[0.8888888888888888,\"#fdca26\"],[1.0,\"#f0f921\"]],\"type\":\"heatmapgl\"}],\"histogram\":[{\"marker\":{\"pattern\":{\"fillmode\":\"overlay\",\"size\":10,\"solidity\":0.2}},\"type\":\"histogram\"}],\"histogram2d\":[{\"colorbar\":{\"outlinewidth\":0,\"ticks\":\"\"},\"colorscale\":[[0.0,\"#0d0887\"],[0.1111111111111111,\"#46039f\"],[0.2222222222222222,\"#7201a8\"],[0.3333333333333333,\"#9c179e\"],[0.4444444444444444,\"#bd3786\"],[0.5555555555555556,\"#d8576b\"],[0.6666666666666666,\"#ed7953\"],[0.7777777777777778,\"#fb9f3a\"],[0.8888888888888888,\"#fdca26\"],[1.0,\"#f0f921\"]],\"type\":\"histogram2d\"}],\"histogram2dcontour\":[{\"colorbar\":{\"outlinewidth\":0,\"ticks\":\"\"},\"colorscale\":[[0.0,\"#0d0887\"],[0.1111111111111111,\"#46039f\"],[0.2222222222222222,\"#7201a8\"],[0.3333333333333333,\"#9c179e\"],[0.4444444444444444,\"#bd3786\"],[0.5555555555555556,\"#d8576b\"],[0.6666666666666666,\"#ed7953\"],[0.7777777777777778,\"#fb9f3a\"],[0.8888888888888888,\"#fdca26\"],[1.0,\"#f0f921\"]],\"type\":\"histogram2dcontour\"}],\"mesh3d\":[{\"colorbar\":{\"outlinewidth\":0,\"ticks\":\"\"},\"type\":\"mesh3d\"}],\"parcoords\":[{\"line\":{\"colorbar\":{\"outlinewidth\":0,\"ticks\":\"\"}},\"type\":\"parcoords\"}],\"pie\":[{\"automargin\":true,\"type\":\"pie\"}],\"scatter\":[{\"marker\":{\"colorbar\":{\"outlinewidth\":0,\"ticks\":\"\"}},\"type\":\"scatter\"}],\"scatter3d\":[{\"line\":{\"colorbar\":{\"outlinewidth\":0,\"ticks\":\"\"}},\"marker\":{\"colorbar\":{\"outlinewidth\":0,\"ticks\":\"\"}},\"type\":\"scatter3d\"}],\"scattercarpet\":[{\"marker\":{\"colorbar\":{\"outlinewidth\":0,\"ticks\":\"\"}},\"type\":\"scattercarpet\"}],\"scattergeo\":[{\"marker\":{\"colorbar\":{\"outlinewidth\":0,\"ticks\":\"\"}},\"type\":\"scattergeo\"}],\"scattergl\":[{\"marker\":{\"colorbar\":{\"outlinewidth\":0,\"ticks\":\"\"}},\"type\":\"scattergl\"}],\"scattermapbox\":[{\"marker\":{\"colorbar\":{\"outlinewidth\":0,\"ticks\":\"\"}},\"type\":\"scattermapbox\"}],\"scatterpolar\":[{\"marker\":{\"colorbar\":{\"outlinewidth\":0,\"ticks\":\"\"}},\"type\":\"scatterpolar\"}],\"scatterpolargl\":[{\"marker\":{\"colorbar\":{\"outlinewidth\":0,\"ticks\":\"\"}},\"type\":\"scatterpolargl\"}],\"scatterternary\":[{\"marker\":{\"colorbar\":{\"outlinewidth\":0,\"ticks\":\"\"}},\"type\":\"scatterternary\"}],\"surface\":[{\"colorbar\":{\"outlinewidth\":0,\"ticks\":\"\"},\"colorscale\":[[0.0,\"#0d0887\"],[0.1111111111111111,\"#46039f\"],[0.2222222222222222,\"#7201a8\"],[0.3333333333333333,\"#9c179e\"],[0.4444444444444444,\"#bd3786\"],[0.5555555555555556,\"#d8576b\"],[0.6666666666666666,\"#ed7953\"],[0.7777777777777778,\"#fb9f3a\"],[0.8888888888888888,\"#fdca26\"],[1.0,\"#f0f921\"]],\"type\":\"surface\"}],\"table\":[{\"cells\":{\"fill\":{\"color\":\"#EBF0F8\"},\"line\":{\"color\":\"white\"}},\"header\":{\"fill\":{\"color\":\"#C8D4E3\"},\"line\":{\"color\":\"white\"}},\"type\":\"table\"}]},\"layout\":{\"annotationdefaults\":{\"arrowcolor\":\"#2a3f5f\",\"arrowhead\":0,\"arrowwidth\":1},\"autotypenumbers\":\"strict\",\"coloraxis\":{\"colorbar\":{\"outlinewidth\":0,\"ticks\":\"\"}},\"colorscale\":{\"diverging\":[[0,\"#8e0152\"],[0.1,\"#c51b7d\"],[0.2,\"#de77ae\"],[0.3,\"#f1b6da\"],[0.4,\"#fde0ef\"],[0.5,\"#f7f7f7\"],[0.6,\"#e6f5d0\"],[0.7,\"#b8e186\"],[0.8,\"#7fbc41\"],[0.9,\"#4d9221\"],[1,\"#276419\"]],\"sequential\":[[0.0,\"#0d0887\"],[0.1111111111111111,\"#46039f\"],[0.2222222222222222,\"#7201a8\"],[0.3333333333333333,\"#9c179e\"],[0.4444444444444444,\"#bd3786\"],[0.5555555555555556,\"#d8576b\"],[0.6666666666666666,\"#ed7953\"],[0.7777777777777778,\"#fb9f3a\"],[0.8888888888888888,\"#fdca26\"],[1.0,\"#f0f921\"]],\"sequentialminus\":[[0.0,\"#0d0887\"],[0.1111111111111111,\"#46039f\"],[0.2222222222222222,\"#7201a8\"],[0.3333333333333333,\"#9c179e\"],[0.4444444444444444,\"#bd3786\"],[0.5555555555555556,\"#d8576b\"],[0.6666666666666666,\"#ed7953\"],[0.7777777777777778,\"#fb9f3a\"],[0.8888888888888888,\"#fdca26\"],[1.0,\"#f0f921\"]]},\"colorway\":[\"#636efa\",\"#EF553B\",\"#00cc96\",\"#ab63fa\",\"#FFA15A\",\"#19d3f3\",\"#FF6692\",\"#B6E880\",\"#FF97FF\",\"#FECB52\"],\"font\":{\"color\":\"#2a3f5f\"},\"geo\":{\"bgcolor\":\"white\",\"lakecolor\":\"white\",\"landcolor\":\"#E5ECF6\",\"showlakes\":true,\"showland\":true,\"subunitcolor\":\"white\"},\"hoverlabel\":{\"align\":\"left\"},\"hovermode\":\"closest\",\"mapbox\":{\"style\":\"light\"},\"paper_bgcolor\":\"white\",\"plot_bgcolor\":\"#E5ECF6\",\"polar\":{\"angularaxis\":{\"gridcolor\":\"white\",\"linecolor\":\"white\",\"ticks\":\"\"},\"bgcolor\":\"#E5ECF6\",\"radialaxis\":{\"gridcolor\":\"white\",\"linecolor\":\"white\",\"ticks\":\"\"}},\"scene\":{\"xaxis\":{\"backgroundcolor\":\"#E5ECF6\",\"gridcolor\":\"white\",\"gridwidth\":2,\"linecolor\":\"white\",\"showbackground\":true,\"ticks\":\"\",\"zerolinecolor\":\"white\"},\"yaxis\":{\"backgroundcolor\":\"#E5ECF6\",\"gridcolor\":\"white\",\"gridwidth\":2,\"linecolor\":\"white\",\"showbackground\":true,\"ticks\":\"\",\"zerolinecolor\":\"white\"},\"zaxis\":{\"backgroundcolor\":\"#E5ECF6\",\"gridcolor\":\"white\",\"gridwidth\":2,\"linecolor\":\"white\",\"showbackground\":true,\"ticks\":\"\",\"zerolinecolor\":\"white\"}},\"shapedefaults\":{\"line\":{\"color\":\"#2a3f5f\"}},\"ternary\":{\"aaxis\":{\"gridcolor\":\"white\",\"linecolor\":\"white\",\"ticks\":\"\"},\"baxis\":{\"gridcolor\":\"white\",\"linecolor\":\"white\",\"ticks\":\"\"},\"bgcolor\":\"#E5ECF6\",\"caxis\":{\"gridcolor\":\"white\",\"linecolor\":\"white\",\"ticks\":\"\"}},\"title\":{\"x\":0.05},\"xaxis\":{\"automargin\":true,\"gridcolor\":\"white\",\"linecolor\":\"white\",\"ticks\":\"\",\"title\":{\"standoff\":15},\"zerolinecolor\":\"white\",\"zerolinewidth\":2},\"yaxis\":{\"automargin\":true,\"gridcolor\":\"white\",\"linecolor\":\"white\",\"ticks\":\"\",\"title\":{\"standoff\":15},\"zerolinecolor\":\"white\",\"zerolinewidth\":2}}}},                        {\"responsive\": true}                    ).then(function(){\n",
       "                            \n",
       "var gd = document.getElementById('f4ba1e03-ca7b-4ace-b202-7b862de172c8');\n",
       "var x = new MutationObserver(function (mutations, observer) {{\n",
       "        var display = window.getComputedStyle(gd).display;\n",
       "        if (!display || display === 'none') {{\n",
       "            console.log([gd, 'removed!']);\n",
       "            Plotly.purge(gd);\n",
       "            observer.disconnect();\n",
       "        }}\n",
       "}});\n",
       "\n",
       "// Listen for the removal of the full notebook cells\n",
       "var notebookContainer = gd.closest('#notebook-container');\n",
       "if (notebookContainer) {{\n",
       "    x.observe(notebookContainer, {childList: true});\n",
       "}}\n",
       "\n",
       "// Listen for the clearing of the current output cell\n",
       "var outputEl = gd.closest('.output');\n",
       "if (outputEl) {{\n",
       "    x.observe(outputEl, {childList: true});\n",
       "}}\n",
       "\n",
       "                        })                };                });            </script>        </div>"
      ]
     },
     "metadata": {},
     "output_type": "display_data"
    }
   ],
   "source": [
    "multex_scores = score_topics(multex_dictionary, multex_bow, multex_texts, start = 1, step = 3, stop = 52)\n",
    "    \n",
    "plot_topic_scores(multex_scores)"
   ]
  },
  {
   "cell_type": "code",
   "execution_count": 7,
   "id": "53bb602a-c5c8-4f84-8296-92bd2e5c7524",
   "metadata": {
    "execution": {
     "iopub.execute_input": "2021-11-13T08:37:05.609717Z",
     "iopub.status.busy": "2021-11-13T08:37:05.609263Z",
     "iopub.status.idle": "2021-11-13T08:37:05.650774Z",
     "shell.execute_reply": "2021-11-13T08:37:05.648837Z",
     "shell.execute_reply.started": "2021-11-13T08:37:05.609679Z"
    }
   },
   "outputs": [
    {
     "data": {
      "application/vnd.plotly.v1+json": {
       "config": {
        "plotlyServerURL": "https://plot.ly"
       },
       "data": [
        {
         "name": "Scores",
         "type": "scatter",
         "x": [
          1,
          4,
          7,
          10,
          13,
          16,
          19,
          22,
          25,
          28,
          31,
          34,
          37,
          40,
          43,
          46,
          49
         ],
         "y": [
          0.27108189724972126,
          0.2681295657627959,
          0.33481733465285046,
          0.3599397244085109,
          0.32058081700506597,
          0.2911107632853138,
          0.31107551125631483,
          0.2767092744448474,
          0.2976831075000242,
          0.24432363245609928,
          0.2805697362769851,
          0.3171641352202053,
          0.2717403056549738,
          0.292871633250863,
          0.276376190068313,
          0.2737474153078257,
          0.29437288576005516
         ]
        },
        {
         "name": "Reference point",
         "type": "scatter",
         "x": [
          10,
          10,
          10,
          10,
          10,
          10,
          10,
          10,
          10,
          10,
          10,
          10,
          10,
          10,
          10,
          10,
          10,
          10,
          10,
          10,
          10,
          10,
          10,
          10,
          10,
          10,
          10,
          10,
          10,
          10,
          10,
          10,
          10,
          10,
          10,
          10,
          10,
          10,
          10,
          10,
          10,
          10,
          10,
          10,
          10,
          10,
          10,
          10,
          10,
          10,
          10,
          10,
          10,
          10,
          10,
          10,
          10,
          10,
          10,
          10,
          10,
          10,
          10,
          10,
          10,
          10,
          10,
          10,
          10,
          10,
          10,
          10,
          10,
          10,
          10,
          10,
          10,
          10,
          10,
          10,
          10,
          10,
          10,
          10,
          10,
          10,
          10,
          10,
          10,
          10,
          10,
          10,
          10,
          10,
          10,
          10,
          10,
          10,
          10,
          10
         ],
         "y": [
          0.24432363245609928,
          0.2454914717687499,
          0.24665931108140052,
          0.24782715039405115,
          0.24899498970670178,
          0.2501628290193524,
          0.251330668332003,
          0.25249850764465365,
          0.2536663469573043,
          0.2548341862699549,
          0.2560020255826055,
          0.2571698648952561,
          0.25833770420790675,
          0.2595055435205574,
          0.260673382833208,
          0.26184122214585864,
          0.2630090614585092,
          0.26417690077115985,
          0.2653447400838105,
          0.2665125793964611,
          0.26768041870911174,
          0.2688482580217624,
          0.270016097334413,
          0.2711839366470636,
          0.2723517759597142,
          0.27351961527236485,
          0.2746874545850155,
          0.2758552938976661,
          0.2770231332103167,
          0.2781909725229673,
          0.27935881183561795,
          0.2805266511482686,
          0.2816944904609192,
          0.28286232977356984,
          0.2840301690862205,
          0.28519800839887105,
          0.2863658477115217,
          0.2875336870241723,
          0.28870152633682294,
          0.2898693656494736,
          0.2910372049621242,
          0.2922050442747748,
          0.2933728835874254,
          0.29454072290007605,
          0.2957085622127267,
          0.2968764015253773,
          0.29804424083802794,
          0.29921208015067857,
          0.30037991946332915,
          0.3015477587759798,
          0.3027155980886304,
          0.30388343740128104,
          0.3050512767139317,
          0.30621911602658225,
          0.3073869553392329,
          0.3085547946518835,
          0.30972263396453414,
          0.3108904732771848,
          0.3120583125898354,
          0.31322615190248604,
          0.31439399121513667,
          0.31556183052778725,
          0.3167296698404379,
          0.3178975091530885,
          0.31906534846573914,
          0.3202331877783897,
          0.32140102709104035,
          0.322568866403691,
          0.3237367057163416,
          0.32490454502899224,
          0.3260723843416429,
          0.3272402236542935,
          0.32840806296694414,
          0.3295759022795947,
          0.33074374159224534,
          0.331911580904896,
          0.3330794202175466,
          0.33424725953019724,
          0.3354150988428478,
          0.33658293815549845,
          0.3377507774681491,
          0.3389186167807997,
          0.34008645609345034,
          0.34125429540610097,
          0.3424221347187516,
          0.34358997403140223,
          0.3447578133440528,
          0.34592565265670344,
          0.3470934919693541,
          0.3482613312820047,
          0.3494291705946553,
          0.3505970099073059,
          0.35176484921995654,
          0.3529326885326072,
          0.3541005278452578,
          0.35526836715790844,
          0.35643620647055907,
          0.3576040457832097,
          0.3587718850958603,
          0.3599397244085109
         ]
        }
       ],
       "layout": {
        "autosize": true,
        "template": {
         "data": {
          "bar": [
           {
            "error_x": {
             "color": "#2a3f5f"
            },
            "error_y": {
             "color": "#2a3f5f"
            },
            "marker": {
             "line": {
              "color": "#E5ECF6",
              "width": 0.5
             },
             "pattern": {
              "fillmode": "overlay",
              "size": 10,
              "solidity": 0.2
             }
            },
            "type": "bar"
           }
          ],
          "barpolar": [
           {
            "marker": {
             "line": {
              "color": "#E5ECF6",
              "width": 0.5
             },
             "pattern": {
              "fillmode": "overlay",
              "size": 10,
              "solidity": 0.2
             }
            },
            "type": "barpolar"
           }
          ],
          "carpet": [
           {
            "aaxis": {
             "endlinecolor": "#2a3f5f",
             "gridcolor": "white",
             "linecolor": "white",
             "minorgridcolor": "white",
             "startlinecolor": "#2a3f5f"
            },
            "baxis": {
             "endlinecolor": "#2a3f5f",
             "gridcolor": "white",
             "linecolor": "white",
             "minorgridcolor": "white",
             "startlinecolor": "#2a3f5f"
            },
            "type": "carpet"
           }
          ],
          "choropleth": [
           {
            "colorbar": {
             "outlinewidth": 0,
             "ticks": ""
            },
            "type": "choropleth"
           }
          ],
          "contour": [
           {
            "colorbar": {
             "outlinewidth": 0,
             "ticks": ""
            },
            "colorscale": [
             [
              0,
              "#0d0887"
             ],
             [
              0.1111111111111111,
              "#46039f"
             ],
             [
              0.2222222222222222,
              "#7201a8"
             ],
             [
              0.3333333333333333,
              "#9c179e"
             ],
             [
              0.4444444444444444,
              "#bd3786"
             ],
             [
              0.5555555555555556,
              "#d8576b"
             ],
             [
              0.6666666666666666,
              "#ed7953"
             ],
             [
              0.7777777777777778,
              "#fb9f3a"
             ],
             [
              0.8888888888888888,
              "#fdca26"
             ],
             [
              1,
              "#f0f921"
             ]
            ],
            "type": "contour"
           }
          ],
          "contourcarpet": [
           {
            "colorbar": {
             "outlinewidth": 0,
             "ticks": ""
            },
            "type": "contourcarpet"
           }
          ],
          "heatmap": [
           {
            "colorbar": {
             "outlinewidth": 0,
             "ticks": ""
            },
            "colorscale": [
             [
              0,
              "#0d0887"
             ],
             [
              0.1111111111111111,
              "#46039f"
             ],
             [
              0.2222222222222222,
              "#7201a8"
             ],
             [
              0.3333333333333333,
              "#9c179e"
             ],
             [
              0.4444444444444444,
              "#bd3786"
             ],
             [
              0.5555555555555556,
              "#d8576b"
             ],
             [
              0.6666666666666666,
              "#ed7953"
             ],
             [
              0.7777777777777778,
              "#fb9f3a"
             ],
             [
              0.8888888888888888,
              "#fdca26"
             ],
             [
              1,
              "#f0f921"
             ]
            ],
            "type": "heatmap"
           }
          ],
          "heatmapgl": [
           {
            "colorbar": {
             "outlinewidth": 0,
             "ticks": ""
            },
            "colorscale": [
             [
              0,
              "#0d0887"
             ],
             [
              0.1111111111111111,
              "#46039f"
             ],
             [
              0.2222222222222222,
              "#7201a8"
             ],
             [
              0.3333333333333333,
              "#9c179e"
             ],
             [
              0.4444444444444444,
              "#bd3786"
             ],
             [
              0.5555555555555556,
              "#d8576b"
             ],
             [
              0.6666666666666666,
              "#ed7953"
             ],
             [
              0.7777777777777778,
              "#fb9f3a"
             ],
             [
              0.8888888888888888,
              "#fdca26"
             ],
             [
              1,
              "#f0f921"
             ]
            ],
            "type": "heatmapgl"
           }
          ],
          "histogram": [
           {
            "marker": {
             "pattern": {
              "fillmode": "overlay",
              "size": 10,
              "solidity": 0.2
             }
            },
            "type": "histogram"
           }
          ],
          "histogram2d": [
           {
            "colorbar": {
             "outlinewidth": 0,
             "ticks": ""
            },
            "colorscale": [
             [
              0,
              "#0d0887"
             ],
             [
              0.1111111111111111,
              "#46039f"
             ],
             [
              0.2222222222222222,
              "#7201a8"
             ],
             [
              0.3333333333333333,
              "#9c179e"
             ],
             [
              0.4444444444444444,
              "#bd3786"
             ],
             [
              0.5555555555555556,
              "#d8576b"
             ],
             [
              0.6666666666666666,
              "#ed7953"
             ],
             [
              0.7777777777777778,
              "#fb9f3a"
             ],
             [
              0.8888888888888888,
              "#fdca26"
             ],
             [
              1,
              "#f0f921"
             ]
            ],
            "type": "histogram2d"
           }
          ],
          "histogram2dcontour": [
           {
            "colorbar": {
             "outlinewidth": 0,
             "ticks": ""
            },
            "colorscale": [
             [
              0,
              "#0d0887"
             ],
             [
              0.1111111111111111,
              "#46039f"
             ],
             [
              0.2222222222222222,
              "#7201a8"
             ],
             [
              0.3333333333333333,
              "#9c179e"
             ],
             [
              0.4444444444444444,
              "#bd3786"
             ],
             [
              0.5555555555555556,
              "#d8576b"
             ],
             [
              0.6666666666666666,
              "#ed7953"
             ],
             [
              0.7777777777777778,
              "#fb9f3a"
             ],
             [
              0.8888888888888888,
              "#fdca26"
             ],
             [
              1,
              "#f0f921"
             ]
            ],
            "type": "histogram2dcontour"
           }
          ],
          "mesh3d": [
           {
            "colorbar": {
             "outlinewidth": 0,
             "ticks": ""
            },
            "type": "mesh3d"
           }
          ],
          "parcoords": [
           {
            "line": {
             "colorbar": {
              "outlinewidth": 0,
              "ticks": ""
             }
            },
            "type": "parcoords"
           }
          ],
          "pie": [
           {
            "automargin": true,
            "type": "pie"
           }
          ],
          "scatter": [
           {
            "marker": {
             "colorbar": {
              "outlinewidth": 0,
              "ticks": ""
             }
            },
            "type": "scatter"
           }
          ],
          "scatter3d": [
           {
            "line": {
             "colorbar": {
              "outlinewidth": 0,
              "ticks": ""
             }
            },
            "marker": {
             "colorbar": {
              "outlinewidth": 0,
              "ticks": ""
             }
            },
            "type": "scatter3d"
           }
          ],
          "scattercarpet": [
           {
            "marker": {
             "colorbar": {
              "outlinewidth": 0,
              "ticks": ""
             }
            },
            "type": "scattercarpet"
           }
          ],
          "scattergeo": [
           {
            "marker": {
             "colorbar": {
              "outlinewidth": 0,
              "ticks": ""
             }
            },
            "type": "scattergeo"
           }
          ],
          "scattergl": [
           {
            "marker": {
             "colorbar": {
              "outlinewidth": 0,
              "ticks": ""
             }
            },
            "type": "scattergl"
           }
          ],
          "scattermapbox": [
           {
            "marker": {
             "colorbar": {
              "outlinewidth": 0,
              "ticks": ""
             }
            },
            "type": "scattermapbox"
           }
          ],
          "scatterpolar": [
           {
            "marker": {
             "colorbar": {
              "outlinewidth": 0,
              "ticks": ""
             }
            },
            "type": "scatterpolar"
           }
          ],
          "scatterpolargl": [
           {
            "marker": {
             "colorbar": {
              "outlinewidth": 0,
              "ticks": ""
             }
            },
            "type": "scatterpolargl"
           }
          ],
          "scatterternary": [
           {
            "marker": {
             "colorbar": {
              "outlinewidth": 0,
              "ticks": ""
             }
            },
            "type": "scatterternary"
           }
          ],
          "surface": [
           {
            "colorbar": {
             "outlinewidth": 0,
             "ticks": ""
            },
            "colorscale": [
             [
              0,
              "#0d0887"
             ],
             [
              0.1111111111111111,
              "#46039f"
             ],
             [
              0.2222222222222222,
              "#7201a8"
             ],
             [
              0.3333333333333333,
              "#9c179e"
             ],
             [
              0.4444444444444444,
              "#bd3786"
             ],
             [
              0.5555555555555556,
              "#d8576b"
             ],
             [
              0.6666666666666666,
              "#ed7953"
             ],
             [
              0.7777777777777778,
              "#fb9f3a"
             ],
             [
              0.8888888888888888,
              "#fdca26"
             ],
             [
              1,
              "#f0f921"
             ]
            ],
            "type": "surface"
           }
          ],
          "table": [
           {
            "cells": {
             "fill": {
              "color": "#EBF0F8"
             },
             "line": {
              "color": "white"
             }
            },
            "header": {
             "fill": {
              "color": "#C8D4E3"
             },
             "line": {
              "color": "white"
             }
            },
            "type": "table"
           }
          ]
         },
         "layout": {
          "annotationdefaults": {
           "arrowcolor": "#2a3f5f",
           "arrowhead": 0,
           "arrowwidth": 1
          },
          "autotypenumbers": "strict",
          "coloraxis": {
           "colorbar": {
            "outlinewidth": 0,
            "ticks": ""
           }
          },
          "colorscale": {
           "diverging": [
            [
             0,
             "#8e0152"
            ],
            [
             0.1,
             "#c51b7d"
            ],
            [
             0.2,
             "#de77ae"
            ],
            [
             0.3,
             "#f1b6da"
            ],
            [
             0.4,
             "#fde0ef"
            ],
            [
             0.5,
             "#f7f7f7"
            ],
            [
             0.6,
             "#e6f5d0"
            ],
            [
             0.7,
             "#b8e186"
            ],
            [
             0.8,
             "#7fbc41"
            ],
            [
             0.9,
             "#4d9221"
            ],
            [
             1,
             "#276419"
            ]
           ],
           "sequential": [
            [
             0,
             "#0d0887"
            ],
            [
             0.1111111111111111,
             "#46039f"
            ],
            [
             0.2222222222222222,
             "#7201a8"
            ],
            [
             0.3333333333333333,
             "#9c179e"
            ],
            [
             0.4444444444444444,
             "#bd3786"
            ],
            [
             0.5555555555555556,
             "#d8576b"
            ],
            [
             0.6666666666666666,
             "#ed7953"
            ],
            [
             0.7777777777777778,
             "#fb9f3a"
            ],
            [
             0.8888888888888888,
             "#fdca26"
            ],
            [
             1,
             "#f0f921"
            ]
           ],
           "sequentialminus": [
            [
             0,
             "#0d0887"
            ],
            [
             0.1111111111111111,
             "#46039f"
            ],
            [
             0.2222222222222222,
             "#7201a8"
            ],
            [
             0.3333333333333333,
             "#9c179e"
            ],
            [
             0.4444444444444444,
             "#bd3786"
            ],
            [
             0.5555555555555556,
             "#d8576b"
            ],
            [
             0.6666666666666666,
             "#ed7953"
            ],
            [
             0.7777777777777778,
             "#fb9f3a"
            ],
            [
             0.8888888888888888,
             "#fdca26"
            ],
            [
             1,
             "#f0f921"
            ]
           ]
          },
          "colorway": [
           "#636efa",
           "#EF553B",
           "#00cc96",
           "#ab63fa",
           "#FFA15A",
           "#19d3f3",
           "#FF6692",
           "#B6E880",
           "#FF97FF",
           "#FECB52"
          ],
          "font": {
           "color": "#2a3f5f"
          },
          "geo": {
           "bgcolor": "white",
           "lakecolor": "white",
           "landcolor": "#E5ECF6",
           "showlakes": true,
           "showland": true,
           "subunitcolor": "white"
          },
          "hoverlabel": {
           "align": "left"
          },
          "hovermode": "closest",
          "mapbox": {
           "style": "light"
          },
          "paper_bgcolor": "white",
          "plot_bgcolor": "#E5ECF6",
          "polar": {
           "angularaxis": {
            "gridcolor": "white",
            "linecolor": "white",
            "ticks": ""
           },
           "bgcolor": "#E5ECF6",
           "radialaxis": {
            "gridcolor": "white",
            "linecolor": "white",
            "ticks": ""
           }
          },
          "scene": {
           "xaxis": {
            "backgroundcolor": "#E5ECF6",
            "gridcolor": "white",
            "gridwidth": 2,
            "linecolor": "white",
            "showbackground": true,
            "ticks": "",
            "zerolinecolor": "white"
           },
           "yaxis": {
            "backgroundcolor": "#E5ECF6",
            "gridcolor": "white",
            "gridwidth": 2,
            "linecolor": "white",
            "showbackground": true,
            "ticks": "",
            "zerolinecolor": "white"
           },
           "zaxis": {
            "backgroundcolor": "#E5ECF6",
            "gridcolor": "white",
            "gridwidth": 2,
            "linecolor": "white",
            "showbackground": true,
            "ticks": "",
            "zerolinecolor": "white"
           }
          },
          "shapedefaults": {
           "line": {
            "color": "#2a3f5f"
           }
          },
          "ternary": {
           "aaxis": {
            "gridcolor": "white",
            "linecolor": "white",
            "ticks": ""
           },
           "baxis": {
            "gridcolor": "white",
            "linecolor": "white",
            "ticks": ""
           },
           "bgcolor": "#E5ECF6",
           "caxis": {
            "gridcolor": "white",
            "linecolor": "white",
            "ticks": ""
           }
          },
          "title": {
           "x": 0.05
          },
          "xaxis": {
           "automargin": true,
           "gridcolor": "white",
           "linecolor": "white",
           "ticks": "",
           "title": {
            "standoff": 15
           },
           "zerolinecolor": "white",
           "zerolinewidth": 2
          },
          "yaxis": {
           "automargin": true,
           "gridcolor": "white",
           "linecolor": "white",
           "ticks": "",
           "title": {
            "standoff": 15
           },
           "zerolinecolor": "white",
           "zerolinewidth": 2
          }
         }
        },
        "xaxis": {
         "autorange": true,
         "range": [
          -2.083073079325422,
          52.08307307932542
         ],
         "type": "linear"
        },
        "yaxis": {
         "autorange": true,
         "range": [
          0.23478249865420123,
          0.36948085821040894
         ],
         "type": "linear"
        }
       }
      },
      "image/png": "[encoded data removed]",
      "text/html": [
       "<div>                            <div id=\"af1c7eb0-0e39-474b-adbd-5cfb1a71bd01\" class=\"plotly-graph-div\" style=\"height:525px; width:100%;\"></div>            <script type=\"text/javascript\">                require([\"plotly\"], function(Plotly) {                    window.PLOTLYENV=window.PLOTLYENV || {};                                    if (document.getElementById(\"af1c7eb0-0e39-474b-adbd-5cfb1a71bd01\")) {                    Plotly.newPlot(                        \"af1c7eb0-0e39-474b-adbd-5cfb1a71bd01\",                        [{\"name\":\"Scores\",\"type\":\"scatter\",\"x\":[1,4,7,10,13,16,19,22,25,28,31,34,37,40,43,46,49],\"y\":[0.27108189724972126,0.2681295657627959,0.33481733465285046,0.3599397244085109,0.32058081700506597,0.2911107632853138,0.31107551125631483,0.2767092744448474,0.2976831075000242,0.24432363245609928,0.2805697362769851,0.3171641352202053,0.2717403056549738,0.292871633250863,0.276376190068313,0.2737474153078257,0.29437288576005516]},{\"name\":\"Reference point\",\"type\":\"scatter\",\"x\":[10,10,10,10,10,10,10,10,10,10,10,10,10,10,10,10,10,10,10,10,10,10,10,10,10,10,10,10,10,10,10,10,10,10,10,10,10,10,10,10,10,10,10,10,10,10,10,10,10,10,10,10,10,10,10,10,10,10,10,10,10,10,10,10,10,10,10,10,10,10,10,10,10,10,10,10,10,10,10,10,10,10,10,10,10,10,10,10,10,10,10,10,10,10,10,10,10,10,10,10],\"y\":[0.24432363245609928,0.2454914717687499,0.24665931108140052,0.24782715039405115,0.24899498970670178,0.2501628290193524,0.251330668332003,0.25249850764465365,0.2536663469573043,0.2548341862699549,0.2560020255826055,0.2571698648952561,0.25833770420790675,0.2595055435205574,0.260673382833208,0.26184122214585864,0.2630090614585092,0.26417690077115985,0.2653447400838105,0.2665125793964611,0.26768041870911174,0.2688482580217624,0.270016097334413,0.2711839366470636,0.2723517759597142,0.27351961527236485,0.2746874545850155,0.2758552938976661,0.2770231332103167,0.2781909725229673,0.27935881183561795,0.2805266511482686,0.2816944904609192,0.28286232977356984,0.2840301690862205,0.28519800839887105,0.2863658477115217,0.2875336870241723,0.28870152633682294,0.2898693656494736,0.2910372049621242,0.2922050442747748,0.2933728835874254,0.29454072290007605,0.2957085622127267,0.2968764015253773,0.29804424083802794,0.29921208015067857,0.30037991946332915,0.3015477587759798,0.3027155980886304,0.30388343740128104,0.3050512767139317,0.30621911602658225,0.3073869553392329,0.3085547946518835,0.30972263396453414,0.3108904732771848,0.3120583125898354,0.31322615190248604,0.31439399121513667,0.31556183052778725,0.3167296698404379,0.3178975091530885,0.31906534846573914,0.3202331877783897,0.32140102709104035,0.322568866403691,0.3237367057163416,0.32490454502899224,0.3260723843416429,0.3272402236542935,0.32840806296694414,0.3295759022795947,0.33074374159224534,0.331911580904896,0.3330794202175466,0.33424725953019724,0.3354150988428478,0.33658293815549845,0.3377507774681491,0.3389186167807997,0.34008645609345034,0.34125429540610097,0.3424221347187516,0.34358997403140223,0.3447578133440528,0.34592565265670344,0.3470934919693541,0.3482613312820047,0.3494291705946553,0.3505970099073059,0.35176484921995654,0.3529326885326072,0.3541005278452578,0.35526836715790844,0.35643620647055907,0.3576040457832097,0.3587718850958603,0.3599397244085109]}],                        {\"template\":{\"data\":{\"bar\":[{\"error_x\":{\"color\":\"#2a3f5f\"},\"error_y\":{\"color\":\"#2a3f5f\"},\"marker\":{\"line\":{\"color\":\"#E5ECF6\",\"width\":0.5},\"pattern\":{\"fillmode\":\"overlay\",\"size\":10,\"solidity\":0.2}},\"type\":\"bar\"}],\"barpolar\":[{\"marker\":{\"line\":{\"color\":\"#E5ECF6\",\"width\":0.5},\"pattern\":{\"fillmode\":\"overlay\",\"size\":10,\"solidity\":0.2}},\"type\":\"barpolar\"}],\"carpet\":[{\"aaxis\":{\"endlinecolor\":\"#2a3f5f\",\"gridcolor\":\"white\",\"linecolor\":\"white\",\"minorgridcolor\":\"white\",\"startlinecolor\":\"#2a3f5f\"},\"baxis\":{\"endlinecolor\":\"#2a3f5f\",\"gridcolor\":\"white\",\"linecolor\":\"white\",\"minorgridcolor\":\"white\",\"startlinecolor\":\"#2a3f5f\"},\"type\":\"carpet\"}],\"choropleth\":[{\"colorbar\":{\"outlinewidth\":0,\"ticks\":\"\"},\"type\":\"choropleth\"}],\"contour\":[{\"colorbar\":{\"outlinewidth\":0,\"ticks\":\"\"},\"colorscale\":[[0.0,\"#0d0887\"],[0.1111111111111111,\"#46039f\"],[0.2222222222222222,\"#7201a8\"],[0.3333333333333333,\"#9c179e\"],[0.4444444444444444,\"#bd3786\"],[0.5555555555555556,\"#d8576b\"],[0.6666666666666666,\"#ed7953\"],[0.7777777777777778,\"#fb9f3a\"],[0.8888888888888888,\"#fdca26\"],[1.0,\"#f0f921\"]],\"type\":\"contour\"}],\"contourcarpet\":[{\"colorbar\":{\"outlinewidth\":0,\"ticks\":\"\"},\"type\":\"contourcarpet\"}],\"heatmap\":[{\"colorbar\":{\"outlinewidth\":0,\"ticks\":\"\"},\"colorscale\":[[0.0,\"#0d0887\"],[0.1111111111111111,\"#46039f\"],[0.2222222222222222,\"#7201a8\"],[0.3333333333333333,\"#9c179e\"],[0.4444444444444444,\"#bd3786\"],[0.5555555555555556,\"#d8576b\"],[0.6666666666666666,\"#ed7953\"],[0.7777777777777778,\"#fb9f3a\"],[0.8888888888888888,\"#fdca26\"],[1.0,\"#f0f921\"]],\"type\":\"heatmap\"}],\"heatmapgl\":[{\"colorbar\":{\"outlinewidth\":0,\"ticks\":\"\"},\"colorscale\":[[0.0,\"#0d0887\"],[0.1111111111111111,\"#46039f\"],[0.2222222222222222,\"#7201a8\"],[0.3333333333333333,\"#9c179e\"],[0.4444444444444444,\"#bd3786\"],[0.5555555555555556,\"#d8576b\"],[0.6666666666666666,\"#ed7953\"],[0.7777777777777778,\"#fb9f3a\"],[0.8888888888888888,\"#fdca26\"],[1.0,\"#f0f921\"]],\"type\":\"heatmapgl\"}],\"histogram\":[{\"marker\":{\"pattern\":{\"fillmode\":\"overlay\",\"size\":10,\"solidity\":0.2}},\"type\":\"histogram\"}],\"histogram2d\":[{\"colorbar\":{\"outlinewidth\":0,\"ticks\":\"\"},\"colorscale\":[[0.0,\"#0d0887\"],[0.1111111111111111,\"#46039f\"],[0.2222222222222222,\"#7201a8\"],[0.3333333333333333,\"#9c179e\"],[0.4444444444444444,\"#bd3786\"],[0.5555555555555556,\"#d8576b\"],[0.6666666666666666,\"#ed7953\"],[0.7777777777777778,\"#fb9f3a\"],[0.8888888888888888,\"#fdca26\"],[1.0,\"#f0f921\"]],\"type\":\"histogram2d\"}],\"histogram2dcontour\":[{\"colorbar\":{\"outlinewidth\":0,\"ticks\":\"\"},\"colorscale\":[[0.0,\"#0d0887\"],[0.1111111111111111,\"#46039f\"],[0.2222222222222222,\"#7201a8\"],[0.3333333333333333,\"#9c179e\"],[0.4444444444444444,\"#bd3786\"],[0.5555555555555556,\"#d8576b\"],[0.6666666666666666,\"#ed7953\"],[0.7777777777777778,\"#fb9f3a\"],[0.8888888888888888,\"#fdca26\"],[1.0,\"#f0f921\"]],\"type\":\"histogram2dcontour\"}],\"mesh3d\":[{\"colorbar\":{\"outlinewidth\":0,\"ticks\":\"\"},\"type\":\"mesh3d\"}],\"parcoords\":[{\"line\":{\"colorbar\":{\"outlinewidth\":0,\"ticks\":\"\"}},\"type\":\"parcoords\"}],\"pie\":[{\"automargin\":true,\"type\":\"pie\"}],\"scatter\":[{\"marker\":{\"colorbar\":{\"outlinewidth\":0,\"ticks\":\"\"}},\"type\":\"scatter\"}],\"scatter3d\":[{\"line\":{\"colorbar\":{\"outlinewidth\":0,\"ticks\":\"\"}},\"marker\":{\"colorbar\":{\"outlinewidth\":0,\"ticks\":\"\"}},\"type\":\"scatter3d\"}],\"scattercarpet\":[{\"marker\":{\"colorbar\":{\"outlinewidth\":0,\"ticks\":\"\"}},\"type\":\"scattercarpet\"}],\"scattergeo\":[{\"marker\":{\"colorbar\":{\"outlinewidth\":0,\"ticks\":\"\"}},\"type\":\"scattergeo\"}],\"scattergl\":[{\"marker\":{\"colorbar\":{\"outlinewidth\":0,\"ticks\":\"\"}},\"type\":\"scattergl\"}],\"scattermapbox\":[{\"marker\":{\"colorbar\":{\"outlinewidth\":0,\"ticks\":\"\"}},\"type\":\"scattermapbox\"}],\"scatterpolar\":[{\"marker\":{\"colorbar\":{\"outlinewidth\":0,\"ticks\":\"\"}},\"type\":\"scatterpolar\"}],\"scatterpolargl\":[{\"marker\":{\"colorbar\":{\"outlinewidth\":0,\"ticks\":\"\"}},\"type\":\"scatterpolargl\"}],\"scatterternary\":[{\"marker\":{\"colorbar\":{\"outlinewidth\":0,\"ticks\":\"\"}},\"type\":\"scatterternary\"}],\"surface\":[{\"colorbar\":{\"outlinewidth\":0,\"ticks\":\"\"},\"colorscale\":[[0.0,\"#0d0887\"],[0.1111111111111111,\"#46039f\"],[0.2222222222222222,\"#7201a8\"],[0.3333333333333333,\"#9c179e\"],[0.4444444444444444,\"#bd3786\"],[0.5555555555555556,\"#d8576b\"],[0.6666666666666666,\"#ed7953\"],[0.7777777777777778,\"#fb9f3a\"],[0.8888888888888888,\"#fdca26\"],[1.0,\"#f0f921\"]],\"type\":\"surface\"}],\"table\":[{\"cells\":{\"fill\":{\"color\":\"#EBF0F8\"},\"line\":{\"color\":\"white\"}},\"header\":{\"fill\":{\"color\":\"#C8D4E3\"},\"line\":{\"color\":\"white\"}},\"type\":\"table\"}]},\"layout\":{\"annotationdefaults\":{\"arrowcolor\":\"#2a3f5f\",\"arrowhead\":0,\"arrowwidth\":1},\"autotypenumbers\":\"strict\",\"coloraxis\":{\"colorbar\":{\"outlinewidth\":0,\"ticks\":\"\"}},\"colorscale\":{\"diverging\":[[0,\"#8e0152\"],[0.1,\"#c51b7d\"],[0.2,\"#de77ae\"],[0.3,\"#f1b6da\"],[0.4,\"#fde0ef\"],[0.5,\"#f7f7f7\"],[0.6,\"#e6f5d0\"],[0.7,\"#b8e186\"],[0.8,\"#7fbc41\"],[0.9,\"#4d9221\"],[1,\"#276419\"]],\"sequential\":[[0.0,\"#0d0887\"],[0.1111111111111111,\"#46039f\"],[0.2222222222222222,\"#7201a8\"],[0.3333333333333333,\"#9c179e\"],[0.4444444444444444,\"#bd3786\"],[0.5555555555555556,\"#d8576b\"],[0.6666666666666666,\"#ed7953\"],[0.7777777777777778,\"#fb9f3a\"],[0.8888888888888888,\"#fdca26\"],[1.0,\"#f0f921\"]],\"sequentialminus\":[[0.0,\"#0d0887\"],[0.1111111111111111,\"#46039f\"],[0.2222222222222222,\"#7201a8\"],[0.3333333333333333,\"#9c179e\"],[0.4444444444444444,\"#bd3786\"],[0.5555555555555556,\"#d8576b\"],[0.6666666666666666,\"#ed7953\"],[0.7777777777777778,\"#fb9f3a\"],[0.8888888888888888,\"#fdca26\"],[1.0,\"#f0f921\"]]},\"colorway\":[\"#636efa\",\"#EF553B\",\"#00cc96\",\"#ab63fa\",\"#FFA15A\",\"#19d3f3\",\"#FF6692\",\"#B6E880\",\"#FF97FF\",\"#FECB52\"],\"font\":{\"color\":\"#2a3f5f\"},\"geo\":{\"bgcolor\":\"white\",\"lakecolor\":\"white\",\"landcolor\":\"#E5ECF6\",\"showlakes\":true,\"showland\":true,\"subunitcolor\":\"white\"},\"hoverlabel\":{\"align\":\"left\"},\"hovermode\":\"closest\",\"mapbox\":{\"style\":\"light\"},\"paper_bgcolor\":\"white\",\"plot_bgcolor\":\"#E5ECF6\",\"polar\":{\"angularaxis\":{\"gridcolor\":\"white\",\"linecolor\":\"white\",\"ticks\":\"\"},\"bgcolor\":\"#E5ECF6\",\"radialaxis\":{\"gridcolor\":\"white\",\"linecolor\":\"white\",\"ticks\":\"\"}},\"scene\":{\"xaxis\":{\"backgroundcolor\":\"#E5ECF6\",\"gridcolor\":\"white\",\"gridwidth\":2,\"linecolor\":\"white\",\"showbackground\":true,\"ticks\":\"\",\"zerolinecolor\":\"white\"},\"yaxis\":{\"backgroundcolor\":\"#E5ECF6\",\"gridcolor\":\"white\",\"gridwidth\":2,\"linecolor\":\"white\",\"showbackground\":true,\"ticks\":\"\",\"zerolinecolor\":\"white\"},\"zaxis\":{\"backgroundcolor\":\"#E5ECF6\",\"gridcolor\":\"white\",\"gridwidth\":2,\"linecolor\":\"white\",\"showbackground\":true,\"ticks\":\"\",\"zerolinecolor\":\"white\"}},\"shapedefaults\":{\"line\":{\"color\":\"#2a3f5f\"}},\"ternary\":{\"aaxis\":{\"gridcolor\":\"white\",\"linecolor\":\"white\",\"ticks\":\"\"},\"baxis\":{\"gridcolor\":\"white\",\"linecolor\":\"white\",\"ticks\":\"\"},\"bgcolor\":\"#E5ECF6\",\"caxis\":{\"gridcolor\":\"white\",\"linecolor\":\"white\",\"ticks\":\"\"}},\"title\":{\"x\":0.05},\"xaxis\":{\"automargin\":true,\"gridcolor\":\"white\",\"linecolor\":\"white\",\"ticks\":\"\",\"title\":{\"standoff\":15},\"zerolinecolor\":\"white\",\"zerolinewidth\":2},\"yaxis\":{\"automargin\":true,\"gridcolor\":\"white\",\"linecolor\":\"white\",\"ticks\":\"\",\"title\":{\"standoff\":15},\"zerolinecolor\":\"white\",\"zerolinewidth\":2}}}},                        {\"responsive\": true}                    ).then(function(){\n",
       "                            \n",
       "var gd = document.getElementById('af1c7eb0-0e39-474b-adbd-5cfb1a71bd01');\n",
       "var x = new MutationObserver(function (mutations, observer) {{\n",
       "        var display = window.getComputedStyle(gd).display;\n",
       "        if (!display || display === 'none') {{\n",
       "            console.log([gd, 'removed!']);\n",
       "            Plotly.purge(gd);\n",
       "            observer.disconnect();\n",
       "        }}\n",
       "}});\n",
       "\n",
       "// Listen for the removal of the full notebook cells\n",
       "var notebookContainer = gd.closest('#notebook-container');\n",
       "if (notebookContainer) {{\n",
       "    x.observe(notebookContainer, {childList: true});\n",
       "}}\n",
       "\n",
       "// Listen for the clearing of the current output cell\n",
       "var outputEl = gd.closest('.output');\n",
       "if (outputEl) {{\n",
       "    x.observe(outputEl, {childList: true});\n",
       "}}\n",
       "\n",
       "                        })                };                });            </script>        </div>"
      ]
     },
     "metadata": {},
     "output_type": "display_data"
    },
    {
     "name": "stdout",
     "output_type": "stream",
     "text": [
      "(10, 0.3599397244085109, <gensim.models.ldamodel.LdaModel object at 0x127c5cbe0>)\n"
     ]
    }
   ],
   "source": [
    "no_topics_multex = 10\n",
    "plot_topic_scores(multex_scores,reference = no_topics_multex)\n",
    "\n",
    "multex_model = extract_model(multex_scores, no_topics_multex)\n",
    "print(multex_model)\n"
   ]
  },
  {
   "cell_type": "code",
   "execution_count": 8,
   "id": "be781f8a-644f-423c-9a42-a047460c2e44",
   "metadata": {
    "execution": {
     "iopub.execute_input": "2021-11-13T08:37:39.221655Z",
     "iopub.status.busy": "2021-11-13T08:37:39.221187Z",
     "iopub.status.idle": "2021-11-13T08:37:39.500356Z",
     "shell.execute_reply": "2021-11-13T08:37:39.496233Z",
     "shell.execute_reply.started": "2021-11-13T08:37:39.221620Z"
    }
   },
   "outputs": [
    {
     "name": "stdout",
     "output_type": "stream",
     "text": [
      "(1, 0.27108189724972126, <gensim.models.ldamodel.LdaModel object at 0x128d5b1c0>)\n",
      "stored_models_experiment4/multex_1\n",
      "(4, 0.2681295657627959, <gensim.models.ldamodel.LdaModel object at 0x127c5ca60>)\n",
      "stored_models_experiment4/multex_4\n",
      "(7, 0.33481733465285046, <gensim.models.ldamodel.LdaModel object at 0x111546880>)\n",
      "stored_models_experiment4/multex_7\n",
      "(10, 0.3599397244085109, <gensim.models.ldamodel.LdaModel object at 0x127c5cbe0>)\n",
      "stored_models_experiment4/multex_10\n",
      "(13, 0.32058081700506597, <gensim.models.ldamodel.LdaModel object at 0x1113b4880>)\n",
      "stored_models_experiment4/multex_13\n",
      "(16, 0.2911107632853138, <gensim.models.ldamodel.LdaModel object at 0x127c4e400>)\n",
      "stored_models_experiment4/multex_16\n",
      "(19, 0.31107551125631483, <gensim.models.ldamodel.LdaModel object at 0x128d92940>)\n",
      "stored_models_experiment4/multex_19\n",
      "(22, 0.2767092744448474, <gensim.models.ldamodel.LdaModel object at 0x111542100>)\n",
      "stored_models_experiment4/multex_22\n",
      "(25, 0.2976831075000242, <gensim.models.ldamodel.LdaModel object at 0x127e51610>)\n",
      "stored_models_experiment4/multex_25\n",
      "(28, 0.24432363245609928, <gensim.models.ldamodel.LdaModel object at 0x1113b4d30>)\n",
      "stored_models_experiment4/multex_28\n",
      "(31, 0.2805697362769851, <gensim.models.ldamodel.LdaModel object at 0x127c4e670>)\n",
      "stored_models_experiment4/multex_31\n",
      "(34, 0.3171641352202053, <gensim.models.ldamodel.LdaModel object at 0x127c5ca90>)\n",
      "stored_models_experiment4/multex_34\n",
      "(37, 0.2717403056549738, <gensim.models.ldamodel.LdaModel object at 0x128d92910>)\n",
      "stored_models_experiment4/multex_37\n",
      "(40, 0.292871633250863, <gensim.models.ldamodel.LdaModel object at 0x128d5b370>)\n",
      "stored_models_experiment4/multex_40\n",
      "(43, 0.276376190068313, <gensim.models.ldamodel.LdaModel object at 0x127c6f9d0>)\n",
      "stored_models_experiment4/multex_43\n",
      "(46, 0.2737474153078257, <gensim.models.ldamodel.LdaModel object at 0x127c6f6a0>)\n",
      "stored_models_experiment4/multex_46\n",
      "(49, 0.29437288576005516, <gensim.models.ldamodel.LdaModel object at 0x111542190>)\n",
      "stored_models_experiment4/multex_49\n"
     ]
    }
   ],
   "source": [
    "store_scored_models(multex_scores, 'stored_models_experiment4/','multex_')"
   ]
  },
  {
   "cell_type": "code",
   "execution_count": 12,
   "id": "097c3590-52dd-4178-8dca-90bef68e64d9",
   "metadata": {
    "execution": {
     "iopub.execute_input": "2021-11-13T08:40:42.172916Z",
     "iopub.status.busy": "2021-11-13T08:40:42.172367Z",
     "iopub.status.idle": "2021-11-13T08:40:42.621512Z",
     "shell.execute_reply": "2021-11-13T08:40:42.619846Z",
     "shell.execute_reply.started": "2021-11-13T08:40:42.172881Z"
    },
    "tags": []
   },
   "outputs": [
    {
     "name": "stdout",
     "output_type": "stream",
     "text": [
      "Model: Multex - Document: email\n"
     ]
    },
    {
     "name": "stderr",
     "output_type": "stream",
     "text": [
      "100%|████████████████████████████████████████| 149/149 [00:00<00:00, 354.70it/s]"
     ]
    },
    {
     "name": "stdout",
     "output_type": "stream",
     "text": [
      "Model: Multex ---- Document definition: Email\n",
      "---------------------------------------------\n",
      "Top:  10\n",
      "{'../../data/processed/Multex/Multex_16.json': 1, '../../data/processed/Multex/Multex_2.json': 2, '../../data/processed/Multex/Multex_57.json': 3, '../../data/processed/Multex/Multex_56.json': 4, '../../data/processed/Multex/Multex_17.json': 5, '../../data/processed/Multex/Multex_60.json': 6, '../../data/processed/Multex/Multex_76.json': 7, '../../data/processed/Multex/Multex_21.json': 8, '../../data/processed/Multex/Multex_4.json': 9, '../../data/processed/Multex/Multex_26.json': 10}\n",
      "Total number of results returned 10\n",
      "Relevant:  10 Non-relevant:  0\n",
      "10 0 10\n",
      "Precision:  1.0\n",
      "Recall :  0.06711409395973154\n",
      "\n",
      "Top:  20\n",
      "{'../../data/processed/Multex/Multex_16.json': 1, '../../data/processed/Multex/Multex_2.json': 2, '../../data/processed/Multex/Multex_57.json': 3, '../../data/processed/Multex/Multex_56.json': 4, '../../data/processed/Multex/Multex_17.json': 5, '../../data/processed/Multex/Multex_60.json': 6, '../../data/processed/Multex/Multex_76.json': 7, '../../data/processed/Multex/Multex_21.json': 8, '../../data/processed/Multex/Multex_4.json': 9, '../../data/processed/Multex/Multex_26.json': 10, '../../data/processed/Multex/Multex_8.json': 11, '../../data/processed/Multex/Multex_9.json': 12, '../../data/processed/Multex/Multex_89.json': 13, '../../data/processed/Multex/Multex_6.json': 14, '../../data/processed/Multex/Multex_104.json': 15, '../../data/processed/Multex/Multex_32.json': 16, '../../data/processed/Multex/Multex_24.json': 17, '../../data/processed/Multex/Multex_109.json': 18, '../../data/processed/Multex/Multex_68.json': 19, '../../data/processed/Multex/Multex_13.json': 20}\n",
      "Total number of results returned 20\n",
      "Relevant:  20 Non-relevant:  0\n",
      "20 0 20\n",
      "Precision:  1.0\n",
      "Recall :  0.1342281879194631\n",
      "\n",
      "Top:  30\n",
      "{'../../data/processed/Multex/Multex_16.json': 1, '../../data/processed/Multex/Multex_2.json': 2, '../../data/processed/Multex/Multex_57.json': 3, '../../data/processed/Multex/Multex_56.json': 4, '../../data/processed/Multex/Multex_17.json': 5, '../../data/processed/Multex/Multex_60.json': 6, '../../data/processed/Multex/Multex_76.json': 7, '../../data/processed/Multex/Multex_21.json': 8, '../../data/processed/Multex/Multex_4.json': 9, '../../data/processed/Multex/Multex_26.json': 10, '../../data/processed/Multex/Multex_8.json': 11, '../../data/processed/Multex/Multex_9.json': 12, '../../data/processed/Multex/Multex_89.json': 13, '../../data/processed/Multex/Multex_6.json': 14, '../../data/processed/Multex/Multex_104.json': 15, '../../data/processed/Multex/Multex_32.json': 16, '../../data/processed/Multex/Multex_24.json': 17, '../../data/processed/Multex/Multex_109.json': 18, '../../data/processed/Multex/Multex_68.json': 19, '../../data/processed/Multex/Multex_13.json': 20, '../../data/processed/Multex/Multex_59.json': 21, '../../data/processed/Multex/Multex_18.json': 22, '../../data/processed/Multex/Multex_22.json': 23, '../../data/processed/Multex/Multex_14.json': 24, '../../data/processed/Multex/Multex_79.json': 25, '../../data/processed/Multex/Multex_1.json': 26, '../../data/processed/Multex/Multex_15.json': 27, '../../data/processed/Multex/Multex_3.json': 28, '../../data/processed/Multex/Multex_144.json': 29, '../../data/processed/Multex/Multex_142.json': 30}\n",
      "Total number of results returned 30\n",
      "Relevant:  30 Non-relevant:  0\n",
      "30 0 30\n",
      "Precision:  1.0\n",
      "Recall :  0.20134228187919462\n",
      "\n",
      "Top:  50\n",
      "{'../../data/processed/Multex/Multex_16.json': 1, '../../data/processed/Multex/Multex_2.json': 2, '../../data/processed/Multex/Multex_57.json': 3, '../../data/processed/Multex/Multex_56.json': 4, '../../data/processed/Multex/Multex_17.json': 5, '../../data/processed/Multex/Multex_60.json': 6, '../../data/processed/Multex/Multex_76.json': 7, '../../data/processed/Multex/Multex_21.json': 8, '../../data/processed/Multex/Multex_4.json': 9, '../../data/processed/Multex/Multex_26.json': 10, '../../data/processed/Multex/Multex_8.json': 11, '../../data/processed/Multex/Multex_9.json': 12, '../../data/processed/Multex/Multex_89.json': 13, '../../data/processed/Multex/Multex_6.json': 14, '../../data/processed/Multex/Multex_104.json': 15, '../../data/processed/Multex/Multex_32.json': 16, '../../data/processed/Multex/Multex_24.json': 17, '../../data/processed/Multex/Multex_109.json': 18, '../../data/processed/Multex/Multex_68.json': 19, '../../data/processed/Multex/Multex_13.json': 20, '../../data/processed/Multex/Multex_59.json': 21, '../../data/processed/Multex/Multex_18.json': 22, '../../data/processed/Multex/Multex_22.json': 23, '../../data/processed/Multex/Multex_14.json': 24, '../../data/processed/Multex/Multex_79.json': 25, '../../data/processed/Multex/Multex_1.json': 26, '../../data/processed/Multex/Multex_15.json': 27, '../../data/processed/Multex/Multex_3.json': 28, '../../data/processed/Multex/Multex_144.json': 29, '../../data/processed/Multex/Multex_142.json': 30, '../../data/processed/Multex/Multex_20.json': 31, '../../data/processed/Multex/Multex_139.json': 32, '../../data/processed/Multex/Multex_10.json': 33, '../../data/processed/Multex/Multex_119.json': 34, '../../data/processed/Multex/Multex_115.json': 35, '../../data/processed/Multex/Multex_138.json': 36, '../../data/processed/Multex/Multex_141.json': 37, '../../data/processed/Multex/Multex_38.json': 38, '../../data/processed/Multex/Multex_147.json': 39, '../../data/processed/Multex/Multex_63.json': 40, '../../data/processed/Multex/Multex_97.json': 41, '../../data/processed/Multex/Multex_146.json': 42, '../../data/processed/Multex/Multex_28.json': 43, '../../data/processed/Multex/Multex_11.json': 44, '../../data/processed/Multex/Multex_25.json': 45, '../../data/processed/Multex/Multex_51.json': 46, '../../data/processed/Multex/Multex_74.json': 47, '../../data/processed/Multex/Multex_101.json': 48, '../../data/processed/Multex/Multex_29.json': 49, '../../data/processed/Multex/Multex_7.json': 50}\n",
      "Total number of results returned 50\n",
      "Relevant:  50 Non-relevant:  0\n",
      "50 0 50\n",
      "Precision:  1.0\n",
      "Recall :  0.33557046979865773\n",
      "\n",
      "Top:  5000\n",
      "{'../../data/processed/Multex/Multex_16.json': 1, '../../data/processed/Multex/Multex_2.json': 2, '../../data/processed/Multex/Multex_57.json': 3, '../../data/processed/Multex/Multex_56.json': 4, '../../data/processed/Multex/Multex_17.json': 5, '../../data/processed/Multex/Multex_60.json': 6, '../../data/processed/Multex/Multex_76.json': 7, '../../data/processed/Multex/Multex_21.json': 8, '../../data/processed/Multex/Multex_4.json': 9, '../../data/processed/Multex/Multex_26.json': 10, '../../data/processed/Multex/Multex_8.json': 11, '../../data/processed/Multex/Multex_9.json': 12, '../../data/processed/Multex/Multex_89.json': 13, '../../data/processed/Multex/Multex_6.json': 14, '../../data/processed/Multex/Multex_104.json': 15, '../../data/processed/Multex/Multex_32.json': 16, '../../data/processed/Multex/Multex_24.json': 17, '../../data/processed/Multex/Multex_109.json': 18, '../../data/processed/Multex/Multex_68.json': 19, '../../data/processed/Multex/Multex_13.json': 20, '../../data/processed/Multex/Multex_59.json': 21, '../../data/processed/Multex/Multex_18.json': 22, '../../data/processed/Multex/Multex_22.json': 23, '../../data/processed/Multex/Multex_14.json': 24, '../../data/processed/Multex/Multex_79.json': 25, '../../data/processed/Multex/Multex_1.json': 26, '../../data/processed/Multex/Multex_15.json': 27, '../../data/processed/Multex/Multex_3.json': 28, '../../data/processed/Multex/Multex_144.json': 29, '../../data/processed/Multex/Multex_142.json': 30, '../../data/processed/Multex/Multex_20.json': 31, '../../data/processed/Multex/Multex_139.json': 32, '../../data/processed/Multex/Multex_10.json': 33, '../../data/processed/Multex/Multex_119.json': 34, '../../data/processed/Multex/Multex_115.json': 35, '../../data/processed/Multex/Multex_138.json': 36, '../../data/processed/Multex/Multex_141.json': 37, '../../data/processed/Multex/Multex_38.json': 38, '../../data/processed/Multex/Multex_147.json': 39, '../../data/processed/Multex/Multex_63.json': 40, '../../data/processed/Multex/Multex_97.json': 41, '../../data/processed/Multex/Multex_146.json': 42, '../../data/processed/Multex/Multex_28.json': 43, '../../data/processed/Multex/Multex_11.json': 44, '../../data/processed/Multex/Multex_25.json': 45, '../../data/processed/Multex/Multex_51.json': 46, '../../data/processed/Multex/Multex_74.json': 47, '../../data/processed/Multex/Multex_101.json': 48, '../../data/processed/Multex/Multex_29.json': 49, '../../data/processed/Multex/Multex_7.json': 50, '../../data/processed/Multex/Multex_127.json': 51, '../../data/processed/Multex/Multex_149.json': 52, '../../data/processed/Multex/Multex_136.json': 53, '../../data/processed/Multex/Multex_143.json': 54, '../../data/processed/Multex/Multex_125.json': 55, '../../data/processed/Multex/Multex_131.json': 56, '../../data/processed/Multex/Multex_120.json': 57, '../../data/processed/Multex/Multex_73.json': 58, '../../data/processed/Multex/Multex_113.json': 59, '../../data/processed/Multex/Multex_129.json': 60}\n",
      "Total number of results returned 60\n",
      "Relevant:  60 Non-relevant:  0\n",
      "60 0 60\n",
      "Precision:  1.0\n",
      "Recall :  0.40268456375838924\n",
      "\n"
     ]
    },
    {
     "name": "stderr",
     "output_type": "stream",
     "text": [
      "\n"
     ]
    }
   ],
   "source": [
    "# Select a query email and score it.\n",
    "\n",
    "query_email_filename = os.path.join(multex_subdir,'Multex_1.json')\n",
    "\n",
    "multex_query_score = score_query(query_email_filename, multex_model, multex_dictionary)\n",
    "\n",
    "print('Model: Multex - Document: email')\n",
    "ranked_emails_multex,file_mapping_multex  = score_mails(multex_model, multex_query_score, multex_dictionary, multex_texts, multex_files)\n",
    "\n",
    "total_relevant = 149\n",
    "top_n = [10,20,30,50,5000]\n",
    "\n",
    "print('Model: Multex ---- Document definition: Email')\n",
    "print('---------------------------------------------')\n",
    "for top in top_n:\n",
    "    print('Top: ',top)\n",
    "    top_results = extract_top_results(ranked_emails_multex, file_mapping_multex, top)\n",
    "    print(top_results)\n",
    "    relevant,non_relevant = calculate_correct_hits(top_results,'Multex')\n",
    "    printStats(relevant, non_relevant, total_relevant, top_results)\n",
    "\n"
   ]
  },
  {
   "cell_type": "code",
   "execution_count": 14,
   "id": "3f406905-a8b2-47f4-9b26-39d8771dc5b3",
   "metadata": {
    "execution": {
     "iopub.execute_input": "2021-11-13T08:48:46.917179Z",
     "iopub.status.busy": "2021-11-13T08:48:46.916712Z",
     "iopub.status.idle": "2021-11-13T08:48:47.402021Z",
     "shell.execute_reply": "2021-11-13T08:48:47.399830Z",
     "shell.execute_reply.started": "2021-11-13T08:48:46.917145Z"
    },
    "tags": []
   },
   "outputs": [
    {
     "name": "stdout",
     "output_type": "stream",
     "text": [
      "Model: Multex - Document: email\n"
     ]
    },
    {
     "name": "stderr",
     "output_type": "stream",
     "text": [
      "100%|████████████████████████████████████████| 149/149 [00:00<00:00, 330.34it/s]"
     ]
    },
    {
     "name": "stdout",
     "output_type": "stream",
     "text": [
      "Model: Multex ---- Document definition: Email\n",
      "---------------------------------------------\n",
      "Top:  10\n",
      "{'../../data/processed/Multex/Multex_61.json': 1, '../../data/processed/Multex/Multex_95.json': 2, '../../data/processed/Multex/Multex_99.json': 3, '../../data/processed/Multex/Multex_84.json': 4, '../../data/processed/Multex/Multex_85.json': 5, '../../data/processed/Multex/Multex_86.json': 6, '../../data/processed/Multex/Multex_43.json': 7, '../../data/processed/Multex/Multex_136.json': 8, '../../data/processed/Multex/Multex_131.json': 9, '../../data/processed/Multex/Multex_145.json': 10}\n",
      "Total number of results returned 10\n",
      "Relevant:  10 Non-relevant:  0\n",
      "10 0 10\n",
      "Precision:  1.0\n",
      "Recall :  0.06711409395973154\n",
      "\n",
      "Top:  20\n",
      "{'../../data/processed/Multex/Multex_61.json': 1, '../../data/processed/Multex/Multex_95.json': 2, '../../data/processed/Multex/Multex_99.json': 3, '../../data/processed/Multex/Multex_84.json': 4, '../../data/processed/Multex/Multex_85.json': 5, '../../data/processed/Multex/Multex_86.json': 6, '../../data/processed/Multex/Multex_43.json': 7, '../../data/processed/Multex/Multex_136.json': 8, '../../data/processed/Multex/Multex_131.json': 9, '../../data/processed/Multex/Multex_145.json': 10, '../../data/processed/Multex/Multex_140.json': 11, '../../data/processed/Multex/Multex_124.json': 12, '../../data/processed/Multex/Multex_113.json': 13, '../../data/processed/Multex/Multex_66.json': 14, '../../data/processed/Multex/Multex_100.json': 15, '../../data/processed/Multex/Multex_34.json': 16, '../../data/processed/Multex/Multex_120.json': 17, '../../data/processed/Multex/Multex_52.json': 18}\n",
      "Total number of results returned 18\n",
      "Relevant:  18 Non-relevant:  0\n",
      "18 0 18\n",
      "Precision:  1.0\n",
      "Recall :  0.12080536912751678\n",
      "\n",
      "Top:  30\n",
      "{'../../data/processed/Multex/Multex_61.json': 1, '../../data/processed/Multex/Multex_95.json': 2, '../../data/processed/Multex/Multex_99.json': 3, '../../data/processed/Multex/Multex_84.json': 4, '../../data/processed/Multex/Multex_85.json': 5, '../../data/processed/Multex/Multex_86.json': 6, '../../data/processed/Multex/Multex_43.json': 7, '../../data/processed/Multex/Multex_136.json': 8, '../../data/processed/Multex/Multex_131.json': 9, '../../data/processed/Multex/Multex_145.json': 10, '../../data/processed/Multex/Multex_140.json': 11, '../../data/processed/Multex/Multex_124.json': 12, '../../data/processed/Multex/Multex_113.json': 13, '../../data/processed/Multex/Multex_66.json': 14, '../../data/processed/Multex/Multex_100.json': 15, '../../data/processed/Multex/Multex_34.json': 16, '../../data/processed/Multex/Multex_120.json': 17, '../../data/processed/Multex/Multex_52.json': 18}\n",
      "Total number of results returned 18\n",
      "Relevant:  18 Non-relevant:  0\n",
      "18 0 18\n",
      "Precision:  1.0\n",
      "Recall :  0.12080536912751678\n",
      "\n",
      "Top:  50\n",
      "{'../../data/processed/Multex/Multex_61.json': 1, '../../data/processed/Multex/Multex_95.json': 2, '../../data/processed/Multex/Multex_99.json': 3, '../../data/processed/Multex/Multex_84.json': 4, '../../data/processed/Multex/Multex_85.json': 5, '../../data/processed/Multex/Multex_86.json': 6, '../../data/processed/Multex/Multex_43.json': 7, '../../data/processed/Multex/Multex_136.json': 8, '../../data/processed/Multex/Multex_131.json': 9, '../../data/processed/Multex/Multex_145.json': 10, '../../data/processed/Multex/Multex_140.json': 11, '../../data/processed/Multex/Multex_124.json': 12, '../../data/processed/Multex/Multex_113.json': 13, '../../data/processed/Multex/Multex_66.json': 14, '../../data/processed/Multex/Multex_100.json': 15, '../../data/processed/Multex/Multex_34.json': 16, '../../data/processed/Multex/Multex_120.json': 17, '../../data/processed/Multex/Multex_52.json': 18}\n",
      "Total number of results returned 18\n",
      "Relevant:  18 Non-relevant:  0\n",
      "18 0 18\n",
      "Precision:  1.0\n",
      "Recall :  0.12080536912751678\n",
      "\n",
      "Top:  5000\n",
      "{'../../data/processed/Multex/Multex_61.json': 1, '../../data/processed/Multex/Multex_95.json': 2, '../../data/processed/Multex/Multex_99.json': 3, '../../data/processed/Multex/Multex_84.json': 4, '../../data/processed/Multex/Multex_85.json': 5, '../../data/processed/Multex/Multex_86.json': 6, '../../data/processed/Multex/Multex_43.json': 7, '../../data/processed/Multex/Multex_136.json': 8, '../../data/processed/Multex/Multex_131.json': 9, '../../data/processed/Multex/Multex_145.json': 10, '../../data/processed/Multex/Multex_140.json': 11, '../../data/processed/Multex/Multex_124.json': 12, '../../data/processed/Multex/Multex_113.json': 13, '../../data/processed/Multex/Multex_66.json': 14, '../../data/processed/Multex/Multex_100.json': 15, '../../data/processed/Multex/Multex_34.json': 16, '../../data/processed/Multex/Multex_120.json': 17, '../../data/processed/Multex/Multex_52.json': 18}\n",
      "Total number of results returned 18\n",
      "Relevant:  18 Non-relevant:  0\n",
      "18 0 18\n",
      "Precision:  1.0\n",
      "Recall :  0.12080536912751678\n",
      "\n"
     ]
    },
    {
     "name": "stderr",
     "output_type": "stream",
     "text": [
      "\n"
     ]
    }
   ],
   "source": [
    "# Select a different query email, and score it to compare\n",
    "\n",
    "# Select a query email and score it.\n",
    "\n",
    "query_email_filename = os.path.join(subdir,'all_documents','Full_1.json')\n",
    "\n",
    "multex_query_score = score_query(query_email_filename, multex_model, multex_dictionary)\n",
    "\n",
    "print('Model: Multex - Document: email')\n",
    "ranked_emails_multex,file_mapping_multex  = score_mails(multex_model, multex_query_score, multex_dictionary, multex_texts, multex_files)\n",
    "\n",
    "total_relevant = 149\n",
    "top_n = [10,20,30,50,5000]\n",
    "\n",
    "print('Model: Multex ---- Document definition: Email')\n",
    "print('---------------------------------------------')\n",
    "for top in top_n:\n",
    "    print('Top: ',top)\n",
    "    top_results = extract_top_results(ranked_emails_multex, file_mapping_multex, top)\n",
    "    print(top_results)\n",
    "    relevant,non_relevant = calculate_correct_hits(top_results,'Multex')\n",
    "    printStats(relevant, non_relevant, total_relevant, top_results)\n",
    "\n",
    "\n"
   ]
  },
  {
   "cell_type": "code",
   "execution_count": null,
   "id": "cf148a3d-a06c-4a2c-bf58-093efe46726b",
   "metadata": {},
   "outputs": [],
   "source": []
  }
 ],
 "metadata": {
  "kernelspec": {
   "display_name": "Python 3 (ipykernel)",
   "language": "python",
   "name": "python3"
  },
  "language_info": {
   "codemirror_mode": {
    "name": "ipython",
    "version": 3
   },
   "file_extension": ".py",
   "mimetype": "text/x-python",
   "name": "python",
   "nbconvert_exporter": "python",
   "pygments_lexer": "ipython3",
   "version": "3.9.6"
  }
 },
 "nbformat": 4,
 "nbformat_minor": 5
}
