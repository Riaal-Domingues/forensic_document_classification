{
 "cells": [
  {
   "cell_type": "code",
   "execution_count": 273,
   "id": "c04d69e9-2615-43b6-9d33-0ee25d105f91",
   "metadata": {
    "execution": {
     "iopub.execute_input": "2021-11-13T17:56:45.426533Z",
     "iopub.status.busy": "2021-11-13T17:56:45.425534Z",
     "iopub.status.idle": "2021-11-13T17:56:45.668161Z",
     "shell.execute_reply": "2021-11-13T17:56:45.666978Z",
     "shell.execute_reply.started": "2021-11-13T17:56:45.426473Z"
    },
    "tags": []
   },
   "outputs": [],
   "source": [
    "import os\n",
    "import re\n",
    "import os\n",
    "import tempfile\n",
    "import math\n",
    "from gensim.corpora import Dictionary\n",
    "from gensim.models import LdaModel\n",
    "from gensim.models import CoherenceModel\n",
    "import json\n",
    "from pprint import pprint\n",
    "\n",
    "from tqdm import tqdm\n",
    "\n",
    "import matplotlib.pyplot as plt\n",
    "from wordcloud import WordCloud\n",
    "import numpy as np\n",
    "\n",
    "import plotly.graph_objects as go\n",
    "\n",
    "\n",
    "################ Function definitions ###############\n",
    "# A helper function which loads the json email and returns it as a dictionary\n",
    "def loadMail(filename):\n",
    "    with open (filename, \"r\") as inputFile:\n",
    "        return json.load(inputFile)\n",
    "################ End Function definitions ###############\n",
    "\n",
    "\n",
    "########## Code: Loading Dictionaries #########\n",
    "def build_dictionaries(subdir, pre_pend_filter = \"\",  bow_docs_pos = None, dictionary_pos = None, texts_pos = None, filenames = None, limit = 10000, paragraphs = False):\n",
    "    # This technique requires dictionaries to fit in available memory.\n",
    "    # It is good for experimenting, but not for general purpose use if lots of data will be processed.\n",
    "    if(bow_docs_pos == None):\n",
    "        bow_docs_pos = []\n",
    "        texts_pos = []\n",
    "        dictionary_pos = Dictionary()      # Dictionary based on Part of Speech tagging\n",
    "        filenames = []\n",
    "    bow_docs_common = []\n",
    "    texts_common = []\n",
    "    dictionary_common = Dictionary()   # Dictionary based on common words\n",
    "\n",
    "\n",
    "    print(\"Building dictionaries\\n\")\n",
    "    #print(\"Files\")\n",
    "    #print(filenames)\n",
    "\n",
    "    # Build a dictionary of all the emails\n",
    "    count = 0\n",
    "    for root, dirs, files in os.walk(subdir):\n",
    "        for file in files:\n",
    "            if not re.search(r'^\\.',file):     #Filter out common files created by the OS\n",
    "                filename = os.path.basename(file)\n",
    "                if pre_pend_filter == \"\" or re.match(pre_pend_filter, filename, flags=re.IGNORECASE) != None:\n",
    "                    email_file = os.path.join(root,file)\n",
    "                    #new_mail.initMail(email_file)\n",
    "                    # Build a dictionary and BOW from common token documents\n",
    "\n",
    "                    #for key, value in developer.items():\n",
    "                        #print(key, \":\", value)\n",
    "                    email_dict = loadMail(email_file)\n",
    "                    if paragraphs:\n",
    "                        paragraph_list = email_dict['body_pos_paragraph_tokens']\n",
    "                        if len(paragraph_list) > 0:\n",
    "                            for paragraph in paragraph_list:\n",
    "                                texts_pos.append(paragraph)\n",
    "                                dictionary_pos.add_documents([paragraph])\n",
    "                                bow_docs_pos.append(dictionary_pos.doc2bow(paragraph))\n",
    "                                #print(email_file)\n",
    "                                filenames.append(email_file)\n",
    "                                \n",
    "                    else:\n",
    "                        texts_common.append(email_dict['body_tokens'])\n",
    "                        dictionary_common.add_documents([email_dict['body_tokens']])\n",
    "                        bow_docs_common.append(dictionary_common.doc2bow(email_dict[\"body_tokens\"]))\n",
    "\n",
    "                        # Build a specialised POS dictionary and BOW\n",
    "                        if(email_dict[\"body_pos_tokens\"] != None):\n",
    "                            texts_pos.append(email_dict[\"body_pos_tokens\"])\n",
    "                            dictionary_pos.add_documents([email_dict[\"body_pos_tokens\"]])\n",
    "                            bow_docs_pos.append(dictionary_pos.doc2bow(email_dict[\"body_pos_tokens\"]))\n",
    "                            filenames.append(email_file)\n",
    "\n",
    "                    if count == limit:\n",
    "                        break\n",
    "                    else:\n",
    "                        count = count + 1\n",
    "    print(\"Finished building dictionaries.\\n\\n\")\n",
    "\n",
    "    print(\"Number of documents in the BOW corpus: \",len(bow_docs_common))\n",
    "    print(\"Number of documents in the POS corpus: \",len(bow_docs_pos))\n",
    "    \n",
    "    return bow_docs_common,dictionary_common,texts_common,bow_docs_pos,dictionary_pos,texts_pos,filenames\n",
    "\n",
    "### Define a helper function to initialise and train the LDA model #####\n",
    "### The defaults fix some hyperparameters for the LDA model which can be overwritten #####\n",
    "def build_LDA_model(dictionary, bow_docs, num_topics = 2, \n",
    "              chunksize = 2000, \n",
    "              passes = 20, \n",
    "              iterations = 400, \n",
    "              eval_every = None):\n",
    "\n",
    "    dictionary[0]  # This is only to \"load\" the dictionary.\n",
    "    id2word = dictionary.id2token\n",
    "\n",
    "    model = LdaModel(\n",
    "        corpus=bow_docs,\n",
    "        id2word=id2word,\n",
    "        chunksize=chunksize,\n",
    "        alpha='auto',\n",
    "        eta='auto',\n",
    "        iterations=iterations,\n",
    "        num_topics=num_topics,\n",
    "        passes=passes,\n",
    "        eval_every=eval_every)\n",
    "\n",
    "    return model\n",
    "\n",
    "#Define a general helper function to take the trained model and plot a wordcloud of the topics.\n",
    "def plot_wordcloud(model,filename = ''):\n",
    "    # Extract the topic words and related frequecies.\n",
    "    topics = model.show_topics(formatted=False)\n",
    "\n",
    "    # Define a square mask to print the wordcloud.\n",
    "    x, y = np.ogrid[:500, :500]\n",
    "    mask = (x - 250) ** 2 + (y - 250) ** 2 > 250 ** 2\n",
    "    mask = 255 * mask.astype(int)\n",
    "\n",
    "    # For each topic, extract the word and frequencies, build a wordcloud and display it.\n",
    "    for topic_nr,topic in zip(range(0,len(topics)),topics):\n",
    "        topic_words = dict(topic[1])\n",
    "        cloud = WordCloud(mask=mask,background_color=\"white\").generate_from_frequencies(topic_words)\n",
    "        plt.figure()\n",
    "        plt.imshow(cloud)\n",
    "        plt.axis(\"off\")\n",
    "        plt.title(\"Topic nr : \" + str(topic_nr + 1))\n",
    "        plt.show()\n",
    "        if filename != '':\n",
    "            topic_filename = filename + '_topic_' + str(topic_nr + 1) + '.png'\n",
    "            print('Saving: ',topic_filename)\n",
    "            cloud.to_file(topic_filename)\n",
    "            \n",
    "# Helper function to score topics in a range and retain the models in memory\n",
    "def score_topics(dictionary, bow_docs, texts, start=1, stop=2, step=1, show_progress = True,\n",
    "                store_models = False, prefix='', num_topics_list = None):\n",
    "\n",
    "    scores = []\n",
    "    if num_topics_list is None:\n",
    "        num_topics_list = list(range(start,stop))   # Build a list of integers from start to stop\n",
    "        num_topics_subset = num_topics_list[::step] # Pick the subset with step size\n",
    "    else:\n",
    "        num_topics_subset = num_topics_list\n",
    "        \n",
    "  \n",
    "        \n",
    "    with tqdm(total=len(num_topics_subset)) as pbar:\n",
    "        for num_topics in num_topics_subset:\n",
    "            model = build_LDA_model(dictionary, bow_docs, num_topics)   #Build the model\n",
    "            coherence_model_lda = CoherenceModel(model=model, texts = texts, \n",
    "                                                 dictionary = dictionary, \n",
    "                                                 coherence='c_v')       # Build the coherence model\n",
    "            coherence_lda = coherence_model_lda.get_coherence()         # Get the coherence score\n",
    "            scores.append((num_topics, coherence_lda, model))           # Save the coherece score with the associated number of topics\n",
    "            #if store_models:\n",
    "            #    with tempfile.NamedTemporaryFile(mode='w+b', prefix=prefix + '_'+str(num_topics)+'_',\n",
    "            #                                     dir=tmpdir,delete=False) as tmp:\n",
    "            #        lda.save(tmp.name)\n",
    "            pbar.update(1)\n",
    "    \n",
    "    if store_models:\n",
    "        tmpdir = tempfile.mkdtemp(prefix = prefix + '_',dir = '.')     #Create a directory to save the models\n",
    "        score_pairs = {}\n",
    "        for score in scores:\n",
    "            num_topics,score,model = score       #Extract the three elements\n",
    "            with tempfile.NamedTemporaryFile(mode='w+b', prefix=prefix + '_'+str(num_topics)+'_',\n",
    "                                             dir=tmpdir,delete=False) as tmp:\n",
    "                    model.save(tmp.name)\n",
    "            score_pairs[num_topics] = score\n",
    "        \n",
    "        with tempfile.NamedTemporaryFile(mode='w', prefix=prefix + '_scores_', suffix = '.json',\n",
    "                                         dir=tmpdir,delete=False) as tmp:\n",
    "            print(score_pairs)\n",
    "            json.dump(score_pairs,tmp)\n",
    "\n",
    "    return scores\n",
    "\n",
    "# Helper function which uses plotly to plot the scores\n",
    "def plot_topic_scores(scores,reference = 0):\n",
    "    x = []\n",
    "    y = []\n",
    "    min = 1\n",
    "    max = 0\n",
    "\n",
    "    # Extract the scores as x,y pairs\n",
    "    for entry in scores:\n",
    "        x.append(entry[0])\n",
    "        y.append(entry[1])\n",
    "        if entry[1] > max:\n",
    "            max = entry[1]\n",
    "        if entry[1] < min:\n",
    "            min = entry[1];\n",
    "\n",
    "    fig = go.Figure(data=go.Scatter(x=x, y=y,name='Scores'))\n",
    "    if reference != 0:\n",
    "        fig.add_scatter(x=[reference]*100, y=np.linspace(min,max,100), name='Reference point')\n",
    "    fig.show()\n",
    "\n",
    "\n",
    "\n",
    "\n",
    "\n",
    "def vectorise(topic_scores,nr_topics):\n",
    "    vector = [0] * nr_topics\n",
    "    \n",
    "    for score in topic_scores:\n",
    "        vector[score[0]] = score[1]\n",
    "    return vector\n",
    "\n",
    "def dot_product(vector1,vector2):\n",
    "    dot_product_sum = 0\n",
    "    vector1_sum = 0\n",
    "    vector2_sum = 0\n",
    "    \n",
    "    for v1,v2 in zip(vector1,vector2):\n",
    "        dot_product_sum = dot_product_sum + (v1*v2)\n",
    "        vector1_sum = vector1_sum + v1*v1\n",
    "        vector2_sum = vector2_sum + v2*v2\n",
    "        \n",
    "    vector_product = round(dot_product_sum,20) / round(math.sqrt(vector1_sum) * math.sqrt(vector2_sum),20)\n",
    "    return (round(vector_product,5))\n",
    "\n",
    "def cosine_sim(vector1,vector2):\n",
    "    vector_product = dot_product(vector1,vector2)\n",
    "    try:\n",
    "        angle_radians = math.acos(vector_product)\n",
    "    except:\n",
    "        print(vector_product)\n",
    "        if(vector_product > 1.0):\n",
    "            vector_product = 1.0\n",
    "            angle_radians = math.acos(vector_product)\n",
    "    return math.degrees(angle_radians)\n",
    "\n",
    "def simialarity(score1,score2,nr_topics):\n",
    "    vector1 = vectorise(score1,nr_topics)\n",
    "    vector2 = vectorise(score2,nr_topics)\n",
    "    angle = cosine_sim(vector1,vector2)\n",
    "    percentage_simialarity = 100 * (90-angle) / 90\n",
    "    return percentage_simialarity\n",
    "\n",
    "def extract_model(scored_models, no_topics):\n",
    "    model = None\n",
    "    for scored_model in scored_models:\n",
    "        if scored_model[0] == no_topics:\n",
    "            model = scored_model\n",
    "    return model\n",
    "\n",
    "def store_scored_models(models_list, path, file_prepend):\n",
    "    for scored_reference in models_list:\n",
    "        print(scored_reference)\n",
    "        filename = path + file_prepend + str(scored_reference[0])\n",
    "        coherence_score = scored_reference[1]\n",
    "        model = scored_reference[2]\n",
    "        print(filename)\n",
    "        model.save(filename)\n",
    "\n",
    "\n",
    "def load_scored_model(path,file_prepend, no_topics,texts,dictionary):\n",
    "    filename = path + file_prepend +str(no_topics)\n",
    "    print('Loading model:',filename)\n",
    "    stored_model = LdaModel.load(filename)\n",
    "    print('Scoring model')\n",
    "    coherence_model_lda = CoherenceModel(model=stored_model, texts = texts, \n",
    "                                                 dictionary = dictionary, \n",
    "                                                 coherence='c_v')       # Build the coherence model\n",
    "    coherence_lda = coherence_model_lda.get_coherence()         # Get the coherence score\n",
    "    print('Model score:', coherence_lda)\n",
    "    print()\n",
    "    return (no_topics,coherence_lda,stored_model)\n",
    "\n",
    "\n",
    "def score_query(filename, model, dictionary):\n",
    "    # Load the query email and convert it to tokens.\n",
    "    email = loadMail(query_email_filename)\n",
    "    \n",
    "    bow = []\n",
    "    #Load the email and convert to BOW\n",
    "    if(email[\"body_pos_tokens\"] != None):\n",
    "        bow.append(dictionary.doc2bow(email[\"body_pos_tokens\"]))\n",
    "        score = model[2][bow[0]]\n",
    "    return score\n",
    "\n",
    "def score_mails(reference_model, query_email_scores, dictionary, texts, files, ranked = True):\n",
    "\n",
    "    score_dictionary = {}\n",
    "    file_mapping = {}\n",
    "    email_nr = 0\n",
    "    with tqdm(total=len(texts)) as pbar:\n",
    "        for tokens,filename in zip(texts,files):\n",
    "            email_nr = email_nr + 1\n",
    "\n",
    "            model = reference_model[2]     # Extract the model\n",
    "            bow = dictionary.doc2bow(tokens)\n",
    "            document_score = model[bow]    # Score the email\n",
    "\n",
    "            if len(document_score) == 0:\n",
    "                sim = 0.0\n",
    "            else:\n",
    "                sim = simialarity(query_email_scores,document_score,reference_model[0])  #Calculate simialarity to query email\n",
    "            #email_simialarity_scores[index].append(sim)   # Store the simialarity in order of scoring\n",
    "            score_dictionary[email_nr] = sim              # Store similariy in dictionary, with key posisition in scoring\n",
    "            file_mapping[email_nr] = filename\n",
    "            pbar.update(1)\n",
    " \n",
    "    if ranked:\n",
    "        score_dictionary = sorted(score_dictionary.items(),key=lambda x: x[1], reverse = True)\n",
    "        \n",
    "    return score_dictionary,file_mapping\n",
    "\n",
    "def extract_top_results(ranked_emails, file_mapping, top):\n",
    "    \n",
    "    unique_ranking = 1\n",
    "    overall_cnt = 0\n",
    "    extracted_filenames = {}\n",
    "    for email in ranked_emails:\n",
    "        #overall_cnt = overall_cnt + 1\n",
    "        index = email[0]\n",
    "        score = email[1]\n",
    "        if score != 0.0:\n",
    "            #filename = os.path.basename(file_mapping[index])\n",
    "            if file_mapping[index] not in extracted_filenames:\n",
    "                extracted_filenames[file_mapping[index]] = unique_ranking\n",
    "                unique_ranking = unique_ranking + 1\n",
    "                if (unique_ranking - 1) == top:\n",
    "                    break\n",
    "            #print(filename,score)\n",
    "    #print(unique_ranking - 1,overall_cnt)\n",
    "    return(extracted_filenames)\n",
    "\n",
    "def calculate_correct_hits(results,file_prepend):\n",
    "    relevant = 0\n",
    "    non_relevant = 0\n",
    "    zeros = 0\n",
    "    for result in results:\n",
    "        filename = os.path.basename(result)\n",
    "        if file_prepend in filename:\n",
    "            relevant = relevant + 1\n",
    "        else:\n",
    "            non_relevant = non_relevant + 1\n",
    "    return relevant,non_relevant\n",
    "\n",
    "def precision(relevant, non_relevant):\n",
    "    #print(relevant,non_relevant,relevant+non_relevant)\n",
    "    precision = relevant / (relevant + non_relevant)\n",
    "    return precision\n",
    "\n",
    "def recall(relevant, total_relevant):\n",
    "    recall = relevant / total_relevant\n",
    "    return recall\n",
    "\n",
    "def printStats(relevant, non_relevant, total_relevant, top_results):\n",
    "    print('Total number of results returned',len(top_results))\n",
    "    print('Relevant: ',relevant,'Non-relevant: ',non_relevant)\n",
    "    print('Precision: ',precision(relevant, non_relevant))\n",
    "    print('Recall : ', recall(relevant,total_relevant))\n",
    "    print()\n",
    "\n",
    "def plot_pr_metrics(top_n, precision_list, recall_list, title, reference = 0):\n",
    "    fig = go.Figure(data=go.Scatter(x=top_n, y=precision_list,name='Precision'))\n",
    "    fig.add_scatter(x=top_n, y=recall_list,name='Recall')\n",
    "    fig.update_layout(\n",
    "        title={\n",
    "            'text' : title,\n",
    "            'y':0.9,\n",
    "            'x':0.5,\n",
    "            'xanchor': 'center',\n",
    "            'yanchor': 'top'},\n",
    "        xaxis_title=\"Top results\",\n",
    "        yaxis_title=\"\",\n",
    "        legend_title=\"Score Type\",\n",
    "        font=dict(\n",
    "            family=\"Arial\"\n",
    "            )\n",
    "    )\n",
    "    #fig.add_scatter(x=[reference]*100, y=np.linspace(min,max,100), name='Reference point')\n",
    "    fig.show()\n",
    "\n",
    "def generate_metrics(ranked_emails, file_mapping, top_n):\n",
    "    precision_list = []\n",
    "    recall_list = []\n",
    "    for top in top_n:\n",
    "        top_results = extract_top_results(ranked_emails, file_mapping, top)\n",
    "        relevant,non_relevant = calculate_correct_hits(top_results,'Multex')\n",
    "        precision_list.append(precision(relevant, non_relevant))\n",
    "        recall_list.append(recall(relevant,total_relevant))\n",
    "    return(precision_list,recall_list)\n",
    "\n",
    "\n",
    "\n"
   ]
  },
  {
   "cell_type": "code",
   "execution_count": 280,
   "id": "96eaaf05-1c2c-4808-90f7-8659dd3a1230",
   "metadata": {
    "execution": {
     "iopub.execute_input": "2021-11-13T18:35:29.909577Z",
     "iopub.status.busy": "2021-11-13T18:35:29.908544Z",
     "iopub.status.idle": "2021-11-13T18:35:48.152160Z",
     "shell.execute_reply": "2021-11-13T18:35:48.149260Z",
     "shell.execute_reply.started": "2021-11-13T18:35:29.909516Z"
    },
    "tags": []
   },
   "outputs": [
    {
     "name": "stdout",
     "output_type": "stream",
     "text": [
      "Building paragraph dictionaries\n",
      "Building dictionaries\n",
      "\n",
      "Finished building dictionaries.\n",
      "\n",
      "\n",
      "Number of documents in the BOW corpus:  0\n",
      "Number of documents in the POS corpus:  8284\n",
      "Building dictionaries\n",
      "\n",
      "Finished building dictionaries.\n",
      "\n",
      "\n",
      "Number of documents in the BOW corpus:  0\n",
      "Number of documents in the POS corpus:  30015\n",
      "Building normal dictionaries\n",
      "Building dictionaries\n",
      "\n",
      "Finished building dictionaries.\n",
      "\n",
      "\n",
      "Number of documents in the BOW corpus:  149\n",
      "Number of documents in the POS corpus:  149\n",
      "Building dictionaries\n",
      "\n",
      "Finished building dictionaries.\n",
      "\n",
      "\n",
      "Number of documents in the BOW corpus:  3034\n",
      "Number of documents in the POS corpus:  3183\n"
     ]
    }
   ],
   "source": [
    "########## Initialisation Section ##########\n",
    "# Set the location of the directory used for processing\n",
    "maildir_path = os.path.join('..','..','data', 'processed', 'experimental_data')\n",
    "subdir = os.path.join(maildir_path,'allen-p') \n",
    "#subdir = os.path.join(maildir_path,'allen-p','_sent_mail') \n",
    "\n",
    "multex_subdir = os.path.join('..','..','data', 'processed', 'Multex')\n",
    "\n",
    "\n",
    "\n",
    "########## End Initialisation Section ##########\n",
    "\n",
    "\n",
    "# Build the dictionaries\n",
    "print('Building paragraph dictionaries')\n",
    "_,_,_,par_bow,par_dictionary,par_texts,par_files = build_dictionaries(multex_subdir,pre_pend_filter = \"\", paragraphs=True)\n",
    "#print(par_files)\n",
    "_,_,_,par_bow,par_dictionary,par_texts,par_files = build_dictionaries(subdir,pre_pend_filter = \"Full_\", paragraphs=True, bow_docs_pos = par_bow, dictionary_pos = par_dictionary, texts_pos = par_texts, filenames = par_files)\n",
    "#print(par_files)\n",
    "\n",
    "print('Building normal dictionaries')\n",
    "_,_,_,email_bow,email_dictionary,email_texts,email_files = build_dictionaries(multex_subdir,pre_pend_filter = \"\", paragraphs=False)\n",
    "_,_,_,email_bow,email_dictionary,email_texts,email_files = build_dictionaries(subdir,pre_pend_filter = \"Full_\", paragraphs=False, bow_docs_pos = email_bow, dictionary_pos = email_dictionary, texts_pos = email_texts, filenames = email_files)\n",
    "#print(email_files)\n",
    "\n"
   ]
  },
  {
   "cell_type": "code",
   "execution_count": 44,
   "id": "7b6ab93f-beff-40eb-8a57-86898c0eefe5",
   "metadata": {
    "execution": {
     "iopub.execute_input": "2021-11-11T17:05:33.516034Z",
     "iopub.status.busy": "2021-11-11T17:05:33.515213Z",
     "iopub.status.idle": "2021-11-12T00:24:22.977694Z",
     "shell.execute_reply": "2021-11-12T00:24:22.976201Z",
     "shell.execute_reply.started": "2021-11-11T17:05:33.515982Z"
    },
    "tags": []
   },
   "outputs": [
    {
     "name": "stderr",
     "output_type": "stream",
     "text": [
      "100%|████████████████████████████████████████████| 9/9 [33:30<00:00, 223.38s/it]\n"
     ]
    },
    {
     "data": {
      "application/vnd.plotly.v1+json": {
       "config": {
        "plotlyServerURL": "https://plot.ly"
       },
       "data": [
        {
         "name": "Scores",
         "type": "scatter",
         "x": [
          1,
          26,
          51,
          76,
          101,
          126,
          151,
          176,
          201
         ],
         "y": [
          0.3417039061174385,
          0.38337750381339636,
          0.4400744589099817,
          0.4513493494589726,
          0.4474538366718189,
          0.41033283198414927,
          0.39750473038948464,
          0.3783745746184822,
          0.3534520929728467
         ]
        }
       ],
       "layout": {
        "autosize": true,
        "template": {
         "data": {
          "bar": [
           {
            "error_x": {
             "color": "#2a3f5f"
            },
            "error_y": {
             "color": "#2a3f5f"
            },
            "marker": {
             "line": {
              "color": "#E5ECF6",
              "width": 0.5
             },
             "pattern": {
              "fillmode": "overlay",
              "size": 10,
              "solidity": 0.2
             }
            },
            "type": "bar"
           }
          ],
          "barpolar": [
           {
            "marker": {
             "line": {
              "color": "#E5ECF6",
              "width": 0.5
             },
             "pattern": {
              "fillmode": "overlay",
              "size": 10,
              "solidity": 0.2
             }
            },
            "type": "barpolar"
           }
          ],
          "carpet": [
           {
            "aaxis": {
             "endlinecolor": "#2a3f5f",
             "gridcolor": "white",
             "linecolor": "white",
             "minorgridcolor": "white",
             "startlinecolor": "#2a3f5f"
            },
            "baxis": {
             "endlinecolor": "#2a3f5f",
             "gridcolor": "white",
             "linecolor": "white",
             "minorgridcolor": "white",
             "startlinecolor": "#2a3f5f"
            },
            "type": "carpet"
           }
          ],
          "choropleth": [
           {
            "colorbar": {
             "outlinewidth": 0,
             "ticks": ""
            },
            "type": "choropleth"
           }
          ],
          "contour": [
           {
            "colorbar": {
             "outlinewidth": 0,
             "ticks": ""
            },
            "colorscale": [
             [
              0,
              "#0d0887"
             ],
             [
              0.1111111111111111,
              "#46039f"
             ],
             [
              0.2222222222222222,
              "#7201a8"
             ],
             [
              0.3333333333333333,
              "#9c179e"
             ],
             [
              0.4444444444444444,
              "#bd3786"
             ],
             [
              0.5555555555555556,
              "#d8576b"
             ],
             [
              0.6666666666666666,
              "#ed7953"
             ],
             [
              0.7777777777777778,
              "#fb9f3a"
             ],
             [
              0.8888888888888888,
              "#fdca26"
             ],
             [
              1,
              "#f0f921"
             ]
            ],
            "type": "contour"
           }
          ],
          "contourcarpet": [
           {
            "colorbar": {
             "outlinewidth": 0,
             "ticks": ""
            },
            "type": "contourcarpet"
           }
          ],
          "heatmap": [
           {
            "colorbar": {
             "outlinewidth": 0,
             "ticks": ""
            },
            "colorscale": [
             [
              0,
              "#0d0887"
             ],
             [
              0.1111111111111111,
              "#46039f"
             ],
             [
              0.2222222222222222,
              "#7201a8"
             ],
             [
              0.3333333333333333,
              "#9c179e"
             ],
             [
              0.4444444444444444,
              "#bd3786"
             ],
             [
              0.5555555555555556,
              "#d8576b"
             ],
             [
              0.6666666666666666,
              "#ed7953"
             ],
             [
              0.7777777777777778,
              "#fb9f3a"
             ],
             [
              0.8888888888888888,
              "#fdca26"
             ],
             [
              1,
              "#f0f921"
             ]
            ],
            "type": "heatmap"
           }
          ],
          "heatmapgl": [
           {
            "colorbar": {
             "outlinewidth": 0,
             "ticks": ""
            },
            "colorscale": [
             [
              0,
              "#0d0887"
             ],
             [
              0.1111111111111111,
              "#46039f"
             ],
             [
              0.2222222222222222,
              "#7201a8"
             ],
             [
              0.3333333333333333,
              "#9c179e"
             ],
             [
              0.4444444444444444,
              "#bd3786"
             ],
             [
              0.5555555555555556,
              "#d8576b"
             ],
             [
              0.6666666666666666,
              "#ed7953"
             ],
             [
              0.7777777777777778,
              "#fb9f3a"
             ],
             [
              0.8888888888888888,
              "#fdca26"
             ],
             [
              1,
              "#f0f921"
             ]
            ],
            "type": "heatmapgl"
           }
          ],
          "histogram": [
           {
            "marker": {
             "pattern": {
              "fillmode": "overlay",
              "size": 10,
              "solidity": 0.2
             }
            },
            "type": "histogram"
           }
          ],
          "histogram2d": [
           {
            "colorbar": {
             "outlinewidth": 0,
             "ticks": ""
            },
            "colorscale": [
             [
              0,
              "#0d0887"
             ],
             [
              0.1111111111111111,
              "#46039f"
             ],
             [
              0.2222222222222222,
              "#7201a8"
             ],
             [
              0.3333333333333333,
              "#9c179e"
             ],
             [
              0.4444444444444444,
              "#bd3786"
             ],
             [
              0.5555555555555556,
              "#d8576b"
             ],
             [
              0.6666666666666666,
              "#ed7953"
             ],
             [
              0.7777777777777778,
              "#fb9f3a"
             ],
             [
              0.8888888888888888,
              "#fdca26"
             ],
             [
              1,
              "#f0f921"
             ]
            ],
            "type": "histogram2d"
           }
          ],
          "histogram2dcontour": [
           {
            "colorbar": {
             "outlinewidth": 0,
             "ticks": ""
            },
            "colorscale": [
             [
              0,
              "#0d0887"
             ],
             [
              0.1111111111111111,
              "#46039f"
             ],
             [
              0.2222222222222222,
              "#7201a8"
             ],
             [
              0.3333333333333333,
              "#9c179e"
             ],
             [
              0.4444444444444444,
              "#bd3786"
             ],
             [
              0.5555555555555556,
              "#d8576b"
             ],
             [
              0.6666666666666666,
              "#ed7953"
             ],
             [
              0.7777777777777778,
              "#fb9f3a"
             ],
             [
              0.8888888888888888,
              "#fdca26"
             ],
             [
              1,
              "#f0f921"
             ]
            ],
            "type": "histogram2dcontour"
           }
          ],
          "mesh3d": [
           {
            "colorbar": {
             "outlinewidth": 0,
             "ticks": ""
            },
            "type": "mesh3d"
           }
          ],
          "parcoords": [
           {
            "line": {
             "colorbar": {
              "outlinewidth": 0,
              "ticks": ""
             }
            },
            "type": "parcoords"
           }
          ],
          "pie": [
           {
            "automargin": true,
            "type": "pie"
           }
          ],
          "scatter": [
           {
            "marker": {
             "colorbar": {
              "outlinewidth": 0,
              "ticks": ""
             }
            },
            "type": "scatter"
           }
          ],
          "scatter3d": [
           {
            "line": {
             "colorbar": {
              "outlinewidth": 0,
              "ticks": ""
             }
            },
            "marker": {
             "colorbar": {
              "outlinewidth": 0,
              "ticks": ""
             }
            },
            "type": "scatter3d"
           }
          ],
          "scattercarpet": [
           {
            "marker": {
             "colorbar": {
              "outlinewidth": 0,
              "ticks": ""
             }
            },
            "type": "scattercarpet"
           }
          ],
          "scattergeo": [
           {
            "marker": {
             "colorbar": {
              "outlinewidth": 0,
              "ticks": ""
             }
            },
            "type": "scattergeo"
           }
          ],
          "scattergl": [
           {
            "marker": {
             "colorbar": {
              "outlinewidth": 0,
              "ticks": ""
             }
            },
            "type": "scattergl"
           }
          ],
          "scattermapbox": [
           {
            "marker": {
             "colorbar": {
              "outlinewidth": 0,
              "ticks": ""
             }
            },
            "type": "scattermapbox"
           }
          ],
          "scatterpolar": [
           {
            "marker": {
             "colorbar": {
              "outlinewidth": 0,
              "ticks": ""
             }
            },
            "type": "scatterpolar"
           }
          ],
          "scatterpolargl": [
           {
            "marker": {
             "colorbar": {
              "outlinewidth": 0,
              "ticks": ""
             }
            },
            "type": "scatterpolargl"
           }
          ],
          "scatterternary": [
           {
            "marker": {
             "colorbar": {
              "outlinewidth": 0,
              "ticks": ""
             }
            },
            "type": "scatterternary"
           }
          ],
          "surface": [
           {
            "colorbar": {
             "outlinewidth": 0,
             "ticks": ""
            },
            "colorscale": [
             [
              0,
              "#0d0887"
             ],
             [
              0.1111111111111111,
              "#46039f"
             ],
             [
              0.2222222222222222,
              "#7201a8"
             ],
             [
              0.3333333333333333,
              "#9c179e"
             ],
             [
              0.4444444444444444,
              "#bd3786"
             ],
             [
              0.5555555555555556,
              "#d8576b"
             ],
             [
              0.6666666666666666,
              "#ed7953"
             ],
             [
              0.7777777777777778,
              "#fb9f3a"
             ],
             [
              0.8888888888888888,
              "#fdca26"
             ],
             [
              1,
              "#f0f921"
             ]
            ],
            "type": "surface"
           }
          ],
          "table": [
           {
            "cells": {
             "fill": {
              "color": "#EBF0F8"
             },
             "line": {
              "color": "white"
             }
            },
            "header": {
             "fill": {
              "color": "#C8D4E3"
             },
             "line": {
              "color": "white"
             }
            },
            "type": "table"
           }
          ]
         },
         "layout": {
          "annotationdefaults": {
           "arrowcolor": "#2a3f5f",
           "arrowhead": 0,
           "arrowwidth": 1
          },
          "autotypenumbers": "strict",
          "coloraxis": {
           "colorbar": {
            "outlinewidth": 0,
            "ticks": ""
           }
          },
          "colorscale": {
           "diverging": [
            [
             0,
             "#8e0152"
            ],
            [
             0.1,
             "#c51b7d"
            ],
            [
             0.2,
             "#de77ae"
            ],
            [
             0.3,
             "#f1b6da"
            ],
            [
             0.4,
             "#fde0ef"
            ],
            [
             0.5,
             "#f7f7f7"
            ],
            [
             0.6,
             "#e6f5d0"
            ],
            [
             0.7,
             "#b8e186"
            ],
            [
             0.8,
             "#7fbc41"
            ],
            [
             0.9,
             "#4d9221"
            ],
            [
             1,
             "#276419"
            ]
           ],
           "sequential": [
            [
             0,
             "#0d0887"
            ],
            [
             0.1111111111111111,
             "#46039f"
            ],
            [
             0.2222222222222222,
             "#7201a8"
            ],
            [
             0.3333333333333333,
             "#9c179e"
            ],
            [
             0.4444444444444444,
             "#bd3786"
            ],
            [
             0.5555555555555556,
             "#d8576b"
            ],
            [
             0.6666666666666666,
             "#ed7953"
            ],
            [
             0.7777777777777778,
             "#fb9f3a"
            ],
            [
             0.8888888888888888,
             "#fdca26"
            ],
            [
             1,
             "#f0f921"
            ]
           ],
           "sequentialminus": [
            [
             0,
             "#0d0887"
            ],
            [
             0.1111111111111111,
             "#46039f"
            ],
            [
             0.2222222222222222,
             "#7201a8"
            ],
            [
             0.3333333333333333,
             "#9c179e"
            ],
            [
             0.4444444444444444,
             "#bd3786"
            ],
            [
             0.5555555555555556,
             "#d8576b"
            ],
            [
             0.6666666666666666,
             "#ed7953"
            ],
            [
             0.7777777777777778,
             "#fb9f3a"
            ],
            [
             0.8888888888888888,
             "#fdca26"
            ],
            [
             1,
             "#f0f921"
            ]
           ]
          },
          "colorway": [
           "#636efa",
           "#EF553B",
           "#00cc96",
           "#ab63fa",
           "#FFA15A",
           "#19d3f3",
           "#FF6692",
           "#B6E880",
           "#FF97FF",
           "#FECB52"
          ],
          "font": {
           "color": "#2a3f5f"
          },
          "geo": {
           "bgcolor": "white",
           "lakecolor": "white",
           "landcolor": "#E5ECF6",
           "showlakes": true,
           "showland": true,
           "subunitcolor": "white"
          },
          "hoverlabel": {
           "align": "left"
          },
          "hovermode": "closest",
          "mapbox": {
           "style": "light"
          },
          "paper_bgcolor": "white",
          "plot_bgcolor": "#E5ECF6",
          "polar": {
           "angularaxis": {
            "gridcolor": "white",
            "linecolor": "white",
            "ticks": ""
           },
           "bgcolor": "#E5ECF6",
           "radialaxis": {
            "gridcolor": "white",
            "linecolor": "white",
            "ticks": ""
           }
          },
          "scene": {
           "xaxis": {
            "backgroundcolor": "#E5ECF6",
            "gridcolor": "white",
            "gridwidth": 2,
            "linecolor": "white",
            "showbackground": true,
            "ticks": "",
            "zerolinecolor": "white"
           },
           "yaxis": {
            "backgroundcolor": "#E5ECF6",
            "gridcolor": "white",
            "gridwidth": 2,
            "linecolor": "white",
            "showbackground": true,
            "ticks": "",
            "zerolinecolor": "white"
           },
           "zaxis": {
            "backgroundcolor": "#E5ECF6",
            "gridcolor": "white",
            "gridwidth": 2,
            "linecolor": "white",
            "showbackground": true,
            "ticks": "",
            "zerolinecolor": "white"
           }
          },
          "shapedefaults": {
           "line": {
            "color": "#2a3f5f"
           }
          },
          "ternary": {
           "aaxis": {
            "gridcolor": "white",
            "linecolor": "white",
            "ticks": ""
           },
           "baxis": {
            "gridcolor": "white",
            "linecolor": "white",
            "ticks": ""
           },
           "bgcolor": "#E5ECF6",
           "caxis": {
            "gridcolor": "white",
            "linecolor": "white",
            "ticks": ""
           }
          },
          "title": {
           "x": 0.05
          },
          "xaxis": {
           "automargin": true,
           "gridcolor": "white",
           "linecolor": "white",
           "ticks": "",
           "title": {
            "standoff": 15
           },
           "zerolinecolor": "white",
           "zerolinewidth": 2
          },
          "yaxis": {
           "automargin": true,
           "gridcolor": "white",
           "linecolor": "white",
           "ticks": "",
           "title": {
            "standoff": 15
           },
           "zerolinecolor": "white",
           "zerolinewidth": 2
          }
         }
        },
        "xaxis": {
         "autorange": true,
         "range": [
          -11.607758620689657,
          213.60775862068965
         ],
         "type": "linear"
        },
        "yaxis": {
         "autorange": true,
         "range": [
          0.33265549574459347,
          0.46039775983181763
         ],
         "type": "linear"
        }
       }
      },
      "image/png": "[encoded data removed]",
      "text/html": [
       "<div>                            <div id=\"016dbd1b-318b-4486-90eb-8b81d28da67c\" class=\"plotly-graph-div\" style=\"height:525px; width:100%;\"></div>            <script type=\"text/javascript\">                require([\"plotly\"], function(Plotly) {                    window.PLOTLYENV=window.PLOTLYENV || {};                                    if (document.getElementById(\"016dbd1b-318b-4486-90eb-8b81d28da67c\")) {                    Plotly.newPlot(                        \"016dbd1b-318b-4486-90eb-8b81d28da67c\",                        [{\"name\":\"Scores\",\"type\":\"scatter\",\"x\":[1,26,51,76,101,126,151,176,201],\"y\":[0.3417039061174385,0.38337750381339636,0.4400744589099817,0.4513493494589726,0.4474538366718189,0.41033283198414927,0.39750473038948464,0.3783745746184822,0.3534520929728467]}],                        {\"template\":{\"data\":{\"bar\":[{\"error_x\":{\"color\":\"#2a3f5f\"},\"error_y\":{\"color\":\"#2a3f5f\"},\"marker\":{\"line\":{\"color\":\"#E5ECF6\",\"width\":0.5},\"pattern\":{\"fillmode\":\"overlay\",\"size\":10,\"solidity\":0.2}},\"type\":\"bar\"}],\"barpolar\":[{\"marker\":{\"line\":{\"color\":\"#E5ECF6\",\"width\":0.5},\"pattern\":{\"fillmode\":\"overlay\",\"size\":10,\"solidity\":0.2}},\"type\":\"barpolar\"}],\"carpet\":[{\"aaxis\":{\"endlinecolor\":\"#2a3f5f\",\"gridcolor\":\"white\",\"linecolor\":\"white\",\"minorgridcolor\":\"white\",\"startlinecolor\":\"#2a3f5f\"},\"baxis\":{\"endlinecolor\":\"#2a3f5f\",\"gridcolor\":\"white\",\"linecolor\":\"white\",\"minorgridcolor\":\"white\",\"startlinecolor\":\"#2a3f5f\"},\"type\":\"carpet\"}],\"choropleth\":[{\"colorbar\":{\"outlinewidth\":0,\"ticks\":\"\"},\"type\":\"choropleth\"}],\"contour\":[{\"colorbar\":{\"outlinewidth\":0,\"ticks\":\"\"},\"colorscale\":[[0.0,\"#0d0887\"],[0.1111111111111111,\"#46039f\"],[0.2222222222222222,\"#7201a8\"],[0.3333333333333333,\"#9c179e\"],[0.4444444444444444,\"#bd3786\"],[0.5555555555555556,\"#d8576b\"],[0.6666666666666666,\"#ed7953\"],[0.7777777777777778,\"#fb9f3a\"],[0.8888888888888888,\"#fdca26\"],[1.0,\"#f0f921\"]],\"type\":\"contour\"}],\"contourcarpet\":[{\"colorbar\":{\"outlinewidth\":0,\"ticks\":\"\"},\"type\":\"contourcarpet\"}],\"heatmap\":[{\"colorbar\":{\"outlinewidth\":0,\"ticks\":\"\"},\"colorscale\":[[0.0,\"#0d0887\"],[0.1111111111111111,\"#46039f\"],[0.2222222222222222,\"#7201a8\"],[0.3333333333333333,\"#9c179e\"],[0.4444444444444444,\"#bd3786\"],[0.5555555555555556,\"#d8576b\"],[0.6666666666666666,\"#ed7953\"],[0.7777777777777778,\"#fb9f3a\"],[0.8888888888888888,\"#fdca26\"],[1.0,\"#f0f921\"]],\"type\":\"heatmap\"}],\"heatmapgl\":[{\"colorbar\":{\"outlinewidth\":0,\"ticks\":\"\"},\"colorscale\":[[0.0,\"#0d0887\"],[0.1111111111111111,\"#46039f\"],[0.2222222222222222,\"#7201a8\"],[0.3333333333333333,\"#9c179e\"],[0.4444444444444444,\"#bd3786\"],[0.5555555555555556,\"#d8576b\"],[0.6666666666666666,\"#ed7953\"],[0.7777777777777778,\"#fb9f3a\"],[0.8888888888888888,\"#fdca26\"],[1.0,\"#f0f921\"]],\"type\":\"heatmapgl\"}],\"histogram\":[{\"marker\":{\"pattern\":{\"fillmode\":\"overlay\",\"size\":10,\"solidity\":0.2}},\"type\":\"histogram\"}],\"histogram2d\":[{\"colorbar\":{\"outlinewidth\":0,\"ticks\":\"\"},\"colorscale\":[[0.0,\"#0d0887\"],[0.1111111111111111,\"#46039f\"],[0.2222222222222222,\"#7201a8\"],[0.3333333333333333,\"#9c179e\"],[0.4444444444444444,\"#bd3786\"],[0.5555555555555556,\"#d8576b\"],[0.6666666666666666,\"#ed7953\"],[0.7777777777777778,\"#fb9f3a\"],[0.8888888888888888,\"#fdca26\"],[1.0,\"#f0f921\"]],\"type\":\"histogram2d\"}],\"histogram2dcontour\":[{\"colorbar\":{\"outlinewidth\":0,\"ticks\":\"\"},\"colorscale\":[[0.0,\"#0d0887\"],[0.1111111111111111,\"#46039f\"],[0.2222222222222222,\"#7201a8\"],[0.3333333333333333,\"#9c179e\"],[0.4444444444444444,\"#bd3786\"],[0.5555555555555556,\"#d8576b\"],[0.6666666666666666,\"#ed7953\"],[0.7777777777777778,\"#fb9f3a\"],[0.8888888888888888,\"#fdca26\"],[1.0,\"#f0f921\"]],\"type\":\"histogram2dcontour\"}],\"mesh3d\":[{\"colorbar\":{\"outlinewidth\":0,\"ticks\":\"\"},\"type\":\"mesh3d\"}],\"parcoords\":[{\"line\":{\"colorbar\":{\"outlinewidth\":0,\"ticks\":\"\"}},\"type\":\"parcoords\"}],\"pie\":[{\"automargin\":true,\"type\":\"pie\"}],\"scatter\":[{\"marker\":{\"colorbar\":{\"outlinewidth\":0,\"ticks\":\"\"}},\"type\":\"scatter\"}],\"scatter3d\":[{\"line\":{\"colorbar\":{\"outlinewidth\":0,\"ticks\":\"\"}},\"marker\":{\"colorbar\":{\"outlinewidth\":0,\"ticks\":\"\"}},\"type\":\"scatter3d\"}],\"scattercarpet\":[{\"marker\":{\"colorbar\":{\"outlinewidth\":0,\"ticks\":\"\"}},\"type\":\"scattercarpet\"}],\"scattergeo\":[{\"marker\":{\"colorbar\":{\"outlinewidth\":0,\"ticks\":\"\"}},\"type\":\"scattergeo\"}],\"scattergl\":[{\"marker\":{\"colorbar\":{\"outlinewidth\":0,\"ticks\":\"\"}},\"type\":\"scattergl\"}],\"scattermapbox\":[{\"marker\":{\"colorbar\":{\"outlinewidth\":0,\"ticks\":\"\"}},\"type\":\"scattermapbox\"}],\"scatterpolar\":[{\"marker\":{\"colorbar\":{\"outlinewidth\":0,\"ticks\":\"\"}},\"type\":\"scatterpolar\"}],\"scatterpolargl\":[{\"marker\":{\"colorbar\":{\"outlinewidth\":0,\"ticks\":\"\"}},\"type\":\"scatterpolargl\"}],\"scatterternary\":[{\"marker\":{\"colorbar\":{\"outlinewidth\":0,\"ticks\":\"\"}},\"type\":\"scatterternary\"}],\"surface\":[{\"colorbar\":{\"outlinewidth\":0,\"ticks\":\"\"},\"colorscale\":[[0.0,\"#0d0887\"],[0.1111111111111111,\"#46039f\"],[0.2222222222222222,\"#7201a8\"],[0.3333333333333333,\"#9c179e\"],[0.4444444444444444,\"#bd3786\"],[0.5555555555555556,\"#d8576b\"],[0.6666666666666666,\"#ed7953\"],[0.7777777777777778,\"#fb9f3a\"],[0.8888888888888888,\"#fdca26\"],[1.0,\"#f0f921\"]],\"type\":\"surface\"}],\"table\":[{\"cells\":{\"fill\":{\"color\":\"#EBF0F8\"},\"line\":{\"color\":\"white\"}},\"header\":{\"fill\":{\"color\":\"#C8D4E3\"},\"line\":{\"color\":\"white\"}},\"type\":\"table\"}]},\"layout\":{\"annotationdefaults\":{\"arrowcolor\":\"#2a3f5f\",\"arrowhead\":0,\"arrowwidth\":1},\"autotypenumbers\":\"strict\",\"coloraxis\":{\"colorbar\":{\"outlinewidth\":0,\"ticks\":\"\"}},\"colorscale\":{\"diverging\":[[0,\"#8e0152\"],[0.1,\"#c51b7d\"],[0.2,\"#de77ae\"],[0.3,\"#f1b6da\"],[0.4,\"#fde0ef\"],[0.5,\"#f7f7f7\"],[0.6,\"#e6f5d0\"],[0.7,\"#b8e186\"],[0.8,\"#7fbc41\"],[0.9,\"#4d9221\"],[1,\"#276419\"]],\"sequential\":[[0.0,\"#0d0887\"],[0.1111111111111111,\"#46039f\"],[0.2222222222222222,\"#7201a8\"],[0.3333333333333333,\"#9c179e\"],[0.4444444444444444,\"#bd3786\"],[0.5555555555555556,\"#d8576b\"],[0.6666666666666666,\"#ed7953\"],[0.7777777777777778,\"#fb9f3a\"],[0.8888888888888888,\"#fdca26\"],[1.0,\"#f0f921\"]],\"sequentialminus\":[[0.0,\"#0d0887\"],[0.1111111111111111,\"#46039f\"],[0.2222222222222222,\"#7201a8\"],[0.3333333333333333,\"#9c179e\"],[0.4444444444444444,\"#bd3786\"],[0.5555555555555556,\"#d8576b\"],[0.6666666666666666,\"#ed7953\"],[0.7777777777777778,\"#fb9f3a\"],[0.8888888888888888,\"#fdca26\"],[1.0,\"#f0f921\"]]},\"colorway\":[\"#636efa\",\"#EF553B\",\"#00cc96\",\"#ab63fa\",\"#FFA15A\",\"#19d3f3\",\"#FF6692\",\"#B6E880\",\"#FF97FF\",\"#FECB52\"],\"font\":{\"color\":\"#2a3f5f\"},\"geo\":{\"bgcolor\":\"white\",\"lakecolor\":\"white\",\"landcolor\":\"#E5ECF6\",\"showlakes\":true,\"showland\":true,\"subunitcolor\":\"white\"},\"hoverlabel\":{\"align\":\"left\"},\"hovermode\":\"closest\",\"mapbox\":{\"style\":\"light\"},\"paper_bgcolor\":\"white\",\"plot_bgcolor\":\"#E5ECF6\",\"polar\":{\"angularaxis\":{\"gridcolor\":\"white\",\"linecolor\":\"white\",\"ticks\":\"\"},\"bgcolor\":\"#E5ECF6\",\"radialaxis\":{\"gridcolor\":\"white\",\"linecolor\":\"white\",\"ticks\":\"\"}},\"scene\":{\"xaxis\":{\"backgroundcolor\":\"#E5ECF6\",\"gridcolor\":\"white\",\"gridwidth\":2,\"linecolor\":\"white\",\"showbackground\":true,\"ticks\":\"\",\"zerolinecolor\":\"white\"},\"yaxis\":{\"backgroundcolor\":\"#E5ECF6\",\"gridcolor\":\"white\",\"gridwidth\":2,\"linecolor\":\"white\",\"showbackground\":true,\"ticks\":\"\",\"zerolinecolor\":\"white\"},\"zaxis\":{\"backgroundcolor\":\"#E5ECF6\",\"gridcolor\":\"white\",\"gridwidth\":2,\"linecolor\":\"white\",\"showbackground\":true,\"ticks\":\"\",\"zerolinecolor\":\"white\"}},\"shapedefaults\":{\"line\":{\"color\":\"#2a3f5f\"}},\"ternary\":{\"aaxis\":{\"gridcolor\":\"white\",\"linecolor\":\"white\",\"ticks\":\"\"},\"baxis\":{\"gridcolor\":\"white\",\"linecolor\":\"white\",\"ticks\":\"\"},\"bgcolor\":\"#E5ECF6\",\"caxis\":{\"gridcolor\":\"white\",\"linecolor\":\"white\",\"ticks\":\"\"}},\"title\":{\"x\":0.05},\"xaxis\":{\"automargin\":true,\"gridcolor\":\"white\",\"linecolor\":\"white\",\"ticks\":\"\",\"title\":{\"standoff\":15},\"zerolinecolor\":\"white\",\"zerolinewidth\":2},\"yaxis\":{\"automargin\":true,\"gridcolor\":\"white\",\"linecolor\":\"white\",\"ticks\":\"\",\"title\":{\"standoff\":15},\"zerolinecolor\":\"white\",\"zerolinewidth\":2}}}},                        {\"responsive\": true}                    ).then(function(){\n",
       "                            \n",
       "var gd = document.getElementById('016dbd1b-318b-4486-90eb-8b81d28da67c');\n",
       "var x = new MutationObserver(function (mutations, observer) {{\n",
       "        var display = window.getComputedStyle(gd).display;\n",
       "        if (!display || display === 'none') {{\n",
       "            console.log([gd, 'removed!']);\n",
       "            Plotly.purge(gd);\n",
       "            observer.disconnect();\n",
       "        }}\n",
       "}});\n",
       "\n",
       "// Listen for the removal of the full notebook cells\n",
       "var notebookContainer = gd.closest('#notebook-container');\n",
       "if (notebookContainer) {{\n",
       "    x.observe(notebookContainer, {childList: true});\n",
       "}}\n",
       "\n",
       "// Listen for the clearing of the current output cell\n",
       "var outputEl = gd.closest('.output');\n",
       "if (outputEl) {{\n",
       "    x.observe(outputEl, {childList: true});\n",
       "}}\n",
       "\n",
       "                        })                };                });            </script>        </div>"
      ]
     },
     "metadata": {},
     "output_type": "display_data"
    },
    {
     "name": "stderr",
     "output_type": "stream",
     "text": [
      "100%|████████████████████████████████████████| 61/61 [6:45:18<00:00, 398.67s/it]\n"
     ]
    },
    {
     "data": {
      "application/vnd.plotly.v1+json": {
       "config": {
        "plotlyServerURL": "https://plot.ly"
       },
       "data": [
        {
         "name": "Scores",
         "type": "scatter",
         "x": [
          1,
          26,
          51,
          76,
          101,
          126,
          151,
          176,
          201,
          226,
          251,
          276,
          301,
          326,
          351,
          376,
          401,
          426,
          451,
          476,
          501,
          526,
          551,
          576,
          601,
          626,
          651,
          676,
          701,
          726,
          751,
          776,
          801,
          826,
          851,
          876,
          901,
          926,
          951,
          976,
          1001,
          1026,
          1051,
          1076,
          1101,
          1126,
          1151,
          1176,
          1201,
          1226,
          1251,
          1276,
          1301,
          1326,
          1351,
          1376,
          1401,
          1426,
          1451,
          1476,
          1501
         ],
         "y": [
          0.3070067857776808,
          0.43616286261128245,
          0.392303393511134,
          0.3934183383622391,
          0.4045623233278173,
          0.4137859589042409,
          0.39872103980992724,
          0.4050887623514004,
          0.4009210698280644,
          0.41198590409625685,
          0.4110607938033775,
          0.42138068090645847,
          0.41976435615672564,
          0.4241381981838037,
          0.420776511768858,
          0.4193513336124334,
          0.43384865794540767,
          0.4273522888006585,
          0.4375978153599853,
          0.43606956030151856,
          0.4356394688715333,
          0.4286071804975969,
          0.4491846970183166,
          0.4310515382851173,
          0.43965126855138925,
          0.4358674276109783,
          0.4389454881159515,
          0.4400655200234686,
          0.4385180196365415,
          0.4314512448944999,
          0.44139308738023303,
          0.43798770186051833,
          0.4425415503140649,
          0.44168734933896897,
          0.4469538409359904,
          0.4479325175055728,
          0.44782760810882266,
          0.4462233401195467,
          0.4364822053377383,
          0.4554753892867113,
          0.4527323962641541,
          0.4436331731384339,
          0.44870696321871756,
          0.43867815438724195,
          0.4478301799273507,
          0.43946946919476804,
          0.441240456201346,
          0.44544895439494336,
          0.43439672535615564,
          0.43720396434822734,
          0.438025380995991,
          0.43709484105718244,
          0.43603064636184763,
          0.43337558677632393,
          0.43888262820369545,
          0.4399394103674175,
          0.4334937283085399,
          0.4342722771740036,
          0.4322012923012075,
          0.4355741299837756,
          0.43744370465929866
         ]
        }
       ],
       "layout": {
        "autosize": true,
        "template": {
         "data": {
          "bar": [
           {
            "error_x": {
             "color": "#2a3f5f"
            },
            "error_y": {
             "color": "#2a3f5f"
            },
            "marker": {
             "line": {
              "color": "#E5ECF6",
              "width": 0.5
             },
             "pattern": {
              "fillmode": "overlay",
              "size": 10,
              "solidity": 0.2
             }
            },
            "type": "bar"
           }
          ],
          "barpolar": [
           {
            "marker": {
             "line": {
              "color": "#E5ECF6",
              "width": 0.5
             },
             "pattern": {
              "fillmode": "overlay",
              "size": 10,
              "solidity": 0.2
             }
            },
            "type": "barpolar"
           }
          ],
          "carpet": [
           {
            "aaxis": {
             "endlinecolor": "#2a3f5f",
             "gridcolor": "white",
             "linecolor": "white",
             "minorgridcolor": "white",
             "startlinecolor": "#2a3f5f"
            },
            "baxis": {
             "endlinecolor": "#2a3f5f",
             "gridcolor": "white",
             "linecolor": "white",
             "minorgridcolor": "white",
             "startlinecolor": "#2a3f5f"
            },
            "type": "carpet"
           }
          ],
          "choropleth": [
           {
            "colorbar": {
             "outlinewidth": 0,
             "ticks": ""
            },
            "type": "choropleth"
           }
          ],
          "contour": [
           {
            "colorbar": {
             "outlinewidth": 0,
             "ticks": ""
            },
            "colorscale": [
             [
              0,
              "#0d0887"
             ],
             [
              0.1111111111111111,
              "#46039f"
             ],
             [
              0.2222222222222222,
              "#7201a8"
             ],
             [
              0.3333333333333333,
              "#9c179e"
             ],
             [
              0.4444444444444444,
              "#bd3786"
             ],
             [
              0.5555555555555556,
              "#d8576b"
             ],
             [
              0.6666666666666666,
              "#ed7953"
             ],
             [
              0.7777777777777778,
              "#fb9f3a"
             ],
             [
              0.8888888888888888,
              "#fdca26"
             ],
             [
              1,
              "#f0f921"
             ]
            ],
            "type": "contour"
           }
          ],
          "contourcarpet": [
           {
            "colorbar": {
             "outlinewidth": 0,
             "ticks": ""
            },
            "type": "contourcarpet"
           }
          ],
          "heatmap": [
           {
            "colorbar": {
             "outlinewidth": 0,
             "ticks": ""
            },
            "colorscale": [
             [
              0,
              "#0d0887"
             ],
             [
              0.1111111111111111,
              "#46039f"
             ],
             [
              0.2222222222222222,
              "#7201a8"
             ],
             [
              0.3333333333333333,
              "#9c179e"
             ],
             [
              0.4444444444444444,
              "#bd3786"
             ],
             [
              0.5555555555555556,
              "#d8576b"
             ],
             [
              0.6666666666666666,
              "#ed7953"
             ],
             [
              0.7777777777777778,
              "#fb9f3a"
             ],
             [
              0.8888888888888888,
              "#fdca26"
             ],
             [
              1,
              "#f0f921"
             ]
            ],
            "type": "heatmap"
           }
          ],
          "heatmapgl": [
           {
            "colorbar": {
             "outlinewidth": 0,
             "ticks": ""
            },
            "colorscale": [
             [
              0,
              "#0d0887"
             ],
             [
              0.1111111111111111,
              "#46039f"
             ],
             [
              0.2222222222222222,
              "#7201a8"
             ],
             [
              0.3333333333333333,
              "#9c179e"
             ],
             [
              0.4444444444444444,
              "#bd3786"
             ],
             [
              0.5555555555555556,
              "#d8576b"
             ],
             [
              0.6666666666666666,
              "#ed7953"
             ],
             [
              0.7777777777777778,
              "#fb9f3a"
             ],
             [
              0.8888888888888888,
              "#fdca26"
             ],
             [
              1,
              "#f0f921"
             ]
            ],
            "type": "heatmapgl"
           }
          ],
          "histogram": [
           {
            "marker": {
             "pattern": {
              "fillmode": "overlay",
              "size": 10,
              "solidity": 0.2
             }
            },
            "type": "histogram"
           }
          ],
          "histogram2d": [
           {
            "colorbar": {
             "outlinewidth": 0,
             "ticks": ""
            },
            "colorscale": [
             [
              0,
              "#0d0887"
             ],
             [
              0.1111111111111111,
              "#46039f"
             ],
             [
              0.2222222222222222,
              "#7201a8"
             ],
             [
              0.3333333333333333,
              "#9c179e"
             ],
             [
              0.4444444444444444,
              "#bd3786"
             ],
             [
              0.5555555555555556,
              "#d8576b"
             ],
             [
              0.6666666666666666,
              "#ed7953"
             ],
             [
              0.7777777777777778,
              "#fb9f3a"
             ],
             [
              0.8888888888888888,
              "#fdca26"
             ],
             [
              1,
              "#f0f921"
             ]
            ],
            "type": "histogram2d"
           }
          ],
          "histogram2dcontour": [
           {
            "colorbar": {
             "outlinewidth": 0,
             "ticks": ""
            },
            "colorscale": [
             [
              0,
              "#0d0887"
             ],
             [
              0.1111111111111111,
              "#46039f"
             ],
             [
              0.2222222222222222,
              "#7201a8"
             ],
             [
              0.3333333333333333,
              "#9c179e"
             ],
             [
              0.4444444444444444,
              "#bd3786"
             ],
             [
              0.5555555555555556,
              "#d8576b"
             ],
             [
              0.6666666666666666,
              "#ed7953"
             ],
             [
              0.7777777777777778,
              "#fb9f3a"
             ],
             [
              0.8888888888888888,
              "#fdca26"
             ],
             [
              1,
              "#f0f921"
             ]
            ],
            "type": "histogram2dcontour"
           }
          ],
          "mesh3d": [
           {
            "colorbar": {
             "outlinewidth": 0,
             "ticks": ""
            },
            "type": "mesh3d"
           }
          ],
          "parcoords": [
           {
            "line": {
             "colorbar": {
              "outlinewidth": 0,
              "ticks": ""
             }
            },
            "type": "parcoords"
           }
          ],
          "pie": [
           {
            "automargin": true,
            "type": "pie"
           }
          ],
          "scatter": [
           {
            "marker": {
             "colorbar": {
              "outlinewidth": 0,
              "ticks": ""
             }
            },
            "type": "scatter"
           }
          ],
          "scatter3d": [
           {
            "line": {
             "colorbar": {
              "outlinewidth": 0,
              "ticks": ""
             }
            },
            "marker": {
             "colorbar": {
              "outlinewidth": 0,
              "ticks": ""
             }
            },
            "type": "scatter3d"
           }
          ],
          "scattercarpet": [
           {
            "marker": {
             "colorbar": {
              "outlinewidth": 0,
              "ticks": ""
             }
            },
            "type": "scattercarpet"
           }
          ],
          "scattergeo": [
           {
            "marker": {
             "colorbar": {
              "outlinewidth": 0,
              "ticks": ""
             }
            },
            "type": "scattergeo"
           }
          ],
          "scattergl": [
           {
            "marker": {
             "colorbar": {
              "outlinewidth": 0,
              "ticks": ""
             }
            },
            "type": "scattergl"
           }
          ],
          "scattermapbox": [
           {
            "marker": {
             "colorbar": {
              "outlinewidth": 0,
              "ticks": ""
             }
            },
            "type": "scattermapbox"
           }
          ],
          "scatterpolar": [
           {
            "marker": {
             "colorbar": {
              "outlinewidth": 0,
              "ticks": ""
             }
            },
            "type": "scatterpolar"
           }
          ],
          "scatterpolargl": [
           {
            "marker": {
             "colorbar": {
              "outlinewidth": 0,
              "ticks": ""
             }
            },
            "type": "scatterpolargl"
           }
          ],
          "scatterternary": [
           {
            "marker": {
             "colorbar": {
              "outlinewidth": 0,
              "ticks": ""
             }
            },
            "type": "scatterternary"
           }
          ],
          "surface": [
           {
            "colorbar": {
             "outlinewidth": 0,
             "ticks": ""
            },
            "colorscale": [
             [
              0,
              "#0d0887"
             ],
             [
              0.1111111111111111,
              "#46039f"
             ],
             [
              0.2222222222222222,
              "#7201a8"
             ],
             [
              0.3333333333333333,
              "#9c179e"
             ],
             [
              0.4444444444444444,
              "#bd3786"
             ],
             [
              0.5555555555555556,
              "#d8576b"
             ],
             [
              0.6666666666666666,
              "#ed7953"
             ],
             [
              0.7777777777777778,
              "#fb9f3a"
             ],
             [
              0.8888888888888888,
              "#fdca26"
             ],
             [
              1,
              "#f0f921"
             ]
            ],
            "type": "surface"
           }
          ],
          "table": [
           {
            "cells": {
             "fill": {
              "color": "#EBF0F8"
             },
             "line": {
              "color": "white"
             }
            },
            "header": {
             "fill": {
              "color": "#C8D4E3"
             },
             "line": {
              "color": "white"
             }
            },
            "type": "table"
           }
          ]
         },
         "layout": {
          "annotationdefaults": {
           "arrowcolor": "#2a3f5f",
           "arrowhead": 0,
           "arrowwidth": 1
          },
          "autotypenumbers": "strict",
          "coloraxis": {
           "colorbar": {
            "outlinewidth": 0,
            "ticks": ""
           }
          },
          "colorscale": {
           "diverging": [
            [
             0,
             "#8e0152"
            ],
            [
             0.1,
             "#c51b7d"
            ],
            [
             0.2,
             "#de77ae"
            ],
            [
             0.3,
             "#f1b6da"
            ],
            [
             0.4,
             "#fde0ef"
            ],
            [
             0.5,
             "#f7f7f7"
            ],
            [
             0.6,
             "#e6f5d0"
            ],
            [
             0.7,
             "#b8e186"
            ],
            [
             0.8,
             "#7fbc41"
            ],
            [
             0.9,
             "#4d9221"
            ],
            [
             1,
             "#276419"
            ]
           ],
           "sequential": [
            [
             0,
             "#0d0887"
            ],
            [
             0.1111111111111111,
             "#46039f"
            ],
            [
             0.2222222222222222,
             "#7201a8"
            ],
            [
             0.3333333333333333,
             "#9c179e"
            ],
            [
             0.4444444444444444,
             "#bd3786"
            ],
            [
             0.5555555555555556,
             "#d8576b"
            ],
            [
             0.6666666666666666,
             "#ed7953"
            ],
            [
             0.7777777777777778,
             "#fb9f3a"
            ],
            [
             0.8888888888888888,
             "#fdca26"
            ],
            [
             1,
             "#f0f921"
            ]
           ],
           "sequentialminus": [
            [
             0,
             "#0d0887"
            ],
            [
             0.1111111111111111,
             "#46039f"
            ],
            [
             0.2222222222222222,
             "#7201a8"
            ],
            [
             0.3333333333333333,
             "#9c179e"
            ],
            [
             0.4444444444444444,
             "#bd3786"
            ],
            [
             0.5555555555555556,
             "#d8576b"
            ],
            [
             0.6666666666666666,
             "#ed7953"
            ],
            [
             0.7777777777777778,
             "#fb9f3a"
            ],
            [
             0.8888888888888888,
             "#fdca26"
            ],
            [
             1,
             "#f0f921"
            ]
           ]
          },
          "colorway": [
           "#636efa",
           "#EF553B",
           "#00cc96",
           "#ab63fa",
           "#FFA15A",
           "#19d3f3",
           "#FF6692",
           "#B6E880",
           "#FF97FF",
           "#FECB52"
          ],
          "font": {
           "color": "#2a3f5f"
          },
          "geo": {
           "bgcolor": "white",
           "lakecolor": "white",
           "landcolor": "#E5ECF6",
           "showlakes": true,
           "showland": true,
           "subunitcolor": "white"
          },
          "hoverlabel": {
           "align": "left"
          },
          "hovermode": "closest",
          "mapbox": {
           "style": "light"
          },
          "paper_bgcolor": "white",
          "plot_bgcolor": "#E5ECF6",
          "polar": {
           "angularaxis": {
            "gridcolor": "white",
            "linecolor": "white",
            "ticks": ""
           },
           "bgcolor": "#E5ECF6",
           "radialaxis": {
            "gridcolor": "white",
            "linecolor": "white",
            "ticks": ""
           }
          },
          "scene": {
           "xaxis": {
            "backgroundcolor": "#E5ECF6",
            "gridcolor": "white",
            "gridwidth": 2,
            "linecolor": "white",
            "showbackground": true,
            "ticks": "",
            "zerolinecolor": "white"
           },
           "yaxis": {
            "backgroundcolor": "#E5ECF6",
            "gridcolor": "white",
            "gridwidth": 2,
            "linecolor": "white",
            "showbackground": true,
            "ticks": "",
            "zerolinecolor": "white"
           },
           "zaxis": {
            "backgroundcolor": "#E5ECF6",
            "gridcolor": "white",
            "gridwidth": 2,
            "linecolor": "white",
            "showbackground": true,
            "ticks": "",
            "zerolinecolor": "white"
           }
          },
          "shapedefaults": {
           "line": {
            "color": "#2a3f5f"
           }
          },
          "ternary": {
           "aaxis": {
            "gridcolor": "white",
            "linecolor": "white",
            "ticks": ""
           },
           "baxis": {
            "gridcolor": "white",
            "linecolor": "white",
            "ticks": ""
           },
           "bgcolor": "#E5ECF6",
           "caxis": {
            "gridcolor": "white",
            "linecolor": "white",
            "ticks": ""
           }
          },
          "title": {
           "x": 0.05
          },
          "xaxis": {
           "automargin": true,
           "gridcolor": "white",
           "linecolor": "white",
           "ticks": "",
           "title": {
            "standoff": 15
           },
           "zerolinecolor": "white",
           "zerolinewidth": 2
          },
          "yaxis": {
           "automargin": true,
           "gridcolor": "white",
           "linecolor": "white",
           "ticks": "",
           "title": {
            "standoff": 15
           },
           "zerolinecolor": "white",
           "zerolinewidth": 2
          }
         }
        },
        "xaxis": {
         "autorange": true,
         "range": [
          1,
          1501
         ],
         "type": "linear"
        },
        "yaxis": {
         "autorange": true,
         "range": [
          0.2987585300271791,
          0.463723645037213
         ],
         "type": "linear"
        }
       }
      },
      "image/png": "[encoded data removed]",
      "text/html": [
       "<div>                            <div id=\"bf9895c0-6771-4f73-9cf5-be43b7be12a4\" class=\"plotly-graph-div\" style=\"height:525px; width:100%;\"></div>            <script type=\"text/javascript\">                require([\"plotly\"], function(Plotly) {                    window.PLOTLYENV=window.PLOTLYENV || {};                                    if (document.getElementById(\"bf9895c0-6771-4f73-9cf5-be43b7be12a4\")) {                    Plotly.newPlot(                        \"bf9895c0-6771-4f73-9cf5-be43b7be12a4\",                        [{\"name\":\"Scores\",\"type\":\"scatter\",\"x\":[1,26,51,76,101,126,151,176,201,226,251,276,301,326,351,376,401,426,451,476,501,526,551,576,601,626,651,676,701,726,751,776,801,826,851,876,901,926,951,976,1001,1026,1051,1076,1101,1126,1151,1176,1201,1226,1251,1276,1301,1326,1351,1376,1401,1426,1451,1476,1501],\"y\":[0.3070067857776808,0.43616286261128245,0.392303393511134,0.3934183383622391,0.4045623233278173,0.4137859589042409,0.39872103980992724,0.4050887623514004,0.4009210698280644,0.41198590409625685,0.4110607938033775,0.42138068090645847,0.41976435615672564,0.4241381981838037,0.420776511768858,0.4193513336124334,0.43384865794540767,0.4273522888006585,0.4375978153599853,0.43606956030151856,0.4356394688715333,0.4286071804975969,0.4491846970183166,0.4310515382851173,0.43965126855138925,0.4358674276109783,0.4389454881159515,0.4400655200234686,0.4385180196365415,0.4314512448944999,0.44139308738023303,0.43798770186051833,0.4425415503140649,0.44168734933896897,0.4469538409359904,0.4479325175055728,0.44782760810882266,0.4462233401195467,0.4364822053377383,0.4554753892867113,0.4527323962641541,0.4436331731384339,0.44870696321871756,0.43867815438724195,0.4478301799273507,0.43946946919476804,0.441240456201346,0.44544895439494336,0.43439672535615564,0.43720396434822734,0.438025380995991,0.43709484105718244,0.43603064636184763,0.43337558677632393,0.43888262820369545,0.4399394103674175,0.4334937283085399,0.4342722771740036,0.4322012923012075,0.4355741299837756,0.43744370465929866]}],                        {\"template\":{\"data\":{\"bar\":[{\"error_x\":{\"color\":\"#2a3f5f\"},\"error_y\":{\"color\":\"#2a3f5f\"},\"marker\":{\"line\":{\"color\":\"#E5ECF6\",\"width\":0.5},\"pattern\":{\"fillmode\":\"overlay\",\"size\":10,\"solidity\":0.2}},\"type\":\"bar\"}],\"barpolar\":[{\"marker\":{\"line\":{\"color\":\"#E5ECF6\",\"width\":0.5},\"pattern\":{\"fillmode\":\"overlay\",\"size\":10,\"solidity\":0.2}},\"type\":\"barpolar\"}],\"carpet\":[{\"aaxis\":{\"endlinecolor\":\"#2a3f5f\",\"gridcolor\":\"white\",\"linecolor\":\"white\",\"minorgridcolor\":\"white\",\"startlinecolor\":\"#2a3f5f\"},\"baxis\":{\"endlinecolor\":\"#2a3f5f\",\"gridcolor\":\"white\",\"linecolor\":\"white\",\"minorgridcolor\":\"white\",\"startlinecolor\":\"#2a3f5f\"},\"type\":\"carpet\"}],\"choropleth\":[{\"colorbar\":{\"outlinewidth\":0,\"ticks\":\"\"},\"type\":\"choropleth\"}],\"contour\":[{\"colorbar\":{\"outlinewidth\":0,\"ticks\":\"\"},\"colorscale\":[[0.0,\"#0d0887\"],[0.1111111111111111,\"#46039f\"],[0.2222222222222222,\"#7201a8\"],[0.3333333333333333,\"#9c179e\"],[0.4444444444444444,\"#bd3786\"],[0.5555555555555556,\"#d8576b\"],[0.6666666666666666,\"#ed7953\"],[0.7777777777777778,\"#fb9f3a\"],[0.8888888888888888,\"#fdca26\"],[1.0,\"#f0f921\"]],\"type\":\"contour\"}],\"contourcarpet\":[{\"colorbar\":{\"outlinewidth\":0,\"ticks\":\"\"},\"type\":\"contourcarpet\"}],\"heatmap\":[{\"colorbar\":{\"outlinewidth\":0,\"ticks\":\"\"},\"colorscale\":[[0.0,\"#0d0887\"],[0.1111111111111111,\"#46039f\"],[0.2222222222222222,\"#7201a8\"],[0.3333333333333333,\"#9c179e\"],[0.4444444444444444,\"#bd3786\"],[0.5555555555555556,\"#d8576b\"],[0.6666666666666666,\"#ed7953\"],[0.7777777777777778,\"#fb9f3a\"],[0.8888888888888888,\"#fdca26\"],[1.0,\"#f0f921\"]],\"type\":\"heatmap\"}],\"heatmapgl\":[{\"colorbar\":{\"outlinewidth\":0,\"ticks\":\"\"},\"colorscale\":[[0.0,\"#0d0887\"],[0.1111111111111111,\"#46039f\"],[0.2222222222222222,\"#7201a8\"],[0.3333333333333333,\"#9c179e\"],[0.4444444444444444,\"#bd3786\"],[0.5555555555555556,\"#d8576b\"],[0.6666666666666666,\"#ed7953\"],[0.7777777777777778,\"#fb9f3a\"],[0.8888888888888888,\"#fdca26\"],[1.0,\"#f0f921\"]],\"type\":\"heatmapgl\"}],\"histogram\":[{\"marker\":{\"pattern\":{\"fillmode\":\"overlay\",\"size\":10,\"solidity\":0.2}},\"type\":\"histogram\"}],\"histogram2d\":[{\"colorbar\":{\"outlinewidth\":0,\"ticks\":\"\"},\"colorscale\":[[0.0,\"#0d0887\"],[0.1111111111111111,\"#46039f\"],[0.2222222222222222,\"#7201a8\"],[0.3333333333333333,\"#9c179e\"],[0.4444444444444444,\"#bd3786\"],[0.5555555555555556,\"#d8576b\"],[0.6666666666666666,\"#ed7953\"],[0.7777777777777778,\"#fb9f3a\"],[0.8888888888888888,\"#fdca26\"],[1.0,\"#f0f921\"]],\"type\":\"histogram2d\"}],\"histogram2dcontour\":[{\"colorbar\":{\"outlinewidth\":0,\"ticks\":\"\"},\"colorscale\":[[0.0,\"#0d0887\"],[0.1111111111111111,\"#46039f\"],[0.2222222222222222,\"#7201a8\"],[0.3333333333333333,\"#9c179e\"],[0.4444444444444444,\"#bd3786\"],[0.5555555555555556,\"#d8576b\"],[0.6666666666666666,\"#ed7953\"],[0.7777777777777778,\"#fb9f3a\"],[0.8888888888888888,\"#fdca26\"],[1.0,\"#f0f921\"]],\"type\":\"histogram2dcontour\"}],\"mesh3d\":[{\"colorbar\":{\"outlinewidth\":0,\"ticks\":\"\"},\"type\":\"mesh3d\"}],\"parcoords\":[{\"line\":{\"colorbar\":{\"outlinewidth\":0,\"ticks\":\"\"}},\"type\":\"parcoords\"}],\"pie\":[{\"automargin\":true,\"type\":\"pie\"}],\"scatter\":[{\"marker\":{\"colorbar\":{\"outlinewidth\":0,\"ticks\":\"\"}},\"type\":\"scatter\"}],\"scatter3d\":[{\"line\":{\"colorbar\":{\"outlinewidth\":0,\"ticks\":\"\"}},\"marker\":{\"colorbar\":{\"outlinewidth\":0,\"ticks\":\"\"}},\"type\":\"scatter3d\"}],\"scattercarpet\":[{\"marker\":{\"colorbar\":{\"outlinewidth\":0,\"ticks\":\"\"}},\"type\":\"scattercarpet\"}],\"scattergeo\":[{\"marker\":{\"colorbar\":{\"outlinewidth\":0,\"ticks\":\"\"}},\"type\":\"scattergeo\"}],\"scattergl\":[{\"marker\":{\"colorbar\":{\"outlinewidth\":0,\"ticks\":\"\"}},\"type\":\"scattergl\"}],\"scattermapbox\":[{\"marker\":{\"colorbar\":{\"outlinewidth\":0,\"ticks\":\"\"}},\"type\":\"scattermapbox\"}],\"scatterpolar\":[{\"marker\":{\"colorbar\":{\"outlinewidth\":0,\"ticks\":\"\"}},\"type\":\"scatterpolar\"}],\"scatterpolargl\":[{\"marker\":{\"colorbar\":{\"outlinewidth\":0,\"ticks\":\"\"}},\"type\":\"scatterpolargl\"}],\"scatterternary\":[{\"marker\":{\"colorbar\":{\"outlinewidth\":0,\"ticks\":\"\"}},\"type\":\"scatterternary\"}],\"surface\":[{\"colorbar\":{\"outlinewidth\":0,\"ticks\":\"\"},\"colorscale\":[[0.0,\"#0d0887\"],[0.1111111111111111,\"#46039f\"],[0.2222222222222222,\"#7201a8\"],[0.3333333333333333,\"#9c179e\"],[0.4444444444444444,\"#bd3786\"],[0.5555555555555556,\"#d8576b\"],[0.6666666666666666,\"#ed7953\"],[0.7777777777777778,\"#fb9f3a\"],[0.8888888888888888,\"#fdca26\"],[1.0,\"#f0f921\"]],\"type\":\"surface\"}],\"table\":[{\"cells\":{\"fill\":{\"color\":\"#EBF0F8\"},\"line\":{\"color\":\"white\"}},\"header\":{\"fill\":{\"color\":\"#C8D4E3\"},\"line\":{\"color\":\"white\"}},\"type\":\"table\"}]},\"layout\":{\"annotationdefaults\":{\"arrowcolor\":\"#2a3f5f\",\"arrowhead\":0,\"arrowwidth\":1},\"autotypenumbers\":\"strict\",\"coloraxis\":{\"colorbar\":{\"outlinewidth\":0,\"ticks\":\"\"}},\"colorscale\":{\"diverging\":[[0,\"#8e0152\"],[0.1,\"#c51b7d\"],[0.2,\"#de77ae\"],[0.3,\"#f1b6da\"],[0.4,\"#fde0ef\"],[0.5,\"#f7f7f7\"],[0.6,\"#e6f5d0\"],[0.7,\"#b8e186\"],[0.8,\"#7fbc41\"],[0.9,\"#4d9221\"],[1,\"#276419\"]],\"sequential\":[[0.0,\"#0d0887\"],[0.1111111111111111,\"#46039f\"],[0.2222222222222222,\"#7201a8\"],[0.3333333333333333,\"#9c179e\"],[0.4444444444444444,\"#bd3786\"],[0.5555555555555556,\"#d8576b\"],[0.6666666666666666,\"#ed7953\"],[0.7777777777777778,\"#fb9f3a\"],[0.8888888888888888,\"#fdca26\"],[1.0,\"#f0f921\"]],\"sequentialminus\":[[0.0,\"#0d0887\"],[0.1111111111111111,\"#46039f\"],[0.2222222222222222,\"#7201a8\"],[0.3333333333333333,\"#9c179e\"],[0.4444444444444444,\"#bd3786\"],[0.5555555555555556,\"#d8576b\"],[0.6666666666666666,\"#ed7953\"],[0.7777777777777778,\"#fb9f3a\"],[0.8888888888888888,\"#fdca26\"],[1.0,\"#f0f921\"]]},\"colorway\":[\"#636efa\",\"#EF553B\",\"#00cc96\",\"#ab63fa\",\"#FFA15A\",\"#19d3f3\",\"#FF6692\",\"#B6E880\",\"#FF97FF\",\"#FECB52\"],\"font\":{\"color\":\"#2a3f5f\"},\"geo\":{\"bgcolor\":\"white\",\"lakecolor\":\"white\",\"landcolor\":\"#E5ECF6\",\"showlakes\":true,\"showland\":true,\"subunitcolor\":\"white\"},\"hoverlabel\":{\"align\":\"left\"},\"hovermode\":\"closest\",\"mapbox\":{\"style\":\"light\"},\"paper_bgcolor\":\"white\",\"plot_bgcolor\":\"#E5ECF6\",\"polar\":{\"angularaxis\":{\"gridcolor\":\"white\",\"linecolor\":\"white\",\"ticks\":\"\"},\"bgcolor\":\"#E5ECF6\",\"radialaxis\":{\"gridcolor\":\"white\",\"linecolor\":\"white\",\"ticks\":\"\"}},\"scene\":{\"xaxis\":{\"backgroundcolor\":\"#E5ECF6\",\"gridcolor\":\"white\",\"gridwidth\":2,\"linecolor\":\"white\",\"showbackground\":true,\"ticks\":\"\",\"zerolinecolor\":\"white\"},\"yaxis\":{\"backgroundcolor\":\"#E5ECF6\",\"gridcolor\":\"white\",\"gridwidth\":2,\"linecolor\":\"white\",\"showbackground\":true,\"ticks\":\"\",\"zerolinecolor\":\"white\"},\"zaxis\":{\"backgroundcolor\":\"#E5ECF6\",\"gridcolor\":\"white\",\"gridwidth\":2,\"linecolor\":\"white\",\"showbackground\":true,\"ticks\":\"\",\"zerolinecolor\":\"white\"}},\"shapedefaults\":{\"line\":{\"color\":\"#2a3f5f\"}},\"ternary\":{\"aaxis\":{\"gridcolor\":\"white\",\"linecolor\":\"white\",\"ticks\":\"\"},\"baxis\":{\"gridcolor\":\"white\",\"linecolor\":\"white\",\"ticks\":\"\"},\"bgcolor\":\"#E5ECF6\",\"caxis\":{\"gridcolor\":\"white\",\"linecolor\":\"white\",\"ticks\":\"\"}},\"title\":{\"x\":0.05},\"xaxis\":{\"automargin\":true,\"gridcolor\":\"white\",\"linecolor\":\"white\",\"ticks\":\"\",\"title\":{\"standoff\":15},\"zerolinecolor\":\"white\",\"zerolinewidth\":2},\"yaxis\":{\"automargin\":true,\"gridcolor\":\"white\",\"linecolor\":\"white\",\"ticks\":\"\",\"title\":{\"standoff\":15},\"zerolinecolor\":\"white\",\"zerolinewidth\":2}}}},                        {\"responsive\": true}                    ).then(function(){\n",
       "                            \n",
       "var gd = document.getElementById('bf9895c0-6771-4f73-9cf5-be43b7be12a4');\n",
       "var x = new MutationObserver(function (mutations, observer) {{\n",
       "        var display = window.getComputedStyle(gd).display;\n",
       "        if (!display || display === 'none') {{\n",
       "            console.log([gd, 'removed!']);\n",
       "            Plotly.purge(gd);\n",
       "            observer.disconnect();\n",
       "        }}\n",
       "}});\n",
       "\n",
       "// Listen for the removal of the full notebook cells\n",
       "var notebookContainer = gd.closest('#notebook-container');\n",
       "if (notebookContainer) {{\n",
       "    x.observe(notebookContainer, {childList: true});\n",
       "}}\n",
       "\n",
       "// Listen for the clearing of the current output cell\n",
       "var outputEl = gd.closest('.output');\n",
       "if (outputEl) {{\n",
       "    x.observe(outputEl, {childList: true});\n",
       "}}\n",
       "\n",
       "                        })                };                });            </script>        </div>"
      ]
     },
     "metadata": {},
     "output_type": "display_data"
    }
   ],
   "source": [
    "par_scores = score_topics(par_dictionary, par_bow, par_texts, start = 1, step = 25, stop = 203)\n",
    "    \n",
    "plot_topic_scores(par_scores)\n",
    "\n",
    "email_scores = score_topics(email_dictionary, email_bow, email_texts, start = 1, step = 25, stop = 1503)\n",
    "    \n",
    "plot_topic_scores(email_scores)\n",
    "\n"
   ]
  },
  {
   "cell_type": "code",
   "execution_count": null,
   "id": "d830d077-d0de-4eea-a27d-30b8d1f5a205",
   "metadata": {
    "execution": {
     "iopub.execute_input": "2021-11-13T19:17:46.083410Z",
     "iopub.status.busy": "2021-11-13T19:17:46.082958Z"
    },
    "tags": []
   },
   "outputs": [
    {
     "name": "stdout",
     "output_type": "stream",
     "text": [
      "Loading model: stored_models_experiment3/full_email_1\n",
      "Scoring model\n",
      "Model score: 0.3070067857776808\n",
      "\n",
      "Loading model: stored_models_experiment3/full_email_26\n",
      "Scoring model\n",
      "Model score: 0.43616286261128245\n",
      "\n",
      "Loading model: stored_models_experiment3/full_email_51\n",
      "Scoring model\n",
      "Model score: 0.392303393511134\n",
      "\n",
      "Loading model: stored_models_experiment3/full_email_76\n",
      "Scoring model\n",
      "Model score: 0.3934183383622391\n",
      "\n",
      "Loading model: stored_models_experiment3/full_email_101\n",
      "Scoring model\n",
      "Model score: 0.4045623233278173\n",
      "\n",
      "Loading model: stored_models_experiment3/full_email_126\n",
      "Scoring model\n",
      "Model score: 0.4137859589042409\n",
      "\n",
      "Loading model: stored_models_experiment3/full_email_151\n",
      "Scoring model\n",
      "Model score: 0.39872103980992724\n",
      "\n",
      "Loading model: stored_models_experiment3/full_email_176\n",
      "Scoring model\n",
      "Model score: 0.4050887623514004\n",
      "\n",
      "Loading model: stored_models_experiment3/full_email_201\n",
      "Scoring model\n",
      "Model score: 0.4009210698280644\n",
      "\n",
      "Loading model: stored_models_experiment3/full_email_226\n",
      "Scoring model\n",
      "Model score: 0.41198590409625685\n",
      "\n",
      "Loading model: stored_models_experiment3/full_email_251\n",
      "Scoring model\n",
      "Model score: 0.4110607938033775\n",
      "\n",
      "Loading model: stored_models_experiment3/full_email_276\n",
      "Scoring model\n",
      "Model score: 0.42138068090645847\n",
      "\n",
      "Loading model: stored_models_experiment3/full_email_301\n",
      "Scoring model\n",
      "Model score: 0.41976435615672564\n",
      "\n",
      "Loading model: stored_models_experiment3/full_email_326\n",
      "Scoring model\n",
      "Model score: 0.4241381981838037\n",
      "\n",
      "Loading model: stored_models_experiment3/full_email_351\n",
      "Scoring model\n",
      "Model score: 0.420776511768858\n",
      "\n",
      "Loading model: stored_models_experiment3/full_email_376\n",
      "Scoring model\n",
      "Model score: 0.4193513336124334\n",
      "\n",
      "Loading model: stored_models_experiment3/full_email_401\n",
      "Scoring model\n",
      "Model score: 0.43384865794540767\n",
      "\n",
      "Loading model: stored_models_experiment3/full_email_426\n",
      "Scoring model\n",
      "Model score: 0.4273522888006585\n",
      "\n",
      "Loading model: stored_models_experiment3/full_email_451\n",
      "Scoring model\n",
      "Model score: 0.4375978153599853\n",
      "\n",
      "Loading model: stored_models_experiment3/full_email_476\n",
      "Scoring model\n",
      "Model score: 0.43606956030151856\n",
      "\n",
      "Loading model: stored_models_experiment3/full_email_501\n",
      "Scoring model\n",
      "Model score: 0.4356394688715333\n",
      "\n",
      "Loading model: stored_models_experiment3/full_email_526\n",
      "Scoring model\n",
      "Model score: 0.4286071804975969\n",
      "\n",
      "Loading model: stored_models_experiment3/full_email_551\n",
      "Scoring model\n",
      "Model score: 0.4491846970183166\n",
      "\n",
      "Loading model: stored_models_experiment3/full_email_576\n",
      "Scoring model\n",
      "Model score: 0.4310515382851173\n",
      "\n",
      "Loading model: stored_models_experiment3/full_email_601\n",
      "Scoring model\n",
      "Model score: 0.43965126855138925\n",
      "\n",
      "Loading model: stored_models_experiment3/full_email_626\n",
      "Scoring model\n",
      "Model score: 0.4358674276109783\n",
      "\n",
      "Loading model: stored_models_experiment3/full_email_651\n",
      "Scoring model\n",
      "Model score: 0.4389454881159515\n",
      "\n",
      "Loading model: stored_models_experiment3/full_email_676\n",
      "Scoring model\n",
      "Model score: 0.4400655200234686\n",
      "\n",
      "Loading model: stored_models_experiment3/full_email_701\n",
      "Scoring model\n",
      "Model score: 0.4385180196365415\n",
      "\n",
      "Loading model: stored_models_experiment3/full_email_726\n",
      "Scoring model\n",
      "Model score: 0.4314512448944999\n",
      "\n",
      "Loading model: stored_models_experiment3/full_email_751\n",
      "Scoring model\n",
      "Model score: 0.44139308738023303\n",
      "\n",
      "Loading model: stored_models_experiment3/full_email_776\n",
      "Scoring model\n"
     ]
    }
   ],
   "source": [
    "def generate_topic_numbers(start,stop,step):\n",
    "    # Generate the topic numbers \n",
    "    num_topics_list = list(range(start,stop))\n",
    "    num_topics_subset = num_topics_list[::step]\n",
    "    \n",
    "    return num_topics_subset\n",
    "\n",
    "def load_multiple_models(path, file_prepend, start, stop, step, texts, dictionary):\n",
    "    num_topics_list = generate_topic_numbers(start, stop, step)\n",
    "    #print(num_topics_list)\n",
    "    scored_model_list = []\n",
    "    for no_topics in num_topics_list:\n",
    "        #print('loading ',str(no_topics))\n",
    "        model = load_scored_model(path,file_prepend, no_topics,texts,dictionary)\n",
    "        scored_model_list.append(model)\n",
    "\n",
    "    return scored_model_list\n",
    "\n",
    "start = 1\n",
    "stop = 203\n",
    "step = 25\n",
    "path = 'stored_models_experiment3/'\n",
    "file_prepend = 'paragraph_'\n",
    "\n",
    "#par_scores = load_multiple_models(path, file_prepend, start, stop, step, par_texts, par_dictionary)\n",
    "\n",
    "start = 1\n",
    "stop = 1503\n",
    "step = 25\n",
    "path = 'stored_models_experiment3/'\n",
    "file_prepend = 'full_email_'\n",
    "\n",
    "email_scores = load_multiple_models(path, file_prepend, start, stop, step, email_texts, email_dictionary)\n",
    "\n"
   ]
  },
  {
   "cell_type": "code",
   "execution_count": 291,
   "id": "94c34b88-c5ef-45c5-a7aa-1b1b1e085bea",
   "metadata": {
    "execution": {
     "iopub.execute_input": "2021-11-13T19:06:48.481802Z",
     "iopub.status.busy": "2021-11-13T19:06:48.479634Z",
     "iopub.status.idle": "2021-11-13T19:06:48.523482Z",
     "shell.execute_reply": "2021-11-13T19:06:48.521990Z",
     "shell.execute_reply.started": "2021-11-13T19:06:48.481754Z"
    },
    "tags": []
   },
   "outputs": [
    {
     "data": {
      "application/vnd.plotly.v1+json": {
       "config": {
        "plotlyServerURL": "https://plot.ly"
       },
       "data": [
        {
         "name": "Scores",
         "type": "scatter",
         "x": [
          1,
          26,
          51,
          76,
          101,
          126,
          151,
          176,
          201
         ],
         "y": [
          0.3417039061174385,
          0.38337750381339636,
          0.4400744589099817,
          0.4513493494589726,
          0.4474538366718189,
          0.41033283198414927,
          0.39750473038948464,
          0.3783745746184822,
          0.3534520929728467
         ]
        },
        {
         "name": "Reference point",
         "type": "scatter",
         "x": [
          76,
          76,
          76,
          76,
          76,
          76,
          76,
          76,
          76,
          76,
          76,
          76,
          76,
          76,
          76,
          76,
          76,
          76,
          76,
          76,
          76,
          76,
          76,
          76,
          76,
          76,
          76,
          76,
          76,
          76,
          76,
          76,
          76,
          76,
          76,
          76,
          76,
          76,
          76,
          76,
          76,
          76,
          76,
          76,
          76,
          76,
          76,
          76,
          76,
          76,
          76,
          76,
          76,
          76,
          76,
          76,
          76,
          76,
          76,
          76,
          76,
          76,
          76,
          76,
          76,
          76,
          76,
          76,
          76,
          76,
          76,
          76,
          76,
          76,
          76,
          76,
          76,
          76,
          76,
          76,
          76,
          76,
          76,
          76,
          76,
          76,
          76,
          76,
          76,
          76,
          76,
          76,
          76,
          76,
          76,
          76,
          76,
          76,
          76,
          76
         ],
         "y": [
          0.3417039061174385,
          0.3428114358481611,
          0.34391896557888363,
          0.3450264953096062,
          0.34613402504032875,
          0.34724155477105134,
          0.34834908450177393,
          0.34945661423249647,
          0.35056414396321905,
          0.3516716736939416,
          0.3527792034246642,
          0.3538867331553867,
          0.3549942628861093,
          0.3561017926168319,
          0.3572093223475544,
          0.358316852078277,
          0.35942438180899955,
          0.36053191153972214,
          0.36163944127044473,
          0.36274697100116726,
          0.36385450073188985,
          0.3649620304626124,
          0.366069560193335,
          0.3671770899240575,
          0.3682846196547801,
          0.3693921493855027,
          0.3704996791162252,
          0.3716072088469478,
          0.37271473857767035,
          0.37382226830839294,
          0.3749297980391155,
          0.37603732776983806,
          0.37714485750056065,
          0.3782523872312832,
          0.37935991696200577,
          0.38046744669272836,
          0.3815749764234509,
          0.3826825061541735,
          0.383790035884896,
          0.3848975656156186,
          0.3860050953463412,
          0.38711262507706373,
          0.3882201548077863,
          0.38932768453850886,
          0.39043521426923145,
          0.391542743999954,
          0.39265027373067657,
          0.3937578034613991,
          0.3948653331921217,
          0.3959728629228443,
          0.3970803926535668,
          0.3981879223842894,
          0.39929545211501194,
          0.40040298184573453,
          0.4015105115764571,
          0.40261804130717965,
          0.40372557103790224,
          0.4048331007686248,
          0.40594063049934737,
          0.40704816023006996,
          0.4081556899607925,
          0.4092632196915151,
          0.4103707494222376,
          0.4114782791529602,
          0.4125858088836828,
          0.4136933386144053,
          0.4148008683451279,
          0.41590839807585045,
          0.41701592780657304,
          0.41812345753729563,
          0.41923098726801816,
          0.4203385169987407,
          0.4214460467294633,
          0.4225535764601859,
          0.4236611061909084,
          0.424768635921631,
          0.42587616565235353,
          0.4269836953830761,
          0.4280912251137987,
          0.42919875484452125,
          0.43030628457524384,
          0.43141381430596637,
          0.43252134403668896,
          0.43362887376741155,
          0.4347364034981341,
          0.4358439332288567,
          0.4369514629595792,
          0.4380589926903018,
          0.4391665224210244,
          0.4402740521517469,
          0.4413815818824695,
          0.44248911161319204,
          0.44359664134391463,
          0.4447041710746372,
          0.44581170080535976,
          0.44691923053608235,
          0.4480267602668049,
          0.44913428999752747,
          0.45024181972825006,
          0.4513493494589726
         ]
        }
       ],
       "layout": {
        "autosize": true,
        "template": {
         "data": {
          "bar": [
           {
            "error_x": {
             "color": "#2a3f5f"
            },
            "error_y": {
             "color": "#2a3f5f"
            },
            "marker": {
             "line": {
              "color": "#E5ECF6",
              "width": 0.5
             },
             "pattern": {
              "fillmode": "overlay",
              "size": 10,
              "solidity": 0.2
             }
            },
            "type": "bar"
           }
          ],
          "barpolar": [
           {
            "marker": {
             "line": {
              "color": "#E5ECF6",
              "width": 0.5
             },
             "pattern": {
              "fillmode": "overlay",
              "size": 10,
              "solidity": 0.2
             }
            },
            "type": "barpolar"
           }
          ],
          "carpet": [
           {
            "aaxis": {
             "endlinecolor": "#2a3f5f",
             "gridcolor": "white",
             "linecolor": "white",
             "minorgridcolor": "white",
             "startlinecolor": "#2a3f5f"
            },
            "baxis": {
             "endlinecolor": "#2a3f5f",
             "gridcolor": "white",
             "linecolor": "white",
             "minorgridcolor": "white",
             "startlinecolor": "#2a3f5f"
            },
            "type": "carpet"
           }
          ],
          "choropleth": [
           {
            "colorbar": {
             "outlinewidth": 0,
             "ticks": ""
            },
            "type": "choropleth"
           }
          ],
          "contour": [
           {
            "colorbar": {
             "outlinewidth": 0,
             "ticks": ""
            },
            "colorscale": [
             [
              0,
              "#0d0887"
             ],
             [
              0.1111111111111111,
              "#46039f"
             ],
             [
              0.2222222222222222,
              "#7201a8"
             ],
             [
              0.3333333333333333,
              "#9c179e"
             ],
             [
              0.4444444444444444,
              "#bd3786"
             ],
             [
              0.5555555555555556,
              "#d8576b"
             ],
             [
              0.6666666666666666,
              "#ed7953"
             ],
             [
              0.7777777777777778,
              "#fb9f3a"
             ],
             [
              0.8888888888888888,
              "#fdca26"
             ],
             [
              1,
              "#f0f921"
             ]
            ],
            "type": "contour"
           }
          ],
          "contourcarpet": [
           {
            "colorbar": {
             "outlinewidth": 0,
             "ticks": ""
            },
            "type": "contourcarpet"
           }
          ],
          "heatmap": [
           {
            "colorbar": {
             "outlinewidth": 0,
             "ticks": ""
            },
            "colorscale": [
             [
              0,
              "#0d0887"
             ],
             [
              0.1111111111111111,
              "#46039f"
             ],
             [
              0.2222222222222222,
              "#7201a8"
             ],
             [
              0.3333333333333333,
              "#9c179e"
             ],
             [
              0.4444444444444444,
              "#bd3786"
             ],
             [
              0.5555555555555556,
              "#d8576b"
             ],
             [
              0.6666666666666666,
              "#ed7953"
             ],
             [
              0.7777777777777778,
              "#fb9f3a"
             ],
             [
              0.8888888888888888,
              "#fdca26"
             ],
             [
              1,
              "#f0f921"
             ]
            ],
            "type": "heatmap"
           }
          ],
          "heatmapgl": [
           {
            "colorbar": {
             "outlinewidth": 0,
             "ticks": ""
            },
            "colorscale": [
             [
              0,
              "#0d0887"
             ],
             [
              0.1111111111111111,
              "#46039f"
             ],
             [
              0.2222222222222222,
              "#7201a8"
             ],
             [
              0.3333333333333333,
              "#9c179e"
             ],
             [
              0.4444444444444444,
              "#bd3786"
             ],
             [
              0.5555555555555556,
              "#d8576b"
             ],
             [
              0.6666666666666666,
              "#ed7953"
             ],
             [
              0.7777777777777778,
              "#fb9f3a"
             ],
             [
              0.8888888888888888,
              "#fdca26"
             ],
             [
              1,
              "#f0f921"
             ]
            ],
            "type": "heatmapgl"
           }
          ],
          "histogram": [
           {
            "marker": {
             "pattern": {
              "fillmode": "overlay",
              "size": 10,
              "solidity": 0.2
             }
            },
            "type": "histogram"
           }
          ],
          "histogram2d": [
           {
            "colorbar": {
             "outlinewidth": 0,
             "ticks": ""
            },
            "colorscale": [
             [
              0,
              "#0d0887"
             ],
             [
              0.1111111111111111,
              "#46039f"
             ],
             [
              0.2222222222222222,
              "#7201a8"
             ],
             [
              0.3333333333333333,
              "#9c179e"
             ],
             [
              0.4444444444444444,
              "#bd3786"
             ],
             [
              0.5555555555555556,
              "#d8576b"
             ],
             [
              0.6666666666666666,
              "#ed7953"
             ],
             [
              0.7777777777777778,
              "#fb9f3a"
             ],
             [
              0.8888888888888888,
              "#fdca26"
             ],
             [
              1,
              "#f0f921"
             ]
            ],
            "type": "histogram2d"
           }
          ],
          "histogram2dcontour": [
           {
            "colorbar": {
             "outlinewidth": 0,
             "ticks": ""
            },
            "colorscale": [
             [
              0,
              "#0d0887"
             ],
             [
              0.1111111111111111,
              "#46039f"
             ],
             [
              0.2222222222222222,
              "#7201a8"
             ],
             [
              0.3333333333333333,
              "#9c179e"
             ],
             [
              0.4444444444444444,
              "#bd3786"
             ],
             [
              0.5555555555555556,
              "#d8576b"
             ],
             [
              0.6666666666666666,
              "#ed7953"
             ],
             [
              0.7777777777777778,
              "#fb9f3a"
             ],
             [
              0.8888888888888888,
              "#fdca26"
             ],
             [
              1,
              "#f0f921"
             ]
            ],
            "type": "histogram2dcontour"
           }
          ],
          "mesh3d": [
           {
            "colorbar": {
             "outlinewidth": 0,
             "ticks": ""
            },
            "type": "mesh3d"
           }
          ],
          "parcoords": [
           {
            "line": {
             "colorbar": {
              "outlinewidth": 0,
              "ticks": ""
             }
            },
            "type": "parcoords"
           }
          ],
          "pie": [
           {
            "automargin": true,
            "type": "pie"
           }
          ],
          "scatter": [
           {
            "marker": {
             "colorbar": {
              "outlinewidth": 0,
              "ticks": ""
             }
            },
            "type": "scatter"
           }
          ],
          "scatter3d": [
           {
            "line": {
             "colorbar": {
              "outlinewidth": 0,
              "ticks": ""
             }
            },
            "marker": {
             "colorbar": {
              "outlinewidth": 0,
              "ticks": ""
             }
            },
            "type": "scatter3d"
           }
          ],
          "scattercarpet": [
           {
            "marker": {
             "colorbar": {
              "outlinewidth": 0,
              "ticks": ""
             }
            },
            "type": "scattercarpet"
           }
          ],
          "scattergeo": [
           {
            "marker": {
             "colorbar": {
              "outlinewidth": 0,
              "ticks": ""
             }
            },
            "type": "scattergeo"
           }
          ],
          "scattergl": [
           {
            "marker": {
             "colorbar": {
              "outlinewidth": 0,
              "ticks": ""
             }
            },
            "type": "scattergl"
           }
          ],
          "scattermapbox": [
           {
            "marker": {
             "colorbar": {
              "outlinewidth": 0,
              "ticks": ""
             }
            },
            "type": "scattermapbox"
           }
          ],
          "scatterpolar": [
           {
            "marker": {
             "colorbar": {
              "outlinewidth": 0,
              "ticks": ""
             }
            },
            "type": "scatterpolar"
           }
          ],
          "scatterpolargl": [
           {
            "marker": {
             "colorbar": {
              "outlinewidth": 0,
              "ticks": ""
             }
            },
            "type": "scatterpolargl"
           }
          ],
          "scatterternary": [
           {
            "marker": {
             "colorbar": {
              "outlinewidth": 0,
              "ticks": ""
             }
            },
            "type": "scatterternary"
           }
          ],
          "surface": [
           {
            "colorbar": {
             "outlinewidth": 0,
             "ticks": ""
            },
            "colorscale": [
             [
              0,
              "#0d0887"
             ],
             [
              0.1111111111111111,
              "#46039f"
             ],
             [
              0.2222222222222222,
              "#7201a8"
             ],
             [
              0.3333333333333333,
              "#9c179e"
             ],
             [
              0.4444444444444444,
              "#bd3786"
             ],
             [
              0.5555555555555556,
              "#d8576b"
             ],
             [
              0.6666666666666666,
              "#ed7953"
             ],
             [
              0.7777777777777778,
              "#fb9f3a"
             ],
             [
              0.8888888888888888,
              "#fdca26"
             ],
             [
              1,
              "#f0f921"
             ]
            ],
            "type": "surface"
           }
          ],
          "table": [
           {
            "cells": {
             "fill": {
              "color": "#EBF0F8"
             },
             "line": {
              "color": "white"
             }
            },
            "header": {
             "fill": {
              "color": "#C8D4E3"
             },
             "line": {
              "color": "white"
             }
            },
            "type": "table"
           }
          ]
         },
         "layout": {
          "annotationdefaults": {
           "arrowcolor": "#2a3f5f",
           "arrowhead": 0,
           "arrowwidth": 1
          },
          "autotypenumbers": "strict",
          "coloraxis": {
           "colorbar": {
            "outlinewidth": 0,
            "ticks": ""
           }
          },
          "colorscale": {
           "diverging": [
            [
             0,
             "#8e0152"
            ],
            [
             0.1,
             "#c51b7d"
            ],
            [
             0.2,
             "#de77ae"
            ],
            [
             0.3,
             "#f1b6da"
            ],
            [
             0.4,
             "#fde0ef"
            ],
            [
             0.5,
             "#f7f7f7"
            ],
            [
             0.6,
             "#e6f5d0"
            ],
            [
             0.7,
             "#b8e186"
            ],
            [
             0.8,
             "#7fbc41"
            ],
            [
             0.9,
             "#4d9221"
            ],
            [
             1,
             "#276419"
            ]
           ],
           "sequential": [
            [
             0,
             "#0d0887"
            ],
            [
             0.1111111111111111,
             "#46039f"
            ],
            [
             0.2222222222222222,
             "#7201a8"
            ],
            [
             0.3333333333333333,
             "#9c179e"
            ],
            [
             0.4444444444444444,
             "#bd3786"
            ],
            [
             0.5555555555555556,
             "#d8576b"
            ],
            [
             0.6666666666666666,
             "#ed7953"
            ],
            [
             0.7777777777777778,
             "#fb9f3a"
            ],
            [
             0.8888888888888888,
             "#fdca26"
            ],
            [
             1,
             "#f0f921"
            ]
           ],
           "sequentialminus": [
            [
             0,
             "#0d0887"
            ],
            [
             0.1111111111111111,
             "#46039f"
            ],
            [
             0.2222222222222222,
             "#7201a8"
            ],
            [
             0.3333333333333333,
             "#9c179e"
            ],
            [
             0.4444444444444444,
             "#bd3786"
            ],
            [
             0.5555555555555556,
             "#d8576b"
            ],
            [
             0.6666666666666666,
             "#ed7953"
            ],
            [
             0.7777777777777778,
             "#fb9f3a"
            ],
            [
             0.8888888888888888,
             "#fdca26"
            ],
            [
             1,
             "#f0f921"
            ]
           ]
          },
          "colorway": [
           "#636efa",
           "#EF553B",
           "#00cc96",
           "#ab63fa",
           "#FFA15A",
           "#19d3f3",
           "#FF6692",
           "#B6E880",
           "#FF97FF",
           "#FECB52"
          ],
          "font": {
           "color": "#2a3f5f"
          },
          "geo": {
           "bgcolor": "white",
           "lakecolor": "white",
           "landcolor": "#E5ECF6",
           "showlakes": true,
           "showland": true,
           "subunitcolor": "white"
          },
          "hoverlabel": {
           "align": "left"
          },
          "hovermode": "closest",
          "mapbox": {
           "style": "light"
          },
          "paper_bgcolor": "white",
          "plot_bgcolor": "#E5ECF6",
          "polar": {
           "angularaxis": {
            "gridcolor": "white",
            "linecolor": "white",
            "ticks": ""
           },
           "bgcolor": "#E5ECF6",
           "radialaxis": {
            "gridcolor": "white",
            "linecolor": "white",
            "ticks": ""
           }
          },
          "scene": {
           "xaxis": {
            "backgroundcolor": "#E5ECF6",
            "gridcolor": "white",
            "gridwidth": 2,
            "linecolor": "white",
            "showbackground": true,
            "ticks": "",
            "zerolinecolor": "white"
           },
           "yaxis": {
            "backgroundcolor": "#E5ECF6",
            "gridcolor": "white",
            "gridwidth": 2,
            "linecolor": "white",
            "showbackground": true,
            "ticks": "",
            "zerolinecolor": "white"
           },
           "zaxis": {
            "backgroundcolor": "#E5ECF6",
            "gridcolor": "white",
            "gridwidth": 2,
            "linecolor": "white",
            "showbackground": true,
            "ticks": "",
            "zerolinecolor": "white"
           }
          },
          "shapedefaults": {
           "line": {
            "color": "#2a3f5f"
           }
          },
          "ternary": {
           "aaxis": {
            "gridcolor": "white",
            "linecolor": "white",
            "ticks": ""
           },
           "baxis": {
            "gridcolor": "white",
            "linecolor": "white",
            "ticks": ""
           },
           "bgcolor": "#E5ECF6",
           "caxis": {
            "gridcolor": "white",
            "linecolor": "white",
            "ticks": ""
           }
          },
          "title": {
           "x": 0.05
          },
          "xaxis": {
           "automargin": true,
           "gridcolor": "white",
           "linecolor": "white",
           "ticks": "",
           "title": {
            "standoff": 15
           },
           "zerolinecolor": "white",
           "zerolinewidth": 2
          },
          "yaxis": {
           "automargin": true,
           "gridcolor": "white",
           "linecolor": "white",
           "ticks": "",
           "title": {
            "standoff": 15
           },
           "zerolinecolor": "white",
           "zerolinewidth": 2
          }
         }
        },
        "xaxis": {
         "autorange": true,
         "range": [
          -11.846137830522592,
          213.8461378305226
         ],
         "type": "linear"
        },
        "yaxis": {
         "autorange": true,
         "range": [
          0.33265549574459347,
          0.46039775983181763
         ],
         "type": "linear"
        }
       }
      },
      "image/png": "[encoded data removed]",
      "text/html": [
       "<div>                            <div id=\"9466a602-907d-43b0-a67b-0e07f741562d\" class=\"plotly-graph-div\" style=\"height:525px; width:100%;\"></div>            <script type=\"text/javascript\">                require([\"plotly\"], function(Plotly) {                    window.PLOTLYENV=window.PLOTLYENV || {};                                    if (document.getElementById(\"9466a602-907d-43b0-a67b-0e07f741562d\")) {                    Plotly.newPlot(                        \"9466a602-907d-43b0-a67b-0e07f741562d\",                        [{\"name\":\"Scores\",\"type\":\"scatter\",\"x\":[1,26,51,76,101,126,151,176,201],\"y\":[0.3417039061174385,0.38337750381339636,0.4400744589099817,0.4513493494589726,0.4474538366718189,0.41033283198414927,0.39750473038948464,0.3783745746184822,0.3534520929728467]},{\"name\":\"Reference point\",\"type\":\"scatter\",\"x\":[76,76,76,76,76,76,76,76,76,76,76,76,76,76,76,76,76,76,76,76,76,76,76,76,76,76,76,76,76,76,76,76,76,76,76,76,76,76,76,76,76,76,76,76,76,76,76,76,76,76,76,76,76,76,76,76,76,76,76,76,76,76,76,76,76,76,76,76,76,76,76,76,76,76,76,76,76,76,76,76,76,76,76,76,76,76,76,76,76,76,76,76,76,76,76,76,76,76,76,76],\"y\":[0.3417039061174385,0.3428114358481611,0.34391896557888363,0.3450264953096062,0.34613402504032875,0.34724155477105134,0.34834908450177393,0.34945661423249647,0.35056414396321905,0.3516716736939416,0.3527792034246642,0.3538867331553867,0.3549942628861093,0.3561017926168319,0.3572093223475544,0.358316852078277,0.35942438180899955,0.36053191153972214,0.36163944127044473,0.36274697100116726,0.36385450073188985,0.3649620304626124,0.366069560193335,0.3671770899240575,0.3682846196547801,0.3693921493855027,0.3704996791162252,0.3716072088469478,0.37271473857767035,0.37382226830839294,0.3749297980391155,0.37603732776983806,0.37714485750056065,0.3782523872312832,0.37935991696200577,0.38046744669272836,0.3815749764234509,0.3826825061541735,0.383790035884896,0.3848975656156186,0.3860050953463412,0.38711262507706373,0.3882201548077863,0.38932768453850886,0.39043521426923145,0.391542743999954,0.39265027373067657,0.3937578034613991,0.3948653331921217,0.3959728629228443,0.3970803926535668,0.3981879223842894,0.39929545211501194,0.40040298184573453,0.4015105115764571,0.40261804130717965,0.40372557103790224,0.4048331007686248,0.40594063049934737,0.40704816023006996,0.4081556899607925,0.4092632196915151,0.4103707494222376,0.4114782791529602,0.4125858088836828,0.4136933386144053,0.4148008683451279,0.41590839807585045,0.41701592780657304,0.41812345753729563,0.41923098726801816,0.4203385169987407,0.4214460467294633,0.4225535764601859,0.4236611061909084,0.424768635921631,0.42587616565235353,0.4269836953830761,0.4280912251137987,0.42919875484452125,0.43030628457524384,0.43141381430596637,0.43252134403668896,0.43362887376741155,0.4347364034981341,0.4358439332288567,0.4369514629595792,0.4380589926903018,0.4391665224210244,0.4402740521517469,0.4413815818824695,0.44248911161319204,0.44359664134391463,0.4447041710746372,0.44581170080535976,0.44691923053608235,0.4480267602668049,0.44913428999752747,0.45024181972825006,0.4513493494589726]}],                        {\"template\":{\"data\":{\"bar\":[{\"error_x\":{\"color\":\"#2a3f5f\"},\"error_y\":{\"color\":\"#2a3f5f\"},\"marker\":{\"line\":{\"color\":\"#E5ECF6\",\"width\":0.5},\"pattern\":{\"fillmode\":\"overlay\",\"size\":10,\"solidity\":0.2}},\"type\":\"bar\"}],\"barpolar\":[{\"marker\":{\"line\":{\"color\":\"#E5ECF6\",\"width\":0.5},\"pattern\":{\"fillmode\":\"overlay\",\"size\":10,\"solidity\":0.2}},\"type\":\"barpolar\"}],\"carpet\":[{\"aaxis\":{\"endlinecolor\":\"#2a3f5f\",\"gridcolor\":\"white\",\"linecolor\":\"white\",\"minorgridcolor\":\"white\",\"startlinecolor\":\"#2a3f5f\"},\"baxis\":{\"endlinecolor\":\"#2a3f5f\",\"gridcolor\":\"white\",\"linecolor\":\"white\",\"minorgridcolor\":\"white\",\"startlinecolor\":\"#2a3f5f\"},\"type\":\"carpet\"}],\"choropleth\":[{\"colorbar\":{\"outlinewidth\":0,\"ticks\":\"\"},\"type\":\"choropleth\"}],\"contour\":[{\"colorbar\":{\"outlinewidth\":0,\"ticks\":\"\"},\"colorscale\":[[0.0,\"#0d0887\"],[0.1111111111111111,\"#46039f\"],[0.2222222222222222,\"#7201a8\"],[0.3333333333333333,\"#9c179e\"],[0.4444444444444444,\"#bd3786\"],[0.5555555555555556,\"#d8576b\"],[0.6666666666666666,\"#ed7953\"],[0.7777777777777778,\"#fb9f3a\"],[0.8888888888888888,\"#fdca26\"],[1.0,\"#f0f921\"]],\"type\":\"contour\"}],\"contourcarpet\":[{\"colorbar\":{\"outlinewidth\":0,\"ticks\":\"\"},\"type\":\"contourcarpet\"}],\"heatmap\":[{\"colorbar\":{\"outlinewidth\":0,\"ticks\":\"\"},\"colorscale\":[[0.0,\"#0d0887\"],[0.1111111111111111,\"#46039f\"],[0.2222222222222222,\"#7201a8\"],[0.3333333333333333,\"#9c179e\"],[0.4444444444444444,\"#bd3786\"],[0.5555555555555556,\"#d8576b\"],[0.6666666666666666,\"#ed7953\"],[0.7777777777777778,\"#fb9f3a\"],[0.8888888888888888,\"#fdca26\"],[1.0,\"#f0f921\"]],\"type\":\"heatmap\"}],\"heatmapgl\":[{\"colorbar\":{\"outlinewidth\":0,\"ticks\":\"\"},\"colorscale\":[[0.0,\"#0d0887\"],[0.1111111111111111,\"#46039f\"],[0.2222222222222222,\"#7201a8\"],[0.3333333333333333,\"#9c179e\"],[0.4444444444444444,\"#bd3786\"],[0.5555555555555556,\"#d8576b\"],[0.6666666666666666,\"#ed7953\"],[0.7777777777777778,\"#fb9f3a\"],[0.8888888888888888,\"#fdca26\"],[1.0,\"#f0f921\"]],\"type\":\"heatmapgl\"}],\"histogram\":[{\"marker\":{\"pattern\":{\"fillmode\":\"overlay\",\"size\":10,\"solidity\":0.2}},\"type\":\"histogram\"}],\"histogram2d\":[{\"colorbar\":{\"outlinewidth\":0,\"ticks\":\"\"},\"colorscale\":[[0.0,\"#0d0887\"],[0.1111111111111111,\"#46039f\"],[0.2222222222222222,\"#7201a8\"],[0.3333333333333333,\"#9c179e\"],[0.4444444444444444,\"#bd3786\"],[0.5555555555555556,\"#d8576b\"],[0.6666666666666666,\"#ed7953\"],[0.7777777777777778,\"#fb9f3a\"],[0.8888888888888888,\"#fdca26\"],[1.0,\"#f0f921\"]],\"type\":\"histogram2d\"}],\"histogram2dcontour\":[{\"colorbar\":{\"outlinewidth\":0,\"ticks\":\"\"},\"colorscale\":[[0.0,\"#0d0887\"],[0.1111111111111111,\"#46039f\"],[0.2222222222222222,\"#7201a8\"],[0.3333333333333333,\"#9c179e\"],[0.4444444444444444,\"#bd3786\"],[0.5555555555555556,\"#d8576b\"],[0.6666666666666666,\"#ed7953\"],[0.7777777777777778,\"#fb9f3a\"],[0.8888888888888888,\"#fdca26\"],[1.0,\"#f0f921\"]],\"type\":\"histogram2dcontour\"}],\"mesh3d\":[{\"colorbar\":{\"outlinewidth\":0,\"ticks\":\"\"},\"type\":\"mesh3d\"}],\"parcoords\":[{\"line\":{\"colorbar\":{\"outlinewidth\":0,\"ticks\":\"\"}},\"type\":\"parcoords\"}],\"pie\":[{\"automargin\":true,\"type\":\"pie\"}],\"scatter\":[{\"marker\":{\"colorbar\":{\"outlinewidth\":0,\"ticks\":\"\"}},\"type\":\"scatter\"}],\"scatter3d\":[{\"line\":{\"colorbar\":{\"outlinewidth\":0,\"ticks\":\"\"}},\"marker\":{\"colorbar\":{\"outlinewidth\":0,\"ticks\":\"\"}},\"type\":\"scatter3d\"}],\"scattercarpet\":[{\"marker\":{\"colorbar\":{\"outlinewidth\":0,\"ticks\":\"\"}},\"type\":\"scattercarpet\"}],\"scattergeo\":[{\"marker\":{\"colorbar\":{\"outlinewidth\":0,\"ticks\":\"\"}},\"type\":\"scattergeo\"}],\"scattergl\":[{\"marker\":{\"colorbar\":{\"outlinewidth\":0,\"ticks\":\"\"}},\"type\":\"scattergl\"}],\"scattermapbox\":[{\"marker\":{\"colorbar\":{\"outlinewidth\":0,\"ticks\":\"\"}},\"type\":\"scattermapbox\"}],\"scatterpolar\":[{\"marker\":{\"colorbar\":{\"outlinewidth\":0,\"ticks\":\"\"}},\"type\":\"scatterpolar\"}],\"scatterpolargl\":[{\"marker\":{\"colorbar\":{\"outlinewidth\":0,\"ticks\":\"\"}},\"type\":\"scatterpolargl\"}],\"scatterternary\":[{\"marker\":{\"colorbar\":{\"outlinewidth\":0,\"ticks\":\"\"}},\"type\":\"scatterternary\"}],\"surface\":[{\"colorbar\":{\"outlinewidth\":0,\"ticks\":\"\"},\"colorscale\":[[0.0,\"#0d0887\"],[0.1111111111111111,\"#46039f\"],[0.2222222222222222,\"#7201a8\"],[0.3333333333333333,\"#9c179e\"],[0.4444444444444444,\"#bd3786\"],[0.5555555555555556,\"#d8576b\"],[0.6666666666666666,\"#ed7953\"],[0.7777777777777778,\"#fb9f3a\"],[0.8888888888888888,\"#fdca26\"],[1.0,\"#f0f921\"]],\"type\":\"surface\"}],\"table\":[{\"cells\":{\"fill\":{\"color\":\"#EBF0F8\"},\"line\":{\"color\":\"white\"}},\"header\":{\"fill\":{\"color\":\"#C8D4E3\"},\"line\":{\"color\":\"white\"}},\"type\":\"table\"}]},\"layout\":{\"annotationdefaults\":{\"arrowcolor\":\"#2a3f5f\",\"arrowhead\":0,\"arrowwidth\":1},\"autotypenumbers\":\"strict\",\"coloraxis\":{\"colorbar\":{\"outlinewidth\":0,\"ticks\":\"\"}},\"colorscale\":{\"diverging\":[[0,\"#8e0152\"],[0.1,\"#c51b7d\"],[0.2,\"#de77ae\"],[0.3,\"#f1b6da\"],[0.4,\"#fde0ef\"],[0.5,\"#f7f7f7\"],[0.6,\"#e6f5d0\"],[0.7,\"#b8e186\"],[0.8,\"#7fbc41\"],[0.9,\"#4d9221\"],[1,\"#276419\"]],\"sequential\":[[0.0,\"#0d0887\"],[0.1111111111111111,\"#46039f\"],[0.2222222222222222,\"#7201a8\"],[0.3333333333333333,\"#9c179e\"],[0.4444444444444444,\"#bd3786\"],[0.5555555555555556,\"#d8576b\"],[0.6666666666666666,\"#ed7953\"],[0.7777777777777778,\"#fb9f3a\"],[0.8888888888888888,\"#fdca26\"],[1.0,\"#f0f921\"]],\"sequentialminus\":[[0.0,\"#0d0887\"],[0.1111111111111111,\"#46039f\"],[0.2222222222222222,\"#7201a8\"],[0.3333333333333333,\"#9c179e\"],[0.4444444444444444,\"#bd3786\"],[0.5555555555555556,\"#d8576b\"],[0.6666666666666666,\"#ed7953\"],[0.7777777777777778,\"#fb9f3a\"],[0.8888888888888888,\"#fdca26\"],[1.0,\"#f0f921\"]]},\"colorway\":[\"#636efa\",\"#EF553B\",\"#00cc96\",\"#ab63fa\",\"#FFA15A\",\"#19d3f3\",\"#FF6692\",\"#B6E880\",\"#FF97FF\",\"#FECB52\"],\"font\":{\"color\":\"#2a3f5f\"},\"geo\":{\"bgcolor\":\"white\",\"lakecolor\":\"white\",\"landcolor\":\"#E5ECF6\",\"showlakes\":true,\"showland\":true,\"subunitcolor\":\"white\"},\"hoverlabel\":{\"align\":\"left\"},\"hovermode\":\"closest\",\"mapbox\":{\"style\":\"light\"},\"paper_bgcolor\":\"white\",\"plot_bgcolor\":\"#E5ECF6\",\"polar\":{\"angularaxis\":{\"gridcolor\":\"white\",\"linecolor\":\"white\",\"ticks\":\"\"},\"bgcolor\":\"#E5ECF6\",\"radialaxis\":{\"gridcolor\":\"white\",\"linecolor\":\"white\",\"ticks\":\"\"}},\"scene\":{\"xaxis\":{\"backgroundcolor\":\"#E5ECF6\",\"gridcolor\":\"white\",\"gridwidth\":2,\"linecolor\":\"white\",\"showbackground\":true,\"ticks\":\"\",\"zerolinecolor\":\"white\"},\"yaxis\":{\"backgroundcolor\":\"#E5ECF6\",\"gridcolor\":\"white\",\"gridwidth\":2,\"linecolor\":\"white\",\"showbackground\":true,\"ticks\":\"\",\"zerolinecolor\":\"white\"},\"zaxis\":{\"backgroundcolor\":\"#E5ECF6\",\"gridcolor\":\"white\",\"gridwidth\":2,\"linecolor\":\"white\",\"showbackground\":true,\"ticks\":\"\",\"zerolinecolor\":\"white\"}},\"shapedefaults\":{\"line\":{\"color\":\"#2a3f5f\"}},\"ternary\":{\"aaxis\":{\"gridcolor\":\"white\",\"linecolor\":\"white\",\"ticks\":\"\"},\"baxis\":{\"gridcolor\":\"white\",\"linecolor\":\"white\",\"ticks\":\"\"},\"bgcolor\":\"#E5ECF6\",\"caxis\":{\"gridcolor\":\"white\",\"linecolor\":\"white\",\"ticks\":\"\"}},\"title\":{\"x\":0.05},\"xaxis\":{\"automargin\":true,\"gridcolor\":\"white\",\"linecolor\":\"white\",\"ticks\":\"\",\"title\":{\"standoff\":15},\"zerolinecolor\":\"white\",\"zerolinewidth\":2},\"yaxis\":{\"automargin\":true,\"gridcolor\":\"white\",\"linecolor\":\"white\",\"ticks\":\"\",\"title\":{\"standoff\":15},\"zerolinecolor\":\"white\",\"zerolinewidth\":2}}}},                        {\"responsive\": true}                    ).then(function(){\n",
       "                            \n",
       "var gd = document.getElementById('9466a602-907d-43b0-a67b-0e07f741562d');\n",
       "var x = new MutationObserver(function (mutations, observer) {{\n",
       "        var display = window.getComputedStyle(gd).display;\n",
       "        if (!display || display === 'none') {{\n",
       "            console.log([gd, 'removed!']);\n",
       "            Plotly.purge(gd);\n",
       "            observer.disconnect();\n",
       "        }}\n",
       "}});\n",
       "\n",
       "// Listen for the removal of the full notebook cells\n",
       "var notebookContainer = gd.closest('#notebook-container');\n",
       "if (notebookContainer) {{\n",
       "    x.observe(notebookContainer, {childList: true});\n",
       "}}\n",
       "\n",
       "// Listen for the clearing of the current output cell\n",
       "var outputEl = gd.closest('.output');\n",
       "if (outputEl) {{\n",
       "    x.observe(outputEl, {childList: true});\n",
       "}}\n",
       "\n",
       "                        })                };                });            </script>        </div>"
      ]
     },
     "metadata": {},
     "output_type": "display_data"
    }
   ],
   "source": [
    "no_topics_par = 76\n",
    "no_topics_email = 976\n",
    "\n",
    "plot_topic_scores(par_scores,reference = 76)\n",
    "#plot_topic_scores(email_scores,reference = 976)\n",
    "\n",
    "\n",
    "#par_model = extract_model(par_scores, no_topics_par)\n",
    "#email_model = extract_model(email_scores, no_topics_email)\n",
    "\n",
    "#print(par_model)\n",
    "#print(email_model)"
   ]
  },
  {
   "cell_type": "code",
   "execution_count": 65,
   "id": "70f52205-aa1f-4201-97fd-26ea601a3635",
   "metadata": {
    "collapsed": true,
    "execution": {
     "iopub.execute_input": "2021-11-12T07:40:34.152032Z",
     "iopub.status.busy": "2021-11-12T07:40:34.151329Z",
     "iopub.status.idle": "2021-11-12T07:41:09.850611Z",
     "shell.execute_reply": "2021-11-12T07:41:09.848261Z",
     "shell.execute_reply.started": "2021-11-12T07:40:34.151996Z"
    },
    "jupyter": {
     "outputs_hidden": true
    },
    "tags": []
   },
   "outputs": [
    {
     "name": "stdout",
     "output_type": "stream",
     "text": [
      "(1, 0.3417039061174385, <gensim.models.ldamodel.LdaModel object at 0x13365ed30>)\n",
      "stored_models_experiment3/paragraph_1\n",
      "(26, 0.38337750381339636, <gensim.models.ldamodel.LdaModel object at 0x13365eb50>)\n",
      "stored_models_experiment3/paragraph_26\n",
      "(51, 0.4400744589099817, <gensim.models.ldamodel.LdaModel object at 0x122d2f0d0>)\n",
      "stored_models_experiment3/paragraph_51\n",
      "(76, 0.4513493494589726, <gensim.models.ldamodel.LdaModel object at 0x12303a670>)\n",
      "stored_models_experiment3/paragraph_76\n",
      "(101, 0.4474538366718189, <gensim.models.ldamodel.LdaModel object at 0x12b2a1fd0>)\n",
      "stored_models_experiment3/paragraph_101\n",
      "(126, 0.41033283198414927, <gensim.models.ldamodel.LdaModel object at 0x1295e0f70>)\n",
      "stored_models_experiment3/paragraph_126\n",
      "(151, 0.39750473038948464, <gensim.models.ldamodel.LdaModel object at 0x123003040>)\n",
      "stored_models_experiment3/paragraph_151\n",
      "(176, 0.3783745746184822, <gensim.models.ldamodel.LdaModel object at 0x12905dfd0>)\n",
      "stored_models_experiment3/paragraph_176\n",
      "(201, 0.3534520929728467, <gensim.models.ldamodel.LdaModel object at 0x129b4cfd0>)\n",
      "stored_models_experiment3/paragraph_201\n",
      "(1, 0.3070067857776808, <gensim.models.ldamodel.LdaModel object at 0x12966bfd0>)\n",
      "stored_models_experiment3/full_email_1\n",
      "(26, 0.43616286261128245, <gensim.models.ldamodel.LdaModel object at 0x129aa5f40>)\n",
      "stored_models_experiment3/full_email_26\n",
      "(51, 0.392303393511134, <gensim.models.ldamodel.LdaModel object at 0x12b2a1370>)\n",
      "stored_models_experiment3/full_email_51\n",
      "(76, 0.3934183383622391, <gensim.models.ldamodel.LdaModel object at 0x1237450a0>)\n",
      "stored_models_experiment3/full_email_76\n",
      "(101, 0.4045623233278173, <gensim.models.ldamodel.LdaModel object at 0x12966bb20>)\n",
      "stored_models_experiment3/full_email_101\n",
      "(126, 0.4137859589042409, <gensim.models.ldamodel.LdaModel object at 0x1349cccd0>)\n",
      "stored_models_experiment3/full_email_126\n",
      "(151, 0.39872103980992724, <gensim.models.ldamodel.LdaModel object at 0x123003520>)\n",
      "stored_models_experiment3/full_email_151\n",
      "(176, 0.4050887623514004, <gensim.models.ldamodel.LdaModel object at 0x122681fd0>)\n",
      "stored_models_experiment3/full_email_176\n",
      "(201, 0.4009210698280644, <gensim.models.ldamodel.LdaModel object at 0x124560d00>)\n",
      "stored_models_experiment3/full_email_201\n",
      "(226, 0.41198590409625685, <gensim.models.ldamodel.LdaModel object at 0x122fb8910>)\n",
      "stored_models_experiment3/full_email_226\n",
      "(251, 0.4110607938033775, <gensim.models.ldamodel.LdaModel object at 0x129a77b80>)\n",
      "stored_models_experiment3/full_email_251\n",
      "(276, 0.42138068090645847, <gensim.models.ldamodel.LdaModel object at 0x12304b0a0>)\n",
      "stored_models_experiment3/full_email_276\n",
      "(301, 0.41976435615672564, <gensim.models.ldamodel.LdaModel object at 0x12ca8a370>)\n",
      "stored_models_experiment3/full_email_301\n",
      "(326, 0.4241381981838037, <gensim.models.ldamodel.LdaModel object at 0x133879040>)\n",
      "stored_models_experiment3/full_email_326\n",
      "(351, 0.420776511768858, <gensim.models.ldamodel.LdaModel object at 0x1299f7b80>)\n",
      "stored_models_experiment3/full_email_351\n",
      "(376, 0.4193513336124334, <gensim.models.ldamodel.LdaModel object at 0x133b3fc10>)\n",
      "stored_models_experiment3/full_email_376\n",
      "(401, 0.43384865794540767, <gensim.models.ldamodel.LdaModel object at 0x1346a1040>)\n",
      "stored_models_experiment3/full_email_401\n",
      "(426, 0.4273522888006585, <gensim.models.ldamodel.LdaModel object at 0x134361070>)\n",
      "stored_models_experiment3/full_email_426\n",
      "(451, 0.4375978153599853, <gensim.models.ldamodel.LdaModel object at 0x13323e040>)\n",
      "stored_models_experiment3/full_email_451\n",
      "(476, 0.43606956030151856, <gensim.models.ldamodel.LdaModel object at 0x130273040>)\n",
      "stored_models_experiment3/full_email_476\n",
      "(501, 0.4356394688715333, <gensim.models.ldamodel.LdaModel object at 0x135839700>)\n",
      "stored_models_experiment3/full_email_501\n",
      "(526, 0.4286071804975969, <gensim.models.ldamodel.LdaModel object at 0x1211fa640>)\n",
      "stored_models_experiment3/full_email_526\n",
      "(551, 0.4491846970183166, <gensim.models.ldamodel.LdaModel object at 0x1357100d0>)\n",
      "stored_models_experiment3/full_email_551\n",
      "(576, 0.4310515382851173, <gensim.models.ldamodel.LdaModel object at 0x135c9d2e0>)\n",
      "stored_models_experiment3/full_email_576\n",
      "(601, 0.43965126855138925, <gensim.models.ldamodel.LdaModel object at 0x135b63fa0>)\n",
      "stored_models_experiment3/full_email_601\n",
      "(626, 0.4358674276109783, <gensim.models.ldamodel.LdaModel object at 0x130288670>)\n",
      "stored_models_experiment3/full_email_626\n",
      "(651, 0.4389454881159515, <gensim.models.ldamodel.LdaModel object at 0x135ea6fd0>)\n",
      "stored_models_experiment3/full_email_651\n",
      "(676, 0.4400655200234686, <gensim.models.ldamodel.LdaModel object at 0x1358e3040>)\n",
      "stored_models_experiment3/full_email_676\n",
      "(701, 0.4385180196365415, <gensim.models.ldamodel.LdaModel object at 0x131c8b040>)\n",
      "stored_models_experiment3/full_email_701\n",
      "(726, 0.4314512448944999, <gensim.models.ldamodel.LdaModel object at 0x12d9604c0>)\n",
      "stored_models_experiment3/full_email_726\n",
      "(751, 0.44139308738023303, <gensim.models.ldamodel.LdaModel object at 0x136b96550>)\n",
      "stored_models_experiment3/full_email_751\n",
      "(776, 0.43798770186051833, <gensim.models.ldamodel.LdaModel object at 0x1350221f0>)\n",
      "stored_models_experiment3/full_email_776\n",
      "(801, 0.4425415503140649, <gensim.models.ldamodel.LdaModel object at 0x1344eb6a0>)\n",
      "stored_models_experiment3/full_email_801\n",
      "(826, 0.44168734933896897, <gensim.models.ldamodel.LdaModel object at 0x1330b5f10>)\n",
      "stored_models_experiment3/full_email_826\n",
      "(851, 0.4469538409359904, <gensim.models.ldamodel.LdaModel object at 0x1349d2310>)\n",
      "stored_models_experiment3/full_email_851\n",
      "(876, 0.4479325175055728, <gensim.models.ldamodel.LdaModel object at 0x135897460>)\n",
      "stored_models_experiment3/full_email_876\n",
      "(901, 0.44782760810882266, <gensim.models.ldamodel.LdaModel object at 0x133a70040>)\n",
      "stored_models_experiment3/full_email_901\n",
      "(926, 0.4462233401195467, <gensim.models.ldamodel.LdaModel object at 0x133d73970>)\n",
      "stored_models_experiment3/full_email_926\n",
      "(951, 0.4364822053377383, <gensim.models.ldamodel.LdaModel object at 0x136eb7a00>)\n",
      "stored_models_experiment3/full_email_951\n",
      "(976, 0.4554753892867113, <gensim.models.ldamodel.LdaModel object at 0x136a762b0>)\n",
      "stored_models_experiment3/full_email_976\n",
      "(1001, 0.4527323962641541, <gensim.models.ldamodel.LdaModel object at 0x133b47f10>)\n",
      "stored_models_experiment3/full_email_1001\n",
      "(1026, 0.4436331731384339, <gensim.models.ldamodel.LdaModel object at 0x13701e040>)\n",
      "stored_models_experiment3/full_email_1026\n",
      "(1051, 0.44870696321871756, <gensim.models.ldamodel.LdaModel object at 0x135cab460>)\n",
      "stored_models_experiment3/full_email_1051\n",
      "(1076, 0.43867815438724195, <gensim.models.ldamodel.LdaModel object at 0x1346b4040>)\n",
      "stored_models_experiment3/full_email_1076\n",
      "(1101, 0.4478301799273507, <gensim.models.ldamodel.LdaModel object at 0x1352d8550>)\n",
      "stored_models_experiment3/full_email_1101\n",
      "(1126, 0.43946946919476804, <gensim.models.ldamodel.LdaModel object at 0x13685dfa0>)\n",
      "stored_models_experiment3/full_email_1126\n",
      "(1151, 0.441240456201346, <gensim.models.ldamodel.LdaModel object at 0x1370ab550>)\n",
      "stored_models_experiment3/full_email_1151\n",
      "(1176, 0.44544895439494336, <gensim.models.ldamodel.LdaModel object at 0x12d1a2040>)\n",
      "stored_models_experiment3/full_email_1176\n",
      "(1201, 0.43439672535615564, <gensim.models.ldamodel.LdaModel object at 0x1362c5c10>)\n",
      "stored_models_experiment3/full_email_1201\n",
      "(1226, 0.43720396434822734, <gensim.models.ldamodel.LdaModel object at 0x1362f5070>)\n",
      "stored_models_experiment3/full_email_1226\n",
      "(1251, 0.438025380995991, <gensim.models.ldamodel.LdaModel object at 0x137128040>)\n",
      "stored_models_experiment3/full_email_1251\n",
      "(1276, 0.43709484105718244, <gensim.models.ldamodel.LdaModel object at 0x1362ba970>)\n",
      "stored_models_experiment3/full_email_1276\n",
      "(1301, 0.43603064636184763, <gensim.models.ldamodel.LdaModel object at 0x136c78a00>)\n",
      "stored_models_experiment3/full_email_1301\n",
      "(1326, 0.43337558677632393, <gensim.models.ldamodel.LdaModel object at 0x136cc7a90>)\n",
      "stored_models_experiment3/full_email_1326\n",
      "(1351, 0.43888262820369545, <gensim.models.ldamodel.LdaModel object at 0x130aa0040>)\n",
      "stored_models_experiment3/full_email_1351\n",
      "(1376, 0.4399394103674175, <gensim.models.ldamodel.LdaModel object at 0x137b5b3d0>)\n",
      "stored_models_experiment3/full_email_1376\n",
      "(1401, 0.4334937283085399, <gensim.models.ldamodel.LdaModel object at 0x137057040>)\n",
      "stored_models_experiment3/full_email_1401\n",
      "(1426, 0.4342722771740036, <gensim.models.ldamodel.LdaModel object at 0x1344aafa0>)\n",
      "stored_models_experiment3/full_email_1426\n",
      "(1451, 0.4322012923012075, <gensim.models.ldamodel.LdaModel object at 0x130f2dfa0>)\n",
      "stored_models_experiment3/full_email_1451\n",
      "(1476, 0.4355741299837756, <gensim.models.ldamodel.LdaModel object at 0x12f868910>)\n",
      "stored_models_experiment3/full_email_1476\n",
      "(1501, 0.43744370465929866, <gensim.models.ldamodel.LdaModel object at 0x1332d1fd0>)\n",
      "stored_models_experiment3/full_email_1501\n"
     ]
    }
   ],
   "source": [
    "\n",
    "#store_scored_models(par_scores, 'stored_models_experiment3/','paragraph_')\n",
    "#store_scored_models(email_scores, 'stored_models_experiment3/','full_email_')\n",
    "\n"
   ]
  },
  {
   "cell_type": "code",
   "execution_count": 34,
   "id": "7cf54da0-0ca5-4673-a336-493481ab0260",
   "metadata": {
    "execution": {
     "iopub.execute_input": "2021-11-12T09:55:17.730491Z",
     "iopub.status.busy": "2021-11-12T09:55:17.729876Z",
     "iopub.status.idle": "2021-11-12T09:59:56.827606Z",
     "shell.execute_reply": "2021-11-12T09:59:56.825855Z",
     "shell.execute_reply.started": "2021-11-12T09:55:17.730443Z"
    },
    "tags": []
   },
   "outputs": [
    {
     "name": "stdout",
     "output_type": "stream",
     "text": [
      "Loading model: stored_models_experiment3/paragraph_76\n",
      "Scoring model\n",
      "Model score: 0.4513493494589726\n",
      "\n",
      "Loading model: stored_models_experiment3/full_email_976\n",
      "Scoring model\n",
      "Model score: 0.4554753892867113\n",
      "\n",
      "(76, 0.4513493494589726, <gensim.models.ldamodel.LdaModel object at 0x123123850>)\n",
      "(976, 0.4554753892867113, <gensim.models.ldamodel.LdaModel object at 0x123c36040>)\n"
     ]
    }
   ],
   "source": [
    "no_topics_par = 76\n",
    "no_topics_email = 976\n",
    "\n",
    "par_model = load_scored_model('stored_models_experiment3/','paragraph_', no_topics_par, par_texts, par_dictionary)    \n",
    "email_model = load_scored_model('stored_models_experiment3/','full_email_', no_topics_email, email_texts, email_dictionary)    \n",
    "\n",
    "\n",
    "print(par_model)\n",
    "print(email_model)\n"
   ]
  },
  {
   "cell_type": "code",
   "execution_count": 236,
   "id": "84eb8bdc-5ec2-45a3-9c13-d2f9b00ce4df",
   "metadata": {
    "execution": {
     "iopub.execute_input": "2021-11-13T11:17:34.133607Z",
     "iopub.status.busy": "2021-11-13T11:17:34.132752Z",
     "iopub.status.idle": "2021-11-13T11:17:34.632436Z",
     "shell.execute_reply": "2021-11-13T11:17:34.631134Z",
     "shell.execute_reply.started": "2021-11-13T11:17:34.133528Z"
    },
    "tags": []
   },
   "outputs": [],
   "source": [
    "# Select a query email and score it.\n",
    "\n",
    "# Build a list of 10 query email filenames\n",
    "query_filenames = []\n",
    "par_query_scores = []\n",
    "email_query_scores = []\n",
    "for filenumber in range(1,11):\n",
    "    query_filenames.append(os.path.join(multex_subdir,'Multex_' + str(filenumber) + '.json'))\n",
    "\n",
    "\n",
    "#Load and score the ten emails\n",
    "for query_email_filename in query_filenames:\n",
    "    par_query_score = score_query(query_email_filename, par_model, par_dictionary)\n",
    "    email_query_score = score_query(query_email_filename, email_model, email_dictionary)\n",
    "    par_query_scores.append(par_query_score)\n",
    "    email_query_scores.append(email_query_score)\n",
    "\n",
    "\n",
    "query_email_filename = os.path.join(multex_subdir,'Multex_1.json')\n",
    "\n",
    "par_query_score = score_query(query_email_filename, par_model, par_dictionary)\n",
    "email_query_score = score_query(query_email_filename, email_model, email_dictionary)\n",
    "\n",
    "#par_query_score = par_query_scores[0]\n",
    "email_query_score = email_query_scores[0]\n",
    "par_query_score = par_query_scores[0]\n",
    "\n",
    "#query_email_filename = os.path.join(multex_subdir,'Multex_1.json')\n",
    "\n",
    "#par_query_score = score_query(query_email_filename, par_model, par_dictionary)\n",
    "#email_query_score = score_query(query_email_filename, email_model, email_dictionary)\n",
    "\n",
    "\n"
   ]
  },
  {
   "cell_type": "code",
   "execution_count": 237,
   "id": "fae5fd32-5fac-44a6-8160-e1b3af51855d",
   "metadata": {
    "execution": {
     "iopub.execute_input": "2021-11-13T11:18:06.548768Z",
     "iopub.status.busy": "2021-11-13T11:18:06.548089Z",
     "iopub.status.idle": "2021-11-13T11:23:56.418005Z",
     "shell.execute_reply": "2021-11-13T11:23:56.415571Z",
     "shell.execute_reply.started": "2021-11-13T11:18:06.548724Z"
    },
    "tags": []
   },
   "outputs": [
    {
     "name": "stdout",
     "output_type": "stream",
     "text": [
      "Model: email - Document: email\n"
     ]
    },
    {
     "name": "stderr",
     "output_type": "stream",
     "text": [
      "100%|███████████████████████████████████████| 3183/3183 [00:32<00:00, 97.88it/s]\n"
     ]
    },
    {
     "name": "stdout",
     "output_type": "stream",
     "text": [
      "Model: email - Document: paragraphs\n"
     ]
    },
    {
     "name": "stderr",
     "output_type": "stream",
     "text": [
      "100%|████████████████████████████████████| 30015/30015 [04:33<00:00, 109.60it/s]\n"
     ]
    },
    {
     "name": "stdout",
     "output_type": "stream",
     "text": [
      "Model: paragraphs - Document: email\n"
     ]
    },
    {
     "name": "stderr",
     "output_type": "stream",
     "text": [
      "100%|██████████████████████████████████████| 3183/3183 [00:09<00:00, 330.60it/s]\n"
     ]
    },
    {
     "name": "stdout",
     "output_type": "stream",
     "text": [
      "Model: paragraphs - Document: paragraphs\n"
     ]
    },
    {
     "name": "stderr",
     "output_type": "stream",
     "text": [
      "100%|████████████████████████████████████| 30015/30015 [00:33<00:00, 889.37it/s]\n"
     ]
    }
   ],
   "source": [
    "\n",
    "print('Model: email - Document: email')\n",
    "ranked_emails_email_email,file_mapping_email_email  = score_mails(email_model, email_query_score, email_dictionary, email_texts, email_files)\n",
    "\n",
    "print('Model: email - Document: paragraphs')\n",
    "ranked_emails_email_par,file_mapping_email_par  = score_mails(email_model, email_query_score, email_dictionary, par_texts, par_files)\n",
    "\n",
    "print('Model: paragraphs - Document: email')\n",
    "ranked_emails_par_email,file_mapping_par_email  = score_mails(par_model, par_query_score, par_dictionary, email_texts, email_files)\n",
    "\n",
    "print('Model: paragraphs - Document: paragraphs')\n",
    "ranked_emails_par_par,file_mapping_par_par  = score_mails(par_model, par_query_score, par_dictionary, par_texts, par_files)\n",
    "\n"
   ]
  },
  {
   "cell_type": "code",
   "execution_count": 245,
   "id": "90bd0362-4645-4b69-a334-c3f7f5e0e500",
   "metadata": {
    "execution": {
     "iopub.execute_input": "2021-11-13T13:32:10.748275Z",
     "iopub.status.busy": "2021-11-13T13:32:10.747797Z",
     "iopub.status.idle": "2021-11-13T13:32:10.821739Z",
     "shell.execute_reply": "2021-11-13T13:32:10.820042Z",
     "shell.execute_reply.started": "2021-11-13T13:32:10.748243Z"
    },
    "tags": []
   },
   "outputs": [
    {
     "name": "stdout",
     "output_type": "stream",
     "text": [
      "Model: Email ---- Document definition: Email\n",
      "--------------------------------------------\n",
      "Top:  10\n",
      "Total number of results returned 10\n",
      "Relevant:  8 Non-relevant:  2\n",
      "Precision:  0.8\n",
      "Recall :  0.053691275167785234\n",
      "\n",
      "Top:  20\n",
      "Total number of results returned 20\n",
      "Relevant:  15 Non-relevant:  5\n",
      "Precision:  0.75\n",
      "Recall :  0.10067114093959731\n",
      "\n",
      "Top:  30\n",
      "Total number of results returned 30\n",
      "Relevant:  25 Non-relevant:  5\n",
      "Precision:  0.8333333333333334\n",
      "Recall :  0.16778523489932887\n",
      "\n",
      "Top:  50\n",
      "Total number of results returned 50\n",
      "Relevant:  43 Non-relevant:  7\n",
      "Precision:  0.86\n",
      "Recall :  0.28859060402684567\n",
      "\n",
      "Top:  5000\n",
      "Total number of results returned 112\n",
      "Relevant:  99 Non-relevant:  13\n",
      "Precision:  0.8839285714285714\n",
      "Recall :  0.6644295302013423\n",
      "\n",
      "New Method\n",
      "Total number of results returned 112\n",
      "Relevant:  99 Non-relevant:  13\n",
      "Precision:  0.8839285714285714\n",
      "Recall :  0.6644295302013423\n",
      "\n",
      "----------------------------------------------------------\n",
      "Model: Email ---- Document definition: Paragraphs\n",
      "-------------------------------------------------\n",
      "Top:  10\n",
      "Total number of results returned 10\n",
      "Relevant:  10 Non-relevant:  0\n",
      "Precision:  1.0\n",
      "Recall :  0.06711409395973154\n",
      "\n",
      "Top:  20\n",
      "Total number of results returned 20\n",
      "Relevant:  20 Non-relevant:  0\n",
      "Precision:  1.0\n",
      "Recall :  0.1342281879194631\n",
      "\n",
      "Top:  30\n",
      "Total number of results returned 30\n",
      "Relevant:  30 Non-relevant:  0\n",
      "Precision:  1.0\n",
      "Recall :  0.20134228187919462\n",
      "\n",
      "Top:  50\n",
      "Total number of results returned 50\n",
      "Relevant:  46 Non-relevant:  4\n",
      "Precision:  0.92\n",
      "Recall :  0.3087248322147651\n",
      "\n",
      "Top:  5000\n",
      "Total number of results returned 139\n",
      "Relevant:  122 Non-relevant:  17\n",
      "Precision:  0.8776978417266187\n",
      "Recall :  0.8187919463087249\n",
      "\n",
      "Model: Paragraphs ---- Document definition: Email\n",
      "-------------------------------------------------\n",
      "Top:  10\n",
      "Total number of results returned 10\n",
      "Relevant:  10 Non-relevant:  0\n",
      "Precision:  1.0\n",
      "Recall :  0.06711409395973154\n",
      "\n",
      "Top:  20\n",
      "Total number of results returned 20\n",
      "Relevant:  19 Non-relevant:  1\n",
      "Precision:  0.95\n",
      "Recall :  0.12751677852348994\n",
      "\n",
      "Top:  30\n",
      "Total number of results returned 30\n",
      "Relevant:  27 Non-relevant:  3\n",
      "Precision:  0.9\n",
      "Recall :  0.18120805369127516\n",
      "\n",
      "Top:  50\n",
      "Total number of results returned 50\n",
      "Relevant:  47 Non-relevant:  3\n",
      "Precision:  0.94\n",
      "Recall :  0.31543624161073824\n",
      "\n",
      "Top:  5000\n",
      "Total number of results returned 3183\n",
      "Relevant:  149 Non-relevant:  3034\n",
      "Precision:  0.04681118441721646\n",
      "Recall :  1.0\n",
      "\n",
      "Model: Paragraphs ---- Document definition: Paragraphs\n",
      "------------------------------------------------------\n",
      "Top:  10\n",
      "Total number of results returned 10\n",
      "Relevant:  9 Non-relevant:  1\n",
      "Precision:  0.9\n",
      "Recall :  0.06040268456375839\n",
      "\n",
      "Top:  20\n",
      "Total number of results returned 20\n",
      "Relevant:  14 Non-relevant:  6\n",
      "Precision:  0.7\n",
      "Recall :  0.09395973154362416\n",
      "\n",
      "Top:  30\n",
      "Total number of results returned 30\n",
      "Relevant:  20 Non-relevant:  10\n",
      "Precision:  0.6666666666666666\n",
      "Recall :  0.1342281879194631\n",
      "\n",
      "Top:  50\n",
      "Total number of results returned 50\n",
      "Relevant:  37 Non-relevant:  13\n",
      "Precision:  0.74\n",
      "Recall :  0.2483221476510067\n",
      "\n",
      "Top:  5000\n",
      "Total number of results returned 2886\n",
      "Relevant:  149 Non-relevant:  2737\n",
      "Precision:  0.05162855162855163\n",
      "Recall :  1.0\n",
      "\n"
     ]
    }
   ],
   "source": [
    "total_relevant = 149\n",
    "top_n = [10,20,30,50,5000]\n",
    "\n",
    "print('Model: Email ---- Document definition: Email')\n",
    "print('--------------------------------------------')\n",
    "for top in top_n:\n",
    "    print('Top: ',top)\n",
    "    top_results = extract_top_results(ranked_emails_email_email, file_mapping_email_email, top)\n",
    "    relevant,non_relevant = calculate_correct_hits(top_results,'Multex')\n",
    "    printStats(relevant, non_relevant, total_relevant, top_results)\n",
    "    \n",
    "    \n",
    "print('Model: Email ---- Document definition: Paragraphs')\n",
    "print('-------------------------------------------------')\n",
    "for top in top_n:\n",
    "    print('Top: ',top)\n",
    "    top_results = extract_top_results(ranked_emails_email_par, file_mapping_email_par, top)\n",
    "    relevant,non_relevant = calculate_correct_hits(top_results,'Multex')\n",
    "    printStats(relevant, non_relevant, total_relevant, top_results)\n",
    "\n",
    "\n",
    "\n",
    "\n",
    "print('Model: Paragraphs ---- Document definition: Email')\n",
    "print('-------------------------------------------------')\n",
    "for top in top_n:\n",
    "    print('Top: ',top)\n",
    "    top_results = extract_top_results(ranked_emails_par_email, file_mapping_par_email, top)\n",
    "    relevant,non_relevant = calculate_correct_hits(top_results,'Multex')\n",
    "    printStats(relevant, non_relevant, total_relevant, top_results)\n",
    "\n",
    "\n",
    "\n",
    "\n",
    "print('Model: Paragraphs ---- Document definition: Paragraphs')\n",
    "print('------------------------------------------------------')\n",
    "for top in top_n:\n",
    "    print('Top: ',top)\n",
    "    top_results = extract_top_results(ranked_emails_par_par, file_mapping_par_par, top)\n",
    "    relevant,non_relevant = calculate_correct_hits(top_results,'Multex')\n",
    "    printStats(relevant, non_relevant, total_relevant, top_results)\n",
    "\n",
    "\n",
    "#################################################################\n",
    "\n",
    "\n",
    "\n"
   ]
  },
  {
   "cell_type": "markdown",
   "id": "01867eac-13b3-4f2b-94a5-48ae78d73149",
   "metadata": {},
   "source": [
    "Precision, also called completeness, is the ratio of relevant documents retrieved to the total number of records. Recall, also called exactness, is the fraction of relevant documents retrieved to the total number of relevant documents.\n",
    "\n",
    "R = number of relevant records retrieved relative to the query.\n",
    "N = number of non-relevant records deemed relevant by the retrieval system relative to the query.\n",
    "M = number of relevant records missed during the retrieval relevant to the query.\n",
    "\n",
    "Precision = R / (R + N)\n",
    "Recall = R / (R + M)\n"
   ]
  },
  {
   "cell_type": "code",
   "execution_count": 260,
   "id": "7632034c-c2fd-4db6-ba4f-00ea24be460b",
   "metadata": {
    "execution": {
     "iopub.execute_input": "2021-11-13T15:48:54.754491Z",
     "iopub.status.busy": "2021-11-13T15:48:54.753049Z",
     "iopub.status.idle": "2021-11-13T15:48:55.483641Z",
     "shell.execute_reply": "2021-11-13T15:48:55.476492Z",
     "shell.execute_reply.started": "2021-11-13T15:48:54.754448Z"
    },
    "tags": []
   },
   "outputs": [
    {
     "data": {
      "application/vnd.plotly.v1+json": {
       "config": {
        "plotlyServerURL": "https://plot.ly"
       },
       "data": [
        {
         "name": "Precision",
         "type": "scatter",
         "x": [
          10,
          20,
          30,
          40,
          50,
          60,
          70,
          80,
          90,
          100,
          110,
          120,
          130,
          140,
          150,
          160,
          170,
          180,
          190,
          200,
          210,
          220,
          230,
          240,
          250,
          260,
          270,
          280,
          290,
          300,
          310,
          320,
          330,
          340,
          350,
          360,
          370,
          380,
          390,
          400,
          410,
          420,
          430,
          440,
          450,
          460,
          470,
          480,
          490
         ],
         "y": [
          0.8,
          0.75,
          0.8333333333333334,
          0.825,
          0.86,
          0.8666666666666667,
          0.8571428571428571,
          0.875,
          0.8777777777777778,
          0.88,
          0.8818181818181818,
          0.8839285714285714,
          0.8839285714285714,
          0.8839285714285714,
          0.8839285714285714,
          0.8839285714285714,
          0.8839285714285714,
          0.8839285714285714,
          0.8839285714285714,
          0.8839285714285714,
          0.8839285714285714,
          0.8839285714285714,
          0.8839285714285714,
          0.8839285714285714,
          0.8839285714285714,
          0.8839285714285714,
          0.8839285714285714,
          0.8839285714285714,
          0.8839285714285714,
          0.8839285714285714,
          0.8839285714285714,
          0.8839285714285714,
          0.8839285714285714,
          0.8839285714285714,
          0.8839285714285714,
          0.8839285714285714,
          0.8839285714285714,
          0.8839285714285714,
          0.8839285714285714,
          0.8839285714285714,
          0.8839285714285714,
          0.8839285714285714,
          0.8839285714285714,
          0.8839285714285714,
          0.8839285714285714,
          0.8839285714285714,
          0.8839285714285714,
          0.8839285714285714,
          0.8839285714285714
         ]
        },
        {
         "name": "Recall",
         "type": "scatter",
         "x": [
          10,
          20,
          30,
          40,
          50,
          60,
          70,
          80,
          90,
          100,
          110,
          120,
          130,
          140,
          150,
          160,
          170,
          180,
          190,
          200,
          210,
          220,
          230,
          240,
          250,
          260,
          270,
          280,
          290,
          300,
          310,
          320,
          330,
          340,
          350,
          360,
          370,
          380,
          390,
          400,
          410,
          420,
          430,
          440,
          450,
          460,
          470,
          480,
          490
         ],
         "y": [
          0.053691275167785234,
          0.10067114093959731,
          0.16778523489932887,
          0.2214765100671141,
          0.28859060402684567,
          0.348993288590604,
          0.40268456375838924,
          0.4697986577181208,
          0.5302013422818792,
          0.5906040268456376,
          0.6510067114093959,
          0.6644295302013423,
          0.6644295302013423,
          0.6644295302013423,
          0.6644295302013423,
          0.6644295302013423,
          0.6644295302013423,
          0.6644295302013423,
          0.6644295302013423,
          0.6644295302013423,
          0.6644295302013423,
          0.6644295302013423,
          0.6644295302013423,
          0.6644295302013423,
          0.6644295302013423,
          0.6644295302013423,
          0.6644295302013423,
          0.6644295302013423,
          0.6644295302013423,
          0.6644295302013423,
          0.6644295302013423,
          0.6644295302013423,
          0.6644295302013423,
          0.6644295302013423,
          0.6644295302013423,
          0.6644295302013423,
          0.6644295302013423,
          0.6644295302013423,
          0.6644295302013423,
          0.6644295302013423,
          0.6644295302013423,
          0.6644295302013423,
          0.6644295302013423,
          0.6644295302013423,
          0.6644295302013423,
          0.6644295302013423,
          0.6644295302013423,
          0.6644295302013423,
          0.6644295302013423
         ]
        }
       ],
       "layout": {
        "autosize": true,
        "font": {
         "family": "Arial"
        },
        "legend": {
         "title": {
          "text": "Score Type"
         }
        },
        "template": {
         "data": {
          "bar": [
           {
            "error_x": {
             "color": "#2a3f5f"
            },
            "error_y": {
             "color": "#2a3f5f"
            },
            "marker": {
             "line": {
              "color": "#E5ECF6",
              "width": 0.5
             },
             "pattern": {
              "fillmode": "overlay",
              "size": 10,
              "solidity": 0.2
             }
            },
            "type": "bar"
           }
          ],
          "barpolar": [
           {
            "marker": {
             "line": {
              "color": "#E5ECF6",
              "width": 0.5
             },
             "pattern": {
              "fillmode": "overlay",
              "size": 10,
              "solidity": 0.2
             }
            },
            "type": "barpolar"
           }
          ],
          "carpet": [
           {
            "aaxis": {
             "endlinecolor": "#2a3f5f",
             "gridcolor": "white",
             "linecolor": "white",
             "minorgridcolor": "white",
             "startlinecolor": "#2a3f5f"
            },
            "baxis": {
             "endlinecolor": "#2a3f5f",
             "gridcolor": "white",
             "linecolor": "white",
             "minorgridcolor": "white",
             "startlinecolor": "#2a3f5f"
            },
            "type": "carpet"
           }
          ],
          "choropleth": [
           {
            "colorbar": {
             "outlinewidth": 0,
             "ticks": ""
            },
            "type": "choropleth"
           }
          ],
          "contour": [
           {
            "colorbar": {
             "outlinewidth": 0,
             "ticks": ""
            },
            "colorscale": [
             [
              0,
              "#0d0887"
             ],
             [
              0.1111111111111111,
              "#46039f"
             ],
             [
              0.2222222222222222,
              "#7201a8"
             ],
             [
              0.3333333333333333,
              "#9c179e"
             ],
             [
              0.4444444444444444,
              "#bd3786"
             ],
             [
              0.5555555555555556,
              "#d8576b"
             ],
             [
              0.6666666666666666,
              "#ed7953"
             ],
             [
              0.7777777777777778,
              "#fb9f3a"
             ],
             [
              0.8888888888888888,
              "#fdca26"
             ],
             [
              1,
              "#f0f921"
             ]
            ],
            "type": "contour"
           }
          ],
          "contourcarpet": [
           {
            "colorbar": {
             "outlinewidth": 0,
             "ticks": ""
            },
            "type": "contourcarpet"
           }
          ],
          "heatmap": [
           {
            "colorbar": {
             "outlinewidth": 0,
             "ticks": ""
            },
            "colorscale": [
             [
              0,
              "#0d0887"
             ],
             [
              0.1111111111111111,
              "#46039f"
             ],
             [
              0.2222222222222222,
              "#7201a8"
             ],
             [
              0.3333333333333333,
              "#9c179e"
             ],
             [
              0.4444444444444444,
              "#bd3786"
             ],
             [
              0.5555555555555556,
              "#d8576b"
             ],
             [
              0.6666666666666666,
              "#ed7953"
             ],
             [
              0.7777777777777778,
              "#fb9f3a"
             ],
             [
              0.8888888888888888,
              "#fdca26"
             ],
             [
              1,
              "#f0f921"
             ]
            ],
            "type": "heatmap"
           }
          ],
          "heatmapgl": [
           {
            "colorbar": {
             "outlinewidth": 0,
             "ticks": ""
            },
            "colorscale": [
             [
              0,
              "#0d0887"
             ],
             [
              0.1111111111111111,
              "#46039f"
             ],
             [
              0.2222222222222222,
              "#7201a8"
             ],
             [
              0.3333333333333333,
              "#9c179e"
             ],
             [
              0.4444444444444444,
              "#bd3786"
             ],
             [
              0.5555555555555556,
              "#d8576b"
             ],
             [
              0.6666666666666666,
              "#ed7953"
             ],
             [
              0.7777777777777778,
              "#fb9f3a"
             ],
             [
              0.8888888888888888,
              "#fdca26"
             ],
             [
              1,
              "#f0f921"
             ]
            ],
            "type": "heatmapgl"
           }
          ],
          "histogram": [
           {
            "marker": {
             "pattern": {
              "fillmode": "overlay",
              "size": 10,
              "solidity": 0.2
             }
            },
            "type": "histogram"
           }
          ],
          "histogram2d": [
           {
            "colorbar": {
             "outlinewidth": 0,
             "ticks": ""
            },
            "colorscale": [
             [
              0,
              "#0d0887"
             ],
             [
              0.1111111111111111,
              "#46039f"
             ],
             [
              0.2222222222222222,
              "#7201a8"
             ],
             [
              0.3333333333333333,
              "#9c179e"
             ],
             [
              0.4444444444444444,
              "#bd3786"
             ],
             [
              0.5555555555555556,
              "#d8576b"
             ],
             [
              0.6666666666666666,
              "#ed7953"
             ],
             [
              0.7777777777777778,
              "#fb9f3a"
             ],
             [
              0.8888888888888888,
              "#fdca26"
             ],
             [
              1,
              "#f0f921"
             ]
            ],
            "type": "histogram2d"
           }
          ],
          "histogram2dcontour": [
           {
            "colorbar": {
             "outlinewidth": 0,
             "ticks": ""
            },
            "colorscale": [
             [
              0,
              "#0d0887"
             ],
             [
              0.1111111111111111,
              "#46039f"
             ],
             [
              0.2222222222222222,
              "#7201a8"
             ],
             [
              0.3333333333333333,
              "#9c179e"
             ],
             [
              0.4444444444444444,
              "#bd3786"
             ],
             [
              0.5555555555555556,
              "#d8576b"
             ],
             [
              0.6666666666666666,
              "#ed7953"
             ],
             [
              0.7777777777777778,
              "#fb9f3a"
             ],
             [
              0.8888888888888888,
              "#fdca26"
             ],
             [
              1,
              "#f0f921"
             ]
            ],
            "type": "histogram2dcontour"
           }
          ],
          "mesh3d": [
           {
            "colorbar": {
             "outlinewidth": 0,
             "ticks": ""
            },
            "type": "mesh3d"
           }
          ],
          "parcoords": [
           {
            "line": {
             "colorbar": {
              "outlinewidth": 0,
              "ticks": ""
             }
            },
            "type": "parcoords"
           }
          ],
          "pie": [
           {
            "automargin": true,
            "type": "pie"
           }
          ],
          "scatter": [
           {
            "marker": {
             "colorbar": {
              "outlinewidth": 0,
              "ticks": ""
             }
            },
            "type": "scatter"
           }
          ],
          "scatter3d": [
           {
            "line": {
             "colorbar": {
              "outlinewidth": 0,
              "ticks": ""
             }
            },
            "marker": {
             "colorbar": {
              "outlinewidth": 0,
              "ticks": ""
             }
            },
            "type": "scatter3d"
           }
          ],
          "scattercarpet": [
           {
            "marker": {
             "colorbar": {
              "outlinewidth": 0,
              "ticks": ""
             }
            },
            "type": "scattercarpet"
           }
          ],
          "scattergeo": [
           {
            "marker": {
             "colorbar": {
              "outlinewidth": 0,
              "ticks": ""
             }
            },
            "type": "scattergeo"
           }
          ],
          "scattergl": [
           {
            "marker": {
             "colorbar": {
              "outlinewidth": 0,
              "ticks": ""
             }
            },
            "type": "scattergl"
           }
          ],
          "scattermapbox": [
           {
            "marker": {
             "colorbar": {
              "outlinewidth": 0,
              "ticks": ""
             }
            },
            "type": "scattermapbox"
           }
          ],
          "scatterpolar": [
           {
            "marker": {
             "colorbar": {
              "outlinewidth": 0,
              "ticks": ""
             }
            },
            "type": "scatterpolar"
           }
          ],
          "scatterpolargl": [
           {
            "marker": {
             "colorbar": {
              "outlinewidth": 0,
              "ticks": ""
             }
            },
            "type": "scatterpolargl"
           }
          ],
          "scatterternary": [
           {
            "marker": {
             "colorbar": {
              "outlinewidth": 0,
              "ticks": ""
             }
            },
            "type": "scatterternary"
           }
          ],
          "surface": [
           {
            "colorbar": {
             "outlinewidth": 0,
             "ticks": ""
            },
            "colorscale": [
             [
              0,
              "#0d0887"
             ],
             [
              0.1111111111111111,
              "#46039f"
             ],
             [
              0.2222222222222222,
              "#7201a8"
             ],
             [
              0.3333333333333333,
              "#9c179e"
             ],
             [
              0.4444444444444444,
              "#bd3786"
             ],
             [
              0.5555555555555556,
              "#d8576b"
             ],
             [
              0.6666666666666666,
              "#ed7953"
             ],
             [
              0.7777777777777778,
              "#fb9f3a"
             ],
             [
              0.8888888888888888,
              "#fdca26"
             ],
             [
              1,
              "#f0f921"
             ]
            ],
            "type": "surface"
           }
          ],
          "table": [
           {
            "cells": {
             "fill": {
              "color": "#EBF0F8"
             },
             "line": {
              "color": "white"
             }
            },
            "header": {
             "fill": {
              "color": "#C8D4E3"
             },
             "line": {
              "color": "white"
             }
            },
            "type": "table"
           }
          ]
         },
         "layout": {
          "annotationdefaults": {
           "arrowcolor": "#2a3f5f",
           "arrowhead": 0,
           "arrowwidth": 1
          },
          "autotypenumbers": "strict",
          "coloraxis": {
           "colorbar": {
            "outlinewidth": 0,
            "ticks": ""
           }
          },
          "colorscale": {
           "diverging": [
            [
             0,
             "#8e0152"
            ],
            [
             0.1,
             "#c51b7d"
            ],
            [
             0.2,
             "#de77ae"
            ],
            [
             0.3,
             "#f1b6da"
            ],
            [
             0.4,
             "#fde0ef"
            ],
            [
             0.5,
             "#f7f7f7"
            ],
            [
             0.6,
             "#e6f5d0"
            ],
            [
             0.7,
             "#b8e186"
            ],
            [
             0.8,
             "#7fbc41"
            ],
            [
             0.9,
             "#4d9221"
            ],
            [
             1,
             "#276419"
            ]
           ],
           "sequential": [
            [
             0,
             "#0d0887"
            ],
            [
             0.1111111111111111,
             "#46039f"
            ],
            [
             0.2222222222222222,
             "#7201a8"
            ],
            [
             0.3333333333333333,
             "#9c179e"
            ],
            [
             0.4444444444444444,
             "#bd3786"
            ],
            [
             0.5555555555555556,
             "#d8576b"
            ],
            [
             0.6666666666666666,
             "#ed7953"
            ],
            [
             0.7777777777777778,
             "#fb9f3a"
            ],
            [
             0.8888888888888888,
             "#fdca26"
            ],
            [
             1,
             "#f0f921"
            ]
           ],
           "sequentialminus": [
            [
             0,
             "#0d0887"
            ],
            [
             0.1111111111111111,
             "#46039f"
            ],
            [
             0.2222222222222222,
             "#7201a8"
            ],
            [
             0.3333333333333333,
             "#9c179e"
            ],
            [
             0.4444444444444444,
             "#bd3786"
            ],
            [
             0.5555555555555556,
             "#d8576b"
            ],
            [
             0.6666666666666666,
             "#ed7953"
            ],
            [
             0.7777777777777778,
             "#fb9f3a"
            ],
            [
             0.8888888888888888,
             "#fdca26"
            ],
            [
             1,
             "#f0f921"
            ]
           ]
          },
          "colorway": [
           "#636efa",
           "#EF553B",
           "#00cc96",
           "#ab63fa",
           "#FFA15A",
           "#19d3f3",
           "#FF6692",
           "#B6E880",
           "#FF97FF",
           "#FECB52"
          ],
          "font": {
           "color": "#2a3f5f"
          },
          "geo": {
           "bgcolor": "white",
           "lakecolor": "white",
           "landcolor": "#E5ECF6",
           "showlakes": true,
           "showland": true,
           "subunitcolor": "white"
          },
          "hoverlabel": {
           "align": "left"
          },
          "hovermode": "closest",
          "mapbox": {
           "style": "light"
          },
          "paper_bgcolor": "white",
          "plot_bgcolor": "#E5ECF6",
          "polar": {
           "angularaxis": {
            "gridcolor": "white",
            "linecolor": "white",
            "ticks": ""
           },
           "bgcolor": "#E5ECF6",
           "radialaxis": {
            "gridcolor": "white",
            "linecolor": "white",
            "ticks": ""
           }
          },
          "scene": {
           "xaxis": {
            "backgroundcolor": "#E5ECF6",
            "gridcolor": "white",
            "gridwidth": 2,
            "linecolor": "white",
            "showbackground": true,
            "ticks": "",
            "zerolinecolor": "white"
           },
           "yaxis": {
            "backgroundcolor": "#E5ECF6",
            "gridcolor": "white",
            "gridwidth": 2,
            "linecolor": "white",
            "showbackground": true,
            "ticks": "",
            "zerolinecolor": "white"
           },
           "zaxis": {
            "backgroundcolor": "#E5ECF6",
            "gridcolor": "white",
            "gridwidth": 2,
            "linecolor": "white",
            "showbackground": true,
            "ticks": "",
            "zerolinecolor": "white"
           }
          },
          "shapedefaults": {
           "line": {
            "color": "#2a3f5f"
           }
          },
          "ternary": {
           "aaxis": {
            "gridcolor": "white",
            "linecolor": "white",
            "ticks": ""
           },
           "baxis": {
            "gridcolor": "white",
            "linecolor": "white",
            "ticks": ""
           },
           "bgcolor": "#E5ECF6",
           "caxis": {
            "gridcolor": "white",
            "linecolor": "white",
            "ticks": ""
           }
          },
          "title": {
           "x": 0.05
          },
          "xaxis": {
           "automargin": true,
           "gridcolor": "white",
           "linecolor": "white",
           "ticks": "",
           "title": {
            "standoff": 15
           },
           "zerolinecolor": "white",
           "zerolinewidth": 2
          },
          "yaxis": {
           "automargin": true,
           "gridcolor": "white",
           "linecolor": "white",
           "ticks": "",
           "title": {
            "standoff": 15
           },
           "zerolinecolor": "white",
           "zerolinewidth": 2
          }
         }
        },
        "title": {
         "text": "Model: Email, Email scores: Email",
         "x": 0.5,
         "xanchor": "center",
         "y": 0.9,
         "yanchor": "top"
        },
        "xaxis": {
         "autorange": true,
         "range": [
          10,
          490
         ],
         "title": {
          "text": "Top results"
         },
         "type": "linear"
        },
        "yaxis": {
         "autorange": true,
         "range": [
          0.007566980931074892,
          0.9300528656652818
         ],
         "title": {
          "text": ""
         },
         "type": "linear"
        }
       }
      },
      "image/png": "[encoded data removed]",
      "text/html": [
       "<div>                            <div id=\"af9e61ce-9288-4263-98e3-27a0c43c61ed\" class=\"plotly-graph-div\" style=\"height:525px; width:100%;\"></div>            <script type=\"text/javascript\">                require([\"plotly\"], function(Plotly) {                    window.PLOTLYENV=window.PLOTLYENV || {};                                    if (document.getElementById(\"af9e61ce-9288-4263-98e3-27a0c43c61ed\")) {                    Plotly.newPlot(                        \"af9e61ce-9288-4263-98e3-27a0c43c61ed\",                        [{\"name\":\"Precision\",\"type\":\"scatter\",\"x\":[10,20,30,40,50,60,70,80,90,100,110,120,130,140,150,160,170,180,190,200,210,220,230,240,250,260,270,280,290,300,310,320,330,340,350,360,370,380,390,400,410,420,430,440,450,460,470,480,490],\"y\":[0.8,0.75,0.8333333333333334,0.825,0.86,0.8666666666666667,0.8571428571428571,0.875,0.8777777777777778,0.88,0.8818181818181818,0.8839285714285714,0.8839285714285714,0.8839285714285714,0.8839285714285714,0.8839285714285714,0.8839285714285714,0.8839285714285714,0.8839285714285714,0.8839285714285714,0.8839285714285714,0.8839285714285714,0.8839285714285714,0.8839285714285714,0.8839285714285714,0.8839285714285714,0.8839285714285714,0.8839285714285714,0.8839285714285714,0.8839285714285714,0.8839285714285714,0.8839285714285714,0.8839285714285714,0.8839285714285714,0.8839285714285714,0.8839285714285714,0.8839285714285714,0.8839285714285714,0.8839285714285714,0.8839285714285714,0.8839285714285714,0.8839285714285714,0.8839285714285714,0.8839285714285714,0.8839285714285714,0.8839285714285714,0.8839285714285714,0.8839285714285714,0.8839285714285714]},{\"name\":\"Recall\",\"type\":\"scatter\",\"x\":[10,20,30,40,50,60,70,80,90,100,110,120,130,140,150,160,170,180,190,200,210,220,230,240,250,260,270,280,290,300,310,320,330,340,350,360,370,380,390,400,410,420,430,440,450,460,470,480,490],\"y\":[0.053691275167785234,0.10067114093959731,0.16778523489932887,0.2214765100671141,0.28859060402684567,0.348993288590604,0.40268456375838924,0.4697986577181208,0.5302013422818792,0.5906040268456376,0.6510067114093959,0.6644295302013423,0.6644295302013423,0.6644295302013423,0.6644295302013423,0.6644295302013423,0.6644295302013423,0.6644295302013423,0.6644295302013423,0.6644295302013423,0.6644295302013423,0.6644295302013423,0.6644295302013423,0.6644295302013423,0.6644295302013423,0.6644295302013423,0.6644295302013423,0.6644295302013423,0.6644295302013423,0.6644295302013423,0.6644295302013423,0.6644295302013423,0.6644295302013423,0.6644295302013423,0.6644295302013423,0.6644295302013423,0.6644295302013423,0.6644295302013423,0.6644295302013423,0.6644295302013423,0.6644295302013423,0.6644295302013423,0.6644295302013423,0.6644295302013423,0.6644295302013423,0.6644295302013423,0.6644295302013423,0.6644295302013423,0.6644295302013423]}],                        {\"font\":{\"family\":\"Arial\"},\"legend\":{\"title\":{\"text\":\"Score Type\"}},\"template\":{\"data\":{\"bar\":[{\"error_x\":{\"color\":\"#2a3f5f\"},\"error_y\":{\"color\":\"#2a3f5f\"},\"marker\":{\"line\":{\"color\":\"#E5ECF6\",\"width\":0.5},\"pattern\":{\"fillmode\":\"overlay\",\"size\":10,\"solidity\":0.2}},\"type\":\"bar\"}],\"barpolar\":[{\"marker\":{\"line\":{\"color\":\"#E5ECF6\",\"width\":0.5},\"pattern\":{\"fillmode\":\"overlay\",\"size\":10,\"solidity\":0.2}},\"type\":\"barpolar\"}],\"carpet\":[{\"aaxis\":{\"endlinecolor\":\"#2a3f5f\",\"gridcolor\":\"white\",\"linecolor\":\"white\",\"minorgridcolor\":\"white\",\"startlinecolor\":\"#2a3f5f\"},\"baxis\":{\"endlinecolor\":\"#2a3f5f\",\"gridcolor\":\"white\",\"linecolor\":\"white\",\"minorgridcolor\":\"white\",\"startlinecolor\":\"#2a3f5f\"},\"type\":\"carpet\"}],\"choropleth\":[{\"colorbar\":{\"outlinewidth\":0,\"ticks\":\"\"},\"type\":\"choropleth\"}],\"contour\":[{\"colorbar\":{\"outlinewidth\":0,\"ticks\":\"\"},\"colorscale\":[[0.0,\"#0d0887\"],[0.1111111111111111,\"#46039f\"],[0.2222222222222222,\"#7201a8\"],[0.3333333333333333,\"#9c179e\"],[0.4444444444444444,\"#bd3786\"],[0.5555555555555556,\"#d8576b\"],[0.6666666666666666,\"#ed7953\"],[0.7777777777777778,\"#fb9f3a\"],[0.8888888888888888,\"#fdca26\"],[1.0,\"#f0f921\"]],\"type\":\"contour\"}],\"contourcarpet\":[{\"colorbar\":{\"outlinewidth\":0,\"ticks\":\"\"},\"type\":\"contourcarpet\"}],\"heatmap\":[{\"colorbar\":{\"outlinewidth\":0,\"ticks\":\"\"},\"colorscale\":[[0.0,\"#0d0887\"],[0.1111111111111111,\"#46039f\"],[0.2222222222222222,\"#7201a8\"],[0.3333333333333333,\"#9c179e\"],[0.4444444444444444,\"#bd3786\"],[0.5555555555555556,\"#d8576b\"],[0.6666666666666666,\"#ed7953\"],[0.7777777777777778,\"#fb9f3a\"],[0.8888888888888888,\"#fdca26\"],[1.0,\"#f0f921\"]],\"type\":\"heatmap\"}],\"heatmapgl\":[{\"colorbar\":{\"outlinewidth\":0,\"ticks\":\"\"},\"colorscale\":[[0.0,\"#0d0887\"],[0.1111111111111111,\"#46039f\"],[0.2222222222222222,\"#7201a8\"],[0.3333333333333333,\"#9c179e\"],[0.4444444444444444,\"#bd3786\"],[0.5555555555555556,\"#d8576b\"],[0.6666666666666666,\"#ed7953\"],[0.7777777777777778,\"#fb9f3a\"],[0.8888888888888888,\"#fdca26\"],[1.0,\"#f0f921\"]],\"type\":\"heatmapgl\"}],\"histogram\":[{\"marker\":{\"pattern\":{\"fillmode\":\"overlay\",\"size\":10,\"solidity\":0.2}},\"type\":\"histogram\"}],\"histogram2d\":[{\"colorbar\":{\"outlinewidth\":0,\"ticks\":\"\"},\"colorscale\":[[0.0,\"#0d0887\"],[0.1111111111111111,\"#46039f\"],[0.2222222222222222,\"#7201a8\"],[0.3333333333333333,\"#9c179e\"],[0.4444444444444444,\"#bd3786\"],[0.5555555555555556,\"#d8576b\"],[0.6666666666666666,\"#ed7953\"],[0.7777777777777778,\"#fb9f3a\"],[0.8888888888888888,\"#fdca26\"],[1.0,\"#f0f921\"]],\"type\":\"histogram2d\"}],\"histogram2dcontour\":[{\"colorbar\":{\"outlinewidth\":0,\"ticks\":\"\"},\"colorscale\":[[0.0,\"#0d0887\"],[0.1111111111111111,\"#46039f\"],[0.2222222222222222,\"#7201a8\"],[0.3333333333333333,\"#9c179e\"],[0.4444444444444444,\"#bd3786\"],[0.5555555555555556,\"#d8576b\"],[0.6666666666666666,\"#ed7953\"],[0.7777777777777778,\"#fb9f3a\"],[0.8888888888888888,\"#fdca26\"],[1.0,\"#f0f921\"]],\"type\":\"histogram2dcontour\"}],\"mesh3d\":[{\"colorbar\":{\"outlinewidth\":0,\"ticks\":\"\"},\"type\":\"mesh3d\"}],\"parcoords\":[{\"line\":{\"colorbar\":{\"outlinewidth\":0,\"ticks\":\"\"}},\"type\":\"parcoords\"}],\"pie\":[{\"automargin\":true,\"type\":\"pie\"}],\"scatter\":[{\"marker\":{\"colorbar\":{\"outlinewidth\":0,\"ticks\":\"\"}},\"type\":\"scatter\"}],\"scatter3d\":[{\"line\":{\"colorbar\":{\"outlinewidth\":0,\"ticks\":\"\"}},\"marker\":{\"colorbar\":{\"outlinewidth\":0,\"ticks\":\"\"}},\"type\":\"scatter3d\"}],\"scattercarpet\":[{\"marker\":{\"colorbar\":{\"outlinewidth\":0,\"ticks\":\"\"}},\"type\":\"scattercarpet\"}],\"scattergeo\":[{\"marker\":{\"colorbar\":{\"outlinewidth\":0,\"ticks\":\"\"}},\"type\":\"scattergeo\"}],\"scattergl\":[{\"marker\":{\"colorbar\":{\"outlinewidth\":0,\"ticks\":\"\"}},\"type\":\"scattergl\"}],\"scattermapbox\":[{\"marker\":{\"colorbar\":{\"outlinewidth\":0,\"ticks\":\"\"}},\"type\":\"scattermapbox\"}],\"scatterpolar\":[{\"marker\":{\"colorbar\":{\"outlinewidth\":0,\"ticks\":\"\"}},\"type\":\"scatterpolar\"}],\"scatterpolargl\":[{\"marker\":{\"colorbar\":{\"outlinewidth\":0,\"ticks\":\"\"}},\"type\":\"scatterpolargl\"}],\"scatterternary\":[{\"marker\":{\"colorbar\":{\"outlinewidth\":0,\"ticks\":\"\"}},\"type\":\"scatterternary\"}],\"surface\":[{\"colorbar\":{\"outlinewidth\":0,\"ticks\":\"\"},\"colorscale\":[[0.0,\"#0d0887\"],[0.1111111111111111,\"#46039f\"],[0.2222222222222222,\"#7201a8\"],[0.3333333333333333,\"#9c179e\"],[0.4444444444444444,\"#bd3786\"],[0.5555555555555556,\"#d8576b\"],[0.6666666666666666,\"#ed7953\"],[0.7777777777777778,\"#fb9f3a\"],[0.8888888888888888,\"#fdca26\"],[1.0,\"#f0f921\"]],\"type\":\"surface\"}],\"table\":[{\"cells\":{\"fill\":{\"color\":\"#EBF0F8\"},\"line\":{\"color\":\"white\"}},\"header\":{\"fill\":{\"color\":\"#C8D4E3\"},\"line\":{\"color\":\"white\"}},\"type\":\"table\"}]},\"layout\":{\"annotationdefaults\":{\"arrowcolor\":\"#2a3f5f\",\"arrowhead\":0,\"arrowwidth\":1},\"autotypenumbers\":\"strict\",\"coloraxis\":{\"colorbar\":{\"outlinewidth\":0,\"ticks\":\"\"}},\"colorscale\":{\"diverging\":[[0,\"#8e0152\"],[0.1,\"#c51b7d\"],[0.2,\"#de77ae\"],[0.3,\"#f1b6da\"],[0.4,\"#fde0ef\"],[0.5,\"#f7f7f7\"],[0.6,\"#e6f5d0\"],[0.7,\"#b8e186\"],[0.8,\"#7fbc41\"],[0.9,\"#4d9221\"],[1,\"#276419\"]],\"sequential\":[[0.0,\"#0d0887\"],[0.1111111111111111,\"#46039f\"],[0.2222222222222222,\"#7201a8\"],[0.3333333333333333,\"#9c179e\"],[0.4444444444444444,\"#bd3786\"],[0.5555555555555556,\"#d8576b\"],[0.6666666666666666,\"#ed7953\"],[0.7777777777777778,\"#fb9f3a\"],[0.8888888888888888,\"#fdca26\"],[1.0,\"#f0f921\"]],\"sequentialminus\":[[0.0,\"#0d0887\"],[0.1111111111111111,\"#46039f\"],[0.2222222222222222,\"#7201a8\"],[0.3333333333333333,\"#9c179e\"],[0.4444444444444444,\"#bd3786\"],[0.5555555555555556,\"#d8576b\"],[0.6666666666666666,\"#ed7953\"],[0.7777777777777778,\"#fb9f3a\"],[0.8888888888888888,\"#fdca26\"],[1.0,\"#f0f921\"]]},\"colorway\":[\"#636efa\",\"#EF553B\",\"#00cc96\",\"#ab63fa\",\"#FFA15A\",\"#19d3f3\",\"#FF6692\",\"#B6E880\",\"#FF97FF\",\"#FECB52\"],\"font\":{\"color\":\"#2a3f5f\"},\"geo\":{\"bgcolor\":\"white\",\"lakecolor\":\"white\",\"landcolor\":\"#E5ECF6\",\"showlakes\":true,\"showland\":true,\"subunitcolor\":\"white\"},\"hoverlabel\":{\"align\":\"left\"},\"hovermode\":\"closest\",\"mapbox\":{\"style\":\"light\"},\"paper_bgcolor\":\"white\",\"plot_bgcolor\":\"#E5ECF6\",\"polar\":{\"angularaxis\":{\"gridcolor\":\"white\",\"linecolor\":\"white\",\"ticks\":\"\"},\"bgcolor\":\"#E5ECF6\",\"radialaxis\":{\"gridcolor\":\"white\",\"linecolor\":\"white\",\"ticks\":\"\"}},\"scene\":{\"xaxis\":{\"backgroundcolor\":\"#E5ECF6\",\"gridcolor\":\"white\",\"gridwidth\":2,\"linecolor\":\"white\",\"showbackground\":true,\"ticks\":\"\",\"zerolinecolor\":\"white\"},\"yaxis\":{\"backgroundcolor\":\"#E5ECF6\",\"gridcolor\":\"white\",\"gridwidth\":2,\"linecolor\":\"white\",\"showbackground\":true,\"ticks\":\"\",\"zerolinecolor\":\"white\"},\"zaxis\":{\"backgroundcolor\":\"#E5ECF6\",\"gridcolor\":\"white\",\"gridwidth\":2,\"linecolor\":\"white\",\"showbackground\":true,\"ticks\":\"\",\"zerolinecolor\":\"white\"}},\"shapedefaults\":{\"line\":{\"color\":\"#2a3f5f\"}},\"ternary\":{\"aaxis\":{\"gridcolor\":\"white\",\"linecolor\":\"white\",\"ticks\":\"\"},\"baxis\":{\"gridcolor\":\"white\",\"linecolor\":\"white\",\"ticks\":\"\"},\"bgcolor\":\"#E5ECF6\",\"caxis\":{\"gridcolor\":\"white\",\"linecolor\":\"white\",\"ticks\":\"\"}},\"title\":{\"x\":0.05},\"xaxis\":{\"automargin\":true,\"gridcolor\":\"white\",\"linecolor\":\"white\",\"ticks\":\"\",\"title\":{\"standoff\":15},\"zerolinecolor\":\"white\",\"zerolinewidth\":2},\"yaxis\":{\"automargin\":true,\"gridcolor\":\"white\",\"linecolor\":\"white\",\"ticks\":\"\",\"title\":{\"standoff\":15},\"zerolinecolor\":\"white\",\"zerolinewidth\":2}}},\"title\":{\"text\":\"Model: Email, Email scores: Email\",\"x\":0.5,\"xanchor\":\"center\",\"y\":0.9,\"yanchor\":\"top\"},\"xaxis\":{\"title\":{\"text\":\"Top results\"}},\"yaxis\":{\"title\":{\"text\":\"\"}}},                        {\"responsive\": true}                    ).then(function(){\n",
       "                            \n",
       "var gd = document.getElementById('af9e61ce-9288-4263-98e3-27a0c43c61ed');\n",
       "var x = new MutationObserver(function (mutations, observer) {{\n",
       "        var display = window.getComputedStyle(gd).display;\n",
       "        if (!display || display === 'none') {{\n",
       "            console.log([gd, 'removed!']);\n",
       "            Plotly.purge(gd);\n",
       "            observer.disconnect();\n",
       "        }}\n",
       "}});\n",
       "\n",
       "// Listen for the removal of the full notebook cells\n",
       "var notebookContainer = gd.closest('#notebook-container');\n",
       "if (notebookContainer) {{\n",
       "    x.observe(notebookContainer, {childList: true});\n",
       "}}\n",
       "\n",
       "// Listen for the clearing of the current output cell\n",
       "var outputEl = gd.closest('.output');\n",
       "if (outputEl) {{\n",
       "    x.observe(outputEl, {childList: true});\n",
       "}}\n",
       "\n",
       "                        })                };                });            </script>        </div>"
      ]
     },
     "metadata": {},
     "output_type": "display_data"
    },
    {
     "data": {
      "application/vnd.plotly.v1+json": {
       "config": {
        "plotlyServerURL": "https://plot.ly"
       },
       "data": [
        {
         "name": "Precision",
         "type": "scatter",
         "x": [
          10,
          20,
          30,
          40,
          50,
          60,
          70,
          80,
          90,
          100,
          110,
          120,
          130,
          140,
          150,
          160,
          170,
          180,
          190,
          200,
          210,
          220,
          230,
          240,
          250,
          260,
          270,
          280,
          290,
          300,
          310,
          320,
          330,
          340,
          350,
          360,
          370,
          380,
          390,
          400,
          410,
          420,
          430,
          440,
          450,
          460,
          470,
          480,
          490
         ],
         "y": [
          1,
          1,
          1,
          1,
          0.92,
          0.9333333333333333,
          0.9142857142857143,
          0.9,
          0.9,
          0.91,
          0.9181818181818182,
          0.9,
          0.9,
          0.8776978417266187,
          0.8776978417266187,
          0.8776978417266187,
          0.8776978417266187,
          0.8776978417266187,
          0.8776978417266187,
          0.8776978417266187,
          0.8776978417266187,
          0.8776978417266187,
          0.8776978417266187,
          0.8776978417266187,
          0.8776978417266187,
          0.8776978417266187,
          0.8776978417266187,
          0.8776978417266187,
          0.8776978417266187,
          0.8776978417266187,
          0.8776978417266187,
          0.8776978417266187,
          0.8776978417266187,
          0.8776978417266187,
          0.8776978417266187,
          0.8776978417266187,
          0.8776978417266187,
          0.8776978417266187,
          0.8776978417266187,
          0.8776978417266187,
          0.8776978417266187,
          0.8776978417266187,
          0.8776978417266187,
          0.8776978417266187,
          0.8776978417266187,
          0.8776978417266187,
          0.8776978417266187,
          0.8776978417266187,
          0.8776978417266187
         ]
        },
        {
         "name": "Recall",
         "type": "scatter",
         "x": [
          10,
          20,
          30,
          40,
          50,
          60,
          70,
          80,
          90,
          100,
          110,
          120,
          130,
          140,
          150,
          160,
          170,
          180,
          190,
          200,
          210,
          220,
          230,
          240,
          250,
          260,
          270,
          280,
          290,
          300,
          310,
          320,
          330,
          340,
          350,
          360,
          370,
          380,
          390,
          400,
          410,
          420,
          430,
          440,
          450,
          460,
          470,
          480,
          490
         ],
         "y": [
          0.06711409395973154,
          0.1342281879194631,
          0.20134228187919462,
          0.2684563758389262,
          0.3087248322147651,
          0.37583892617449666,
          0.42953020134228187,
          0.48322147651006714,
          0.5436241610738255,
          0.610738255033557,
          0.6778523489932886,
          0.7248322147651006,
          0.785234899328859,
          0.8187919463087249,
          0.8187919463087249,
          0.8187919463087249,
          0.8187919463087249,
          0.8187919463087249,
          0.8187919463087249,
          0.8187919463087249,
          0.8187919463087249,
          0.8187919463087249,
          0.8187919463087249,
          0.8187919463087249,
          0.8187919463087249,
          0.8187919463087249,
          0.8187919463087249,
          0.8187919463087249,
          0.8187919463087249,
          0.8187919463087249,
          0.8187919463087249,
          0.8187919463087249,
          0.8187919463087249,
          0.8187919463087249,
          0.8187919463087249,
          0.8187919463087249,
          0.8187919463087249,
          0.8187919463087249,
          0.8187919463087249,
          0.8187919463087249,
          0.8187919463087249,
          0.8187919463087249,
          0.8187919463087249,
          0.8187919463087249,
          0.8187919463087249,
          0.8187919463087249,
          0.8187919463087249,
          0.8187919463087249,
          0.8187919463087249
         ]
        }
       ],
       "layout": {
        "autosize": true,
        "font": {
         "family": "Arial"
        },
        "legend": {
         "title": {
          "text": "Score Type"
         }
        },
        "template": {
         "data": {
          "bar": [
           {
            "error_x": {
             "color": "#2a3f5f"
            },
            "error_y": {
             "color": "#2a3f5f"
            },
            "marker": {
             "line": {
              "color": "#E5ECF6",
              "width": 0.5
             },
             "pattern": {
              "fillmode": "overlay",
              "size": 10,
              "solidity": 0.2
             }
            },
            "type": "bar"
           }
          ],
          "barpolar": [
           {
            "marker": {
             "line": {
              "color": "#E5ECF6",
              "width": 0.5
             },
             "pattern": {
              "fillmode": "overlay",
              "size": 10,
              "solidity": 0.2
             }
            },
            "type": "barpolar"
           }
          ],
          "carpet": [
           {
            "aaxis": {
             "endlinecolor": "#2a3f5f",
             "gridcolor": "white",
             "linecolor": "white",
             "minorgridcolor": "white",
             "startlinecolor": "#2a3f5f"
            },
            "baxis": {
             "endlinecolor": "#2a3f5f",
             "gridcolor": "white",
             "linecolor": "white",
             "minorgridcolor": "white",
             "startlinecolor": "#2a3f5f"
            },
            "type": "carpet"
           }
          ],
          "choropleth": [
           {
            "colorbar": {
             "outlinewidth": 0,
             "ticks": ""
            },
            "type": "choropleth"
           }
          ],
          "contour": [
           {
            "colorbar": {
             "outlinewidth": 0,
             "ticks": ""
            },
            "colorscale": [
             [
              0,
              "#0d0887"
             ],
             [
              0.1111111111111111,
              "#46039f"
             ],
             [
              0.2222222222222222,
              "#7201a8"
             ],
             [
              0.3333333333333333,
              "#9c179e"
             ],
             [
              0.4444444444444444,
              "#bd3786"
             ],
             [
              0.5555555555555556,
              "#d8576b"
             ],
             [
              0.6666666666666666,
              "#ed7953"
             ],
             [
              0.7777777777777778,
              "#fb9f3a"
             ],
             [
              0.8888888888888888,
              "#fdca26"
             ],
             [
              1,
              "#f0f921"
             ]
            ],
            "type": "contour"
           }
          ],
          "contourcarpet": [
           {
            "colorbar": {
             "outlinewidth": 0,
             "ticks": ""
            },
            "type": "contourcarpet"
           }
          ],
          "heatmap": [
           {
            "colorbar": {
             "outlinewidth": 0,
             "ticks": ""
            },
            "colorscale": [
             [
              0,
              "#0d0887"
             ],
             [
              0.1111111111111111,
              "#46039f"
             ],
             [
              0.2222222222222222,
              "#7201a8"
             ],
             [
              0.3333333333333333,
              "#9c179e"
             ],
             [
              0.4444444444444444,
              "#bd3786"
             ],
             [
              0.5555555555555556,
              "#d8576b"
             ],
             [
              0.6666666666666666,
              "#ed7953"
             ],
             [
              0.7777777777777778,
              "#fb9f3a"
             ],
             [
              0.8888888888888888,
              "#fdca26"
             ],
             [
              1,
              "#f0f921"
             ]
            ],
            "type": "heatmap"
           }
          ],
          "heatmapgl": [
           {
            "colorbar": {
             "outlinewidth": 0,
             "ticks": ""
            },
            "colorscale": [
             [
              0,
              "#0d0887"
             ],
             [
              0.1111111111111111,
              "#46039f"
             ],
             [
              0.2222222222222222,
              "#7201a8"
             ],
             [
              0.3333333333333333,
              "#9c179e"
             ],
             [
              0.4444444444444444,
              "#bd3786"
             ],
             [
              0.5555555555555556,
              "#d8576b"
             ],
             [
              0.6666666666666666,
              "#ed7953"
             ],
             [
              0.7777777777777778,
              "#fb9f3a"
             ],
             [
              0.8888888888888888,
              "#fdca26"
             ],
             [
              1,
              "#f0f921"
             ]
            ],
            "type": "heatmapgl"
           }
          ],
          "histogram": [
           {
            "marker": {
             "pattern": {
              "fillmode": "overlay",
              "size": 10,
              "solidity": 0.2
             }
            },
            "type": "histogram"
           }
          ],
          "histogram2d": [
           {
            "colorbar": {
             "outlinewidth": 0,
             "ticks": ""
            },
            "colorscale": [
             [
              0,
              "#0d0887"
             ],
             [
              0.1111111111111111,
              "#46039f"
             ],
             [
              0.2222222222222222,
              "#7201a8"
             ],
             [
              0.3333333333333333,
              "#9c179e"
             ],
             [
              0.4444444444444444,
              "#bd3786"
             ],
             [
              0.5555555555555556,
              "#d8576b"
             ],
             [
              0.6666666666666666,
              "#ed7953"
             ],
             [
              0.7777777777777778,
              "#fb9f3a"
             ],
             [
              0.8888888888888888,
              "#fdca26"
             ],
             [
              1,
              "#f0f921"
             ]
            ],
            "type": "histogram2d"
           }
          ],
          "histogram2dcontour": [
           {
            "colorbar": {
             "outlinewidth": 0,
             "ticks": ""
            },
            "colorscale": [
             [
              0,
              "#0d0887"
             ],
             [
              0.1111111111111111,
              "#46039f"
             ],
             [
              0.2222222222222222,
              "#7201a8"
             ],
             [
              0.3333333333333333,
              "#9c179e"
             ],
             [
              0.4444444444444444,
              "#bd3786"
             ],
             [
              0.5555555555555556,
              "#d8576b"
             ],
             [
              0.6666666666666666,
              "#ed7953"
             ],
             [
              0.7777777777777778,
              "#fb9f3a"
             ],
             [
              0.8888888888888888,
              "#fdca26"
             ],
             [
              1,
              "#f0f921"
             ]
            ],
            "type": "histogram2dcontour"
           }
          ],
          "mesh3d": [
           {
            "colorbar": {
             "outlinewidth": 0,
             "ticks": ""
            },
            "type": "mesh3d"
           }
          ],
          "parcoords": [
           {
            "line": {
             "colorbar": {
              "outlinewidth": 0,
              "ticks": ""
             }
            },
            "type": "parcoords"
           }
          ],
          "pie": [
           {
            "automargin": true,
            "type": "pie"
           }
          ],
          "scatter": [
           {
            "marker": {
             "colorbar": {
              "outlinewidth": 0,
              "ticks": ""
             }
            },
            "type": "scatter"
           }
          ],
          "scatter3d": [
           {
            "line": {
             "colorbar": {
              "outlinewidth": 0,
              "ticks": ""
             }
            },
            "marker": {
             "colorbar": {
              "outlinewidth": 0,
              "ticks": ""
             }
            },
            "type": "scatter3d"
           }
          ],
          "scattercarpet": [
           {
            "marker": {
             "colorbar": {
              "outlinewidth": 0,
              "ticks": ""
             }
            },
            "type": "scattercarpet"
           }
          ],
          "scattergeo": [
           {
            "marker": {
             "colorbar": {
              "outlinewidth": 0,
              "ticks": ""
             }
            },
            "type": "scattergeo"
           }
          ],
          "scattergl": [
           {
            "marker": {
             "colorbar": {
              "outlinewidth": 0,
              "ticks": ""
             }
            },
            "type": "scattergl"
           }
          ],
          "scattermapbox": [
           {
            "marker": {
             "colorbar": {
              "outlinewidth": 0,
              "ticks": ""
             }
            },
            "type": "scattermapbox"
           }
          ],
          "scatterpolar": [
           {
            "marker": {
             "colorbar": {
              "outlinewidth": 0,
              "ticks": ""
             }
            },
            "type": "scatterpolar"
           }
          ],
          "scatterpolargl": [
           {
            "marker": {
             "colorbar": {
              "outlinewidth": 0,
              "ticks": ""
             }
            },
            "type": "scatterpolargl"
           }
          ],
          "scatterternary": [
           {
            "marker": {
             "colorbar": {
              "outlinewidth": 0,
              "ticks": ""
             }
            },
            "type": "scatterternary"
           }
          ],
          "surface": [
           {
            "colorbar": {
             "outlinewidth": 0,
             "ticks": ""
            },
            "colorscale": [
             [
              0,
              "#0d0887"
             ],
             [
              0.1111111111111111,
              "#46039f"
             ],
             [
              0.2222222222222222,
              "#7201a8"
             ],
             [
              0.3333333333333333,
              "#9c179e"
             ],
             [
              0.4444444444444444,
              "#bd3786"
             ],
             [
              0.5555555555555556,
              "#d8576b"
             ],
             [
              0.6666666666666666,
              "#ed7953"
             ],
             [
              0.7777777777777778,
              "#fb9f3a"
             ],
             [
              0.8888888888888888,
              "#fdca26"
             ],
             [
              1,
              "#f0f921"
             ]
            ],
            "type": "surface"
           }
          ],
          "table": [
           {
            "cells": {
             "fill": {
              "color": "#EBF0F8"
             },
             "line": {
              "color": "white"
             }
            },
            "header": {
             "fill": {
              "color": "#C8D4E3"
             },
             "line": {
              "color": "white"
             }
            },
            "type": "table"
           }
          ]
         },
         "layout": {
          "annotationdefaults": {
           "arrowcolor": "#2a3f5f",
           "arrowhead": 0,
           "arrowwidth": 1
          },
          "autotypenumbers": "strict",
          "coloraxis": {
           "colorbar": {
            "outlinewidth": 0,
            "ticks": ""
           }
          },
          "colorscale": {
           "diverging": [
            [
             0,
             "#8e0152"
            ],
            [
             0.1,
             "#c51b7d"
            ],
            [
             0.2,
             "#de77ae"
            ],
            [
             0.3,
             "#f1b6da"
            ],
            [
             0.4,
             "#fde0ef"
            ],
            [
             0.5,
             "#f7f7f7"
            ],
            [
             0.6,
             "#e6f5d0"
            ],
            [
             0.7,
             "#b8e186"
            ],
            [
             0.8,
             "#7fbc41"
            ],
            [
             0.9,
             "#4d9221"
            ],
            [
             1,
             "#276419"
            ]
           ],
           "sequential": [
            [
             0,
             "#0d0887"
            ],
            [
             0.1111111111111111,
             "#46039f"
            ],
            [
             0.2222222222222222,
             "#7201a8"
            ],
            [
             0.3333333333333333,
             "#9c179e"
            ],
            [
             0.4444444444444444,
             "#bd3786"
            ],
            [
             0.5555555555555556,
             "#d8576b"
            ],
            [
             0.6666666666666666,
             "#ed7953"
            ],
            [
             0.7777777777777778,
             "#fb9f3a"
            ],
            [
             0.8888888888888888,
             "#fdca26"
            ],
            [
             1,
             "#f0f921"
            ]
           ],
           "sequentialminus": [
            [
             0,
             "#0d0887"
            ],
            [
             0.1111111111111111,
             "#46039f"
            ],
            [
             0.2222222222222222,
             "#7201a8"
            ],
            [
             0.3333333333333333,
             "#9c179e"
            ],
            [
             0.4444444444444444,
             "#bd3786"
            ],
            [
             0.5555555555555556,
             "#d8576b"
            ],
            [
             0.6666666666666666,
             "#ed7953"
            ],
            [
             0.7777777777777778,
             "#fb9f3a"
            ],
            [
             0.8888888888888888,
             "#fdca26"
            ],
            [
             1,
             "#f0f921"
            ]
           ]
          },
          "colorway": [
           "#636efa",
           "#EF553B",
           "#00cc96",
           "#ab63fa",
           "#FFA15A",
           "#19d3f3",
           "#FF6692",
           "#B6E880",
           "#FF97FF",
           "#FECB52"
          ],
          "font": {
           "color": "#2a3f5f"
          },
          "geo": {
           "bgcolor": "white",
           "lakecolor": "white",
           "landcolor": "#E5ECF6",
           "showlakes": true,
           "showland": true,
           "subunitcolor": "white"
          },
          "hoverlabel": {
           "align": "left"
          },
          "hovermode": "closest",
          "mapbox": {
           "style": "light"
          },
          "paper_bgcolor": "white",
          "plot_bgcolor": "#E5ECF6",
          "polar": {
           "angularaxis": {
            "gridcolor": "white",
            "linecolor": "white",
            "ticks": ""
           },
           "bgcolor": "#E5ECF6",
           "radialaxis": {
            "gridcolor": "white",
            "linecolor": "white",
            "ticks": ""
           }
          },
          "scene": {
           "xaxis": {
            "backgroundcolor": "#E5ECF6",
            "gridcolor": "white",
            "gridwidth": 2,
            "linecolor": "white",
            "showbackground": true,
            "ticks": "",
            "zerolinecolor": "white"
           },
           "yaxis": {
            "backgroundcolor": "#E5ECF6",
            "gridcolor": "white",
            "gridwidth": 2,
            "linecolor": "white",
            "showbackground": true,
            "ticks": "",
            "zerolinecolor": "white"
           },
           "zaxis": {
            "backgroundcolor": "#E5ECF6",
            "gridcolor": "white",
            "gridwidth": 2,
            "linecolor": "white",
            "showbackground": true,
            "ticks": "",
            "zerolinecolor": "white"
           }
          },
          "shapedefaults": {
           "line": {
            "color": "#2a3f5f"
           }
          },
          "ternary": {
           "aaxis": {
            "gridcolor": "white",
            "linecolor": "white",
            "ticks": ""
           },
           "baxis": {
            "gridcolor": "white",
            "linecolor": "white",
            "ticks": ""
           },
           "bgcolor": "#E5ECF6",
           "caxis": {
            "gridcolor": "white",
            "linecolor": "white",
            "ticks": ""
           }
          },
          "title": {
           "x": 0.05
          },
          "xaxis": {
           "automargin": true,
           "gridcolor": "white",
           "linecolor": "white",
           "ticks": "",
           "title": {
            "standoff": 15
           },
           "zerolinecolor": "white",
           "zerolinewidth": 2
          },
          "yaxis": {
           "automargin": true,
           "gridcolor": "white",
           "linecolor": "white",
           "ticks": "",
           "title": {
            "standoff": 15
           },
           "zerolinecolor": "white",
           "zerolinewidth": 2
          }
         }
        },
        "title": {
         "text": "Model: Email, Email scores: Paragraph",
         "x": 0.5,
         "xanchor": "center",
         "y": 0.9,
         "yanchor": "top"
        },
        "xaxis": {
         "autorange": true,
         "range": [
          10,
          490
         ],
         "title": {
          "text": "Top results"
         },
         "type": "linear"
        },
        "yaxis": {
         "autorange": true,
         "range": [
          0.015287099179716636,
          1.051826994780015
         ],
         "title": {
          "text": ""
         },
         "type": "linear"
        }
       }
      },
      "image/png": "[encoded data removed]",
      "text/html": [
       "<div>                            <div id=\"ab09499c-8e81-4d6c-8ef2-7a871863547d\" class=\"plotly-graph-div\" style=\"height:525px; width:100%;\"></div>            <script type=\"text/javascript\">                require([\"plotly\"], function(Plotly) {                    window.PLOTLYENV=window.PLOTLYENV || {};                                    if (document.getElementById(\"ab09499c-8e81-4d6c-8ef2-7a871863547d\")) {                    Plotly.newPlot(                        \"ab09499c-8e81-4d6c-8ef2-7a871863547d\",                        [{\"name\":\"Precision\",\"type\":\"scatter\",\"x\":[10,20,30,40,50,60,70,80,90,100,110,120,130,140,150,160,170,180,190,200,210,220,230,240,250,260,270,280,290,300,310,320,330,340,350,360,370,380,390,400,410,420,430,440,450,460,470,480,490],\"y\":[1.0,1.0,1.0,1.0,0.92,0.9333333333333333,0.9142857142857143,0.9,0.9,0.91,0.9181818181818182,0.9,0.9,0.8776978417266187,0.8776978417266187,0.8776978417266187,0.8776978417266187,0.8776978417266187,0.8776978417266187,0.8776978417266187,0.8776978417266187,0.8776978417266187,0.8776978417266187,0.8776978417266187,0.8776978417266187,0.8776978417266187,0.8776978417266187,0.8776978417266187,0.8776978417266187,0.8776978417266187,0.8776978417266187,0.8776978417266187,0.8776978417266187,0.8776978417266187,0.8776978417266187,0.8776978417266187,0.8776978417266187,0.8776978417266187,0.8776978417266187,0.8776978417266187,0.8776978417266187,0.8776978417266187,0.8776978417266187,0.8776978417266187,0.8776978417266187,0.8776978417266187,0.8776978417266187,0.8776978417266187,0.8776978417266187]},{\"name\":\"Recall\",\"type\":\"scatter\",\"x\":[10,20,30,40,50,60,70,80,90,100,110,120,130,140,150,160,170,180,190,200,210,220,230,240,250,260,270,280,290,300,310,320,330,340,350,360,370,380,390,400,410,420,430,440,450,460,470,480,490],\"y\":[0.06711409395973154,0.1342281879194631,0.20134228187919462,0.2684563758389262,0.3087248322147651,0.37583892617449666,0.42953020134228187,0.48322147651006714,0.5436241610738255,0.610738255033557,0.6778523489932886,0.7248322147651006,0.785234899328859,0.8187919463087249,0.8187919463087249,0.8187919463087249,0.8187919463087249,0.8187919463087249,0.8187919463087249,0.8187919463087249,0.8187919463087249,0.8187919463087249,0.8187919463087249,0.8187919463087249,0.8187919463087249,0.8187919463087249,0.8187919463087249,0.8187919463087249,0.8187919463087249,0.8187919463087249,0.8187919463087249,0.8187919463087249,0.8187919463087249,0.8187919463087249,0.8187919463087249,0.8187919463087249,0.8187919463087249,0.8187919463087249,0.8187919463087249,0.8187919463087249,0.8187919463087249,0.8187919463087249,0.8187919463087249,0.8187919463087249,0.8187919463087249,0.8187919463087249,0.8187919463087249,0.8187919463087249,0.8187919463087249]}],                        {\"font\":{\"family\":\"Arial\"},\"legend\":{\"title\":{\"text\":\"Score Type\"}},\"template\":{\"data\":{\"bar\":[{\"error_x\":{\"color\":\"#2a3f5f\"},\"error_y\":{\"color\":\"#2a3f5f\"},\"marker\":{\"line\":{\"color\":\"#E5ECF6\",\"width\":0.5},\"pattern\":{\"fillmode\":\"overlay\",\"size\":10,\"solidity\":0.2}},\"type\":\"bar\"}],\"barpolar\":[{\"marker\":{\"line\":{\"color\":\"#E5ECF6\",\"width\":0.5},\"pattern\":{\"fillmode\":\"overlay\",\"size\":10,\"solidity\":0.2}},\"type\":\"barpolar\"}],\"carpet\":[{\"aaxis\":{\"endlinecolor\":\"#2a3f5f\",\"gridcolor\":\"white\",\"linecolor\":\"white\",\"minorgridcolor\":\"white\",\"startlinecolor\":\"#2a3f5f\"},\"baxis\":{\"endlinecolor\":\"#2a3f5f\",\"gridcolor\":\"white\",\"linecolor\":\"white\",\"minorgridcolor\":\"white\",\"startlinecolor\":\"#2a3f5f\"},\"type\":\"carpet\"}],\"choropleth\":[{\"colorbar\":{\"outlinewidth\":0,\"ticks\":\"\"},\"type\":\"choropleth\"}],\"contour\":[{\"colorbar\":{\"outlinewidth\":0,\"ticks\":\"\"},\"colorscale\":[[0.0,\"#0d0887\"],[0.1111111111111111,\"#46039f\"],[0.2222222222222222,\"#7201a8\"],[0.3333333333333333,\"#9c179e\"],[0.4444444444444444,\"#bd3786\"],[0.5555555555555556,\"#d8576b\"],[0.6666666666666666,\"#ed7953\"],[0.7777777777777778,\"#fb9f3a\"],[0.8888888888888888,\"#fdca26\"],[1.0,\"#f0f921\"]],\"type\":\"contour\"}],\"contourcarpet\":[{\"colorbar\":{\"outlinewidth\":0,\"ticks\":\"\"},\"type\":\"contourcarpet\"}],\"heatmap\":[{\"colorbar\":{\"outlinewidth\":0,\"ticks\":\"\"},\"colorscale\":[[0.0,\"#0d0887\"],[0.1111111111111111,\"#46039f\"],[0.2222222222222222,\"#7201a8\"],[0.3333333333333333,\"#9c179e\"],[0.4444444444444444,\"#bd3786\"],[0.5555555555555556,\"#d8576b\"],[0.6666666666666666,\"#ed7953\"],[0.7777777777777778,\"#fb9f3a\"],[0.8888888888888888,\"#fdca26\"],[1.0,\"#f0f921\"]],\"type\":\"heatmap\"}],\"heatmapgl\":[{\"colorbar\":{\"outlinewidth\":0,\"ticks\":\"\"},\"colorscale\":[[0.0,\"#0d0887\"],[0.1111111111111111,\"#46039f\"],[0.2222222222222222,\"#7201a8\"],[0.3333333333333333,\"#9c179e\"],[0.4444444444444444,\"#bd3786\"],[0.5555555555555556,\"#d8576b\"],[0.6666666666666666,\"#ed7953\"],[0.7777777777777778,\"#fb9f3a\"],[0.8888888888888888,\"#fdca26\"],[1.0,\"#f0f921\"]],\"type\":\"heatmapgl\"}],\"histogram\":[{\"marker\":{\"pattern\":{\"fillmode\":\"overlay\",\"size\":10,\"solidity\":0.2}},\"type\":\"histogram\"}],\"histogram2d\":[{\"colorbar\":{\"outlinewidth\":0,\"ticks\":\"\"},\"colorscale\":[[0.0,\"#0d0887\"],[0.1111111111111111,\"#46039f\"],[0.2222222222222222,\"#7201a8\"],[0.3333333333333333,\"#9c179e\"],[0.4444444444444444,\"#bd3786\"],[0.5555555555555556,\"#d8576b\"],[0.6666666666666666,\"#ed7953\"],[0.7777777777777778,\"#fb9f3a\"],[0.8888888888888888,\"#fdca26\"],[1.0,\"#f0f921\"]],\"type\":\"histogram2d\"}],\"histogram2dcontour\":[{\"colorbar\":{\"outlinewidth\":0,\"ticks\":\"\"},\"colorscale\":[[0.0,\"#0d0887\"],[0.1111111111111111,\"#46039f\"],[0.2222222222222222,\"#7201a8\"],[0.3333333333333333,\"#9c179e\"],[0.4444444444444444,\"#bd3786\"],[0.5555555555555556,\"#d8576b\"],[0.6666666666666666,\"#ed7953\"],[0.7777777777777778,\"#fb9f3a\"],[0.8888888888888888,\"#fdca26\"],[1.0,\"#f0f921\"]],\"type\":\"histogram2dcontour\"}],\"mesh3d\":[{\"colorbar\":{\"outlinewidth\":0,\"ticks\":\"\"},\"type\":\"mesh3d\"}],\"parcoords\":[{\"line\":{\"colorbar\":{\"outlinewidth\":0,\"ticks\":\"\"}},\"type\":\"parcoords\"}],\"pie\":[{\"automargin\":true,\"type\":\"pie\"}],\"scatter\":[{\"marker\":{\"colorbar\":{\"outlinewidth\":0,\"ticks\":\"\"}},\"type\":\"scatter\"}],\"scatter3d\":[{\"line\":{\"colorbar\":{\"outlinewidth\":0,\"ticks\":\"\"}},\"marker\":{\"colorbar\":{\"outlinewidth\":0,\"ticks\":\"\"}},\"type\":\"scatter3d\"}],\"scattercarpet\":[{\"marker\":{\"colorbar\":{\"outlinewidth\":0,\"ticks\":\"\"}},\"type\":\"scattercarpet\"}],\"scattergeo\":[{\"marker\":{\"colorbar\":{\"outlinewidth\":0,\"ticks\":\"\"}},\"type\":\"scattergeo\"}],\"scattergl\":[{\"marker\":{\"colorbar\":{\"outlinewidth\":0,\"ticks\":\"\"}},\"type\":\"scattergl\"}],\"scattermapbox\":[{\"marker\":{\"colorbar\":{\"outlinewidth\":0,\"ticks\":\"\"}},\"type\":\"scattermapbox\"}],\"scatterpolar\":[{\"marker\":{\"colorbar\":{\"outlinewidth\":0,\"ticks\":\"\"}},\"type\":\"scatterpolar\"}],\"scatterpolargl\":[{\"marker\":{\"colorbar\":{\"outlinewidth\":0,\"ticks\":\"\"}},\"type\":\"scatterpolargl\"}],\"scatterternary\":[{\"marker\":{\"colorbar\":{\"outlinewidth\":0,\"ticks\":\"\"}},\"type\":\"scatterternary\"}],\"surface\":[{\"colorbar\":{\"outlinewidth\":0,\"ticks\":\"\"},\"colorscale\":[[0.0,\"#0d0887\"],[0.1111111111111111,\"#46039f\"],[0.2222222222222222,\"#7201a8\"],[0.3333333333333333,\"#9c179e\"],[0.4444444444444444,\"#bd3786\"],[0.5555555555555556,\"#d8576b\"],[0.6666666666666666,\"#ed7953\"],[0.7777777777777778,\"#fb9f3a\"],[0.8888888888888888,\"#fdca26\"],[1.0,\"#f0f921\"]],\"type\":\"surface\"}],\"table\":[{\"cells\":{\"fill\":{\"color\":\"#EBF0F8\"},\"line\":{\"color\":\"white\"}},\"header\":{\"fill\":{\"color\":\"#C8D4E3\"},\"line\":{\"color\":\"white\"}},\"type\":\"table\"}]},\"layout\":{\"annotationdefaults\":{\"arrowcolor\":\"#2a3f5f\",\"arrowhead\":0,\"arrowwidth\":1},\"autotypenumbers\":\"strict\",\"coloraxis\":{\"colorbar\":{\"outlinewidth\":0,\"ticks\":\"\"}},\"colorscale\":{\"diverging\":[[0,\"#8e0152\"],[0.1,\"#c51b7d\"],[0.2,\"#de77ae\"],[0.3,\"#f1b6da\"],[0.4,\"#fde0ef\"],[0.5,\"#f7f7f7\"],[0.6,\"#e6f5d0\"],[0.7,\"#b8e186\"],[0.8,\"#7fbc41\"],[0.9,\"#4d9221\"],[1,\"#276419\"]],\"sequential\":[[0.0,\"#0d0887\"],[0.1111111111111111,\"#46039f\"],[0.2222222222222222,\"#7201a8\"],[0.3333333333333333,\"#9c179e\"],[0.4444444444444444,\"#bd3786\"],[0.5555555555555556,\"#d8576b\"],[0.6666666666666666,\"#ed7953\"],[0.7777777777777778,\"#fb9f3a\"],[0.8888888888888888,\"#fdca26\"],[1.0,\"#f0f921\"]],\"sequentialminus\":[[0.0,\"#0d0887\"],[0.1111111111111111,\"#46039f\"],[0.2222222222222222,\"#7201a8\"],[0.3333333333333333,\"#9c179e\"],[0.4444444444444444,\"#bd3786\"],[0.5555555555555556,\"#d8576b\"],[0.6666666666666666,\"#ed7953\"],[0.7777777777777778,\"#fb9f3a\"],[0.8888888888888888,\"#fdca26\"],[1.0,\"#f0f921\"]]},\"colorway\":[\"#636efa\",\"#EF553B\",\"#00cc96\",\"#ab63fa\",\"#FFA15A\",\"#19d3f3\",\"#FF6692\",\"#B6E880\",\"#FF97FF\",\"#FECB52\"],\"font\":{\"color\":\"#2a3f5f\"},\"geo\":{\"bgcolor\":\"white\",\"lakecolor\":\"white\",\"landcolor\":\"#E5ECF6\",\"showlakes\":true,\"showland\":true,\"subunitcolor\":\"white\"},\"hoverlabel\":{\"align\":\"left\"},\"hovermode\":\"closest\",\"mapbox\":{\"style\":\"light\"},\"paper_bgcolor\":\"white\",\"plot_bgcolor\":\"#E5ECF6\",\"polar\":{\"angularaxis\":{\"gridcolor\":\"white\",\"linecolor\":\"white\",\"ticks\":\"\"},\"bgcolor\":\"#E5ECF6\",\"radialaxis\":{\"gridcolor\":\"white\",\"linecolor\":\"white\",\"ticks\":\"\"}},\"scene\":{\"xaxis\":{\"backgroundcolor\":\"#E5ECF6\",\"gridcolor\":\"white\",\"gridwidth\":2,\"linecolor\":\"white\",\"showbackground\":true,\"ticks\":\"\",\"zerolinecolor\":\"white\"},\"yaxis\":{\"backgroundcolor\":\"#E5ECF6\",\"gridcolor\":\"white\",\"gridwidth\":2,\"linecolor\":\"white\",\"showbackground\":true,\"ticks\":\"\",\"zerolinecolor\":\"white\"},\"zaxis\":{\"backgroundcolor\":\"#E5ECF6\",\"gridcolor\":\"white\",\"gridwidth\":2,\"linecolor\":\"white\",\"showbackground\":true,\"ticks\":\"\",\"zerolinecolor\":\"white\"}},\"shapedefaults\":{\"line\":{\"color\":\"#2a3f5f\"}},\"ternary\":{\"aaxis\":{\"gridcolor\":\"white\",\"linecolor\":\"white\",\"ticks\":\"\"},\"baxis\":{\"gridcolor\":\"white\",\"linecolor\":\"white\",\"ticks\":\"\"},\"bgcolor\":\"#E5ECF6\",\"caxis\":{\"gridcolor\":\"white\",\"linecolor\":\"white\",\"ticks\":\"\"}},\"title\":{\"x\":0.05},\"xaxis\":{\"automargin\":true,\"gridcolor\":\"white\",\"linecolor\":\"white\",\"ticks\":\"\",\"title\":{\"standoff\":15},\"zerolinecolor\":\"white\",\"zerolinewidth\":2},\"yaxis\":{\"automargin\":true,\"gridcolor\":\"white\",\"linecolor\":\"white\",\"ticks\":\"\",\"title\":{\"standoff\":15},\"zerolinecolor\":\"white\",\"zerolinewidth\":2}}},\"title\":{\"text\":\"Model: Email, Email scores: Paragraph\",\"x\":0.5,\"xanchor\":\"center\",\"y\":0.9,\"yanchor\":\"top\"},\"xaxis\":{\"title\":{\"text\":\"Top results\"}},\"yaxis\":{\"title\":{\"text\":\"\"}}},                        {\"responsive\": true}                    ).then(function(){\n",
       "                            \n",
       "var gd = document.getElementById('ab09499c-8e81-4d6c-8ef2-7a871863547d');\n",
       "var x = new MutationObserver(function (mutations, observer) {{\n",
       "        var display = window.getComputedStyle(gd).display;\n",
       "        if (!display || display === 'none') {{\n",
       "            console.log([gd, 'removed!']);\n",
       "            Plotly.purge(gd);\n",
       "            observer.disconnect();\n",
       "        }}\n",
       "}});\n",
       "\n",
       "// Listen for the removal of the full notebook cells\n",
       "var notebookContainer = gd.closest('#notebook-container');\n",
       "if (notebookContainer) {{\n",
       "    x.observe(notebookContainer, {childList: true});\n",
       "}}\n",
       "\n",
       "// Listen for the clearing of the current output cell\n",
       "var outputEl = gd.closest('.output');\n",
       "if (outputEl) {{\n",
       "    x.observe(outputEl, {childList: true});\n",
       "}}\n",
       "\n",
       "                        })                };                });            </script>        </div>"
      ]
     },
     "metadata": {},
     "output_type": "display_data"
    },
    {
     "data": {
      "application/vnd.plotly.v1+json": {
       "config": {
        "plotlyServerURL": "https://plot.ly"
       },
       "data": [
        {
         "name": "Precision",
         "type": "scatter",
         "x": [
          10,
          20,
          30,
          40,
          50,
          60,
          70,
          80,
          90,
          100,
          110,
          120,
          130,
          140,
          150,
          160,
          170,
          180,
          190,
          200,
          210,
          220,
          230,
          240,
          250,
          260,
          270,
          280,
          290,
          300,
          310,
          320,
          330,
          340,
          350,
          360,
          370,
          380,
          390,
          400,
          410,
          420,
          430,
          440,
          450,
          460,
          470,
          480,
          490
         ],
         "y": [
          1,
          0.95,
          0.9,
          0.925,
          0.94,
          0.95,
          0.9571428571428572,
          0.9625,
          0.9666666666666667,
          0.97,
          0.9727272727272728,
          0.9666666666666667,
          0.9692307692307692,
          0.9214285714285714,
          0.8733333333333333,
          0.81875,
          0.7705882352941177,
          0.7277777777777777,
          0.6894736842105263,
          0.655,
          0.6238095238095238,
          0.5954545454545455,
          0.5695652173913044,
          0.5458333333333333,
          0.524,
          0.5038461538461538,
          0.48518518518518516,
          0.46785714285714286,
          0.4517241379310345,
          0.43666666666666665,
          0.42258064516129035,
          0.409375,
          0.396969696969697,
          0.38529411764705884,
          0.3742857142857143,
          0.3638888888888889,
          0.35405405405405405,
          0.3447368421052632,
          0.33589743589743587,
          0.3275,
          0.3195121951219512,
          0.3119047619047619,
          0.30465116279069765,
          0.29772727272727273,
          0.2911111111111111,
          0.2847826086956522,
          0.27872340425531916,
          0.27291666666666664,
          0.2673469387755102
         ]
        },
        {
         "name": "Recall",
         "type": "scatter",
         "x": [
          10,
          20,
          30,
          40,
          50,
          60,
          70,
          80,
          90,
          100,
          110,
          120,
          130,
          140,
          150,
          160,
          170,
          180,
          190,
          200,
          210,
          220,
          230,
          240,
          250,
          260,
          270,
          280,
          290,
          300,
          310,
          320,
          330,
          340,
          350,
          360,
          370,
          380,
          390,
          400,
          410,
          420,
          430,
          440,
          450,
          460,
          470,
          480,
          490
         ],
         "y": [
          0.06711409395973154,
          0.12751677852348994,
          0.18120805369127516,
          0.2483221476510067,
          0.31543624161073824,
          0.3825503355704698,
          0.44966442953020136,
          0.5167785234899329,
          0.5838926174496645,
          0.6510067114093959,
          0.7181208053691275,
          0.7785234899328859,
          0.8456375838926175,
          0.8657718120805369,
          0.8791946308724832,
          0.8791946308724832,
          0.8791946308724832,
          0.8791946308724832,
          0.8791946308724832,
          0.8791946308724832,
          0.8791946308724832,
          0.8791946308724832,
          0.8791946308724832,
          0.8791946308724832,
          0.8791946308724832,
          0.8791946308724832,
          0.8791946308724832,
          0.8791946308724832,
          0.8791946308724832,
          0.8791946308724832,
          0.8791946308724832,
          0.8791946308724832,
          0.8791946308724832,
          0.8791946308724832,
          0.8791946308724832,
          0.8791946308724832,
          0.8791946308724832,
          0.8791946308724832,
          0.8791946308724832,
          0.8791946308724832,
          0.8791946308724832,
          0.8791946308724832,
          0.8791946308724832,
          0.8791946308724832,
          0.8791946308724832,
          0.8791946308724832,
          0.8791946308724832,
          0.8791946308724832,
          0.8791946308724832
         ]
        }
       ],
       "layout": {
        "autosize": true,
        "font": {
         "family": "Arial"
        },
        "legend": {
         "title": {
          "text": "Score Type"
         }
        },
        "template": {
         "data": {
          "bar": [
           {
            "error_x": {
             "color": "#2a3f5f"
            },
            "error_y": {
             "color": "#2a3f5f"
            },
            "marker": {
             "line": {
              "color": "#E5ECF6",
              "width": 0.5
             },
             "pattern": {
              "fillmode": "overlay",
              "size": 10,
              "solidity": 0.2
             }
            },
            "type": "bar"
           }
          ],
          "barpolar": [
           {
            "marker": {
             "line": {
              "color": "#E5ECF6",
              "width": 0.5
             },
             "pattern": {
              "fillmode": "overlay",
              "size": 10,
              "solidity": 0.2
             }
            },
            "type": "barpolar"
           }
          ],
          "carpet": [
           {
            "aaxis": {
             "endlinecolor": "#2a3f5f",
             "gridcolor": "white",
             "linecolor": "white",
             "minorgridcolor": "white",
             "startlinecolor": "#2a3f5f"
            },
            "baxis": {
             "endlinecolor": "#2a3f5f",
             "gridcolor": "white",
             "linecolor": "white",
             "minorgridcolor": "white",
             "startlinecolor": "#2a3f5f"
            },
            "type": "carpet"
           }
          ],
          "choropleth": [
           {
            "colorbar": {
             "outlinewidth": 0,
             "ticks": ""
            },
            "type": "choropleth"
           }
          ],
          "contour": [
           {
            "colorbar": {
             "outlinewidth": 0,
             "ticks": ""
            },
            "colorscale": [
             [
              0,
              "#0d0887"
             ],
             [
              0.1111111111111111,
              "#46039f"
             ],
             [
              0.2222222222222222,
              "#7201a8"
             ],
             [
              0.3333333333333333,
              "#9c179e"
             ],
             [
              0.4444444444444444,
              "#bd3786"
             ],
             [
              0.5555555555555556,
              "#d8576b"
             ],
             [
              0.6666666666666666,
              "#ed7953"
             ],
             [
              0.7777777777777778,
              "#fb9f3a"
             ],
             [
              0.8888888888888888,
              "#fdca26"
             ],
             [
              1,
              "#f0f921"
             ]
            ],
            "type": "contour"
           }
          ],
          "contourcarpet": [
           {
            "colorbar": {
             "outlinewidth": 0,
             "ticks": ""
            },
            "type": "contourcarpet"
           }
          ],
          "heatmap": [
           {
            "colorbar": {
             "outlinewidth": 0,
             "ticks": ""
            },
            "colorscale": [
             [
              0,
              "#0d0887"
             ],
             [
              0.1111111111111111,
              "#46039f"
             ],
             [
              0.2222222222222222,
              "#7201a8"
             ],
             [
              0.3333333333333333,
              "#9c179e"
             ],
             [
              0.4444444444444444,
              "#bd3786"
             ],
             [
              0.5555555555555556,
              "#d8576b"
             ],
             [
              0.6666666666666666,
              "#ed7953"
             ],
             [
              0.7777777777777778,
              "#fb9f3a"
             ],
             [
              0.8888888888888888,
              "#fdca26"
             ],
             [
              1,
              "#f0f921"
             ]
            ],
            "type": "heatmap"
           }
          ],
          "heatmapgl": [
           {
            "colorbar": {
             "outlinewidth": 0,
             "ticks": ""
            },
            "colorscale": [
             [
              0,
              "#0d0887"
             ],
             [
              0.1111111111111111,
              "#46039f"
             ],
             [
              0.2222222222222222,
              "#7201a8"
             ],
             [
              0.3333333333333333,
              "#9c179e"
             ],
             [
              0.4444444444444444,
              "#bd3786"
             ],
             [
              0.5555555555555556,
              "#d8576b"
             ],
             [
              0.6666666666666666,
              "#ed7953"
             ],
             [
              0.7777777777777778,
              "#fb9f3a"
             ],
             [
              0.8888888888888888,
              "#fdca26"
             ],
             [
              1,
              "#f0f921"
             ]
            ],
            "type": "heatmapgl"
           }
          ],
          "histogram": [
           {
            "marker": {
             "pattern": {
              "fillmode": "overlay",
              "size": 10,
              "solidity": 0.2
             }
            },
            "type": "histogram"
           }
          ],
          "histogram2d": [
           {
            "colorbar": {
             "outlinewidth": 0,
             "ticks": ""
            },
            "colorscale": [
             [
              0,
              "#0d0887"
             ],
             [
              0.1111111111111111,
              "#46039f"
             ],
             [
              0.2222222222222222,
              "#7201a8"
             ],
             [
              0.3333333333333333,
              "#9c179e"
             ],
             [
              0.4444444444444444,
              "#bd3786"
             ],
             [
              0.5555555555555556,
              "#d8576b"
             ],
             [
              0.6666666666666666,
              "#ed7953"
             ],
             [
              0.7777777777777778,
              "#fb9f3a"
             ],
             [
              0.8888888888888888,
              "#fdca26"
             ],
             [
              1,
              "#f0f921"
             ]
            ],
            "type": "histogram2d"
           }
          ],
          "histogram2dcontour": [
           {
            "colorbar": {
             "outlinewidth": 0,
             "ticks": ""
            },
            "colorscale": [
             [
              0,
              "#0d0887"
             ],
             [
              0.1111111111111111,
              "#46039f"
             ],
             [
              0.2222222222222222,
              "#7201a8"
             ],
             [
              0.3333333333333333,
              "#9c179e"
             ],
             [
              0.4444444444444444,
              "#bd3786"
             ],
             [
              0.5555555555555556,
              "#d8576b"
             ],
             [
              0.6666666666666666,
              "#ed7953"
             ],
             [
              0.7777777777777778,
              "#fb9f3a"
             ],
             [
              0.8888888888888888,
              "#fdca26"
             ],
             [
              1,
              "#f0f921"
             ]
            ],
            "type": "histogram2dcontour"
           }
          ],
          "mesh3d": [
           {
            "colorbar": {
             "outlinewidth": 0,
             "ticks": ""
            },
            "type": "mesh3d"
           }
          ],
          "parcoords": [
           {
            "line": {
             "colorbar": {
              "outlinewidth": 0,
              "ticks": ""
             }
            },
            "type": "parcoords"
           }
          ],
          "pie": [
           {
            "automargin": true,
            "type": "pie"
           }
          ],
          "scatter": [
           {
            "marker": {
             "colorbar": {
              "outlinewidth": 0,
              "ticks": ""
             }
            },
            "type": "scatter"
           }
          ],
          "scatter3d": [
           {
            "line": {
             "colorbar": {
              "outlinewidth": 0,
              "ticks": ""
             }
            },
            "marker": {
             "colorbar": {
              "outlinewidth": 0,
              "ticks": ""
             }
            },
            "type": "scatter3d"
           }
          ],
          "scattercarpet": [
           {
            "marker": {
             "colorbar": {
              "outlinewidth": 0,
              "ticks": ""
             }
            },
            "type": "scattercarpet"
           }
          ],
          "scattergeo": [
           {
            "marker": {
             "colorbar": {
              "outlinewidth": 0,
              "ticks": ""
             }
            },
            "type": "scattergeo"
           }
          ],
          "scattergl": [
           {
            "marker": {
             "colorbar": {
              "outlinewidth": 0,
              "ticks": ""
             }
            },
            "type": "scattergl"
           }
          ],
          "scattermapbox": [
           {
            "marker": {
             "colorbar": {
              "outlinewidth": 0,
              "ticks": ""
             }
            },
            "type": "scattermapbox"
           }
          ],
          "scatterpolar": [
           {
            "marker": {
             "colorbar": {
              "outlinewidth": 0,
              "ticks": ""
             }
            },
            "type": "scatterpolar"
           }
          ],
          "scatterpolargl": [
           {
            "marker": {
             "colorbar": {
              "outlinewidth": 0,
              "ticks": ""
             }
            },
            "type": "scatterpolargl"
           }
          ],
          "scatterternary": [
           {
            "marker": {
             "colorbar": {
              "outlinewidth": 0,
              "ticks": ""
             }
            },
            "type": "scatterternary"
           }
          ],
          "surface": [
           {
            "colorbar": {
             "outlinewidth": 0,
             "ticks": ""
            },
            "colorscale": [
             [
              0,
              "#0d0887"
             ],
             [
              0.1111111111111111,
              "#46039f"
             ],
             [
              0.2222222222222222,
              "#7201a8"
             ],
             [
              0.3333333333333333,
              "#9c179e"
             ],
             [
              0.4444444444444444,
              "#bd3786"
             ],
             [
              0.5555555555555556,
              "#d8576b"
             ],
             [
              0.6666666666666666,
              "#ed7953"
             ],
             [
              0.7777777777777778,
              "#fb9f3a"
             ],
             [
              0.8888888888888888,
              "#fdca26"
             ],
             [
              1,
              "#f0f921"
             ]
            ],
            "type": "surface"
           }
          ],
          "table": [
           {
            "cells": {
             "fill": {
              "color": "#EBF0F8"
             },
             "line": {
              "color": "white"
             }
            },
            "header": {
             "fill": {
              "color": "#C8D4E3"
             },
             "line": {
              "color": "white"
             }
            },
            "type": "table"
           }
          ]
         },
         "layout": {
          "annotationdefaults": {
           "arrowcolor": "#2a3f5f",
           "arrowhead": 0,
           "arrowwidth": 1
          },
          "autotypenumbers": "strict",
          "coloraxis": {
           "colorbar": {
            "outlinewidth": 0,
            "ticks": ""
           }
          },
          "colorscale": {
           "diverging": [
            [
             0,
             "#8e0152"
            ],
            [
             0.1,
             "#c51b7d"
            ],
            [
             0.2,
             "#de77ae"
            ],
            [
             0.3,
             "#f1b6da"
            ],
            [
             0.4,
             "#fde0ef"
            ],
            [
             0.5,
             "#f7f7f7"
            ],
            [
             0.6,
             "#e6f5d0"
            ],
            [
             0.7,
             "#b8e186"
            ],
            [
             0.8,
             "#7fbc41"
            ],
            [
             0.9,
             "#4d9221"
            ],
            [
             1,
             "#276419"
            ]
           ],
           "sequential": [
            [
             0,
             "#0d0887"
            ],
            [
             0.1111111111111111,
             "#46039f"
            ],
            [
             0.2222222222222222,
             "#7201a8"
            ],
            [
             0.3333333333333333,
             "#9c179e"
            ],
            [
             0.4444444444444444,
             "#bd3786"
            ],
            [
             0.5555555555555556,
             "#d8576b"
            ],
            [
             0.6666666666666666,
             "#ed7953"
            ],
            [
             0.7777777777777778,
             "#fb9f3a"
            ],
            [
             0.8888888888888888,
             "#fdca26"
            ],
            [
             1,
             "#f0f921"
            ]
           ],
           "sequentialminus": [
            [
             0,
             "#0d0887"
            ],
            [
             0.1111111111111111,
             "#46039f"
            ],
            [
             0.2222222222222222,
             "#7201a8"
            ],
            [
             0.3333333333333333,
             "#9c179e"
            ],
            [
             0.4444444444444444,
             "#bd3786"
            ],
            [
             0.5555555555555556,
             "#d8576b"
            ],
            [
             0.6666666666666666,
             "#ed7953"
            ],
            [
             0.7777777777777778,
             "#fb9f3a"
            ],
            [
             0.8888888888888888,
             "#fdca26"
            ],
            [
             1,
             "#f0f921"
            ]
           ]
          },
          "colorway": [
           "#636efa",
           "#EF553B",
           "#00cc96",
           "#ab63fa",
           "#FFA15A",
           "#19d3f3",
           "#FF6692",
           "#B6E880",
           "#FF97FF",
           "#FECB52"
          ],
          "font": {
           "color": "#2a3f5f"
          },
          "geo": {
           "bgcolor": "white",
           "lakecolor": "white",
           "landcolor": "#E5ECF6",
           "showlakes": true,
           "showland": true,
           "subunitcolor": "white"
          },
          "hoverlabel": {
           "align": "left"
          },
          "hovermode": "closest",
          "mapbox": {
           "style": "light"
          },
          "paper_bgcolor": "white",
          "plot_bgcolor": "#E5ECF6",
          "polar": {
           "angularaxis": {
            "gridcolor": "white",
            "linecolor": "white",
            "ticks": ""
           },
           "bgcolor": "#E5ECF6",
           "radialaxis": {
            "gridcolor": "white",
            "linecolor": "white",
            "ticks": ""
           }
          },
          "scene": {
           "xaxis": {
            "backgroundcolor": "#E5ECF6",
            "gridcolor": "white",
            "gridwidth": 2,
            "linecolor": "white",
            "showbackground": true,
            "ticks": "",
            "zerolinecolor": "white"
           },
           "yaxis": {
            "backgroundcolor": "#E5ECF6",
            "gridcolor": "white",
            "gridwidth": 2,
            "linecolor": "white",
            "showbackground": true,
            "ticks": "",
            "zerolinecolor": "white"
           },
           "zaxis": {
            "backgroundcolor": "#E5ECF6",
            "gridcolor": "white",
            "gridwidth": 2,
            "linecolor": "white",
            "showbackground": true,
            "ticks": "",
            "zerolinecolor": "white"
           }
          },
          "shapedefaults": {
           "line": {
            "color": "#2a3f5f"
           }
          },
          "ternary": {
           "aaxis": {
            "gridcolor": "white",
            "linecolor": "white",
            "ticks": ""
           },
           "baxis": {
            "gridcolor": "white",
            "linecolor": "white",
            "ticks": ""
           },
           "bgcolor": "#E5ECF6",
           "caxis": {
            "gridcolor": "white",
            "linecolor": "white",
            "ticks": ""
           }
          },
          "title": {
           "x": 0.05
          },
          "xaxis": {
           "automargin": true,
           "gridcolor": "white",
           "linecolor": "white",
           "ticks": "",
           "title": {
            "standoff": 15
           },
           "zerolinecolor": "white",
           "zerolinewidth": 2
          },
          "yaxis": {
           "automargin": true,
           "gridcolor": "white",
           "linecolor": "white",
           "ticks": "",
           "title": {
            "standoff": 15
           },
           "zerolinecolor": "white",
           "zerolinewidth": 2
          }
         }
        },
        "title": {
         "text": "Model: Paragraph, Email scores: Email",
         "x": 0.5,
         "xanchor": "center",
         "y": 0.9,
         "yanchor": "top"
        },
        "xaxis": {
         "autorange": true,
         "range": [
          10,
          490
         ],
         "title": {
          "text": "Top results"
         },
         "type": "linear"
        },
        "yaxis": {
         "autorange": true,
         "range": [
          0.015287099179716636,
          1.051826994780015
         ],
         "title": {
          "text": ""
         },
         "type": "linear"
        }
       }
      },
      "image/png": "[encoded data removed]",
      "text/html": [
       "<div>                            <div id=\"f650f2b3-827b-428f-bd35-537a9bdc610b\" class=\"plotly-graph-div\" style=\"height:525px; width:100%;\"></div>            <script type=\"text/javascript\">                require([\"plotly\"], function(Plotly) {                    window.PLOTLYENV=window.PLOTLYENV || {};                                    if (document.getElementById(\"f650f2b3-827b-428f-bd35-537a9bdc610b\")) {                    Plotly.newPlot(                        \"f650f2b3-827b-428f-bd35-537a9bdc610b\",                        [{\"name\":\"Precision\",\"type\":\"scatter\",\"x\":[10,20,30,40,50,60,70,80,90,100,110,120,130,140,150,160,170,180,190,200,210,220,230,240,250,260,270,280,290,300,310,320,330,340,350,360,370,380,390,400,410,420,430,440,450,460,470,480,490],\"y\":[1.0,0.95,0.9,0.925,0.94,0.95,0.9571428571428572,0.9625,0.9666666666666667,0.97,0.9727272727272728,0.9666666666666667,0.9692307692307692,0.9214285714285714,0.8733333333333333,0.81875,0.7705882352941177,0.7277777777777777,0.6894736842105263,0.655,0.6238095238095238,0.5954545454545455,0.5695652173913044,0.5458333333333333,0.524,0.5038461538461538,0.48518518518518516,0.46785714285714286,0.4517241379310345,0.43666666666666665,0.42258064516129035,0.409375,0.396969696969697,0.38529411764705884,0.3742857142857143,0.3638888888888889,0.35405405405405405,0.3447368421052632,0.33589743589743587,0.3275,0.3195121951219512,0.3119047619047619,0.30465116279069765,0.29772727272727273,0.2911111111111111,0.2847826086956522,0.27872340425531916,0.27291666666666664,0.2673469387755102]},{\"name\":\"Recall\",\"type\":\"scatter\",\"x\":[10,20,30,40,50,60,70,80,90,100,110,120,130,140,150,160,170,180,190,200,210,220,230,240,250,260,270,280,290,300,310,320,330,340,350,360,370,380,390,400,410,420,430,440,450,460,470,480,490],\"y\":[0.06711409395973154,0.12751677852348994,0.18120805369127516,0.2483221476510067,0.31543624161073824,0.3825503355704698,0.44966442953020136,0.5167785234899329,0.5838926174496645,0.6510067114093959,0.7181208053691275,0.7785234899328859,0.8456375838926175,0.8657718120805369,0.8791946308724832,0.8791946308724832,0.8791946308724832,0.8791946308724832,0.8791946308724832,0.8791946308724832,0.8791946308724832,0.8791946308724832,0.8791946308724832,0.8791946308724832,0.8791946308724832,0.8791946308724832,0.8791946308724832,0.8791946308724832,0.8791946308724832,0.8791946308724832,0.8791946308724832,0.8791946308724832,0.8791946308724832,0.8791946308724832,0.8791946308724832,0.8791946308724832,0.8791946308724832,0.8791946308724832,0.8791946308724832,0.8791946308724832,0.8791946308724832,0.8791946308724832,0.8791946308724832,0.8791946308724832,0.8791946308724832,0.8791946308724832,0.8791946308724832,0.8791946308724832,0.8791946308724832]}],                        {\"font\":{\"family\":\"Arial\"},\"legend\":{\"title\":{\"text\":\"Score Type\"}},\"template\":{\"data\":{\"bar\":[{\"error_x\":{\"color\":\"#2a3f5f\"},\"error_y\":{\"color\":\"#2a3f5f\"},\"marker\":{\"line\":{\"color\":\"#E5ECF6\",\"width\":0.5},\"pattern\":{\"fillmode\":\"overlay\",\"size\":10,\"solidity\":0.2}},\"type\":\"bar\"}],\"barpolar\":[{\"marker\":{\"line\":{\"color\":\"#E5ECF6\",\"width\":0.5},\"pattern\":{\"fillmode\":\"overlay\",\"size\":10,\"solidity\":0.2}},\"type\":\"barpolar\"}],\"carpet\":[{\"aaxis\":{\"endlinecolor\":\"#2a3f5f\",\"gridcolor\":\"white\",\"linecolor\":\"white\",\"minorgridcolor\":\"white\",\"startlinecolor\":\"#2a3f5f\"},\"baxis\":{\"endlinecolor\":\"#2a3f5f\",\"gridcolor\":\"white\",\"linecolor\":\"white\",\"minorgridcolor\":\"white\",\"startlinecolor\":\"#2a3f5f\"},\"type\":\"carpet\"}],\"choropleth\":[{\"colorbar\":{\"outlinewidth\":0,\"ticks\":\"\"},\"type\":\"choropleth\"}],\"contour\":[{\"colorbar\":{\"outlinewidth\":0,\"ticks\":\"\"},\"colorscale\":[[0.0,\"#0d0887\"],[0.1111111111111111,\"#46039f\"],[0.2222222222222222,\"#7201a8\"],[0.3333333333333333,\"#9c179e\"],[0.4444444444444444,\"#bd3786\"],[0.5555555555555556,\"#d8576b\"],[0.6666666666666666,\"#ed7953\"],[0.7777777777777778,\"#fb9f3a\"],[0.8888888888888888,\"#fdca26\"],[1.0,\"#f0f921\"]],\"type\":\"contour\"}],\"contourcarpet\":[{\"colorbar\":{\"outlinewidth\":0,\"ticks\":\"\"},\"type\":\"contourcarpet\"}],\"heatmap\":[{\"colorbar\":{\"outlinewidth\":0,\"ticks\":\"\"},\"colorscale\":[[0.0,\"#0d0887\"],[0.1111111111111111,\"#46039f\"],[0.2222222222222222,\"#7201a8\"],[0.3333333333333333,\"#9c179e\"],[0.4444444444444444,\"#bd3786\"],[0.5555555555555556,\"#d8576b\"],[0.6666666666666666,\"#ed7953\"],[0.7777777777777778,\"#fb9f3a\"],[0.8888888888888888,\"#fdca26\"],[1.0,\"#f0f921\"]],\"type\":\"heatmap\"}],\"heatmapgl\":[{\"colorbar\":{\"outlinewidth\":0,\"ticks\":\"\"},\"colorscale\":[[0.0,\"#0d0887\"],[0.1111111111111111,\"#46039f\"],[0.2222222222222222,\"#7201a8\"],[0.3333333333333333,\"#9c179e\"],[0.4444444444444444,\"#bd3786\"],[0.5555555555555556,\"#d8576b\"],[0.6666666666666666,\"#ed7953\"],[0.7777777777777778,\"#fb9f3a\"],[0.8888888888888888,\"#fdca26\"],[1.0,\"#f0f921\"]],\"type\":\"heatmapgl\"}],\"histogram\":[{\"marker\":{\"pattern\":{\"fillmode\":\"overlay\",\"size\":10,\"solidity\":0.2}},\"type\":\"histogram\"}],\"histogram2d\":[{\"colorbar\":{\"outlinewidth\":0,\"ticks\":\"\"},\"colorscale\":[[0.0,\"#0d0887\"],[0.1111111111111111,\"#46039f\"],[0.2222222222222222,\"#7201a8\"],[0.3333333333333333,\"#9c179e\"],[0.4444444444444444,\"#bd3786\"],[0.5555555555555556,\"#d8576b\"],[0.6666666666666666,\"#ed7953\"],[0.7777777777777778,\"#fb9f3a\"],[0.8888888888888888,\"#fdca26\"],[1.0,\"#f0f921\"]],\"type\":\"histogram2d\"}],\"histogram2dcontour\":[{\"colorbar\":{\"outlinewidth\":0,\"ticks\":\"\"},\"colorscale\":[[0.0,\"#0d0887\"],[0.1111111111111111,\"#46039f\"],[0.2222222222222222,\"#7201a8\"],[0.3333333333333333,\"#9c179e\"],[0.4444444444444444,\"#bd3786\"],[0.5555555555555556,\"#d8576b\"],[0.6666666666666666,\"#ed7953\"],[0.7777777777777778,\"#fb9f3a\"],[0.8888888888888888,\"#fdca26\"],[1.0,\"#f0f921\"]],\"type\":\"histogram2dcontour\"}],\"mesh3d\":[{\"colorbar\":{\"outlinewidth\":0,\"ticks\":\"\"},\"type\":\"mesh3d\"}],\"parcoords\":[{\"line\":{\"colorbar\":{\"outlinewidth\":0,\"ticks\":\"\"}},\"type\":\"parcoords\"}],\"pie\":[{\"automargin\":true,\"type\":\"pie\"}],\"scatter\":[{\"marker\":{\"colorbar\":{\"outlinewidth\":0,\"ticks\":\"\"}},\"type\":\"scatter\"}],\"scatter3d\":[{\"line\":{\"colorbar\":{\"outlinewidth\":0,\"ticks\":\"\"}},\"marker\":{\"colorbar\":{\"outlinewidth\":0,\"ticks\":\"\"}},\"type\":\"scatter3d\"}],\"scattercarpet\":[{\"marker\":{\"colorbar\":{\"outlinewidth\":0,\"ticks\":\"\"}},\"type\":\"scattercarpet\"}],\"scattergeo\":[{\"marker\":{\"colorbar\":{\"outlinewidth\":0,\"ticks\":\"\"}},\"type\":\"scattergeo\"}],\"scattergl\":[{\"marker\":{\"colorbar\":{\"outlinewidth\":0,\"ticks\":\"\"}},\"type\":\"scattergl\"}],\"scattermapbox\":[{\"marker\":{\"colorbar\":{\"outlinewidth\":0,\"ticks\":\"\"}},\"type\":\"scattermapbox\"}],\"scatterpolar\":[{\"marker\":{\"colorbar\":{\"outlinewidth\":0,\"ticks\":\"\"}},\"type\":\"scatterpolar\"}],\"scatterpolargl\":[{\"marker\":{\"colorbar\":{\"outlinewidth\":0,\"ticks\":\"\"}},\"type\":\"scatterpolargl\"}],\"scatterternary\":[{\"marker\":{\"colorbar\":{\"outlinewidth\":0,\"ticks\":\"\"}},\"type\":\"scatterternary\"}],\"surface\":[{\"colorbar\":{\"outlinewidth\":0,\"ticks\":\"\"},\"colorscale\":[[0.0,\"#0d0887\"],[0.1111111111111111,\"#46039f\"],[0.2222222222222222,\"#7201a8\"],[0.3333333333333333,\"#9c179e\"],[0.4444444444444444,\"#bd3786\"],[0.5555555555555556,\"#d8576b\"],[0.6666666666666666,\"#ed7953\"],[0.7777777777777778,\"#fb9f3a\"],[0.8888888888888888,\"#fdca26\"],[1.0,\"#f0f921\"]],\"type\":\"surface\"}],\"table\":[{\"cells\":{\"fill\":{\"color\":\"#EBF0F8\"},\"line\":{\"color\":\"white\"}},\"header\":{\"fill\":{\"color\":\"#C8D4E3\"},\"line\":{\"color\":\"white\"}},\"type\":\"table\"}]},\"layout\":{\"annotationdefaults\":{\"arrowcolor\":\"#2a3f5f\",\"arrowhead\":0,\"arrowwidth\":1},\"autotypenumbers\":\"strict\",\"coloraxis\":{\"colorbar\":{\"outlinewidth\":0,\"ticks\":\"\"}},\"colorscale\":{\"diverging\":[[0,\"#8e0152\"],[0.1,\"#c51b7d\"],[0.2,\"#de77ae\"],[0.3,\"#f1b6da\"],[0.4,\"#fde0ef\"],[0.5,\"#f7f7f7\"],[0.6,\"#e6f5d0\"],[0.7,\"#b8e186\"],[0.8,\"#7fbc41\"],[0.9,\"#4d9221\"],[1,\"#276419\"]],\"sequential\":[[0.0,\"#0d0887\"],[0.1111111111111111,\"#46039f\"],[0.2222222222222222,\"#7201a8\"],[0.3333333333333333,\"#9c179e\"],[0.4444444444444444,\"#bd3786\"],[0.5555555555555556,\"#d8576b\"],[0.6666666666666666,\"#ed7953\"],[0.7777777777777778,\"#fb9f3a\"],[0.8888888888888888,\"#fdca26\"],[1.0,\"#f0f921\"]],\"sequentialminus\":[[0.0,\"#0d0887\"],[0.1111111111111111,\"#46039f\"],[0.2222222222222222,\"#7201a8\"],[0.3333333333333333,\"#9c179e\"],[0.4444444444444444,\"#bd3786\"],[0.5555555555555556,\"#d8576b\"],[0.6666666666666666,\"#ed7953\"],[0.7777777777777778,\"#fb9f3a\"],[0.8888888888888888,\"#fdca26\"],[1.0,\"#f0f921\"]]},\"colorway\":[\"#636efa\",\"#EF553B\",\"#00cc96\",\"#ab63fa\",\"#FFA15A\",\"#19d3f3\",\"#FF6692\",\"#B6E880\",\"#FF97FF\",\"#FECB52\"],\"font\":{\"color\":\"#2a3f5f\"},\"geo\":{\"bgcolor\":\"white\",\"lakecolor\":\"white\",\"landcolor\":\"#E5ECF6\",\"showlakes\":true,\"showland\":true,\"subunitcolor\":\"white\"},\"hoverlabel\":{\"align\":\"left\"},\"hovermode\":\"closest\",\"mapbox\":{\"style\":\"light\"},\"paper_bgcolor\":\"white\",\"plot_bgcolor\":\"#E5ECF6\",\"polar\":{\"angularaxis\":{\"gridcolor\":\"white\",\"linecolor\":\"white\",\"ticks\":\"\"},\"bgcolor\":\"#E5ECF6\",\"radialaxis\":{\"gridcolor\":\"white\",\"linecolor\":\"white\",\"ticks\":\"\"}},\"scene\":{\"xaxis\":{\"backgroundcolor\":\"#E5ECF6\",\"gridcolor\":\"white\",\"gridwidth\":2,\"linecolor\":\"white\",\"showbackground\":true,\"ticks\":\"\",\"zerolinecolor\":\"white\"},\"yaxis\":{\"backgroundcolor\":\"#E5ECF6\",\"gridcolor\":\"white\",\"gridwidth\":2,\"linecolor\":\"white\",\"showbackground\":true,\"ticks\":\"\",\"zerolinecolor\":\"white\"},\"zaxis\":{\"backgroundcolor\":\"#E5ECF6\",\"gridcolor\":\"white\",\"gridwidth\":2,\"linecolor\":\"white\",\"showbackground\":true,\"ticks\":\"\",\"zerolinecolor\":\"white\"}},\"shapedefaults\":{\"line\":{\"color\":\"#2a3f5f\"}},\"ternary\":{\"aaxis\":{\"gridcolor\":\"white\",\"linecolor\":\"white\",\"ticks\":\"\"},\"baxis\":{\"gridcolor\":\"white\",\"linecolor\":\"white\",\"ticks\":\"\"},\"bgcolor\":\"#E5ECF6\",\"caxis\":{\"gridcolor\":\"white\",\"linecolor\":\"white\",\"ticks\":\"\"}},\"title\":{\"x\":0.05},\"xaxis\":{\"automargin\":true,\"gridcolor\":\"white\",\"linecolor\":\"white\",\"ticks\":\"\",\"title\":{\"standoff\":15},\"zerolinecolor\":\"white\",\"zerolinewidth\":2},\"yaxis\":{\"automargin\":true,\"gridcolor\":\"white\",\"linecolor\":\"white\",\"ticks\":\"\",\"title\":{\"standoff\":15},\"zerolinecolor\":\"white\",\"zerolinewidth\":2}}},\"title\":{\"text\":\"Model: Paragraph, Email scores: Email\",\"x\":0.5,\"xanchor\":\"center\",\"y\":0.9,\"yanchor\":\"top\"},\"xaxis\":{\"title\":{\"text\":\"Top results\"}},\"yaxis\":{\"title\":{\"text\":\"\"}}},                        {\"responsive\": true}                    ).then(function(){\n",
       "                            \n",
       "var gd = document.getElementById('f650f2b3-827b-428f-bd35-537a9bdc610b');\n",
       "var x = new MutationObserver(function (mutations, observer) {{\n",
       "        var display = window.getComputedStyle(gd).display;\n",
       "        if (!display || display === 'none') {{\n",
       "            console.log([gd, 'removed!']);\n",
       "            Plotly.purge(gd);\n",
       "            observer.disconnect();\n",
       "        }}\n",
       "}});\n",
       "\n",
       "// Listen for the removal of the full notebook cells\n",
       "var notebookContainer = gd.closest('#notebook-container');\n",
       "if (notebookContainer) {{\n",
       "    x.observe(notebookContainer, {childList: true});\n",
       "}}\n",
       "\n",
       "// Listen for the clearing of the current output cell\n",
       "var outputEl = gd.closest('.output');\n",
       "if (outputEl) {{\n",
       "    x.observe(outputEl, {childList: true});\n",
       "}}\n",
       "\n",
       "                        })                };                });            </script>        </div>"
      ]
     },
     "metadata": {},
     "output_type": "display_data"
    },
    {
     "data": {
      "application/vnd.plotly.v1+json": {
       "config": {
        "plotlyServerURL": "https://plot.ly"
       },
       "data": [
        {
         "name": "Precision",
         "type": "scatter",
         "x": [
          10,
          20,
          30,
          40,
          50,
          60,
          70,
          80,
          90,
          100,
          110,
          120,
          130,
          140,
          150,
          160,
          170,
          180,
          190,
          200,
          210,
          220,
          230,
          240,
          250,
          260,
          270,
          280,
          290,
          300,
          310,
          320,
          330,
          340,
          350,
          360,
          370,
          380,
          390,
          400,
          410,
          420,
          430,
          440,
          450,
          460,
          470,
          480,
          490
         ],
         "y": [
          0.9,
          0.7,
          0.6666666666666666,
          0.7,
          0.74,
          0.6666666666666666,
          0.6,
          0.6,
          0.6444444444444445,
          0.68,
          0.7090909090909091,
          0.7333333333333333,
          0.7538461538461538,
          0.7714285714285715,
          0.7866666666666666,
          0.8,
          0.8117647058823529,
          0.8111111111111111,
          0.7684210526315789,
          0.73,
          0.6952380952380952,
          0.6636363636363637,
          0.6347826086956522,
          0.6083333333333333,
          0.584,
          0.5615384615384615,
          0.5407407407407407,
          0.5214285714285715,
          0.503448275862069,
          0.4866666666666667,
          0.47096774193548385,
          0.45625,
          0.44242424242424244,
          0.4294117647058823,
          0.41714285714285715,
          0.40555555555555556,
          0.3945945945945946,
          0.38421052631578945,
          0.37435897435897436,
          0.365,
          0.35609756097560974,
          0.3476190476190476,
          0.3395348837209302,
          0.33181818181818185,
          0.3244444444444444,
          0.3173913043478261,
          0.31063829787234043,
          0.30416666666666664,
          0.2979591836734694
         ]
        },
        {
         "name": "Recall",
         "type": "scatter",
         "x": [
          10,
          20,
          30,
          40,
          50,
          60,
          70,
          80,
          90,
          100,
          110,
          120,
          130,
          140,
          150,
          160,
          170,
          180,
          190,
          200,
          210,
          220,
          230,
          240,
          250,
          260,
          270,
          280,
          290,
          300,
          310,
          320,
          330,
          340,
          350,
          360,
          370,
          380,
          390,
          400,
          410,
          420,
          430,
          440,
          450,
          460,
          470,
          480,
          490
         ],
         "y": [
          0.06040268456375839,
          0.09395973154362416,
          0.1342281879194631,
          0.18791946308724833,
          0.2483221476510067,
          0.2684563758389262,
          0.28187919463087246,
          0.3221476510067114,
          0.38926174496644295,
          0.4563758389261745,
          0.5234899328859061,
          0.5906040268456376,
          0.6577181208053692,
          0.7248322147651006,
          0.7919463087248322,
          0.8590604026845637,
          0.9261744966442953,
          0.9798657718120806,
          0.9798657718120806,
          0.9798657718120806,
          0.9798657718120806,
          0.9798657718120806,
          0.9798657718120806,
          0.9798657718120806,
          0.9798657718120806,
          0.9798657718120806,
          0.9798657718120806,
          0.9798657718120806,
          0.9798657718120806,
          0.9798657718120806,
          0.9798657718120806,
          0.9798657718120806,
          0.9798657718120806,
          0.9798657718120806,
          0.9798657718120806,
          0.9798657718120806,
          0.9798657718120806,
          0.9798657718120806,
          0.9798657718120806,
          0.9798657718120806,
          0.9798657718120806,
          0.9798657718120806,
          0.9798657718120806,
          0.9798657718120806,
          0.9798657718120806,
          0.9798657718120806,
          0.9798657718120806,
          0.9798657718120806,
          0.9798657718120806
         ]
        }
       ],
       "layout": {
        "autosize": true,
        "font": {
         "family": "Arial"
        },
        "legend": {
         "title": {
          "text": "Score Type"
         }
        },
        "template": {
         "data": {
          "bar": [
           {
            "error_x": {
             "color": "#2a3f5f"
            },
            "error_y": {
             "color": "#2a3f5f"
            },
            "marker": {
             "line": {
              "color": "#E5ECF6",
              "width": 0.5
             },
             "pattern": {
              "fillmode": "overlay",
              "size": 10,
              "solidity": 0.2
             }
            },
            "type": "bar"
           }
          ],
          "barpolar": [
           {
            "marker": {
             "line": {
              "color": "#E5ECF6",
              "width": 0.5
             },
             "pattern": {
              "fillmode": "overlay",
              "size": 10,
              "solidity": 0.2
             }
            },
            "type": "barpolar"
           }
          ],
          "carpet": [
           {
            "aaxis": {
             "endlinecolor": "#2a3f5f",
             "gridcolor": "white",
             "linecolor": "white",
             "minorgridcolor": "white",
             "startlinecolor": "#2a3f5f"
            },
            "baxis": {
             "endlinecolor": "#2a3f5f",
             "gridcolor": "white",
             "linecolor": "white",
             "minorgridcolor": "white",
             "startlinecolor": "#2a3f5f"
            },
            "type": "carpet"
           }
          ],
          "choropleth": [
           {
            "colorbar": {
             "outlinewidth": 0,
             "ticks": ""
            },
            "type": "choropleth"
           }
          ],
          "contour": [
           {
            "colorbar": {
             "outlinewidth": 0,
             "ticks": ""
            },
            "colorscale": [
             [
              0,
              "#0d0887"
             ],
             [
              0.1111111111111111,
              "#46039f"
             ],
             [
              0.2222222222222222,
              "#7201a8"
             ],
             [
              0.3333333333333333,
              "#9c179e"
             ],
             [
              0.4444444444444444,
              "#bd3786"
             ],
             [
              0.5555555555555556,
              "#d8576b"
             ],
             [
              0.6666666666666666,
              "#ed7953"
             ],
             [
              0.7777777777777778,
              "#fb9f3a"
             ],
             [
              0.8888888888888888,
              "#fdca26"
             ],
             [
              1,
              "#f0f921"
             ]
            ],
            "type": "contour"
           }
          ],
          "contourcarpet": [
           {
            "colorbar": {
             "outlinewidth": 0,
             "ticks": ""
            },
            "type": "contourcarpet"
           }
          ],
          "heatmap": [
           {
            "colorbar": {
             "outlinewidth": 0,
             "ticks": ""
            },
            "colorscale": [
             [
              0,
              "#0d0887"
             ],
             [
              0.1111111111111111,
              "#46039f"
             ],
             [
              0.2222222222222222,
              "#7201a8"
             ],
             [
              0.3333333333333333,
              "#9c179e"
             ],
             [
              0.4444444444444444,
              "#bd3786"
             ],
             [
              0.5555555555555556,
              "#d8576b"
             ],
             [
              0.6666666666666666,
              "#ed7953"
             ],
             [
              0.7777777777777778,
              "#fb9f3a"
             ],
             [
              0.8888888888888888,
              "#fdca26"
             ],
             [
              1,
              "#f0f921"
             ]
            ],
            "type": "heatmap"
           }
          ],
          "heatmapgl": [
           {
            "colorbar": {
             "outlinewidth": 0,
             "ticks": ""
            },
            "colorscale": [
             [
              0,
              "#0d0887"
             ],
             [
              0.1111111111111111,
              "#46039f"
             ],
             [
              0.2222222222222222,
              "#7201a8"
             ],
             [
              0.3333333333333333,
              "#9c179e"
             ],
             [
              0.4444444444444444,
              "#bd3786"
             ],
             [
              0.5555555555555556,
              "#d8576b"
             ],
             [
              0.6666666666666666,
              "#ed7953"
             ],
             [
              0.7777777777777778,
              "#fb9f3a"
             ],
             [
              0.8888888888888888,
              "#fdca26"
             ],
             [
              1,
              "#f0f921"
             ]
            ],
            "type": "heatmapgl"
           }
          ],
          "histogram": [
           {
            "marker": {
             "pattern": {
              "fillmode": "overlay",
              "size": 10,
              "solidity": 0.2
             }
            },
            "type": "histogram"
           }
          ],
          "histogram2d": [
           {
            "colorbar": {
             "outlinewidth": 0,
             "ticks": ""
            },
            "colorscale": [
             [
              0,
              "#0d0887"
             ],
             [
              0.1111111111111111,
              "#46039f"
             ],
             [
              0.2222222222222222,
              "#7201a8"
             ],
             [
              0.3333333333333333,
              "#9c179e"
             ],
             [
              0.4444444444444444,
              "#bd3786"
             ],
             [
              0.5555555555555556,
              "#d8576b"
             ],
             [
              0.6666666666666666,
              "#ed7953"
             ],
             [
              0.7777777777777778,
              "#fb9f3a"
             ],
             [
              0.8888888888888888,
              "#fdca26"
             ],
             [
              1,
              "#f0f921"
             ]
            ],
            "type": "histogram2d"
           }
          ],
          "histogram2dcontour": [
           {
            "colorbar": {
             "outlinewidth": 0,
             "ticks": ""
            },
            "colorscale": [
             [
              0,
              "#0d0887"
             ],
             [
              0.1111111111111111,
              "#46039f"
             ],
             [
              0.2222222222222222,
              "#7201a8"
             ],
             [
              0.3333333333333333,
              "#9c179e"
             ],
             [
              0.4444444444444444,
              "#bd3786"
             ],
             [
              0.5555555555555556,
              "#d8576b"
             ],
             [
              0.6666666666666666,
              "#ed7953"
             ],
             [
              0.7777777777777778,
              "#fb9f3a"
             ],
             [
              0.8888888888888888,
              "#fdca26"
             ],
             [
              1,
              "#f0f921"
             ]
            ],
            "type": "histogram2dcontour"
           }
          ],
          "mesh3d": [
           {
            "colorbar": {
             "outlinewidth": 0,
             "ticks": ""
            },
            "type": "mesh3d"
           }
          ],
          "parcoords": [
           {
            "line": {
             "colorbar": {
              "outlinewidth": 0,
              "ticks": ""
             }
            },
            "type": "parcoords"
           }
          ],
          "pie": [
           {
            "automargin": true,
            "type": "pie"
           }
          ],
          "scatter": [
           {
            "marker": {
             "colorbar": {
              "outlinewidth": 0,
              "ticks": ""
             }
            },
            "type": "scatter"
           }
          ],
          "scatter3d": [
           {
            "line": {
             "colorbar": {
              "outlinewidth": 0,
              "ticks": ""
             }
            },
            "marker": {
             "colorbar": {
              "outlinewidth": 0,
              "ticks": ""
             }
            },
            "type": "scatter3d"
           }
          ],
          "scattercarpet": [
           {
            "marker": {
             "colorbar": {
              "outlinewidth": 0,
              "ticks": ""
             }
            },
            "type": "scattercarpet"
           }
          ],
          "scattergeo": [
           {
            "marker": {
             "colorbar": {
              "outlinewidth": 0,
              "ticks": ""
             }
            },
            "type": "scattergeo"
           }
          ],
          "scattergl": [
           {
            "marker": {
             "colorbar": {
              "outlinewidth": 0,
              "ticks": ""
             }
            },
            "type": "scattergl"
           }
          ],
          "scattermapbox": [
           {
            "marker": {
             "colorbar": {
              "outlinewidth": 0,
              "ticks": ""
             }
            },
            "type": "scattermapbox"
           }
          ],
          "scatterpolar": [
           {
            "marker": {
             "colorbar": {
              "outlinewidth": 0,
              "ticks": ""
             }
            },
            "type": "scatterpolar"
           }
          ],
          "scatterpolargl": [
           {
            "marker": {
             "colorbar": {
              "outlinewidth": 0,
              "ticks": ""
             }
            },
            "type": "scatterpolargl"
           }
          ],
          "scatterternary": [
           {
            "marker": {
             "colorbar": {
              "outlinewidth": 0,
              "ticks": ""
             }
            },
            "type": "scatterternary"
           }
          ],
          "surface": [
           {
            "colorbar": {
             "outlinewidth": 0,
             "ticks": ""
            },
            "colorscale": [
             [
              0,
              "#0d0887"
             ],
             [
              0.1111111111111111,
              "#46039f"
             ],
             [
              0.2222222222222222,
              "#7201a8"
             ],
             [
              0.3333333333333333,
              "#9c179e"
             ],
             [
              0.4444444444444444,
              "#bd3786"
             ],
             [
              0.5555555555555556,
              "#d8576b"
             ],
             [
              0.6666666666666666,
              "#ed7953"
             ],
             [
              0.7777777777777778,
              "#fb9f3a"
             ],
             [
              0.8888888888888888,
              "#fdca26"
             ],
             [
              1,
              "#f0f921"
             ]
            ],
            "type": "surface"
           }
          ],
          "table": [
           {
            "cells": {
             "fill": {
              "color": "#EBF0F8"
             },
             "line": {
              "color": "white"
             }
            },
            "header": {
             "fill": {
              "color": "#C8D4E3"
             },
             "line": {
              "color": "white"
             }
            },
            "type": "table"
           }
          ]
         },
         "layout": {
          "annotationdefaults": {
           "arrowcolor": "#2a3f5f",
           "arrowhead": 0,
           "arrowwidth": 1
          },
          "autotypenumbers": "strict",
          "coloraxis": {
           "colorbar": {
            "outlinewidth": 0,
            "ticks": ""
           }
          },
          "colorscale": {
           "diverging": [
            [
             0,
             "#8e0152"
            ],
            [
             0.1,
             "#c51b7d"
            ],
            [
             0.2,
             "#de77ae"
            ],
            [
             0.3,
             "#f1b6da"
            ],
            [
             0.4,
             "#fde0ef"
            ],
            [
             0.5,
             "#f7f7f7"
            ],
            [
             0.6,
             "#e6f5d0"
            ],
            [
             0.7,
             "#b8e186"
            ],
            [
             0.8,
             "#7fbc41"
            ],
            [
             0.9,
             "#4d9221"
            ],
            [
             1,
             "#276419"
            ]
           ],
           "sequential": [
            [
             0,
             "#0d0887"
            ],
            [
             0.1111111111111111,
             "#46039f"
            ],
            [
             0.2222222222222222,
             "#7201a8"
            ],
            [
             0.3333333333333333,
             "#9c179e"
            ],
            [
             0.4444444444444444,
             "#bd3786"
            ],
            [
             0.5555555555555556,
             "#d8576b"
            ],
            [
             0.6666666666666666,
             "#ed7953"
            ],
            [
             0.7777777777777778,
             "#fb9f3a"
            ],
            [
             0.8888888888888888,
             "#fdca26"
            ],
            [
             1,
             "#f0f921"
            ]
           ],
           "sequentialminus": [
            [
             0,
             "#0d0887"
            ],
            [
             0.1111111111111111,
             "#46039f"
            ],
            [
             0.2222222222222222,
             "#7201a8"
            ],
            [
             0.3333333333333333,
             "#9c179e"
            ],
            [
             0.4444444444444444,
             "#bd3786"
            ],
            [
             0.5555555555555556,
             "#d8576b"
            ],
            [
             0.6666666666666666,
             "#ed7953"
            ],
            [
             0.7777777777777778,
             "#fb9f3a"
            ],
            [
             0.8888888888888888,
             "#fdca26"
            ],
            [
             1,
             "#f0f921"
            ]
           ]
          },
          "colorway": [
           "#636efa",
           "#EF553B",
           "#00cc96",
           "#ab63fa",
           "#FFA15A",
           "#19d3f3",
           "#FF6692",
           "#B6E880",
           "#FF97FF",
           "#FECB52"
          ],
          "font": {
           "color": "#2a3f5f"
          },
          "geo": {
           "bgcolor": "white",
           "lakecolor": "white",
           "landcolor": "#E5ECF6",
           "showlakes": true,
           "showland": true,
           "subunitcolor": "white"
          },
          "hoverlabel": {
           "align": "left"
          },
          "hovermode": "closest",
          "mapbox": {
           "style": "light"
          },
          "paper_bgcolor": "white",
          "plot_bgcolor": "#E5ECF6",
          "polar": {
           "angularaxis": {
            "gridcolor": "white",
            "linecolor": "white",
            "ticks": ""
           },
           "bgcolor": "#E5ECF6",
           "radialaxis": {
            "gridcolor": "white",
            "linecolor": "white",
            "ticks": ""
           }
          },
          "scene": {
           "xaxis": {
            "backgroundcolor": "#E5ECF6",
            "gridcolor": "white",
            "gridwidth": 2,
            "linecolor": "white",
            "showbackground": true,
            "ticks": "",
            "zerolinecolor": "white"
           },
           "yaxis": {
            "backgroundcolor": "#E5ECF6",
            "gridcolor": "white",
            "gridwidth": 2,
            "linecolor": "white",
            "showbackground": true,
            "ticks": "",
            "zerolinecolor": "white"
           },
           "zaxis": {
            "backgroundcolor": "#E5ECF6",
            "gridcolor": "white",
            "gridwidth": 2,
            "linecolor": "white",
            "showbackground": true,
            "ticks": "",
            "zerolinecolor": "white"
           }
          },
          "shapedefaults": {
           "line": {
            "color": "#2a3f5f"
           }
          },
          "ternary": {
           "aaxis": {
            "gridcolor": "white",
            "linecolor": "white",
            "ticks": ""
           },
           "baxis": {
            "gridcolor": "white",
            "linecolor": "white",
            "ticks": ""
           },
           "bgcolor": "#E5ECF6",
           "caxis": {
            "gridcolor": "white",
            "linecolor": "white",
            "ticks": ""
           }
          },
          "title": {
           "x": 0.05
          },
          "xaxis": {
           "automargin": true,
           "gridcolor": "white",
           "linecolor": "white",
           "ticks": "",
           "title": {
            "standoff": 15
           },
           "zerolinecolor": "white",
           "zerolinewidth": 2
          },
          "yaxis": {
           "automargin": true,
           "gridcolor": "white",
           "linecolor": "white",
           "ticks": "",
           "title": {
            "standoff": 15
           },
           "zerolinecolor": "white",
           "zerolinewidth": 2
          }
         }
        },
        "title": {
         "text": "Model: Paragraph, Email scores: Paragraph",
         "x": 0.5,
         "xanchor": "center",
         "y": 0.9,
         "yanchor": "top"
        },
        "xaxis": {
         "autorange": true,
         "range": [
          10,
          490
         ],
         "title": {
          "text": "Top results"
         },
         "type": "linear"
        },
        "yaxis": {
         "autorange": true,
         "range": [
          0.0093214019388516,
          1.0309470544369874
         ],
         "title": {
          "text": ""
         },
         "type": "linear"
        }
       }
      },
      "image/png": "[encoded data removed]",
      "text/html": [
       "<div>                            <div id=\"1566b315-8f61-48fd-9802-452c16b4425c\" class=\"plotly-graph-div\" style=\"height:525px; width:100%;\"></div>            <script type=\"text/javascript\">                require([\"plotly\"], function(Plotly) {                    window.PLOTLYENV=window.PLOTLYENV || {};                                    if (document.getElementById(\"1566b315-8f61-48fd-9802-452c16b4425c\")) {                    Plotly.newPlot(                        \"1566b315-8f61-48fd-9802-452c16b4425c\",                        [{\"name\":\"Precision\",\"type\":\"scatter\",\"x\":[10,20,30,40,50,60,70,80,90,100,110,120,130,140,150,160,170,180,190,200,210,220,230,240,250,260,270,280,290,300,310,320,330,340,350,360,370,380,390,400,410,420,430,440,450,460,470,480,490],\"y\":[0.9,0.7,0.6666666666666666,0.7,0.74,0.6666666666666666,0.6,0.6,0.6444444444444445,0.68,0.7090909090909091,0.7333333333333333,0.7538461538461538,0.7714285714285715,0.7866666666666666,0.8,0.8117647058823529,0.8111111111111111,0.7684210526315789,0.73,0.6952380952380952,0.6636363636363637,0.6347826086956522,0.6083333333333333,0.584,0.5615384615384615,0.5407407407407407,0.5214285714285715,0.503448275862069,0.4866666666666667,0.47096774193548385,0.45625,0.44242424242424244,0.4294117647058823,0.41714285714285715,0.40555555555555556,0.3945945945945946,0.38421052631578945,0.37435897435897436,0.365,0.35609756097560974,0.3476190476190476,0.3395348837209302,0.33181818181818185,0.3244444444444444,0.3173913043478261,0.31063829787234043,0.30416666666666664,0.2979591836734694]},{\"name\":\"Recall\",\"type\":\"scatter\",\"x\":[10,20,30,40,50,60,70,80,90,100,110,120,130,140,150,160,170,180,190,200,210,220,230,240,250,260,270,280,290,300,310,320,330,340,350,360,370,380,390,400,410,420,430,440,450,460,470,480,490],\"y\":[0.06040268456375839,0.09395973154362416,0.1342281879194631,0.18791946308724833,0.2483221476510067,0.2684563758389262,0.28187919463087246,0.3221476510067114,0.38926174496644295,0.4563758389261745,0.5234899328859061,0.5906040268456376,0.6577181208053692,0.7248322147651006,0.7919463087248322,0.8590604026845637,0.9261744966442953,0.9798657718120806,0.9798657718120806,0.9798657718120806,0.9798657718120806,0.9798657718120806,0.9798657718120806,0.9798657718120806,0.9798657718120806,0.9798657718120806,0.9798657718120806,0.9798657718120806,0.9798657718120806,0.9798657718120806,0.9798657718120806,0.9798657718120806,0.9798657718120806,0.9798657718120806,0.9798657718120806,0.9798657718120806,0.9798657718120806,0.9798657718120806,0.9798657718120806,0.9798657718120806,0.9798657718120806,0.9798657718120806,0.9798657718120806,0.9798657718120806,0.9798657718120806,0.9798657718120806,0.9798657718120806,0.9798657718120806,0.9798657718120806]}],                        {\"font\":{\"family\":\"Arial\"},\"legend\":{\"title\":{\"text\":\"Score Type\"}},\"template\":{\"data\":{\"bar\":[{\"error_x\":{\"color\":\"#2a3f5f\"},\"error_y\":{\"color\":\"#2a3f5f\"},\"marker\":{\"line\":{\"color\":\"#E5ECF6\",\"width\":0.5},\"pattern\":{\"fillmode\":\"overlay\",\"size\":10,\"solidity\":0.2}},\"type\":\"bar\"}],\"barpolar\":[{\"marker\":{\"line\":{\"color\":\"#E5ECF6\",\"width\":0.5},\"pattern\":{\"fillmode\":\"overlay\",\"size\":10,\"solidity\":0.2}},\"type\":\"barpolar\"}],\"carpet\":[{\"aaxis\":{\"endlinecolor\":\"#2a3f5f\",\"gridcolor\":\"white\",\"linecolor\":\"white\",\"minorgridcolor\":\"white\",\"startlinecolor\":\"#2a3f5f\"},\"baxis\":{\"endlinecolor\":\"#2a3f5f\",\"gridcolor\":\"white\",\"linecolor\":\"white\",\"minorgridcolor\":\"white\",\"startlinecolor\":\"#2a3f5f\"},\"type\":\"carpet\"}],\"choropleth\":[{\"colorbar\":{\"outlinewidth\":0,\"ticks\":\"\"},\"type\":\"choropleth\"}],\"contour\":[{\"colorbar\":{\"outlinewidth\":0,\"ticks\":\"\"},\"colorscale\":[[0.0,\"#0d0887\"],[0.1111111111111111,\"#46039f\"],[0.2222222222222222,\"#7201a8\"],[0.3333333333333333,\"#9c179e\"],[0.4444444444444444,\"#bd3786\"],[0.5555555555555556,\"#d8576b\"],[0.6666666666666666,\"#ed7953\"],[0.7777777777777778,\"#fb9f3a\"],[0.8888888888888888,\"#fdca26\"],[1.0,\"#f0f921\"]],\"type\":\"contour\"}],\"contourcarpet\":[{\"colorbar\":{\"outlinewidth\":0,\"ticks\":\"\"},\"type\":\"contourcarpet\"}],\"heatmap\":[{\"colorbar\":{\"outlinewidth\":0,\"ticks\":\"\"},\"colorscale\":[[0.0,\"#0d0887\"],[0.1111111111111111,\"#46039f\"],[0.2222222222222222,\"#7201a8\"],[0.3333333333333333,\"#9c179e\"],[0.4444444444444444,\"#bd3786\"],[0.5555555555555556,\"#d8576b\"],[0.6666666666666666,\"#ed7953\"],[0.7777777777777778,\"#fb9f3a\"],[0.8888888888888888,\"#fdca26\"],[1.0,\"#f0f921\"]],\"type\":\"heatmap\"}],\"heatmapgl\":[{\"colorbar\":{\"outlinewidth\":0,\"ticks\":\"\"},\"colorscale\":[[0.0,\"#0d0887\"],[0.1111111111111111,\"#46039f\"],[0.2222222222222222,\"#7201a8\"],[0.3333333333333333,\"#9c179e\"],[0.4444444444444444,\"#bd3786\"],[0.5555555555555556,\"#d8576b\"],[0.6666666666666666,\"#ed7953\"],[0.7777777777777778,\"#fb9f3a\"],[0.8888888888888888,\"#fdca26\"],[1.0,\"#f0f921\"]],\"type\":\"heatmapgl\"}],\"histogram\":[{\"marker\":{\"pattern\":{\"fillmode\":\"overlay\",\"size\":10,\"solidity\":0.2}},\"type\":\"histogram\"}],\"histogram2d\":[{\"colorbar\":{\"outlinewidth\":0,\"ticks\":\"\"},\"colorscale\":[[0.0,\"#0d0887\"],[0.1111111111111111,\"#46039f\"],[0.2222222222222222,\"#7201a8\"],[0.3333333333333333,\"#9c179e\"],[0.4444444444444444,\"#bd3786\"],[0.5555555555555556,\"#d8576b\"],[0.6666666666666666,\"#ed7953\"],[0.7777777777777778,\"#fb9f3a\"],[0.8888888888888888,\"#fdca26\"],[1.0,\"#f0f921\"]],\"type\":\"histogram2d\"}],\"histogram2dcontour\":[{\"colorbar\":{\"outlinewidth\":0,\"ticks\":\"\"},\"colorscale\":[[0.0,\"#0d0887\"],[0.1111111111111111,\"#46039f\"],[0.2222222222222222,\"#7201a8\"],[0.3333333333333333,\"#9c179e\"],[0.4444444444444444,\"#bd3786\"],[0.5555555555555556,\"#d8576b\"],[0.6666666666666666,\"#ed7953\"],[0.7777777777777778,\"#fb9f3a\"],[0.8888888888888888,\"#fdca26\"],[1.0,\"#f0f921\"]],\"type\":\"histogram2dcontour\"}],\"mesh3d\":[{\"colorbar\":{\"outlinewidth\":0,\"ticks\":\"\"},\"type\":\"mesh3d\"}],\"parcoords\":[{\"line\":{\"colorbar\":{\"outlinewidth\":0,\"ticks\":\"\"}},\"type\":\"parcoords\"}],\"pie\":[{\"automargin\":true,\"type\":\"pie\"}],\"scatter\":[{\"marker\":{\"colorbar\":{\"outlinewidth\":0,\"ticks\":\"\"}},\"type\":\"scatter\"}],\"scatter3d\":[{\"line\":{\"colorbar\":{\"outlinewidth\":0,\"ticks\":\"\"}},\"marker\":{\"colorbar\":{\"outlinewidth\":0,\"ticks\":\"\"}},\"type\":\"scatter3d\"}],\"scattercarpet\":[{\"marker\":{\"colorbar\":{\"outlinewidth\":0,\"ticks\":\"\"}},\"type\":\"scattercarpet\"}],\"scattergeo\":[{\"marker\":{\"colorbar\":{\"outlinewidth\":0,\"ticks\":\"\"}},\"type\":\"scattergeo\"}],\"scattergl\":[{\"marker\":{\"colorbar\":{\"outlinewidth\":0,\"ticks\":\"\"}},\"type\":\"scattergl\"}],\"scattermapbox\":[{\"marker\":{\"colorbar\":{\"outlinewidth\":0,\"ticks\":\"\"}},\"type\":\"scattermapbox\"}],\"scatterpolar\":[{\"marker\":{\"colorbar\":{\"outlinewidth\":0,\"ticks\":\"\"}},\"type\":\"scatterpolar\"}],\"scatterpolargl\":[{\"marker\":{\"colorbar\":{\"outlinewidth\":0,\"ticks\":\"\"}},\"type\":\"scatterpolargl\"}],\"scatterternary\":[{\"marker\":{\"colorbar\":{\"outlinewidth\":0,\"ticks\":\"\"}},\"type\":\"scatterternary\"}],\"surface\":[{\"colorbar\":{\"outlinewidth\":0,\"ticks\":\"\"},\"colorscale\":[[0.0,\"#0d0887\"],[0.1111111111111111,\"#46039f\"],[0.2222222222222222,\"#7201a8\"],[0.3333333333333333,\"#9c179e\"],[0.4444444444444444,\"#bd3786\"],[0.5555555555555556,\"#d8576b\"],[0.6666666666666666,\"#ed7953\"],[0.7777777777777778,\"#fb9f3a\"],[0.8888888888888888,\"#fdca26\"],[1.0,\"#f0f921\"]],\"type\":\"surface\"}],\"table\":[{\"cells\":{\"fill\":{\"color\":\"#EBF0F8\"},\"line\":{\"color\":\"white\"}},\"header\":{\"fill\":{\"color\":\"#C8D4E3\"},\"line\":{\"color\":\"white\"}},\"type\":\"table\"}]},\"layout\":{\"annotationdefaults\":{\"arrowcolor\":\"#2a3f5f\",\"arrowhead\":0,\"arrowwidth\":1},\"autotypenumbers\":\"strict\",\"coloraxis\":{\"colorbar\":{\"outlinewidth\":0,\"ticks\":\"\"}},\"colorscale\":{\"diverging\":[[0,\"#8e0152\"],[0.1,\"#c51b7d\"],[0.2,\"#de77ae\"],[0.3,\"#f1b6da\"],[0.4,\"#fde0ef\"],[0.5,\"#f7f7f7\"],[0.6,\"#e6f5d0\"],[0.7,\"#b8e186\"],[0.8,\"#7fbc41\"],[0.9,\"#4d9221\"],[1,\"#276419\"]],\"sequential\":[[0.0,\"#0d0887\"],[0.1111111111111111,\"#46039f\"],[0.2222222222222222,\"#7201a8\"],[0.3333333333333333,\"#9c179e\"],[0.4444444444444444,\"#bd3786\"],[0.5555555555555556,\"#d8576b\"],[0.6666666666666666,\"#ed7953\"],[0.7777777777777778,\"#fb9f3a\"],[0.8888888888888888,\"#fdca26\"],[1.0,\"#f0f921\"]],\"sequentialminus\":[[0.0,\"#0d0887\"],[0.1111111111111111,\"#46039f\"],[0.2222222222222222,\"#7201a8\"],[0.3333333333333333,\"#9c179e\"],[0.4444444444444444,\"#bd3786\"],[0.5555555555555556,\"#d8576b\"],[0.6666666666666666,\"#ed7953\"],[0.7777777777777778,\"#fb9f3a\"],[0.8888888888888888,\"#fdca26\"],[1.0,\"#f0f921\"]]},\"colorway\":[\"#636efa\",\"#EF553B\",\"#00cc96\",\"#ab63fa\",\"#FFA15A\",\"#19d3f3\",\"#FF6692\",\"#B6E880\",\"#FF97FF\",\"#FECB52\"],\"font\":{\"color\":\"#2a3f5f\"},\"geo\":{\"bgcolor\":\"white\",\"lakecolor\":\"white\",\"landcolor\":\"#E5ECF6\",\"showlakes\":true,\"showland\":true,\"subunitcolor\":\"white\"},\"hoverlabel\":{\"align\":\"left\"},\"hovermode\":\"closest\",\"mapbox\":{\"style\":\"light\"},\"paper_bgcolor\":\"white\",\"plot_bgcolor\":\"#E5ECF6\",\"polar\":{\"angularaxis\":{\"gridcolor\":\"white\",\"linecolor\":\"white\",\"ticks\":\"\"},\"bgcolor\":\"#E5ECF6\",\"radialaxis\":{\"gridcolor\":\"white\",\"linecolor\":\"white\",\"ticks\":\"\"}},\"scene\":{\"xaxis\":{\"backgroundcolor\":\"#E5ECF6\",\"gridcolor\":\"white\",\"gridwidth\":2,\"linecolor\":\"white\",\"showbackground\":true,\"ticks\":\"\",\"zerolinecolor\":\"white\"},\"yaxis\":{\"backgroundcolor\":\"#E5ECF6\",\"gridcolor\":\"white\",\"gridwidth\":2,\"linecolor\":\"white\",\"showbackground\":true,\"ticks\":\"\",\"zerolinecolor\":\"white\"},\"zaxis\":{\"backgroundcolor\":\"#E5ECF6\",\"gridcolor\":\"white\",\"gridwidth\":2,\"linecolor\":\"white\",\"showbackground\":true,\"ticks\":\"\",\"zerolinecolor\":\"white\"}},\"shapedefaults\":{\"line\":{\"color\":\"#2a3f5f\"}},\"ternary\":{\"aaxis\":{\"gridcolor\":\"white\",\"linecolor\":\"white\",\"ticks\":\"\"},\"baxis\":{\"gridcolor\":\"white\",\"linecolor\":\"white\",\"ticks\":\"\"},\"bgcolor\":\"#E5ECF6\",\"caxis\":{\"gridcolor\":\"white\",\"linecolor\":\"white\",\"ticks\":\"\"}},\"title\":{\"x\":0.05},\"xaxis\":{\"automargin\":true,\"gridcolor\":\"white\",\"linecolor\":\"white\",\"ticks\":\"\",\"title\":{\"standoff\":15},\"zerolinecolor\":\"white\",\"zerolinewidth\":2},\"yaxis\":{\"automargin\":true,\"gridcolor\":\"white\",\"linecolor\":\"white\",\"ticks\":\"\",\"title\":{\"standoff\":15},\"zerolinecolor\":\"white\",\"zerolinewidth\":2}}},\"title\":{\"text\":\"Model: Paragraph, Email scores: Paragraph\",\"x\":0.5,\"xanchor\":\"center\",\"y\":0.9,\"yanchor\":\"top\"},\"xaxis\":{\"title\":{\"text\":\"Top results\"}},\"yaxis\":{\"title\":{\"text\":\"\"}}},                        {\"responsive\": true}                    ).then(function(){\n",
       "                            \n",
       "var gd = document.getElementById('1566b315-8f61-48fd-9802-452c16b4425c');\n",
       "var x = new MutationObserver(function (mutations, observer) {{\n",
       "        var display = window.getComputedStyle(gd).display;\n",
       "        if (!display || display === 'none') {{\n",
       "            console.log([gd, 'removed!']);\n",
       "            Plotly.purge(gd);\n",
       "            observer.disconnect();\n",
       "        }}\n",
       "}});\n",
       "\n",
       "// Listen for the removal of the full notebook cells\n",
       "var notebookContainer = gd.closest('#notebook-container');\n",
       "if (notebookContainer) {{\n",
       "    x.observe(notebookContainer, {childList: true});\n",
       "}}\n",
       "\n",
       "// Listen for the clearing of the current output cell\n",
       "var outputEl = gd.closest('.output');\n",
       "if (outputEl) {{\n",
       "    x.observe(outputEl, {childList: true});\n",
       "}}\n",
       "\n",
       "                        })                };                });            </script>        </div>"
      ]
     },
     "metadata": {},
     "output_type": "display_data"
    }
   ],
   "source": [
    "total_revelant = 149\n",
    "#top_n = [10,20,30,50,5000]\n",
    "top_n = [x*10 for x in range(1, 50)]\n",
    "\n",
    "\n",
    "\n",
    "\n",
    "\n",
    "\n",
    "precision_list,recall_list = generate_metrics(ranked_emails_email_email, file_mapping_email_email, top_n)\n",
    "plot_pr_metrics(top_n,precision_list,recall_list,'Model: Email, Email scores: Email')\n",
    "\n",
    "precision_list,recall_list = generate_metrics(ranked_emails_email_par, file_mapping_email_par, top_n)\n",
    "plot_pr_metrics(top_n,precision_list,recall_list,'Model: Email, Email scores: Paragraph')\n",
    "\n",
    "precision_list,recall_list = generate_metrics(ranked_emails_par_email, file_mapping_par_email, top_n)\n",
    "plot_pr_metrics(top_n,precision_list,recall_list,'Model: Paragraph, Email scores: Email')\n",
    "\n",
    "\n",
    "precision_list,recall_list = generate_metrics(ranked_emails_par_par, file_mapping_par_par, top_n)\n",
    "plot_pr_metrics(top_n,precision_list,recall_list,'Model: Paragraph, Email scores: Paragraph')\n"
   ]
  },
  {
   "cell_type": "code",
   "execution_count": 256,
   "id": "7b91f232-25f9-4125-aaaa-d251c8635340",
   "metadata": {
    "execution": {
     "iopub.execute_input": "2021-11-13T14:50:13.292994Z",
     "iopub.status.busy": "2021-11-13T14:50:13.292233Z",
     "iopub.status.idle": "2021-11-13T15:34:34.767187Z",
     "shell.execute_reply": "2021-11-13T15:34:34.764620Z",
     "shell.execute_reply.started": "2021-11-13T14:50:13.292944Z"
    },
    "tags": []
   },
   "outputs": [
    {
     "name": "stdout",
     "output_type": "stream",
     "text": [
      "Working on  1\n"
     ]
    },
    {
     "name": "stderr",
     "output_type": "stream",
     "text": [
      "100%|███████████████████████████████████████| 3183/3183 [00:42<00:00, 74.95it/s]\n",
      "100%|█████████████████████████████████████| 30015/30015 [05:00<00:00, 99.93it/s]\n",
      "100%|██████████████████████████████████████| 3183/3183 [00:07<00:00, 444.31it/s]\n",
      "100%|████████████████████████████████████| 30015/30015 [00:38<00:00, 778.05it/s]\n"
     ]
    },
    {
     "name": "stdout",
     "output_type": "stream",
     "text": [
      "Working on  2\n"
     ]
    },
    {
     "name": "stderr",
     "output_type": "stream",
     "text": [
      "100%|██████████████████████████████████████| 3183/3183 [00:30<00:00, 105.79it/s]\n",
      "100%|████████████████████████████████████| 30015/30015 [03:15<00:00, 153.54it/s]\n",
      "100%|██████████████████████████████████████| 3183/3183 [00:03<00:00, 833.05it/s]\n",
      "100%|███████████████████████████████████| 30015/30015 [00:27<00:00, 1080.95it/s]\n"
     ]
    },
    {
     "name": "stdout",
     "output_type": "stream",
     "text": [
      "Working on  3\n"
     ]
    },
    {
     "name": "stderr",
     "output_type": "stream",
     "text": [
      "100%|██████████████████████████████████████| 3183/3183 [00:18<00:00, 175.74it/s]\n",
      "100%|████████████████████████████████████| 30015/30015 [02:18<00:00, 216.19it/s]\n",
      "100%|██████████████████████████████████████| 3183/3183 [00:03<00:00, 851.90it/s]\n",
      "100%|███████████████████████████████████| 30015/30015 [00:21<00:00, 1370.86it/s]\n"
     ]
    },
    {
     "name": "stdout",
     "output_type": "stream",
     "text": [
      "Working on  4\n"
     ]
    },
    {
     "name": "stderr",
     "output_type": "stream",
     "text": [
      "100%|██████████████████████████████████████| 3183/3183 [00:15<00:00, 210.35it/s]\n",
      "100%|████████████████████████████████████| 30015/30015 [02:04<00:00, 240.74it/s]\n",
      "100%|██████████████████████████████████████| 3183/3183 [00:04<00:00, 710.47it/s]\n",
      "100%|███████████████████████████████████| 30015/30015 [00:21<00:00, 1368.99it/s]\n"
     ]
    },
    {
     "name": "stdout",
     "output_type": "stream",
     "text": [
      "Working on  5\n"
     ]
    },
    {
     "name": "stderr",
     "output_type": "stream",
     "text": [
      "100%|██████████████████████████████████████| 3183/3183 [00:16<00:00, 193.31it/s]\n",
      "100%|████████████████████████████████████| 30015/30015 [03:43<00:00, 134.48it/s]\n",
      "100%|██████████████████████████████████████| 3183/3183 [00:08<00:00, 387.19it/s]\n",
      "100%|████████████████████████████████████| 30015/30015 [00:44<00:00, 681.57it/s]\n"
     ]
    },
    {
     "name": "stdout",
     "output_type": "stream",
     "text": [
      "Working on  6\n"
     ]
    },
    {
     "name": "stderr",
     "output_type": "stream",
     "text": [
      "100%|███████████████████████████████████████| 3183/3183 [00:33<00:00, 95.13it/s]\n",
      "100%|████████████████████████████████████| 30015/30015 [03:33<00:00, 140.91it/s]\n",
      "100%|██████████████████████████████████████| 3183/3183 [00:07<00:00, 451.05it/s]\n",
      "100%|████████████████████████████████████| 30015/30015 [00:33<00:00, 898.87it/s]\n"
     ]
    },
    {
     "name": "stdout",
     "output_type": "stream",
     "text": [
      "Working on  7\n"
     ]
    },
    {
     "name": "stderr",
     "output_type": "stream",
     "text": [
      "100%|███████████████████████████████████████| 3183/3183 [00:33<00:00, 96.13it/s]\n",
      "100%|████████████████████████████████████| 30015/30015 [03:33<00:00, 140.52it/s]\n",
      "100%|██████████████████████████████████████| 3183/3183 [00:06<00:00, 500.17it/s]\n",
      "100%|████████████████████████████████████| 30015/30015 [00:37<00:00, 803.19it/s]\n"
     ]
    },
    {
     "name": "stdout",
     "output_type": "stream",
     "text": [
      "Working on  8\n"
     ]
    },
    {
     "name": "stderr",
     "output_type": "stream",
     "text": [
      "100%|███████████████████████████████████████| 3183/3183 [00:42<00:00, 74.72it/s]\n",
      "100%|████████████████████████████████████| 30015/30015 [03:29<00:00, 143.49it/s]\n",
      "100%|██████████████████████████████████████| 3183/3183 [00:06<00:00, 485.07it/s]\n",
      "100%|███████████████████████████████████| 30015/30015 [00:28<00:00, 1057.73it/s]\n"
     ]
    },
    {
     "name": "stdout",
     "output_type": "stream",
     "text": [
      "Working on  9\n"
     ]
    },
    {
     "name": "stderr",
     "output_type": "stream",
     "text": [
      "100%|███████████████████████████████████████| 3183/3183 [00:35<00:00, 88.95it/s]\n",
      "100%|████████████████████████████████████| 30015/30015 [03:30<00:00, 142.90it/s]\n",
      "100%|██████████████████████████████████████| 3183/3183 [00:04<00:00, 783.37it/s]\n",
      "100%|███████████████████████████████████| 30015/30015 [00:24<00:00, 1238.09it/s]\n"
     ]
    },
    {
     "name": "stdout",
     "output_type": "stream",
     "text": [
      "Working on  10\n"
     ]
    },
    {
     "name": "stderr",
     "output_type": "stream",
     "text": [
      "100%|██████████████████████████████████████| 3183/3183 [00:18<00:00, 169.98it/s]\n",
      "100%|████████████████████████████████████| 30015/30015 [02:42<00:00, 184.97it/s]\n",
      "100%|██████████████████████████████████████| 3183/3183 [00:11<00:00, 281.83it/s]\n",
      "100%|████████████████████████████████████| 30015/30015 [00:40<00:00, 742.94it/s]\n"
     ]
    }
   ],
   "source": [
    "# Perform 10 queries and average them\n",
    "\n",
    "#total_revelant = 149\n",
    "#top_n = [x*10 for x in range(1, 50)]\n",
    "\n",
    "total_cnt = len(email_query_scores)\n",
    "\n",
    "\n",
    "def score_multiple_queries(email_query_scores,par_query_scores, top_n):\n",
    "    precision_list_email_email = []\n",
    "    precision_list_email_par = []\n",
    "    precision_list_par_email = []\n",
    "    precision_list_par_par = []\n",
    "\n",
    "    recall_list_email_email = []\n",
    "    recall_list_email_par = []\n",
    "    recall_list_par_email = []\n",
    "    recall_list_par_par = []\n",
    "    \n",
    "    precision_dictionary = {}\n",
    "    recall_dictionary = {}\n",
    "    \n",
    "    count = 1;\n",
    "\n",
    "    for email_query_score,par_query_score in zip(email_query_scores,par_query_scores):\n",
    "        # Rank the emails\n",
    "        \n",
    "        print('Working on ',str(count))\n",
    "        count = count + 1\n",
    "        ranked_emails_email_email,file_mapping_email_email  = score_mails(email_model, email_query_score, email_dictionary, email_texts, email_files)\n",
    "        ranked_emails_email_par,file_mapping_email_par  = score_mails(email_model, email_query_score, email_dictionary, par_texts, par_files)\n",
    "        ranked_emails_par_email,file_mapping_par_email  = score_mails(par_model, par_query_score, par_dictionary, email_texts, email_files)\n",
    "        ranked_emails_par_par,file_mapping_par_par  = score_mails(par_model, par_query_score, par_dictionary, par_texts, par_files)\n",
    "\n",
    "        precision_list,recal_list = generate_metrics(ranked_emails_email_email, file_mapping_email_email, top_n)\n",
    "        precision_list_email_email.append(precision_list)\n",
    "        recall_list_email_email.append(recall_list)\n",
    "\n",
    "        precision_list,recal_list = generate_metrics(ranked_emails_email_par, file_mapping_email_par, top_n)\n",
    "        precision_list_email_par.append(precision_list)\n",
    "        recall_list_email_par.append(recall_list)\n",
    "\n",
    "        precision_list,recal_list = generate_metrics(ranked_emails_par_email, file_mapping_par_email, top_n)\n",
    "        precision_list_par_email.append(precision_list)\n",
    "        recall_list_par_email.append(recall_list)\n",
    "\n",
    "        precision_list,recal_list = generate_metrics(ranked_emails_par_par, file_mapping_par_par, top_n)\n",
    "        precision_list_par_par.append(precision_list)\n",
    "        recall_list_par_par.append(recall_list)\n",
    "\n",
    "    precision_dictionary['email_email'] = precision_list_email_email\n",
    "    precision_dictionary['email_par'] = precision_list_email_par\n",
    "    precision_dictionary['par_email'] = precision_list_par_email\n",
    "    precision_dictionary['par_par'] = precision_list_par_par\n",
    "\n",
    "    recall_dictionary['email_email'] = recall_list_email_email\n",
    "    recall_dictionary['email_par'] = recall_list_email_par\n",
    "    recall_dictionary['par_email'] = recall_list_par_email\n",
    "    recall_dictionary['par_par'] = recall_list_par_par\n",
    "\n",
    "    return precision_dictionary,recall_dictionary\n",
    "\n",
    "precision_dictionary,recall_dictionary = score_multiple_queries(email_query_scores,par_query_scores)\n",
    "\n",
    "\n"
   ]
  },
  {
   "cell_type": "markdown",
   "id": "96b2cdec-0a92-4a8a-beca-717f7e1aa333",
   "metadata": {
    "execution": {
     "iopub.execute_input": "2021-11-13T16:09:59.059296Z",
     "iopub.status.busy": "2021-11-13T16:09:59.058818Z",
     "iopub.status.idle": "2021-11-13T16:09:59.234996Z",
     "shell.execute_reply": "2021-11-13T16:09:59.232197Z",
     "shell.execute_reply.started": "2021-11-13T16:09:59.059263Z"
    },
    "tags": []
   },
   "source": [
    "# from operator import add\n",
    "\n",
    "no_samples = len(precision_dictionary[\"email_email\"])\n",
    "\n",
    "def sum_metrics(list1,list2):\n",
    "    sum = list( map(add, list1, list2) )\n",
    "    return sum\n",
    "\n",
    "def calculate_avg_pr(precision_scores,recall_scores, top_n):\n",
    "    precision_avg = [0] * len(top_n)\n",
    "    recall_avg = [0] * len(top_n)\n",
    "\n",
    "    for precision_list,recall_list in zip(precision_scores,recall_scores):\n",
    "        precision_avg = sum_metrics(precision_avg,precision_list)\n",
    "        recall_avg = sum_metrics(recall_avg,recall_list)\n",
    "\n",
    "    precision_avg = [number / no_samples for number in precision_avg]\n",
    "    recall_avg = [number / no_samples for number in recall_avg]\n",
    "\n",
    "    return precision_avg,recall_avg\n",
    "\n",
    "    \n",
    "\n",
    "precision_scores = precision_dictionary[\"email_email\"]\n",
    "recall_scores = recall_dictionary[\"email_email\"]\n",
    "precision_avg,recall_avg = calculate_avg_pr(precision_scores,recall_scores,top_n)\n",
    "\n",
    "plot_pr_metrics(top_n,precision_avg,recall_avg,'Trained Model: Email -- Scored email: Email')\n",
    "\n",
    "#precision_list,recall_list = generate_metrics(ranked_emails_email_email, file_mapping_email_email, top_n)\n",
    "#plot_pr_metrics(top_n,precision_list,recall_list,'Model: Email, Email scores: Email')\n",
    "\n",
    "\n",
    "\n",
    "precision_scores = precision_dictionary[\"email_par\"]\n",
    "recall_scores = recall_dictionary[\"email_par\"]\n",
    "precision_avg,recall_avg = calculate_avg_pr(precision_scores,recall_scores,top_n)\n",
    "\n",
    "plot_pr_metrics(top_n,precision_avg,recall_avg,'Trained Model: Email -- Scored email: Paragraph')\n",
    "\n",
    "#precision_list,recall_list = generate_metrics(ranked_emails_email_par, file_mapping_email_par, top_n)\n",
    "#plot_pr_metrics(top_n,precision_list,recall_list,'Model: Email, Email scores: Paragraph')\n",
    "\n",
    "\n",
    "\n",
    "\n",
    "\n",
    "precision_scores = precision_dictionary[\"par_email\"]\n",
    "recall_scores = recall_dictionary[\"par_email\"]\n",
    "precision_avg,recall_avg = calculate_avg_pr(precision_scores,recall_scores,top_n)\n",
    "\n",
    "plot_pr_metrics(top_n,precision_avg,recall_avg,'Trained Model: Paragraph -- Scored email: Email')\n",
    "\n",
    "\n",
    "#precision_list,recall_list = generate_metrics(ranked_emails_par_email, file_mapping_par_email, top_n)\n",
    "#plot_pr_metrics(top_n,precision_list,recall_list,'Model: Paragraph, Email scores: Email')\n",
    "\n",
    "\n",
    "\n",
    "precision_scores = precision_dictionary[\"par_par\"]\n",
    "recall_scores = recall_dictionary[\"par_par\"]\n",
    "precision_avg,recall_avg = calculate_avg_pr(precision_scores,recall_scores,top_n)\n",
    "\n",
    "plot_pr_metrics(top_n,precision_avg,recall_avg,'Trained Model: Paragraph -- Scored email: Paragraph')\n",
    "\n",
    "\n",
    "#precision_list,recall_list = generate_metrics(ranked_emails_par_par, file_mapping_par_par, top_n)\n",
    "#plot_pr_metrics(top_n,precision_list,recall_list,'Model: Paragraph, Email scores: Paragraph')\n"
   ]
  },
  {
   "cell_type": "code",
   "execution_count": null,
   "id": "e4b73b53-b6f1-45f7-a00d-495ed0e2acc3",
   "metadata": {},
   "outputs": [],
   "source": []
  }
 ],
 "metadata": {
  "kernelspec": {
   "display_name": "Python 3 (ipykernel)",
   "language": "python",
   "name": "python3"
  },
  "language_info": {
   "codemirror_mode": {
    "name": "ipython",
    "version": 3
   },
   "file_extension": ".py",
   "mimetype": "text/x-python",
   "name": "python",
   "nbconvert_exporter": "python",
   "pygments_lexer": "ipython3",
   "version": "3.9.6"
  }
 },
 "nbformat": 4,
 "nbformat_minor": 5
}
