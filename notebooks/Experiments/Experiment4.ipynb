{
 "cells": [
  {
   "cell_type": "markdown",
   "id": "7992fe47-0095-4054-9a2e-0cc6c061187b",
   "metadata": {
    "execution": {
     "iopub.execute_input": "2021-11-14T11:50:58.514435Z",
     "iopub.status.busy": "2021-11-14T11:50:58.513732Z",
     "iopub.status.idle": "2021-11-14T11:50:59.374196Z",
     "shell.execute_reply": "2021-11-14T11:50:59.370298Z",
     "shell.execute_reply.started": "2021-11-14T11:50:58.514385Z"
    },
    "jupyter": {
     "source_hidden": true
    },
    "tags": []
   },
   "source": [
    "import os\n",
    "import re\n",
    "import os\n",
    "import tempfile\n",
    "import math\n",
    "from gensim.corpora import Dictionary\n",
    "from gensim.models import LdaModel\n",
    "from gensim.models import CoherenceModel\n",
    "import json\n",
    "from pprint import pprint\n",
    "\n",
    "from tqdm import tqdm\n",
    "\n",
    "import matplotlib.pyplot as plt\n",
    "from wordcloud import WordCloud\n",
    "import numpy as np\n",
    "\n",
    "import plotly.graph_objects as go\n",
    "\n",
    "\n",
    "################ Function definitions ###############\n",
    "# A helper function which loads the json email and returns it as a dictionary\n",
    "def loadMail(filename):\n",
    "    with open (filename, \"r\") as inputFile:\n",
    "        return json.load(inputFile)\n",
    "################ End Function definitions ###############\n",
    "\n",
    "\n",
    "########## Code: Loading Dictionaries #########\n",
    "def build_dictionaries(subdir, pre_pend_filter = \"\",  bow_docs_pos = None, dictionary_pos = None, texts_pos = None, filenames = None, limit = 10000, paragraphs = False):\n",
    "    # This technique requires dictionaries to fit in available memory.\n",
    "    # It is good for experimenting, but not for general purpose use if lots of data will be processed.\n",
    "    if(bow_docs_pos == None):\n",
    "        bow_docs_pos = []\n",
    "        texts_pos = []\n",
    "        dictionary_pos = Dictionary()      # Dictionary based on Part of Speech tagging\n",
    "        filenames = []\n",
    "    bow_docs_common = []\n",
    "    texts_common = []\n",
    "    dictionary_common = Dictionary()   # Dictionary based on common words\n",
    "\n",
    "\n",
    "    print(\"Building dictionaries\\n\")\n",
    "    #print(\"Files\")\n",
    "    #print(filenames)\n",
    "\n",
    "    # Build a dictionary of all the emails\n",
    "    count = 0\n",
    "    for root, dirs, files in os.walk(subdir):\n",
    "        for file in files:\n",
    "            if not re.search(r'^\\.',file):     #Filter out common files created by the OS\n",
    "                filename = os.path.basename(file)\n",
    "                if pre_pend_filter == \"\" or re.match(pre_pend_filter, filename, flags=re.IGNORECASE) != None:\n",
    "                    email_file = os.path.join(root,file)\n",
    "                    #new_mail.initMail(email_file)\n",
    "                    # Build a dictionary and BOW from common token documents\n",
    "\n",
    "                    #for key, value in developer.items():\n",
    "                        #print(key, \":\", value)\n",
    "                    email_dict = loadMail(email_file)\n",
    "                    if paragraphs:\n",
    "                        paragraph_list = email_dict['body_pos_paragraph_tokens']\n",
    "                        if len(paragraph_list) > 0:\n",
    "                            for paragraph in paragraph_list:\n",
    "                                texts_pos.append(paragraph)\n",
    "                                dictionary_pos.add_documents([paragraph])\n",
    "                                bow_docs_pos.append(dictionary_pos.doc2bow(paragraph))\n",
    "                                #print(email_file)\n",
    "                                filenames.append(email_file)\n",
    "                                \n",
    "                    else:\n",
    "                        texts_common.append(email_dict['body_tokens'])\n",
    "                        dictionary_common.add_documents([email_dict['body_tokens']])\n",
    "                        bow_docs_common.append(dictionary_common.doc2bow(email_dict[\"body_tokens\"]))\n",
    "\n",
    "                        # Build a specialised POS dictionary and BOW\n",
    "                        if(email_dict[\"body_pos_tokens\"] != None):\n",
    "                            texts_pos.append(email_dict[\"body_pos_tokens\"])\n",
    "                            dictionary_pos.add_documents([email_dict[\"body_pos_tokens\"]])\n",
    "                            bow_docs_pos.append(dictionary_pos.doc2bow(email_dict[\"body_pos_tokens\"]))\n",
    "                            filenames.append(email_file)\n",
    "\n",
    "                    if count == limit:\n",
    "                        break\n",
    "                    else:\n",
    "                        count = count + 1\n",
    "    print(\"Finished building dictionaries.\\n\\n\")\n",
    "\n",
    "    print(\"Number of documents in the BOW corpus: \",len(bow_docs_common))\n",
    "    print(\"Number of documents in the POS corpus: \",len(bow_docs_pos))\n",
    "    \n",
    "    return bow_docs_common,dictionary_common,texts_common,bow_docs_pos,dictionary_pos,texts_pos,filenames\n",
    "\n",
    "### Define a helper function to initialise and train the LDA model #####\n",
    "### The defaults fix some hyperparameters for the LDA model which can be overwritten #####\n",
    "def build_LDA_model(dictionary, bow_docs, num_topics = 2, \n",
    "              chunksize = 2000, \n",
    "              passes = 20, \n",
    "              iterations = 400, \n",
    "              eval_every = None):\n",
    "\n",
    "    dictionary[0]  # This is only to \"load\" the dictionary.\n",
    "    id2word = dictionary.id2token\n",
    "\n",
    "    model = LdaModel(\n",
    "        corpus=bow_docs,\n",
    "        id2word=id2word,\n",
    "        chunksize=chunksize,\n",
    "        alpha='auto',\n",
    "        eta='auto',\n",
    "        iterations=iterations,\n",
    "        num_topics=num_topics,\n",
    "        passes=passes,\n",
    "        eval_every=eval_every)\n",
    "\n",
    "    return model\n",
    "\n",
    "#Define a general helper function to take the trained model and plot a wordcloud of the topics.\n",
    "def plot_wordcloud(model,filename = ''):\n",
    "    # Extract the topic words and related frequecies.\n",
    "    topics = model.show_topics(formatted=False)\n",
    "\n",
    "    # Define a square mask to print the wordcloud.\n",
    "    x, y = np.ogrid[:500, :500]\n",
    "    mask = (x - 250) ** 2 + (y - 250) ** 2 > 250 ** 2\n",
    "    mask = 255 * mask.astype(int)\n",
    "\n",
    "    # For each topic, extract the word and frequencies, build a wordcloud and display it.\n",
    "    for topic_nr,topic in zip(range(0,len(topics)),topics):\n",
    "        topic_words = dict(topic[1])\n",
    "        cloud = WordCloud(mask=mask,background_color=\"white\").generate_from_frequencies(topic_words)\n",
    "        plt.figure()\n",
    "        plt.imshow(cloud)\n",
    "        plt.axis(\"off\")\n",
    "        plt.title(\"Topic nr : \" + str(topic_nr + 1))\n",
    "        plt.show()\n",
    "        if filename != '':\n",
    "            topic_filename = filename + '_topic_' + str(topic_nr + 1) + '.png'\n",
    "            print('Saving: ',topic_filename)\n",
    "            cloud.to_file(topic_filename)\n",
    "            \n",
    "# Helper function to score topics in a range and retain the models in memory\n",
    "def score_topics(dictionary, bow_docs, texts, start=1, stop=2, step=1, show_progress = True,\n",
    "                store_models = False, prefix='', num_topics_list = None):\n",
    "\n",
    "    scores = []\n",
    "    if num_topics_list is None:\n",
    "        num_topics_list = list(range(start,stop))   # Build a list of integers from start to stop\n",
    "        num_topics_subset = num_topics_list[::step] # Pick the subset with step size\n",
    "    else:\n",
    "        num_topics_subset = num_topics_list\n",
    "        \n",
    "  \n",
    "        \n",
    "    with tqdm(total=len(num_topics_subset)) as pbar:\n",
    "        for num_topics in num_topics_subset:\n",
    "            model = build_LDA_model(dictionary, bow_docs, num_topics)   #Build the model\n",
    "            coherence_model_lda = CoherenceModel(model=model, texts = texts, \n",
    "                                                 dictionary = dictionary, \n",
    "                                                 coherence='c_v')       # Build the coherence model\n",
    "            coherence_lda = coherence_model_lda.get_coherence()         # Get the coherence score\n",
    "            scores.append((num_topics, coherence_lda, model))           # Save the coherece score with the associated number of topics\n",
    "            #if store_models:\n",
    "            #    with tempfile.NamedTemporaryFile(mode='w+b', prefix=prefix + '_'+str(num_topics)+'_',\n",
    "            #                                     dir=tmpdir,delete=False) as tmp:\n",
    "            #        lda.save(tmp.name)\n",
    "            pbar.update(1)\n",
    "    \n",
    "    if store_models:\n",
    "        tmpdir = tempfile.mkdtemp(prefix = prefix + '_',dir = '.')     #Create a directory to save the models\n",
    "        score_pairs = {}\n",
    "        for score in scores:\n",
    "            num_topics,score,model = score       #Extract the three elements\n",
    "            with tempfile.NamedTemporaryFile(mode='w+b', prefix=prefix + '_'+str(num_topics)+'_',\n",
    "                                             dir=tmpdir,delete=False) as tmp:\n",
    "                    model.save(tmp.name)\n",
    "            score_pairs[num_topics] = score\n",
    "        \n",
    "        with tempfile.NamedTemporaryFile(mode='w', prefix=prefix + '_scores_', suffix = '.json',\n",
    "                                         dir=tmpdir,delete=False) as tmp:\n",
    "            print(score_pairs)\n",
    "            json.dump(score_pairs,tmp)\n",
    "\n",
    "    return scores\n",
    "\n",
    "# Helper function which uses plotly to plot the scores\n",
    "def plot_topic_scores(scores,reference = 0):\n",
    "    x = []\n",
    "    y = []\n",
    "    min = 1\n",
    "    max = 0\n",
    "\n",
    "    # Extract the scores as x,y pairs\n",
    "    for entry in scores:\n",
    "        x.append(entry[0])\n",
    "        y.append(entry[1])\n",
    "        if entry[1] > max:\n",
    "            max = entry[1]\n",
    "        if entry[1] < min:\n",
    "            min = entry[1];\n",
    "\n",
    "    no_steps = len(x)\n",
    "    step_size = x[1] - x[0]\n",
    "    title = 'No of models: ' + str(no_steps) + ' -- Spacing:' + str(step_size)\n",
    "\n",
    "    fig = go.Figure(data=go.Scatter(x=x, y=y,name='Candidate topic models'))\n",
    "    if reference != 0:\n",
    "        index = x.index(reference)\n",
    "        value = y[index]\n",
    "        marker_name = 'No of topics: ' + str(reference) + '\\n -- Score: ' + str(reference)\n",
    "        fig.add_scatter(x=[reference]*1, y=[value], name=marker_name)\n",
    "    fig.update_layout(\n",
    "        title={\n",
    "            'text' : title,\n",
    "            'y':0.9,\n",
    "            'x':0.4,\n",
    "            'xanchor': 'center',\n",
    "            'yanchor': 'top'},\n",
    "        xaxis_title=\"Number of topics\",\n",
    "        yaxis_title=\"Topic coherence score\",\n",
    "        legend_title=\"\",\n",
    "        font=dict(family=\"Arial\")\n",
    "    )\n",
    "    fig.show()\n",
    "\n",
    "\n",
    "\n",
    "\n",
    "\n",
    "\n",
    "def vectorise(topic_scores,nr_topics):\n",
    "    vector = [0] * nr_topics\n",
    "    \n",
    "    for score in topic_scores:\n",
    "        vector[score[0]] = score[1]\n",
    "    return vector\n",
    "\n",
    "def dot_product(vector1,vector2):\n",
    "    dot_product_sum = 0\n",
    "    vector1_sum = 0\n",
    "    vector2_sum = 0\n",
    "    \n",
    "    for v1,v2 in zip(vector1,vector2):\n",
    "        dot_product_sum = dot_product_sum + (v1*v2)\n",
    "        vector1_sum = vector1_sum + v1*v1\n",
    "        vector2_sum = vector2_sum + v2*v2\n",
    "        \n",
    "    vector_product = round(dot_product_sum,20) / round(math.sqrt(vector1_sum) * math.sqrt(vector2_sum),20)\n",
    "    return (round(vector_product,5))\n",
    "\n",
    "def cosine_sim(vector1,vector2):\n",
    "    vector_product = dot_product(vector1,vector2)\n",
    "    try:\n",
    "        angle_radians = math.acos(vector_product)\n",
    "    except:\n",
    "        print(vector_product)\n",
    "        if(vector_product > 1.0):\n",
    "            vector_product = 1.0\n",
    "            angle_radians = math.acos(vector_product)\n",
    "    return math.degrees(angle_radians)\n",
    "\n",
    "def simialarity(score1,score2,nr_topics):\n",
    "    vector1 = vectorise(score1,nr_topics)\n",
    "    vector2 = vectorise(score2,nr_topics)\n",
    "    angle = cosine_sim(vector1,vector2)\n",
    "    percentage_simialarity = 100 * (90-angle) / 90\n",
    "    return percentage_simialarity\n",
    "\n",
    "def extract_model(scored_models, no_topics):\n",
    "    model = None\n",
    "    for scored_model in scored_models:\n",
    "        if scored_model[0] == no_topics:\n",
    "            model = scored_model\n",
    "    return model\n",
    "\n",
    "def store_scored_models(models_list, path, file_prepend):\n",
    "    for scored_reference in models_list:\n",
    "        print(scored_reference)\n",
    "        filename = path + file_prepend + str(scored_reference[0])\n",
    "        coherence_score = scored_reference[1]\n",
    "        model = scored_reference[2]\n",
    "        print(filename)\n",
    "        model.save(filename)\n",
    "def store_scored_models_data(models_list, path, file_prepend):\n",
    "    \n",
    "    data_file =  path + file_prepend + '_data.json'\n",
    "    model_dictionary = {}\n",
    "    #filenames = []\n",
    "    #scores = []\n",
    "\n",
    "    for scored_reference in models_list:\n",
    "        #print(scored_reference)\n",
    "        filename = path + file_prepend + str(scored_reference[0])\n",
    "        coherence_score = scored_reference[1]\n",
    "        model_dictionary[filename] = coherence_score\n",
    "        #model = scored_reference[2]\n",
    "        #print(filename)\n",
    "        #model.save(filename)\n",
    "    with open(data_file, \"w\") as out_file:\n",
    "        json.dump(model_dictionary, out_file)\n",
    "    #print(json.dumps(model_dictionary))\n",
    "    \n",
    "    \n",
    "def load_scored_models_data(path, file_prepend):\n",
    "    \n",
    "    data_file =  path + file_prepend + '_data.json'\n",
    "    with open(data_file) as infile:\n",
    "        try:\n",
    "            model_dictionary = json.load(infile)\n",
    "        except:\n",
    "            model_dictionary = None\n",
    "\n",
    "    return model_dictionary\n",
    "\n",
    "\n",
    "\n",
    "def load_scored_model(path,file_prepend, no_topics,texts,dictionary):\n",
    "    filename = path + file_prepend +str(no_topics)\n",
    "    print('Loading model:',filename)\n",
    "    stored_model = LdaModel.load(filename)\n",
    "    print('Scoring model')\n",
    "    coherence_model_lda = CoherenceModel(model=stored_model, texts = texts, \n",
    "                                                 dictionary = dictionary, \n",
    "                                                 coherence='c_v')       # Build the coherence model\n",
    "    coherence_lda = coherence_model_lda.get_coherence()         # Get the coherence score\n",
    "    print('Model score:', coherence_lda)\n",
    "    print()\n",
    "    return (no_topics,coherence_lda,stored_model)\n",
    "\n",
    "\n",
    "def score_query(filename, model, dictionary):\n",
    "    # Load the query email and convert it to tokens.\n",
    "    email = loadMail(query_email_filename)\n",
    "    \n",
    "    bow = []\n",
    "    #Load the email and convert to BOW\n",
    "    if(email[\"body_pos_tokens\"] != None):\n",
    "        bow.append(dictionary.doc2bow(email[\"body_pos_tokens\"]))\n",
    "        score = model[2][bow[0]]\n",
    "    return score\n",
    "\n",
    "def score_mails(reference_model, query_email_scores, dictionary, texts, files, ranked = True):\n",
    "\n",
    "    score_dictionary = {}\n",
    "    file_mapping = {}\n",
    "    email_nr = 0\n",
    "    with tqdm(total=len(texts)) as pbar:\n",
    "        for tokens,filename in zip(texts,files):\n",
    "            email_nr = email_nr + 1\n",
    "\n",
    "            model = reference_model[2]     # Extract the model\n",
    "            bow = dictionary.doc2bow(tokens)\n",
    "            document_score = model[bow]    # Score the email\n",
    "\n",
    "            if len(document_score) == 0:\n",
    "                sim = 0.0\n",
    "            else:\n",
    "                sim = simialarity(query_email_scores,document_score,reference_model[0])  #Calculate simialarity to query email\n",
    "            #email_simialarity_scores[index].append(sim)   # Store the simialarity in order of scoring\n",
    "            score_dictionary[email_nr] = sim              # Store similariy in dictionary, with key posisition in scoring\n",
    "            file_mapping[email_nr] = filename\n",
    "            pbar.update(1)\n",
    " \n",
    "    if ranked:\n",
    "        score_dictionary = sorted(score_dictionary.items(),key=lambda x: x[1], reverse = True)\n",
    "        \n",
    "    return score_dictionary,file_mapping\n",
    "\n",
    "def extract_top_results(ranked_emails, file_mapping, top):\n",
    "    \n",
    "    unique_ranking = 1\n",
    "    overall_cnt = 0\n",
    "    extracted_filenames = {}\n",
    "    for email in ranked_emails:\n",
    "        #overall_cnt = overall_cnt + 1\n",
    "        index = email[0]\n",
    "        score = email[1]\n",
    "        if score != 0.0:\n",
    "            #filename = os.path.basename(file_mapping[index])\n",
    "            if file_mapping[index] not in extracted_filenames:\n",
    "                extracted_filenames[file_mapping[index]] = unique_ranking\n",
    "                unique_ranking = unique_ranking + 1\n",
    "                if (unique_ranking - 1) == top:\n",
    "                    break\n",
    "            #print(filename,score)\n",
    "    #print(unique_ranking - 1,overall_cnt)\n",
    "    return(extracted_filenames)\n",
    "\n",
    "def calculate_correct_hits(results,file_prepend):\n",
    "    relevant = 0\n",
    "    non_relevant = 0\n",
    "    zeros = 0\n",
    "    for result in results:\n",
    "        filename = os.path.basename(result)\n",
    "        if file_prepend in filename:\n",
    "            relevant = relevant + 1\n",
    "        else:\n",
    "            non_relevant = non_relevant + 1\n",
    "    return relevant,non_relevant\n",
    "\n",
    "def precision(relevant, non_relevant):\n",
    "    #print(relevant,non_relevant,relevant+non_relevant)\n",
    "    precision = relevant / (relevant + non_relevant)\n",
    "    return precision\n",
    "\n",
    "def recall(relevant, total_relevant):\n",
    "    recall = relevant / total_relevant\n",
    "    return recall\n",
    "\n",
    "def printStats(relevant, non_relevant, total_relevant, top_results):\n",
    "    print('Total number of results returned',len(top_results))\n",
    "    print('Relevant: ',relevant,'Non-relevant: ',non_relevant)\n",
    "    print('Precision: ',precision(relevant, non_relevant))\n",
    "    print('Recall : ', recall(relevant,total_relevant))\n",
    "    print()\n",
    "    \n",
    "def plot_pr_metrics(top_n, precision_list, recall_list, title, reference = 0):\n",
    "    fig = go.Figure(data=go.Scatter(x=top_n, y=precision_list,name='Precision'))\n",
    "    fig.add_scatter(x=top_n, y=recall_list,name='Recall')\n",
    "    fig.update_layout(\n",
    "        title={\n",
    "            'text' : title,\n",
    "            'y':0.9,\n",
    "            'x':0.5,\n",
    "            'xanchor': 'center',\n",
    "            'yanchor': 'top'},\n",
    "        xaxis_title=\"Top results\",\n",
    "        yaxis_title=\"\",\n",
    "        legend_title=\"Score Type\",\n",
    "        font=dict(\n",
    "            family=\"Arial\"\n",
    "            )\n",
    "    )\n",
    "    #fig.add_scatter(x=[reference]*100, y=np.linspace(min,max,100), name='Reference point')\n",
    "    fig.show()\n",
    "\n"
   ]
  },
  {
   "cell_type": "code",
   "execution_count": 33,
   "id": "b30e986a-02e4-461b-b576-791f94101337",
   "metadata": {
    "execution": {
     "iopub.execute_input": "2021-11-14T11:53:05.835432Z",
     "iopub.status.busy": "2021-11-14T11:53:05.834900Z",
     "iopub.status.idle": "2021-11-14T11:53:06.008399Z",
     "shell.execute_reply": "2021-11-14T11:53:06.006903Z",
     "shell.execute_reply.started": "2021-11-14T11:53:05.835397Z"
    }
   },
   "outputs": [],
   "source": [
    "import os\n",
    "import re\n",
    "import os\n",
    "import tempfile\n",
    "import math\n",
    "from gensim.corpora import Dictionary\n",
    "from gensim.models import LdaModel\n",
    "from gensim.models import CoherenceModel\n",
    "import json\n",
    "from pprint import pprint\n",
    "\n",
    "from tqdm import tqdm\n",
    "\n",
    "import matplotlib.pyplot as plt\n",
    "from wordcloud import WordCloud\n",
    "import numpy as np\n",
    "\n",
    "import plotly.graph_objects as go\n",
    "\n",
    "\n",
    "################ Function definitions ###############\n",
    "# A helper function which loads the json email and returns it as a dictionary\n",
    "def loadMail(filename):\n",
    "    with open (filename, \"r\") as inputFile:\n",
    "        return json.load(inputFile)\n",
    "################ End Function definitions ###############\n",
    "\n",
    "\n",
    "########## Code: Loading Dictionaries #########\n",
    "def expand_bow(subdir, pre_pend_filter = \"\",  bow_docs_pos = None, dictionary_pos = None, texts_pos = None, filenames = None, limit = 10000, paragraphs = False):\n",
    "    # This technique requires dictionaries to fit in available memory.\n",
    "    # It is good for experimenting, but not for general purpose use if lots of data will be processed.\n",
    "    if(bow_docs_pos == None):\n",
    "        bow_docs_pos = []\n",
    "        texts_pos = []\n",
    "        dictionary_pos = Dictionary()      # Dictionary based on Part of Speech tagging\n",
    "        filenames = []\n",
    "    bow_docs_common = []\n",
    "    texts_common = []\n",
    "    dictionary_common = Dictionary()   # Dictionary based on common words\n",
    "\n",
    "\n",
    "    print(\"Building dictionaries\\n\")\n",
    "    #print(\"Files\")\n",
    "    #print(filenames)\n",
    "\n",
    "    # Build a dictionary of all the emails\n",
    "    count = 0\n",
    "    for root, dirs, files in os.walk(subdir):\n",
    "        for file in files:\n",
    "            if not re.search(r'^\\.',file):     #Filter out common files created by the OS\n",
    "                filename = os.path.basename(file)\n",
    "                if pre_pend_filter == \"\" or re.match(pre_pend_filter, filename, flags=re.IGNORECASE) != None:\n",
    "                    email_file = os.path.join(root,file)\n",
    "                    #new_mail.initMail(email_file)\n",
    "                    # Build a dictionary and BOW from common token documents\n",
    "\n",
    "                    #for key, value in developer.items():\n",
    "                        #print(key, \":\", value)\n",
    "                    email_dict = loadMail(email_file)\n",
    "                    if paragraphs:\n",
    "                        paragraph_list = email_dict['body_pos_paragraph_tokens']\n",
    "                        if len(paragraph_list) > 0:\n",
    "                            for paragraph in paragraph_list:\n",
    "                                texts_pos.append(paragraph)\n",
    "                                dictionary_pos.add_documents([paragraph])\n",
    "                                bow_docs_pos.append(dictionary_pos.doc2bow(paragraph))\n",
    "                                #print(email_file)\n",
    "                                filenames.append(email_file)\n",
    "                                \n",
    "                    else:\n",
    "                        texts_common.append(email_dict['body_tokens'])\n",
    "                        dictionary_common.add_documents([email_dict['body_tokens']])\n",
    "                        bow_docs_common.append(dictionary_common.doc2bow(email_dict[\"body_tokens\"]))\n",
    "\n",
    "                        # Build a specialised POS dictionary and BOW\n",
    "                        if(email_dict[\"body_pos_tokens\"] != None):\n",
    "                            texts_pos.append(email_dict[\"body_pos_tokens\"])\n",
    "                            dictionary_pos.add_documents([email_dict[\"body_pos_tokens\"]])\n",
    "                            bow_docs_pos.append(dictionary_pos.doc2bow(email_dict[\"body_pos_tokens\"]))\n",
    "                            filenames.append(email_file)\n",
    "\n",
    "                    if count == limit:\n",
    "                        break\n",
    "                    else:\n",
    "                        count = count + 1\n",
    "    print(\"Finished building dictionaries.\\n\\n\")\n",
    "\n",
    "    print(\"Number of documents in the BOW corpus: \",len(bow_docs_common))\n",
    "    print(\"Number of documents in the POS corpus: \",len(bow_docs_pos))\n",
    "    \n",
    "    return bow_docs_common,dictionary_common,texts_common,bow_docs_pos,dictionary_pos,texts_pos,filenames\n",
    "\n",
    "\n",
    "def build_dictionaries(subdir, pre_pend_filter = \"\",  bow_docs_pos = None, dictionary_pos = None, texts_pos = None, filenames = None, limit = 10000, paragraphs = False):\n",
    "    # This technique requires dictionaries to fit in available memory.\n",
    "    # It is good for experimenting, but not for general purpose use if lots of data will be processed.\n",
    "    if(bow_docs_pos == None):\n",
    "        bow_docs_pos = []\n",
    "        texts_pos = []\n",
    "        dictionary_pos = Dictionary()      # Dictionary based on Part of Speech tagging\n",
    "        filenames = []\n",
    "    bow_docs_common = []\n",
    "    texts_common = []\n",
    "    dictionary_common = Dictionary()   # Dictionary based on common words\n",
    "\n",
    "\n",
    "    print(\"Building dictionaries\\n\")\n",
    "    #print(\"Files\")\n",
    "    #print(filenames)\n",
    "\n",
    "    # Build a dictionary of all the emails\n",
    "    count = 0\n",
    "    for root, dirs, files in os.walk(subdir):\n",
    "        for file in files:\n",
    "            if not re.search(r'^\\.',file):     #Filter out common files created by the OS\n",
    "                filename = os.path.basename(file)\n",
    "                if pre_pend_filter == \"\" or re.match(pre_pend_filter, filename, flags=re.IGNORECASE) != None:\n",
    "                    email_file = os.path.join(root,file)\n",
    "                    #new_mail.initMail(email_file)\n",
    "                    # Build a dictionary and BOW from common token documents\n",
    "\n",
    "                    #for key, value in developer.items():\n",
    "                        #print(key, \":\", value)\n",
    "                    email_dict = loadMail(email_file)\n",
    "                    if paragraphs:\n",
    "                        paragraph_list = email_dict['body_pos_paragraph_tokens']\n",
    "                        if len(paragraph_list) > 0:\n",
    "                            for paragraph in paragraph_list:\n",
    "                                texts_pos.append(paragraph)\n",
    "                                dictionary_pos.add_documents([paragraph])\n",
    "                                bow_docs_pos.append(dictionary_pos.doc2bow(paragraph))\n",
    "                                #print(email_file)\n",
    "                                filenames.append(email_file)\n",
    "                                \n",
    "                    else:\n",
    "                        texts_common.append(email_dict['body_tokens'])\n",
    "                        dictionary_common.add_documents([email_dict['body_tokens']])\n",
    "                        bow_docs_common.append(dictionary_common.doc2bow(email_dict[\"body_tokens\"]))\n",
    "\n",
    "                        # Build a specialised POS dictionary and BOW\n",
    "                        if(email_dict[\"body_pos_tokens\"] != None):\n",
    "                            texts_pos.append(email_dict[\"body_pos_tokens\"])\n",
    "                            dictionary_pos.add_documents([email_dict[\"body_pos_tokens\"]])\n",
    "                            bow_docs_pos.append(dictionary_pos.doc2bow(email_dict[\"body_pos_tokens\"]))\n",
    "                            filenames.append(email_file)\n",
    "\n",
    "                    if count == limit:\n",
    "                        break\n",
    "                    else:\n",
    "                        count = count + 1\n",
    "    print(\"Finished building dictionaries.\\n\\n\")\n",
    "\n",
    "    print(\"Number of documents in the BOW corpus: \",len(bow_docs_common))\n",
    "    print(\"Number of documents in the POS corpus: \",len(bow_docs_pos))\n",
    "    \n",
    "    return bow_docs_common,dictionary_common,texts_common,bow_docs_pos,dictionary_pos,texts_pos,filenames\n",
    "\n",
    "\n",
    "\n",
    "\n",
    "### Define a helper function to initialise and train the LDA model #####\n",
    "### The defaults fix some hyperparameters for the LDA model which can be overwritten #####\n",
    "def build_LDA_model(dictionary, bow_docs, num_topics = 2, \n",
    "              chunksize = 2000, \n",
    "              passes = 20, \n",
    "              iterations = 400, \n",
    "              eval_every = None):\n",
    "\n",
    "    dictionary[0]  # This is only to \"load\" the dictionary.\n",
    "    id2word = dictionary.id2token\n",
    "\n",
    "    model = LdaModel(\n",
    "        corpus=bow_docs,\n",
    "        id2word=id2word,\n",
    "        chunksize=chunksize,\n",
    "        alpha='auto',\n",
    "        eta='auto',\n",
    "        iterations=iterations,\n",
    "        num_topics=num_topics,\n",
    "        passes=passes,\n",
    "        eval_every=eval_every)\n",
    "\n",
    "    return model\n",
    "\n",
    "#Define a general helper function to take the trained model and plot a wordcloud of the topics.\n",
    "def plot_wordcloud(model,filename = ''):\n",
    "    # Extract the topic words and related frequecies.\n",
    "    topics = model.show_topics(formatted=False)\n",
    "\n",
    "    # Define a square mask to print the wordcloud.\n",
    "    x, y = np.ogrid[:500, :500]\n",
    "    mask = (x - 250) ** 2 + (y - 250) ** 2 > 250 ** 2\n",
    "    mask = 255 * mask.astype(int)\n",
    "\n",
    "    # For each topic, extract the word and frequencies, build a wordcloud and display it.\n",
    "    for topic_nr,topic in zip(range(0,len(topics)),topics):\n",
    "        topic_words = dict(topic[1])\n",
    "        cloud = WordCloud(mask=mask,background_color=\"white\").generate_from_frequencies(topic_words)\n",
    "        plt.figure()\n",
    "        plt.imshow(cloud)\n",
    "        plt.axis(\"off\")\n",
    "        plt.title(\"Topic nr : \" + str(topic_nr + 1))\n",
    "        plt.show()\n",
    "        if filename != '':\n",
    "            topic_filename = filename + '_topic_' + str(topic_nr + 1) + '.png'\n",
    "            print('Saving: ',topic_filename)\n",
    "            cloud.to_file(topic_filename)\n",
    "            \n",
    "# Helper function to score topics in a range and retain the models in memory\n",
    "def score_topics(dictionary, bow_docs, texts, start=1, stop=2, step=1, show_progress = True,\n",
    "                store_models = False, prefix='', num_topics_list = None):\n",
    "\n",
    "    scores = []\n",
    "    if num_topics_list is None:\n",
    "        num_topics_list = list(range(start,stop))   # Build a list of integers from start to stop\n",
    "        num_topics_subset = num_topics_list[::step] # Pick the subset with step size\n",
    "    else:\n",
    "        num_topics_subset = num_topics_list\n",
    "        \n",
    "  \n",
    "        \n",
    "    with tqdm(total=len(num_topics_subset)) as pbar:\n",
    "        for num_topics in num_topics_subset:\n",
    "            model = build_LDA_model(dictionary, bow_docs, num_topics)   #Build the model\n",
    "            coherence_model_lda = CoherenceModel(model=model, texts = texts, \n",
    "                                                 dictionary = dictionary, \n",
    "                                                 coherence='c_v')       # Build the coherence model\n",
    "            coherence_lda = coherence_model_lda.get_coherence()         # Get the coherence score\n",
    "            scores.append((num_topics, coherence_lda, model))           # Save the coherece score with the associated number of topics\n",
    "            #if store_models:\n",
    "            #    with tempfile.NamedTemporaryFile(mode='w+b', prefix=prefix + '_'+str(num_topics)+'_',\n",
    "            #                                     dir=tmpdir,delete=False) as tmp:\n",
    "            #        lda.save(tmp.name)\n",
    "            pbar.update(1)\n",
    "    \n",
    "    if store_models:\n",
    "        tmpdir = tempfile.mkdtemp(prefix = prefix + '_',dir = '.')     #Create a directory to save the models\n",
    "        score_pairs = {}\n",
    "        for score in scores:\n",
    "            num_topics,score,model = score       #Extract the three elements\n",
    "            with tempfile.NamedTemporaryFile(mode='w+b', prefix=prefix + '_'+str(num_topics)+'_',\n",
    "                                             dir=tmpdir,delete=False) as tmp:\n",
    "                    model.save(tmp.name)\n",
    "            score_pairs[num_topics] = score\n",
    "        \n",
    "        with tempfile.NamedTemporaryFile(mode='w', prefix=prefix + '_scores_', suffix = '.json',\n",
    "                                         dir=tmpdir,delete=False) as tmp:\n",
    "            print(score_pairs)\n",
    "            json.dump(score_pairs,tmp)\n",
    "\n",
    "    return scores\n",
    "\n",
    "# Helper function which uses plotly to plot the scores\n",
    "def plot_topic_scores(scores,reference = 0):\n",
    "    x = []\n",
    "    y = []\n",
    "    min = 1\n",
    "    max = 0\n",
    "\n",
    "    # Extract the scores as x,y pairs\n",
    "    for entry in scores:\n",
    "        x.append(entry[0])\n",
    "        y.append(entry[1])\n",
    "        if entry[1] > max:\n",
    "            max = entry[1]\n",
    "        if entry[1] < min:\n",
    "            min = entry[1];\n",
    "\n",
    "    no_steps = len(x)\n",
    "    step_size = x[1] - x[0]\n",
    "    title = 'No of models: ' + str(no_steps) + ' -- Spacing:' + str(step_size)\n",
    "\n",
    "    fig = go.Figure(data=go.Scatter(x=x, y=y,name='Candidate topic models'))\n",
    "    if reference != 0:\n",
    "        index = x.index(reference)\n",
    "        value = y[index]\n",
    "        marker_name = 'No of topics: ' + str(reference) + '\\n -- Score: ' + str(reference)\n",
    "        fig.add_scatter(x=[reference]*1, y=[value], name=marker_name)\n",
    "    fig.update_layout(\n",
    "        title={\n",
    "            'text' : title,\n",
    "            'y':0.9,\n",
    "            'x':0.4,\n",
    "            'xanchor': 'center',\n",
    "            'yanchor': 'top'},\n",
    "        xaxis_title=\"Number of topics\",\n",
    "        yaxis_title=\"Topic coherence score\",\n",
    "        legend_title=\"\",\n",
    "        font=dict(family=\"Arial\")\n",
    "    )\n",
    "    fig.show()\n",
    "\n",
    "\n",
    "\n",
    "\n",
    "\n",
    "def vectorise(topic_scores,nr_topics):\n",
    "    vector = [0] * nr_topics\n",
    "    \n",
    "    for score in topic_scores:\n",
    "        vector[score[0]] = score[1]\n",
    "    return vector\n",
    "\n",
    "def dot_product(vector1,vector2):\n",
    "    dot_product_sum = 0\n",
    "    vector1_sum = 0\n",
    "    vector2_sum = 0\n",
    "    \n",
    "    for v1,v2 in zip(vector1,vector2):\n",
    "        dot_product_sum = dot_product_sum + (v1*v2)\n",
    "        vector1_sum = vector1_sum + v1*v1\n",
    "        vector2_sum = vector2_sum + v2*v2\n",
    "        \n",
    "    vector_product = round(dot_product_sum,20) / round(math.sqrt(vector1_sum) * math.sqrt(vector2_sum),20)\n",
    "    return (round(vector_product,5))\n",
    "\n",
    "def cosine_sim(vector1,vector2):\n",
    "    vector_product = dot_product(vector1,vector2)\n",
    "    try:\n",
    "        angle_radians = math.acos(vector_product)\n",
    "    except:\n",
    "        print(vector_product)\n",
    "        if(vector_product > 1.0):\n",
    "            vector_product = 1.0\n",
    "            angle_radians = math.acos(vector_product)\n",
    "    return math.degrees(angle_radians)\n",
    "\n",
    "def simialarity(score1,score2,nr_topics):\n",
    "    vector1 = vectorise(score1,nr_topics)\n",
    "    vector2 = vectorise(score2,nr_topics)\n",
    "    angle = cosine_sim(vector1,vector2)\n",
    "    percentage_simialarity = 100 * (90-angle) / 90\n",
    "    return percentage_simialarity\n",
    "\n",
    "def extract_model(scored_models, no_topics):\n",
    "    model = None\n",
    "    for scored_model in scored_models:\n",
    "        if scored_model[0] == no_topics:\n",
    "            model = scored_model\n",
    "    return model\n",
    "\n",
    "def store_scored_models(models_list, path, file_prepend):\n",
    "    for scored_reference in models_list:\n",
    "        print(scored_reference)\n",
    "        filename = path + file_prepend + str(scored_reference[0])\n",
    "        coherence_score = scored_reference[1]\n",
    "        model = scored_reference[2]\n",
    "        print(filename)\n",
    "        model.save(filename)\n",
    "\n",
    "def store_scored_models_data(models_list, path, file_prepend):\n",
    "    \n",
    "    data_file =  path + file_prepend + '_data.json'\n",
    "    model_dictionary = {}\n",
    "    #filenames = []\n",
    "    #scores = []\n",
    "\n",
    "    for scored_reference in models_list:\n",
    "        #print(scored_reference)\n",
    "        filename = path + file_prepend + str(scored_reference[0])\n",
    "        coherence_score = scored_reference[1]\n",
    "        model_dictionary[filename] = coherence_score\n",
    "        #model = scored_reference[2]\n",
    "        #print(filename)\n",
    "        #model.save(filename)\n",
    "    with open(data_file, \"w\") as out_file:\n",
    "        json.dump(model_dictionary, out_file)\n",
    "    #print(json.dumps(model_dictionary))\n",
    "    \n",
    "    \n",
    "def load_scored_models_data(path, file_prepend):\n",
    "    \n",
    "    data_file =  path + file_prepend + '_data.json'\n",
    "    with open(data_file) as infile:\n",
    "        try:\n",
    "            model_dictionary = json.load(infile)\n",
    "        except:\n",
    "            model_dictionary = None\n",
    "\n",
    "    return model_dictionary\n",
    "\n",
    "\n",
    "def load_scored_model(path,file_prepend, no_topics,texts,dictionary):\n",
    "    filename = path + file_prepend +str(no_topics)\n",
    "    print('Loading model:',filename)\n",
    "    stored_model = LdaModel.load(filename)\n",
    "    print('Scoring model')\n",
    "    coherence_model_lda = CoherenceModel(model=stored_model, texts = texts, \n",
    "                                                 dictionary = dictionary, \n",
    "                                                 coherence='c_v')       # Build the coherence model\n",
    "    coherence_lda = coherence_model_lda.get_coherence()         # Get the coherence score\n",
    "    print('Model score:', coherence_lda)\n",
    "    print()\n",
    "    return (no_topics,coherence_lda,stored_model)\n",
    "\n",
    "\n",
    "def score_query(filename, model, dictionary):\n",
    "    # Load the query email and convert it to tokens.\n",
    "    email = loadMail(query_email_filename)\n",
    "    \n",
    "    bow = []\n",
    "    #Load the email and convert to BOW\n",
    "    if(email[\"body_pos_tokens\"] != None):\n",
    "        bow.append(dictionary.doc2bow(email[\"body_pos_tokens\"]))\n",
    "        score = model[2][bow[0]]\n",
    "    return score\n",
    "\n",
    "def score_mails(reference_model, query_email_scores, dictionary, texts, files, ranked = True):\n",
    "\n",
    "    score_dictionary = {}\n",
    "    file_mapping = {}\n",
    "    email_nr = 0\n",
    "    with tqdm(total=len(texts)) as pbar:\n",
    "        for tokens,filename in zip(texts,files):\n",
    "            email_nr = email_nr + 1\n",
    "\n",
    "            model = reference_model[2]     # Extract the model\n",
    "            bow = dictionary.doc2bow(tokens)\n",
    "            document_score = model[bow]    # Score the email\n",
    "\n",
    "            if len(document_score) == 0:\n",
    "                sim = 0.0\n",
    "            else:\n",
    "                sim = simialarity(query_email_scores,document_score,reference_model[0])  #Calculate simialarity to query email\n",
    "            #email_simialarity_scores[index].append(sim)   # Store the simialarity in order of scoring\n",
    "            score_dictionary[email_nr] = sim              # Store similariy in dictionary, with key posisition in scoring\n",
    "            file_mapping[email_nr] = filename\n",
    "            pbar.update(1)\n",
    " \n",
    "    if ranked:\n",
    "        score_dictionary = sorted(score_dictionary.items(),key=lambda x: x[1], reverse = True)\n",
    "        \n",
    "    return score_dictionary,file_mapping\n",
    "\n",
    "def extract_top_results(ranked_emails, file_mapping, top):\n",
    "    \n",
    "    unique_ranking = 1\n",
    "    overall_cnt = 0\n",
    "    extracted_filenames = {}\n",
    "    for email in ranked_emails:\n",
    "        #overall_cnt = overall_cnt + 1\n",
    "        index = email[0]\n",
    "        score = email[1]\n",
    "        if score != 0.0:\n",
    "            #filename = os.path.basename(file_mapping[index])\n",
    "            if file_mapping[index] not in extracted_filenames:\n",
    "                extracted_filenames[file_mapping[index]] = unique_ranking\n",
    "                unique_ranking = unique_ranking + 1\n",
    "                if (unique_ranking - 1) == top:\n",
    "                    break\n",
    "            #print(filename,score)\n",
    "    #print(unique_ranking - 1,overall_cnt)\n",
    "    return(extracted_filenames)\n",
    "\n",
    "def calculate_correct_hits(results,file_prepend):\n",
    "    relevant = 0\n",
    "    non_relevant = 0\n",
    "    zeros = 0\n",
    "    for result in results:\n",
    "        filename = os.path.basename(result)\n",
    "        if file_prepend in filename:\n",
    "            relevant = relevant + 1\n",
    "        else:\n",
    "            non_relevant = non_relevant + 1\n",
    "    return relevant,non_relevant\n",
    "\n",
    "def precision(relevant, non_relevant):\n",
    "    #print(relevant,non_relevant,relevant+non_relevant)\n",
    "    precision = relevant / (relevant + non_relevant)\n",
    "    return precision\n",
    "\n",
    "def recall(relevant, total_relevant):\n",
    "    recall = relevant / total_relevant\n",
    "    return recall\n",
    "\n",
    "def printStats(relevant, non_relevant, total_relevant, top_results):\n",
    "    print('Total number of results returned',len(top_results))\n",
    "    print('Relevant: ',relevant,'Non-relevant: ',non_relevant)\n",
    "    print('Precision: ',precision(relevant, non_relevant))\n",
    "    print('Recall : ', recall(relevant,total_relevant))\n",
    "    print()\n",
    "\n",
    "def plot_pr_metrics(top_n, precision_list, recall_list, title, reference = 0):\n",
    "    fig = go.Figure(data=go.Scatter(x=top_n, y=precision_list,name='Precision'))\n",
    "    fig.add_scatter(x=top_n, y=recall_list,name='Recall')\n",
    "    fig.update_layout(\n",
    "        title={\n",
    "            'text' : title,\n",
    "            'y':0.9,\n",
    "            'x':0.5,\n",
    "            'xanchor': 'center',\n",
    "            'yanchor': 'top'},\n",
    "        xaxis_title=\"Top results\",\n",
    "        yaxis_title=\"\",\n",
    "        legend_title=\"Score Type\",\n",
    "        font=dict(\n",
    "            family=\"Arial\"\n",
    "            )\n",
    "    )\n",
    "    #fig.add_scatter(x=[reference]*100, y=np.linspace(min,max,100), name='Reference point')\n",
    "    fig.show()\n",
    "\n",
    "def generate_metrics(ranked_emails, file_mapping, top_n):\n",
    "    precision_list = []\n",
    "    recall_list = []\n",
    "    for top in top_n:\n",
    "        top_results = extract_top_results(ranked_emails, file_mapping, top)\n",
    "        relevant,non_relevant = calculate_correct_hits(top_results,'Multex')\n",
    "        precision_list.append(precision(relevant, non_relevant))\n",
    "        recall_list.append(recall(relevant,total_relevant))\n",
    "    return(precision_list,recall_list)\n",
    "\n",
    "\n",
    "\n",
    "\n"
   ]
  },
  {
   "cell_type": "code",
   "execution_count": 54,
   "id": "f804bef5-ccf6-4e63-99a3-e60fd5c9608d",
   "metadata": {
    "execution": {
     "iopub.execute_input": "2021-11-15T14:06:22.320097Z",
     "iopub.status.busy": "2021-11-15T14:06:22.319607Z",
     "iopub.status.idle": "2021-11-15T14:06:29.806104Z",
     "shell.execute_reply": "2021-11-15T14:06:29.805160Z",
     "shell.execute_reply.started": "2021-11-15T14:06:22.320053Z"
    },
    "tags": []
   },
   "outputs": [
    {
     "name": "stdout",
     "output_type": "stream",
     "text": [
      "Building Multex dictionaries\n",
      "Building dictionaries\n",
      "\n",
      "Finished building dictionaries.\n",
      "\n",
      "\n",
      "Number of documents in the BOW corpus:  149\n",
      "Number of documents in the POS corpus:  149\n",
      "Building dictionaries\n",
      "\n",
      "Finished building dictionaries.\n",
      "\n",
      "\n",
      "Number of documents in the BOW corpus:  3034\n",
      "Number of documents in the POS corpus:  3034\n",
      "Building a larger bow for the queries\n"
     ]
    }
   ],
   "source": [
    "########## Initialisation Section ##########\n",
    "# Set the location of the directory used for processing\n",
    "#maildir_path = os.path.join('..','..','data', 'processed', 'experimental_data')\n",
    "#subdir = os.path.join(maildir_path,'allen-p') \n",
    "#subdir = os.path.join(maildir_path,'allen-p','_sent_mail') \n",
    "\n",
    "maildir_path = os.path.join('..','..','data', 'processed', 'experimental_data')\n",
    "subdir = os.path.join(maildir_path,'allen-p') \n",
    "\n",
    "multex_subdir = os.path.join('..','..','data', 'processed', 'Multex')\n",
    "\n",
    "\n",
    "\n",
    "########## End Initialisation Section ##########\n",
    "\n",
    "\n",
    "\n",
    "print('Building Multex dictionaries')\n",
    "_,_,_,multex_bow,multex_dictionary,multex_texts,multex_files = build_dictionaries(multex_subdir,pre_pend_filter = \"\", paragraphs=False)\n",
    "#_,_,_,full_bow,full_dictionary,full_texts,full_files = build_dictionaries(subdir,pre_pend_filter = \"Full_\", paragraphs=False, bow_docs_pos = multex_bow, dictionary_pos = multex_dictionary, texts_pos = multex_texts, filenames = multex_files)\n",
    "\n",
    "_,_,_,full_bow,full_dictionary,full_texts,full_files = build_dictionaries(subdir,pre_pend_filter = \"Full_\", paragraphs=False)\n",
    "\n",
    "print('Building a larger bow for the queries')\n",
    "interim_bow = [multex_dictionary.doc2bow(text) for text in full_texts]\n",
    "#query_bow = multex_bow + interim_bow\n",
    "query_files = multex_files + full_files\n",
    "query_texts = multex_texts + full_texts"
   ]
  },
  {
   "cell_type": "code",
   "execution_count": 6,
   "id": "187c3643-b954-44b4-9b34-1dae094e3181",
   "metadata": {
    "execution": {
     "iopub.execute_input": "2021-11-13T08:28:20.459453Z",
     "iopub.status.busy": "2021-11-13T08:28:20.458307Z",
     "iopub.status.idle": "2021-11-13T08:34:29.660414Z",
     "shell.execute_reply": "2021-11-13T08:34:29.658335Z",
     "shell.execute_reply.started": "2021-11-13T08:28:20.459399Z"
    },
    "tags": []
   },
   "outputs": [
    {
     "name": "stderr",
     "output_type": "stream",
     "text": [
      "100%|███████████████████████████████████████████| 17/17 [06:09<00:00, 21.71s/it]\n"
     ]
    },
    {
     "data": {
      "application/vnd.plotly.v1+json": {
       "config": {
        "plotlyServerURL": "https://plot.ly"
       },
       "data": [
        {
         "name": "Scores",
         "type": "scatter",
         "x": [
          1,
          4,
          7,
          10,
          13,
          16,
          19,
          22,
          25,
          28,
          31,
          34,
          37,
          40,
          43,
          46,
          49
         ],
         "y": [
          0.27108189724972126,
          0.2681295657627959,
          0.33481733465285046,
          0.3599397244085109,
          0.32058081700506597,
          0.2911107632853138,
          0.31107551125631483,
          0.2767092744448474,
          0.2976831075000242,
          0.24432363245609928,
          0.2805697362769851,
          0.3171641352202053,
          0.2717403056549738,
          0.292871633250863,
          0.276376190068313,
          0.2737474153078257,
          0.29437288576005516
         ]
        }
       ],
       "layout": {
        "autosize": true,
        "template": {
         "data": {
          "bar": [
           {
            "error_x": {
             "color": "#2a3f5f"
            },
            "error_y": {
             "color": "#2a3f5f"
            },
            "marker": {
             "line": {
              "color": "#E5ECF6",
              "width": 0.5
             },
             "pattern": {
              "fillmode": "overlay",
              "size": 10,
              "solidity": 0.2
             }
            },
            "type": "bar"
           }
          ],
          "barpolar": [
           {
            "marker": {
             "line": {
              "color": "#E5ECF6",
              "width": 0.5
             },
             "pattern": {
              "fillmode": "overlay",
              "size": 10,
              "solidity": 0.2
             }
            },
            "type": "barpolar"
           }
          ],
          "carpet": [
           {
            "aaxis": {
             "endlinecolor": "#2a3f5f",
             "gridcolor": "white",
             "linecolor": "white",
             "minorgridcolor": "white",
             "startlinecolor": "#2a3f5f"
            },
            "baxis": {
             "endlinecolor": "#2a3f5f",
             "gridcolor": "white",
             "linecolor": "white",
             "minorgridcolor": "white",
             "startlinecolor": "#2a3f5f"
            },
            "type": "carpet"
           }
          ],
          "choropleth": [
           {
            "colorbar": {
             "outlinewidth": 0,
             "ticks": ""
            },
            "type": "choropleth"
           }
          ],
          "contour": [
           {
            "colorbar": {
             "outlinewidth": 0,
             "ticks": ""
            },
            "colorscale": [
             [
              0,
              "#0d0887"
             ],
             [
              0.1111111111111111,
              "#46039f"
             ],
             [
              0.2222222222222222,
              "#7201a8"
             ],
             [
              0.3333333333333333,
              "#9c179e"
             ],
             [
              0.4444444444444444,
              "#bd3786"
             ],
             [
              0.5555555555555556,
              "#d8576b"
             ],
             [
              0.6666666666666666,
              "#ed7953"
             ],
             [
              0.7777777777777778,
              "#fb9f3a"
             ],
             [
              0.8888888888888888,
              "#fdca26"
             ],
             [
              1,
              "#f0f921"
             ]
            ],
            "type": "contour"
           }
          ],
          "contourcarpet": [
           {
            "colorbar": {
             "outlinewidth": 0,
             "ticks": ""
            },
            "type": "contourcarpet"
           }
          ],
          "heatmap": [
           {
            "colorbar": {
             "outlinewidth": 0,
             "ticks": ""
            },
            "colorscale": [
             [
              0,
              "#0d0887"
             ],
             [
              0.1111111111111111,
              "#46039f"
             ],
             [
              0.2222222222222222,
              "#7201a8"
             ],
             [
              0.3333333333333333,
              "#9c179e"
             ],
             [
              0.4444444444444444,
              "#bd3786"
             ],
             [
              0.5555555555555556,
              "#d8576b"
             ],
             [
              0.6666666666666666,
              "#ed7953"
             ],
             [
              0.7777777777777778,
              "#fb9f3a"
             ],
             [
              0.8888888888888888,
              "#fdca26"
             ],
             [
              1,
              "#f0f921"
             ]
            ],
            "type": "heatmap"
           }
          ],
          "heatmapgl": [
           {
            "colorbar": {
             "outlinewidth": 0,
             "ticks": ""
            },
            "colorscale": [
             [
              0,
              "#0d0887"
             ],
             [
              0.1111111111111111,
              "#46039f"
             ],
             [
              0.2222222222222222,
              "#7201a8"
             ],
             [
              0.3333333333333333,
              "#9c179e"
             ],
             [
              0.4444444444444444,
              "#bd3786"
             ],
             [
              0.5555555555555556,
              "#d8576b"
             ],
             [
              0.6666666666666666,
              "#ed7953"
             ],
             [
              0.7777777777777778,
              "#fb9f3a"
             ],
             [
              0.8888888888888888,
              "#fdca26"
             ],
             [
              1,
              "#f0f921"
             ]
            ],
            "type": "heatmapgl"
           }
          ],
          "histogram": [
           {
            "marker": {
             "pattern": {
              "fillmode": "overlay",
              "size": 10,
              "solidity": 0.2
             }
            },
            "type": "histogram"
           }
          ],
          "histogram2d": [
           {
            "colorbar": {
             "outlinewidth": 0,
             "ticks": ""
            },
            "colorscale": [
             [
              0,
              "#0d0887"
             ],
             [
              0.1111111111111111,
              "#46039f"
             ],
             [
              0.2222222222222222,
              "#7201a8"
             ],
             [
              0.3333333333333333,
              "#9c179e"
             ],
             [
              0.4444444444444444,
              "#bd3786"
             ],
             [
              0.5555555555555556,
              "#d8576b"
             ],
             [
              0.6666666666666666,
              "#ed7953"
             ],
             [
              0.7777777777777778,
              "#fb9f3a"
             ],
             [
              0.8888888888888888,
              "#fdca26"
             ],
             [
              1,
              "#f0f921"
             ]
            ],
            "type": "histogram2d"
           }
          ],
          "histogram2dcontour": [
           {
            "colorbar": {
             "outlinewidth": 0,
             "ticks": ""
            },
            "colorscale": [
             [
              0,
              "#0d0887"
             ],
             [
              0.1111111111111111,
              "#46039f"
             ],
             [
              0.2222222222222222,
              "#7201a8"
             ],
             [
              0.3333333333333333,
              "#9c179e"
             ],
             [
              0.4444444444444444,
              "#bd3786"
             ],
             [
              0.5555555555555556,
              "#d8576b"
             ],
             [
              0.6666666666666666,
              "#ed7953"
             ],
             [
              0.7777777777777778,
              "#fb9f3a"
             ],
             [
              0.8888888888888888,
              "#fdca26"
             ],
             [
              1,
              "#f0f921"
             ]
            ],
            "type": "histogram2dcontour"
           }
          ],
          "mesh3d": [
           {
            "colorbar": {
             "outlinewidth": 0,
             "ticks": ""
            },
            "type": "mesh3d"
           }
          ],
          "parcoords": [
           {
            "line": {
             "colorbar": {
              "outlinewidth": 0,
              "ticks": ""
             }
            },
            "type": "parcoords"
           }
          ],
          "pie": [
           {
            "automargin": true,
            "type": "pie"
           }
          ],
          "scatter": [
           {
            "marker": {
             "colorbar": {
              "outlinewidth": 0,
              "ticks": ""
             }
            },
            "type": "scatter"
           }
          ],
          "scatter3d": [
           {
            "line": {
             "colorbar": {
              "outlinewidth": 0,
              "ticks": ""
             }
            },
            "marker": {
             "colorbar": {
              "outlinewidth": 0,
              "ticks": ""
             }
            },
            "type": "scatter3d"
           }
          ],
          "scattercarpet": [
           {
            "marker": {
             "colorbar": {
              "outlinewidth": 0,
              "ticks": ""
             }
            },
            "type": "scattercarpet"
           }
          ],
          "scattergeo": [
           {
            "marker": {
             "colorbar": {
              "outlinewidth": 0,
              "ticks": ""
             }
            },
            "type": "scattergeo"
           }
          ],
          "scattergl": [
           {
            "marker": {
             "colorbar": {
              "outlinewidth": 0,
              "ticks": ""
             }
            },
            "type": "scattergl"
           }
          ],
          "scattermapbox": [
           {
            "marker": {
             "colorbar": {
              "outlinewidth": 0,
              "ticks": ""
             }
            },
            "type": "scattermapbox"
           }
          ],
          "scatterpolar": [
           {
            "marker": {
             "colorbar": {
              "outlinewidth": 0,
              "ticks": ""
             }
            },
            "type": "scatterpolar"
           }
          ],
          "scatterpolargl": [
           {
            "marker": {
             "colorbar": {
              "outlinewidth": 0,
              "ticks": ""
             }
            },
            "type": "scatterpolargl"
           }
          ],
          "scatterternary": [
           {
            "marker": {
             "colorbar": {
              "outlinewidth": 0,
              "ticks": ""
             }
            },
            "type": "scatterternary"
           }
          ],
          "surface": [
           {
            "colorbar": {
             "outlinewidth": 0,
             "ticks": ""
            },
            "colorscale": [
             [
              0,
              "#0d0887"
             ],
             [
              0.1111111111111111,
              "#46039f"
             ],
             [
              0.2222222222222222,
              "#7201a8"
             ],
             [
              0.3333333333333333,
              "#9c179e"
             ],
             [
              0.4444444444444444,
              "#bd3786"
             ],
             [
              0.5555555555555556,
              "#d8576b"
             ],
             [
              0.6666666666666666,
              "#ed7953"
             ],
             [
              0.7777777777777778,
              "#fb9f3a"
             ],
             [
              0.8888888888888888,
              "#fdca26"
             ],
             [
              1,
              "#f0f921"
             ]
            ],
            "type": "surface"
           }
          ],
          "table": [
           {
            "cells": {
             "fill": {
              "color": "#EBF0F8"
             },
             "line": {
              "color": "white"
             }
            },
            "header": {
             "fill": {
              "color": "#C8D4E3"
             },
             "line": {
              "color": "white"
             }
            },
            "type": "table"
           }
          ]
         },
         "layout": {
          "annotationdefaults": {
           "arrowcolor": "#2a3f5f",
           "arrowhead": 0,
           "arrowwidth": 1
          },
          "autotypenumbers": "strict",
          "coloraxis": {
           "colorbar": {
            "outlinewidth": 0,
            "ticks": ""
           }
          },
          "colorscale": {
           "diverging": [
            [
             0,
             "#8e0152"
            ],
            [
             0.1,
             "#c51b7d"
            ],
            [
             0.2,
             "#de77ae"
            ],
            [
             0.3,
             "#f1b6da"
            ],
            [
             0.4,
             "#fde0ef"
            ],
            [
             0.5,
             "#f7f7f7"
            ],
            [
             0.6,
             "#e6f5d0"
            ],
            [
             0.7,
             "#b8e186"
            ],
            [
             0.8,
             "#7fbc41"
            ],
            [
             0.9,
             "#4d9221"
            ],
            [
             1,
             "#276419"
            ]
           ],
           "sequential": [
            [
             0,
             "#0d0887"
            ],
            [
             0.1111111111111111,
             "#46039f"
            ],
            [
             0.2222222222222222,
             "#7201a8"
            ],
            [
             0.3333333333333333,
             "#9c179e"
            ],
            [
             0.4444444444444444,
             "#bd3786"
            ],
            [
             0.5555555555555556,
             "#d8576b"
            ],
            [
             0.6666666666666666,
             "#ed7953"
            ],
            [
             0.7777777777777778,
             "#fb9f3a"
            ],
            [
             0.8888888888888888,
             "#fdca26"
            ],
            [
             1,
             "#f0f921"
            ]
           ],
           "sequentialminus": [
            [
             0,
             "#0d0887"
            ],
            [
             0.1111111111111111,
             "#46039f"
            ],
            [
             0.2222222222222222,
             "#7201a8"
            ],
            [
             0.3333333333333333,
             "#9c179e"
            ],
            [
             0.4444444444444444,
             "#bd3786"
            ],
            [
             0.5555555555555556,
             "#d8576b"
            ],
            [
             0.6666666666666666,
             "#ed7953"
            ],
            [
             0.7777777777777778,
             "#fb9f3a"
            ],
            [
             0.8888888888888888,
             "#fdca26"
            ],
            [
             1,
             "#f0f921"
            ]
           ]
          },
          "colorway": [
           "#636efa",
           "#EF553B",
           "#00cc96",
           "#ab63fa",
           "#FFA15A",
           "#19d3f3",
           "#FF6692",
           "#B6E880",
           "#FF97FF",
           "#FECB52"
          ],
          "font": {
           "color": "#2a3f5f"
          },
          "geo": {
           "bgcolor": "white",
           "lakecolor": "white",
           "landcolor": "#E5ECF6",
           "showlakes": true,
           "showland": true,
           "subunitcolor": "white"
          },
          "hoverlabel": {
           "align": "left"
          },
          "hovermode": "closest",
          "mapbox": {
           "style": "light"
          },
          "paper_bgcolor": "white",
          "plot_bgcolor": "#E5ECF6",
          "polar": {
           "angularaxis": {
            "gridcolor": "white",
            "linecolor": "white",
            "ticks": ""
           },
           "bgcolor": "#E5ECF6",
           "radialaxis": {
            "gridcolor": "white",
            "linecolor": "white",
            "ticks": ""
           }
          },
          "scene": {
           "xaxis": {
            "backgroundcolor": "#E5ECF6",
            "gridcolor": "white",
            "gridwidth": 2,
            "linecolor": "white",
            "showbackground": true,
            "ticks": "",
            "zerolinecolor": "white"
           },
           "yaxis": {
            "backgroundcolor": "#E5ECF6",
            "gridcolor": "white",
            "gridwidth": 2,
            "linecolor": "white",
            "showbackground": true,
            "ticks": "",
            "zerolinecolor": "white"
           },
           "zaxis": {
            "backgroundcolor": "#E5ECF6",
            "gridcolor": "white",
            "gridwidth": 2,
            "linecolor": "white",
            "showbackground": true,
            "ticks": "",
            "zerolinecolor": "white"
           }
          },
          "shapedefaults": {
           "line": {
            "color": "#2a3f5f"
           }
          },
          "ternary": {
           "aaxis": {
            "gridcolor": "white",
            "linecolor": "white",
            "ticks": ""
           },
           "baxis": {
            "gridcolor": "white",
            "linecolor": "white",
            "ticks": ""
           },
           "bgcolor": "#E5ECF6",
           "caxis": {
            "gridcolor": "white",
            "linecolor": "white",
            "ticks": ""
           }
          },
          "title": {
           "x": 0.05
          },
          "xaxis": {
           "automargin": true,
           "gridcolor": "white",
           "linecolor": "white",
           "ticks": "",
           "title": {
            "standoff": 15
           },
           "zerolinecolor": "white",
           "zerolinewidth": 2
          },
          "yaxis": {
           "automargin": true,
           "gridcolor": "white",
           "linecolor": "white",
           "ticks": "",
           "title": {
            "standoff": 15
           },
           "zerolinecolor": "white",
           "zerolinewidth": 2
          }
         }
        },
        "xaxis": {
         "autorange": true,
         "range": [
          -2.0258620689655173,
          52.025862068965516
         ],
         "type": "linear"
        },
        "yaxis": {
         "autorange": true,
         "range": [
          0.23478249865420123,
          0.36948085821040894
         ],
         "type": "linear"
        }
       }
      },
      "image/png": "[encoded data removed]",
      "text/html": [
       "<div>                            <div id=\"f4ba1e03-ca7b-4ace-b202-7b862de172c8\" class=\"plotly-graph-div\" style=\"height:525px; width:100%;\"></div>            <script type=\"text/javascript\">                require([\"plotly\"], function(Plotly) {                    window.PLOTLYENV=window.PLOTLYENV || {};                                    if (document.getElementById(\"f4ba1e03-ca7b-4ace-b202-7b862de172c8\")) {                    Plotly.newPlot(                        \"f4ba1e03-ca7b-4ace-b202-7b862de172c8\",                        [{\"name\":\"Scores\",\"type\":\"scatter\",\"x\":[1,4,7,10,13,16,19,22,25,28,31,34,37,40,43,46,49],\"y\":[0.27108189724972126,0.2681295657627959,0.33481733465285046,0.3599397244085109,0.32058081700506597,0.2911107632853138,0.31107551125631483,0.2767092744448474,0.2976831075000242,0.24432363245609928,0.2805697362769851,0.3171641352202053,0.2717403056549738,0.292871633250863,0.276376190068313,0.2737474153078257,0.29437288576005516]}],                        {\"template\":{\"data\":{\"bar\":[{\"error_x\":{\"color\":\"#2a3f5f\"},\"error_y\":{\"color\":\"#2a3f5f\"},\"marker\":{\"line\":{\"color\":\"#E5ECF6\",\"width\":0.5},\"pattern\":{\"fillmode\":\"overlay\",\"size\":10,\"solidity\":0.2}},\"type\":\"bar\"}],\"barpolar\":[{\"marker\":{\"line\":{\"color\":\"#E5ECF6\",\"width\":0.5},\"pattern\":{\"fillmode\":\"overlay\",\"size\":10,\"solidity\":0.2}},\"type\":\"barpolar\"}],\"carpet\":[{\"aaxis\":{\"endlinecolor\":\"#2a3f5f\",\"gridcolor\":\"white\",\"linecolor\":\"white\",\"minorgridcolor\":\"white\",\"startlinecolor\":\"#2a3f5f\"},\"baxis\":{\"endlinecolor\":\"#2a3f5f\",\"gridcolor\":\"white\",\"linecolor\":\"white\",\"minorgridcolor\":\"white\",\"startlinecolor\":\"#2a3f5f\"},\"type\":\"carpet\"}],\"choropleth\":[{\"colorbar\":{\"outlinewidth\":0,\"ticks\":\"\"},\"type\":\"choropleth\"}],\"contour\":[{\"colorbar\":{\"outlinewidth\":0,\"ticks\":\"\"},\"colorscale\":[[0.0,\"#0d0887\"],[0.1111111111111111,\"#46039f\"],[0.2222222222222222,\"#7201a8\"],[0.3333333333333333,\"#9c179e\"],[0.4444444444444444,\"#bd3786\"],[0.5555555555555556,\"#d8576b\"],[0.6666666666666666,\"#ed7953\"],[0.7777777777777778,\"#fb9f3a\"],[0.8888888888888888,\"#fdca26\"],[1.0,\"#f0f921\"]],\"type\":\"contour\"}],\"contourcarpet\":[{\"colorbar\":{\"outlinewidth\":0,\"ticks\":\"\"},\"type\":\"contourcarpet\"}],\"heatmap\":[{\"colorbar\":{\"outlinewidth\":0,\"ticks\":\"\"},\"colorscale\":[[0.0,\"#0d0887\"],[0.1111111111111111,\"#46039f\"],[0.2222222222222222,\"#7201a8\"],[0.3333333333333333,\"#9c179e\"],[0.4444444444444444,\"#bd3786\"],[0.5555555555555556,\"#d8576b\"],[0.6666666666666666,\"#ed7953\"],[0.7777777777777778,\"#fb9f3a\"],[0.8888888888888888,\"#fdca26\"],[1.0,\"#f0f921\"]],\"type\":\"heatmap\"}],\"heatmapgl\":[{\"colorbar\":{\"outlinewidth\":0,\"ticks\":\"\"},\"colorscale\":[[0.0,\"#0d0887\"],[0.1111111111111111,\"#46039f\"],[0.2222222222222222,\"#7201a8\"],[0.3333333333333333,\"#9c179e\"],[0.4444444444444444,\"#bd3786\"],[0.5555555555555556,\"#d8576b\"],[0.6666666666666666,\"#ed7953\"],[0.7777777777777778,\"#fb9f3a\"],[0.8888888888888888,\"#fdca26\"],[1.0,\"#f0f921\"]],\"type\":\"heatmapgl\"}],\"histogram\":[{\"marker\":{\"pattern\":{\"fillmode\":\"overlay\",\"size\":10,\"solidity\":0.2}},\"type\":\"histogram\"}],\"histogram2d\":[{\"colorbar\":{\"outlinewidth\":0,\"ticks\":\"\"},\"colorscale\":[[0.0,\"#0d0887\"],[0.1111111111111111,\"#46039f\"],[0.2222222222222222,\"#7201a8\"],[0.3333333333333333,\"#9c179e\"],[0.4444444444444444,\"#bd3786\"],[0.5555555555555556,\"#d8576b\"],[0.6666666666666666,\"#ed7953\"],[0.7777777777777778,\"#fb9f3a\"],[0.8888888888888888,\"#fdca26\"],[1.0,\"#f0f921\"]],\"type\":\"histogram2d\"}],\"histogram2dcontour\":[{\"colorbar\":{\"outlinewidth\":0,\"ticks\":\"\"},\"colorscale\":[[0.0,\"#0d0887\"],[0.1111111111111111,\"#46039f\"],[0.2222222222222222,\"#7201a8\"],[0.3333333333333333,\"#9c179e\"],[0.4444444444444444,\"#bd3786\"],[0.5555555555555556,\"#d8576b\"],[0.6666666666666666,\"#ed7953\"],[0.7777777777777778,\"#fb9f3a\"],[0.8888888888888888,\"#fdca26\"],[1.0,\"#f0f921\"]],\"type\":\"histogram2dcontour\"}],\"mesh3d\":[{\"colorbar\":{\"outlinewidth\":0,\"ticks\":\"\"},\"type\":\"mesh3d\"}],\"parcoords\":[{\"line\":{\"colorbar\":{\"outlinewidth\":0,\"ticks\":\"\"}},\"type\":\"parcoords\"}],\"pie\":[{\"automargin\":true,\"type\":\"pie\"}],\"scatter\":[{\"marker\":{\"colorbar\":{\"outlinewidth\":0,\"ticks\":\"\"}},\"type\":\"scatter\"}],\"scatter3d\":[{\"line\":{\"colorbar\":{\"outlinewidth\":0,\"ticks\":\"\"}},\"marker\":{\"colorbar\":{\"outlinewidth\":0,\"ticks\":\"\"}},\"type\":\"scatter3d\"}],\"scattercarpet\":[{\"marker\":{\"colorbar\":{\"outlinewidth\":0,\"ticks\":\"\"}},\"type\":\"scattercarpet\"}],\"scattergeo\":[{\"marker\":{\"colorbar\":{\"outlinewidth\":0,\"ticks\":\"\"}},\"type\":\"scattergeo\"}],\"scattergl\":[{\"marker\":{\"colorbar\":{\"outlinewidth\":0,\"ticks\":\"\"}},\"type\":\"scattergl\"}],\"scattermapbox\":[{\"marker\":{\"colorbar\":{\"outlinewidth\":0,\"ticks\":\"\"}},\"type\":\"scattermapbox\"}],\"scatterpolar\":[{\"marker\":{\"colorbar\":{\"outlinewidth\":0,\"ticks\":\"\"}},\"type\":\"scatterpolar\"}],\"scatterpolargl\":[{\"marker\":{\"colorbar\":{\"outlinewidth\":0,\"ticks\":\"\"}},\"type\":\"scatterpolargl\"}],\"scatterternary\":[{\"marker\":{\"colorbar\":{\"outlinewidth\":0,\"ticks\":\"\"}},\"type\":\"scatterternary\"}],\"surface\":[{\"colorbar\":{\"outlinewidth\":0,\"ticks\":\"\"},\"colorscale\":[[0.0,\"#0d0887\"],[0.1111111111111111,\"#46039f\"],[0.2222222222222222,\"#7201a8\"],[0.3333333333333333,\"#9c179e\"],[0.4444444444444444,\"#bd3786\"],[0.5555555555555556,\"#d8576b\"],[0.6666666666666666,\"#ed7953\"],[0.7777777777777778,\"#fb9f3a\"],[0.8888888888888888,\"#fdca26\"],[1.0,\"#f0f921\"]],\"type\":\"surface\"}],\"table\":[{\"cells\":{\"fill\":{\"color\":\"#EBF0F8\"},\"line\":{\"color\":\"white\"}},\"header\":{\"fill\":{\"color\":\"#C8D4E3\"},\"line\":{\"color\":\"white\"}},\"type\":\"table\"}]},\"layout\":{\"annotationdefaults\":{\"arrowcolor\":\"#2a3f5f\",\"arrowhead\":0,\"arrowwidth\":1},\"autotypenumbers\":\"strict\",\"coloraxis\":{\"colorbar\":{\"outlinewidth\":0,\"ticks\":\"\"}},\"colorscale\":{\"diverging\":[[0,\"#8e0152\"],[0.1,\"#c51b7d\"],[0.2,\"#de77ae\"],[0.3,\"#f1b6da\"],[0.4,\"#fde0ef\"],[0.5,\"#f7f7f7\"],[0.6,\"#e6f5d0\"],[0.7,\"#b8e186\"],[0.8,\"#7fbc41\"],[0.9,\"#4d9221\"],[1,\"#276419\"]],\"sequential\":[[0.0,\"#0d0887\"],[0.1111111111111111,\"#46039f\"],[0.2222222222222222,\"#7201a8\"],[0.3333333333333333,\"#9c179e\"],[0.4444444444444444,\"#bd3786\"],[0.5555555555555556,\"#d8576b\"],[0.6666666666666666,\"#ed7953\"],[0.7777777777777778,\"#fb9f3a\"],[0.8888888888888888,\"#fdca26\"],[1.0,\"#f0f921\"]],\"sequentialminus\":[[0.0,\"#0d0887\"],[0.1111111111111111,\"#46039f\"],[0.2222222222222222,\"#7201a8\"],[0.3333333333333333,\"#9c179e\"],[0.4444444444444444,\"#bd3786\"],[0.5555555555555556,\"#d8576b\"],[0.6666666666666666,\"#ed7953\"],[0.7777777777777778,\"#fb9f3a\"],[0.8888888888888888,\"#fdca26\"],[1.0,\"#f0f921\"]]},\"colorway\":[\"#636efa\",\"#EF553B\",\"#00cc96\",\"#ab63fa\",\"#FFA15A\",\"#19d3f3\",\"#FF6692\",\"#B6E880\",\"#FF97FF\",\"#FECB52\"],\"font\":{\"color\":\"#2a3f5f\"},\"geo\":{\"bgcolor\":\"white\",\"lakecolor\":\"white\",\"landcolor\":\"#E5ECF6\",\"showlakes\":true,\"showland\":true,\"subunitcolor\":\"white\"},\"hoverlabel\":{\"align\":\"left\"},\"hovermode\":\"closest\",\"mapbox\":{\"style\":\"light\"},\"paper_bgcolor\":\"white\",\"plot_bgcolor\":\"#E5ECF6\",\"polar\":{\"angularaxis\":{\"gridcolor\":\"white\",\"linecolor\":\"white\",\"ticks\":\"\"},\"bgcolor\":\"#E5ECF6\",\"radialaxis\":{\"gridcolor\":\"white\",\"linecolor\":\"white\",\"ticks\":\"\"}},\"scene\":{\"xaxis\":{\"backgroundcolor\":\"#E5ECF6\",\"gridcolor\":\"white\",\"gridwidth\":2,\"linecolor\":\"white\",\"showbackground\":true,\"ticks\":\"\",\"zerolinecolor\":\"white\"},\"yaxis\":{\"backgroundcolor\":\"#E5ECF6\",\"gridcolor\":\"white\",\"gridwidth\":2,\"linecolor\":\"white\",\"showbackground\":true,\"ticks\":\"\",\"zerolinecolor\":\"white\"},\"zaxis\":{\"backgroundcolor\":\"#E5ECF6\",\"gridcolor\":\"white\",\"gridwidth\":2,\"linecolor\":\"white\",\"showbackground\":true,\"ticks\":\"\",\"zerolinecolor\":\"white\"}},\"shapedefaults\":{\"line\":{\"color\":\"#2a3f5f\"}},\"ternary\":{\"aaxis\":{\"gridcolor\":\"white\",\"linecolor\":\"white\",\"ticks\":\"\"},\"baxis\":{\"gridcolor\":\"white\",\"linecolor\":\"white\",\"ticks\":\"\"},\"bgcolor\":\"#E5ECF6\",\"caxis\":{\"gridcolor\":\"white\",\"linecolor\":\"white\",\"ticks\":\"\"}},\"title\":{\"x\":0.05},\"xaxis\":{\"automargin\":true,\"gridcolor\":\"white\",\"linecolor\":\"white\",\"ticks\":\"\",\"title\":{\"standoff\":15},\"zerolinecolor\":\"white\",\"zerolinewidth\":2},\"yaxis\":{\"automargin\":true,\"gridcolor\":\"white\",\"linecolor\":\"white\",\"ticks\":\"\",\"title\":{\"standoff\":15},\"zerolinecolor\":\"white\",\"zerolinewidth\":2}}}},                        {\"responsive\": true}                    ).then(function(){\n",
       "                            \n",
       "var gd = document.getElementById('f4ba1e03-ca7b-4ace-b202-7b862de172c8');\n",
       "var x = new MutationObserver(function (mutations, observer) {{\n",
       "        var display = window.getComputedStyle(gd).display;\n",
       "        if (!display || display === 'none') {{\n",
       "            console.log([gd, 'removed!']);\n",
       "            Plotly.purge(gd);\n",
       "            observer.disconnect();\n",
       "        }}\n",
       "}});\n",
       "\n",
       "// Listen for the removal of the full notebook cells\n",
       "var notebookContainer = gd.closest('#notebook-container');\n",
       "if (notebookContainer) {{\n",
       "    x.observe(notebookContainer, {childList: true});\n",
       "}}\n",
       "\n",
       "// Listen for the clearing of the current output cell\n",
       "var outputEl = gd.closest('.output');\n",
       "if (outputEl) {{\n",
       "    x.observe(outputEl, {childList: true});\n",
       "}}\n",
       "\n",
       "                        })                };                });            </script>        </div>"
      ]
     },
     "metadata": {},
     "output_type": "display_data"
    }
   ],
   "source": [
    "multex_scores = score_topics(multex_dictionary, multex_bow, multex_texts, start = 1, step = 3, stop = 52)\n",
    "    \n",
    "plot_topic_scores(multex_scores)"
   ]
  },
  {
   "cell_type": "code",
   "execution_count": 16,
   "id": "53bb602a-c5c8-4f84-8296-92bd2e5c7524",
   "metadata": {
    "execution": {
     "iopub.execute_input": "2021-11-14T08:05:25.986553Z",
     "iopub.status.busy": "2021-11-14T08:05:25.985879Z",
     "iopub.status.idle": "2021-11-14T08:05:26.200021Z",
     "shell.execute_reply": "2021-11-14T08:05:26.199118Z",
     "shell.execute_reply.started": "2021-11-14T08:05:25.986520Z"
    },
    "tags": []
   },
   "outputs": [
    {
     "data": {
      "application/vnd.plotly.v1+json": {
       "config": {
        "plotlyServerURL": "https://plot.ly"
       },
       "data": [
        {
         "name": "Candidate topic models",
         "type": "scatter",
         "x": [
          1,
          4,
          7,
          10,
          13,
          16,
          19,
          22,
          25,
          28,
          31,
          34,
          37,
          40,
          43,
          46,
          49
         ],
         "y": [
          0.27108189724972126,
          0.2681295657627959,
          0.33481733465285046,
          0.3599397244085109,
          0.32058081700506597,
          0.2911107632853138,
          0.31107551125631483,
          0.2767092744448474,
          0.2976831075000242,
          0.24432363245609928,
          0.2805697362769851,
          0.3171641352202053,
          0.2717403056549738,
          0.292871633250863,
          0.276376190068313,
          0.2737474153078257,
          0.29437288576005516
         ]
        },
        {
         "name": "No of topics: 10\n -- Score: 10",
         "type": "scatter",
         "x": [
          10
         ],
         "y": [
          0.3599397244085109
         ]
        }
       ],
       "layout": {
        "autosize": true,
        "font": {
         "family": "Arial"
        },
        "legend": {
         "title": {
          "text": ""
         }
        },
        "template": {
         "data": {
          "bar": [
           {
            "error_x": {
             "color": "#2a3f5f"
            },
            "error_y": {
             "color": "#2a3f5f"
            },
            "marker": {
             "line": {
              "color": "#E5ECF6",
              "width": 0.5
             },
             "pattern": {
              "fillmode": "overlay",
              "size": 10,
              "solidity": 0.2
             }
            },
            "type": "bar"
           }
          ],
          "barpolar": [
           {
            "marker": {
             "line": {
              "color": "#E5ECF6",
              "width": 0.5
             },
             "pattern": {
              "fillmode": "overlay",
              "size": 10,
              "solidity": 0.2
             }
            },
            "type": "barpolar"
           }
          ],
          "carpet": [
           {
            "aaxis": {
             "endlinecolor": "#2a3f5f",
             "gridcolor": "white",
             "linecolor": "white",
             "minorgridcolor": "white",
             "startlinecolor": "#2a3f5f"
            },
            "baxis": {
             "endlinecolor": "#2a3f5f",
             "gridcolor": "white",
             "linecolor": "white",
             "minorgridcolor": "white",
             "startlinecolor": "#2a3f5f"
            },
            "type": "carpet"
           }
          ],
          "choropleth": [
           {
            "colorbar": {
             "outlinewidth": 0,
             "ticks": ""
            },
            "type": "choropleth"
           }
          ],
          "contour": [
           {
            "colorbar": {
             "outlinewidth": 0,
             "ticks": ""
            },
            "colorscale": [
             [
              0,
              "#0d0887"
             ],
             [
              0.1111111111111111,
              "#46039f"
             ],
             [
              0.2222222222222222,
              "#7201a8"
             ],
             [
              0.3333333333333333,
              "#9c179e"
             ],
             [
              0.4444444444444444,
              "#bd3786"
             ],
             [
              0.5555555555555556,
              "#d8576b"
             ],
             [
              0.6666666666666666,
              "#ed7953"
             ],
             [
              0.7777777777777778,
              "#fb9f3a"
             ],
             [
              0.8888888888888888,
              "#fdca26"
             ],
             [
              1,
              "#f0f921"
             ]
            ],
            "type": "contour"
           }
          ],
          "contourcarpet": [
           {
            "colorbar": {
             "outlinewidth": 0,
             "ticks": ""
            },
            "type": "contourcarpet"
           }
          ],
          "heatmap": [
           {
            "colorbar": {
             "outlinewidth": 0,
             "ticks": ""
            },
            "colorscale": [
             [
              0,
              "#0d0887"
             ],
             [
              0.1111111111111111,
              "#46039f"
             ],
             [
              0.2222222222222222,
              "#7201a8"
             ],
             [
              0.3333333333333333,
              "#9c179e"
             ],
             [
              0.4444444444444444,
              "#bd3786"
             ],
             [
              0.5555555555555556,
              "#d8576b"
             ],
             [
              0.6666666666666666,
              "#ed7953"
             ],
             [
              0.7777777777777778,
              "#fb9f3a"
             ],
             [
              0.8888888888888888,
              "#fdca26"
             ],
             [
              1,
              "#f0f921"
             ]
            ],
            "type": "heatmap"
           }
          ],
          "heatmapgl": [
           {
            "colorbar": {
             "outlinewidth": 0,
             "ticks": ""
            },
            "colorscale": [
             [
              0,
              "#0d0887"
             ],
             [
              0.1111111111111111,
              "#46039f"
             ],
             [
              0.2222222222222222,
              "#7201a8"
             ],
             [
              0.3333333333333333,
              "#9c179e"
             ],
             [
              0.4444444444444444,
              "#bd3786"
             ],
             [
              0.5555555555555556,
              "#d8576b"
             ],
             [
              0.6666666666666666,
              "#ed7953"
             ],
             [
              0.7777777777777778,
              "#fb9f3a"
             ],
             [
              0.8888888888888888,
              "#fdca26"
             ],
             [
              1,
              "#f0f921"
             ]
            ],
            "type": "heatmapgl"
           }
          ],
          "histogram": [
           {
            "marker": {
             "pattern": {
              "fillmode": "overlay",
              "size": 10,
              "solidity": 0.2
             }
            },
            "type": "histogram"
           }
          ],
          "histogram2d": [
           {
            "colorbar": {
             "outlinewidth": 0,
             "ticks": ""
            },
            "colorscale": [
             [
              0,
              "#0d0887"
             ],
             [
              0.1111111111111111,
              "#46039f"
             ],
             [
              0.2222222222222222,
              "#7201a8"
             ],
             [
              0.3333333333333333,
              "#9c179e"
             ],
             [
              0.4444444444444444,
              "#bd3786"
             ],
             [
              0.5555555555555556,
              "#d8576b"
             ],
             [
              0.6666666666666666,
              "#ed7953"
             ],
             [
              0.7777777777777778,
              "#fb9f3a"
             ],
             [
              0.8888888888888888,
              "#fdca26"
             ],
             [
              1,
              "#f0f921"
             ]
            ],
            "type": "histogram2d"
           }
          ],
          "histogram2dcontour": [
           {
            "colorbar": {
             "outlinewidth": 0,
             "ticks": ""
            },
            "colorscale": [
             [
              0,
              "#0d0887"
             ],
             [
              0.1111111111111111,
              "#46039f"
             ],
             [
              0.2222222222222222,
              "#7201a8"
             ],
             [
              0.3333333333333333,
              "#9c179e"
             ],
             [
              0.4444444444444444,
              "#bd3786"
             ],
             [
              0.5555555555555556,
              "#d8576b"
             ],
             [
              0.6666666666666666,
              "#ed7953"
             ],
             [
              0.7777777777777778,
              "#fb9f3a"
             ],
             [
              0.8888888888888888,
              "#fdca26"
             ],
             [
              1,
              "#f0f921"
             ]
            ],
            "type": "histogram2dcontour"
           }
          ],
          "mesh3d": [
           {
            "colorbar": {
             "outlinewidth": 0,
             "ticks": ""
            },
            "type": "mesh3d"
           }
          ],
          "parcoords": [
           {
            "line": {
             "colorbar": {
              "outlinewidth": 0,
              "ticks": ""
             }
            },
            "type": "parcoords"
           }
          ],
          "pie": [
           {
            "automargin": true,
            "type": "pie"
           }
          ],
          "scatter": [
           {
            "marker": {
             "colorbar": {
              "outlinewidth": 0,
              "ticks": ""
             }
            },
            "type": "scatter"
           }
          ],
          "scatter3d": [
           {
            "line": {
             "colorbar": {
              "outlinewidth": 0,
              "ticks": ""
             }
            },
            "marker": {
             "colorbar": {
              "outlinewidth": 0,
              "ticks": ""
             }
            },
            "type": "scatter3d"
           }
          ],
          "scattercarpet": [
           {
            "marker": {
             "colorbar": {
              "outlinewidth": 0,
              "ticks": ""
             }
            },
            "type": "scattercarpet"
           }
          ],
          "scattergeo": [
           {
            "marker": {
             "colorbar": {
              "outlinewidth": 0,
              "ticks": ""
             }
            },
            "type": "scattergeo"
           }
          ],
          "scattergl": [
           {
            "marker": {
             "colorbar": {
              "outlinewidth": 0,
              "ticks": ""
             }
            },
            "type": "scattergl"
           }
          ],
          "scattermapbox": [
           {
            "marker": {
             "colorbar": {
              "outlinewidth": 0,
              "ticks": ""
             }
            },
            "type": "scattermapbox"
           }
          ],
          "scatterpolar": [
           {
            "marker": {
             "colorbar": {
              "outlinewidth": 0,
              "ticks": ""
             }
            },
            "type": "scatterpolar"
           }
          ],
          "scatterpolargl": [
           {
            "marker": {
             "colorbar": {
              "outlinewidth": 0,
              "ticks": ""
             }
            },
            "type": "scatterpolargl"
           }
          ],
          "scatterternary": [
           {
            "marker": {
             "colorbar": {
              "outlinewidth": 0,
              "ticks": ""
             }
            },
            "type": "scatterternary"
           }
          ],
          "surface": [
           {
            "colorbar": {
             "outlinewidth": 0,
             "ticks": ""
            },
            "colorscale": [
             [
              0,
              "#0d0887"
             ],
             [
              0.1111111111111111,
              "#46039f"
             ],
             [
              0.2222222222222222,
              "#7201a8"
             ],
             [
              0.3333333333333333,
              "#9c179e"
             ],
             [
              0.4444444444444444,
              "#bd3786"
             ],
             [
              0.5555555555555556,
              "#d8576b"
             ],
             [
              0.6666666666666666,
              "#ed7953"
             ],
             [
              0.7777777777777778,
              "#fb9f3a"
             ],
             [
              0.8888888888888888,
              "#fdca26"
             ],
             [
              1,
              "#f0f921"
             ]
            ],
            "type": "surface"
           }
          ],
          "table": [
           {
            "cells": {
             "fill": {
              "color": "#EBF0F8"
             },
             "line": {
              "color": "white"
             }
            },
            "header": {
             "fill": {
              "color": "#C8D4E3"
             },
             "line": {
              "color": "white"
             }
            },
            "type": "table"
           }
          ]
         },
         "layout": {
          "annotationdefaults": {
           "arrowcolor": "#2a3f5f",
           "arrowhead": 0,
           "arrowwidth": 1
          },
          "autotypenumbers": "strict",
          "coloraxis": {
           "colorbar": {
            "outlinewidth": 0,
            "ticks": ""
           }
          },
          "colorscale": {
           "diverging": [
            [
             0,
             "#8e0152"
            ],
            [
             0.1,
             "#c51b7d"
            ],
            [
             0.2,
             "#de77ae"
            ],
            [
             0.3,
             "#f1b6da"
            ],
            [
             0.4,
             "#fde0ef"
            ],
            [
             0.5,
             "#f7f7f7"
            ],
            [
             0.6,
             "#e6f5d0"
            ],
            [
             0.7,
             "#b8e186"
            ],
            [
             0.8,
             "#7fbc41"
            ],
            [
             0.9,
             "#4d9221"
            ],
            [
             1,
             "#276419"
            ]
           ],
           "sequential": [
            [
             0,
             "#0d0887"
            ],
            [
             0.1111111111111111,
             "#46039f"
            ],
            [
             0.2222222222222222,
             "#7201a8"
            ],
            [
             0.3333333333333333,
             "#9c179e"
            ],
            [
             0.4444444444444444,
             "#bd3786"
            ],
            [
             0.5555555555555556,
             "#d8576b"
            ],
            [
             0.6666666666666666,
             "#ed7953"
            ],
            [
             0.7777777777777778,
             "#fb9f3a"
            ],
            [
             0.8888888888888888,
             "#fdca26"
            ],
            [
             1,
             "#f0f921"
            ]
           ],
           "sequentialminus": [
            [
             0,
             "#0d0887"
            ],
            [
             0.1111111111111111,
             "#46039f"
            ],
            [
             0.2222222222222222,
             "#7201a8"
            ],
            [
             0.3333333333333333,
             "#9c179e"
            ],
            [
             0.4444444444444444,
             "#bd3786"
            ],
            [
             0.5555555555555556,
             "#d8576b"
            ],
            [
             0.6666666666666666,
             "#ed7953"
            ],
            [
             0.7777777777777778,
             "#fb9f3a"
            ],
            [
             0.8888888888888888,
             "#fdca26"
            ],
            [
             1,
             "#f0f921"
            ]
           ]
          },
          "colorway": [
           "#636efa",
           "#EF553B",
           "#00cc96",
           "#ab63fa",
           "#FFA15A",
           "#19d3f3",
           "#FF6692",
           "#B6E880",
           "#FF97FF",
           "#FECB52"
          ],
          "font": {
           "color": "#2a3f5f"
          },
          "geo": {
           "bgcolor": "white",
           "lakecolor": "white",
           "landcolor": "#E5ECF6",
           "showlakes": true,
           "showland": true,
           "subunitcolor": "white"
          },
          "hoverlabel": {
           "align": "left"
          },
          "hovermode": "closest",
          "mapbox": {
           "style": "light"
          },
          "paper_bgcolor": "white",
          "plot_bgcolor": "#E5ECF6",
          "polar": {
           "angularaxis": {
            "gridcolor": "white",
            "linecolor": "white",
            "ticks": ""
           },
           "bgcolor": "#E5ECF6",
           "radialaxis": {
            "gridcolor": "white",
            "linecolor": "white",
            "ticks": ""
           }
          },
          "scene": {
           "xaxis": {
            "backgroundcolor": "#E5ECF6",
            "gridcolor": "white",
            "gridwidth": 2,
            "linecolor": "white",
            "showbackground": true,
            "ticks": "",
            "zerolinecolor": "white"
           },
           "yaxis": {
            "backgroundcolor": "#E5ECF6",
            "gridcolor": "white",
            "gridwidth": 2,
            "linecolor": "white",
            "showbackground": true,
            "ticks": "",
            "zerolinecolor": "white"
           },
           "zaxis": {
            "backgroundcolor": "#E5ECF6",
            "gridcolor": "white",
            "gridwidth": 2,
            "linecolor": "white",
            "showbackground": true,
            "ticks": "",
            "zerolinecolor": "white"
           }
          },
          "shapedefaults": {
           "line": {
            "color": "#2a3f5f"
           }
          },
          "ternary": {
           "aaxis": {
            "gridcolor": "white",
            "linecolor": "white",
            "ticks": ""
           },
           "baxis": {
            "gridcolor": "white",
            "linecolor": "white",
            "ticks": ""
           },
           "bgcolor": "#E5ECF6",
           "caxis": {
            "gridcolor": "white",
            "linecolor": "white",
            "ticks": ""
           }
          },
          "title": {
           "x": 0.05
          },
          "xaxis": {
           "automargin": true,
           "gridcolor": "white",
           "linecolor": "white",
           "ticks": "",
           "title": {
            "standoff": 15
           },
           "zerolinecolor": "white",
           "zerolinewidth": 2
          },
          "yaxis": {
           "automargin": true,
           "gridcolor": "white",
           "linecolor": "white",
           "ticks": "",
           "title": {
            "standoff": 15
           },
           "zerolinecolor": "white",
           "zerolinewidth": 2
          }
         }
        },
        "title": {
         "text": "No of models: 17 -- Spacing:3",
         "x": 0.4,
         "xanchor": "center",
         "y": 0.9,
         "yanchor": "top"
        },
        "xaxis": {
         "autorange": true,
         "range": [
          -2.132867132867133,
          52.13286713286713
         ],
         "title": {
          "text": "Number of topics"
         },
         "type": "linear"
        },
        "yaxis": {
         "autorange": true,
         "range": [
          0.23478249865420123,
          0.36948085821040894
         ],
         "title": {
          "text": "Topic coherence score"
         },
         "type": "linear"
        }
       }
      },
      "image/png": "[encoded data removed]",
      "text/html": [
       "<div>                            <div id=\"219fb4f3-c47b-4c5a-b430-1c85c5c55d8c\" class=\"plotly-graph-div\" style=\"height:525px; width:100%;\"></div>            <script type=\"text/javascript\">                require([\"plotly\"], function(Plotly) {                    window.PLOTLYENV=window.PLOTLYENV || {};                                    if (document.getElementById(\"219fb4f3-c47b-4c5a-b430-1c85c5c55d8c\")) {                    Plotly.newPlot(                        \"219fb4f3-c47b-4c5a-b430-1c85c5c55d8c\",                        [{\"name\":\"Candidate topic models\",\"type\":\"scatter\",\"x\":[1,4,7,10,13,16,19,22,25,28,31,34,37,40,43,46,49],\"y\":[0.27108189724972126,0.2681295657627959,0.33481733465285046,0.3599397244085109,0.32058081700506597,0.2911107632853138,0.31107551125631483,0.2767092744448474,0.2976831075000242,0.24432363245609928,0.2805697362769851,0.3171641352202053,0.2717403056549738,0.292871633250863,0.276376190068313,0.2737474153078257,0.29437288576005516]},{\"name\":\"No of topics: 10\\n -- Score: 10\",\"type\":\"scatter\",\"x\":[10],\"y\":[0.3599397244085109]}],                        {\"font\":{\"family\":\"Arial\"},\"legend\":{\"title\":{\"text\":\"\"}},\"template\":{\"data\":{\"bar\":[{\"error_x\":{\"color\":\"#2a3f5f\"},\"error_y\":{\"color\":\"#2a3f5f\"},\"marker\":{\"line\":{\"color\":\"#E5ECF6\",\"width\":0.5},\"pattern\":{\"fillmode\":\"overlay\",\"size\":10,\"solidity\":0.2}},\"type\":\"bar\"}],\"barpolar\":[{\"marker\":{\"line\":{\"color\":\"#E5ECF6\",\"width\":0.5},\"pattern\":{\"fillmode\":\"overlay\",\"size\":10,\"solidity\":0.2}},\"type\":\"barpolar\"}],\"carpet\":[{\"aaxis\":{\"endlinecolor\":\"#2a3f5f\",\"gridcolor\":\"white\",\"linecolor\":\"white\",\"minorgridcolor\":\"white\",\"startlinecolor\":\"#2a3f5f\"},\"baxis\":{\"endlinecolor\":\"#2a3f5f\",\"gridcolor\":\"white\",\"linecolor\":\"white\",\"minorgridcolor\":\"white\",\"startlinecolor\":\"#2a3f5f\"},\"type\":\"carpet\"}],\"choropleth\":[{\"colorbar\":{\"outlinewidth\":0,\"ticks\":\"\"},\"type\":\"choropleth\"}],\"contour\":[{\"colorbar\":{\"outlinewidth\":0,\"ticks\":\"\"},\"colorscale\":[[0.0,\"#0d0887\"],[0.1111111111111111,\"#46039f\"],[0.2222222222222222,\"#7201a8\"],[0.3333333333333333,\"#9c179e\"],[0.4444444444444444,\"#bd3786\"],[0.5555555555555556,\"#d8576b\"],[0.6666666666666666,\"#ed7953\"],[0.7777777777777778,\"#fb9f3a\"],[0.8888888888888888,\"#fdca26\"],[1.0,\"#f0f921\"]],\"type\":\"contour\"}],\"contourcarpet\":[{\"colorbar\":{\"outlinewidth\":0,\"ticks\":\"\"},\"type\":\"contourcarpet\"}],\"heatmap\":[{\"colorbar\":{\"outlinewidth\":0,\"ticks\":\"\"},\"colorscale\":[[0.0,\"#0d0887\"],[0.1111111111111111,\"#46039f\"],[0.2222222222222222,\"#7201a8\"],[0.3333333333333333,\"#9c179e\"],[0.4444444444444444,\"#bd3786\"],[0.5555555555555556,\"#d8576b\"],[0.6666666666666666,\"#ed7953\"],[0.7777777777777778,\"#fb9f3a\"],[0.8888888888888888,\"#fdca26\"],[1.0,\"#f0f921\"]],\"type\":\"heatmap\"}],\"heatmapgl\":[{\"colorbar\":{\"outlinewidth\":0,\"ticks\":\"\"},\"colorscale\":[[0.0,\"#0d0887\"],[0.1111111111111111,\"#46039f\"],[0.2222222222222222,\"#7201a8\"],[0.3333333333333333,\"#9c179e\"],[0.4444444444444444,\"#bd3786\"],[0.5555555555555556,\"#d8576b\"],[0.6666666666666666,\"#ed7953\"],[0.7777777777777778,\"#fb9f3a\"],[0.8888888888888888,\"#fdca26\"],[1.0,\"#f0f921\"]],\"type\":\"heatmapgl\"}],\"histogram\":[{\"marker\":{\"pattern\":{\"fillmode\":\"overlay\",\"size\":10,\"solidity\":0.2}},\"type\":\"histogram\"}],\"histogram2d\":[{\"colorbar\":{\"outlinewidth\":0,\"ticks\":\"\"},\"colorscale\":[[0.0,\"#0d0887\"],[0.1111111111111111,\"#46039f\"],[0.2222222222222222,\"#7201a8\"],[0.3333333333333333,\"#9c179e\"],[0.4444444444444444,\"#bd3786\"],[0.5555555555555556,\"#d8576b\"],[0.6666666666666666,\"#ed7953\"],[0.7777777777777778,\"#fb9f3a\"],[0.8888888888888888,\"#fdca26\"],[1.0,\"#f0f921\"]],\"type\":\"histogram2d\"}],\"histogram2dcontour\":[{\"colorbar\":{\"outlinewidth\":0,\"ticks\":\"\"},\"colorscale\":[[0.0,\"#0d0887\"],[0.1111111111111111,\"#46039f\"],[0.2222222222222222,\"#7201a8\"],[0.3333333333333333,\"#9c179e\"],[0.4444444444444444,\"#bd3786\"],[0.5555555555555556,\"#d8576b\"],[0.6666666666666666,\"#ed7953\"],[0.7777777777777778,\"#fb9f3a\"],[0.8888888888888888,\"#fdca26\"],[1.0,\"#f0f921\"]],\"type\":\"histogram2dcontour\"}],\"mesh3d\":[{\"colorbar\":{\"outlinewidth\":0,\"ticks\":\"\"},\"type\":\"mesh3d\"}],\"parcoords\":[{\"line\":{\"colorbar\":{\"outlinewidth\":0,\"ticks\":\"\"}},\"type\":\"parcoords\"}],\"pie\":[{\"automargin\":true,\"type\":\"pie\"}],\"scatter\":[{\"marker\":{\"colorbar\":{\"outlinewidth\":0,\"ticks\":\"\"}},\"type\":\"scatter\"}],\"scatter3d\":[{\"line\":{\"colorbar\":{\"outlinewidth\":0,\"ticks\":\"\"}},\"marker\":{\"colorbar\":{\"outlinewidth\":0,\"ticks\":\"\"}},\"type\":\"scatter3d\"}],\"scattercarpet\":[{\"marker\":{\"colorbar\":{\"outlinewidth\":0,\"ticks\":\"\"}},\"type\":\"scattercarpet\"}],\"scattergeo\":[{\"marker\":{\"colorbar\":{\"outlinewidth\":0,\"ticks\":\"\"}},\"type\":\"scattergeo\"}],\"scattergl\":[{\"marker\":{\"colorbar\":{\"outlinewidth\":0,\"ticks\":\"\"}},\"type\":\"scattergl\"}],\"scattermapbox\":[{\"marker\":{\"colorbar\":{\"outlinewidth\":0,\"ticks\":\"\"}},\"type\":\"scattermapbox\"}],\"scatterpolar\":[{\"marker\":{\"colorbar\":{\"outlinewidth\":0,\"ticks\":\"\"}},\"type\":\"scatterpolar\"}],\"scatterpolargl\":[{\"marker\":{\"colorbar\":{\"outlinewidth\":0,\"ticks\":\"\"}},\"type\":\"scatterpolargl\"}],\"scatterternary\":[{\"marker\":{\"colorbar\":{\"outlinewidth\":0,\"ticks\":\"\"}},\"type\":\"scatterternary\"}],\"surface\":[{\"colorbar\":{\"outlinewidth\":0,\"ticks\":\"\"},\"colorscale\":[[0.0,\"#0d0887\"],[0.1111111111111111,\"#46039f\"],[0.2222222222222222,\"#7201a8\"],[0.3333333333333333,\"#9c179e\"],[0.4444444444444444,\"#bd3786\"],[0.5555555555555556,\"#d8576b\"],[0.6666666666666666,\"#ed7953\"],[0.7777777777777778,\"#fb9f3a\"],[0.8888888888888888,\"#fdca26\"],[1.0,\"#f0f921\"]],\"type\":\"surface\"}],\"table\":[{\"cells\":{\"fill\":{\"color\":\"#EBF0F8\"},\"line\":{\"color\":\"white\"}},\"header\":{\"fill\":{\"color\":\"#C8D4E3\"},\"line\":{\"color\":\"white\"}},\"type\":\"table\"}]},\"layout\":{\"annotationdefaults\":{\"arrowcolor\":\"#2a3f5f\",\"arrowhead\":0,\"arrowwidth\":1},\"autotypenumbers\":\"strict\",\"coloraxis\":{\"colorbar\":{\"outlinewidth\":0,\"ticks\":\"\"}},\"colorscale\":{\"diverging\":[[0,\"#8e0152\"],[0.1,\"#c51b7d\"],[0.2,\"#de77ae\"],[0.3,\"#f1b6da\"],[0.4,\"#fde0ef\"],[0.5,\"#f7f7f7\"],[0.6,\"#e6f5d0\"],[0.7,\"#b8e186\"],[0.8,\"#7fbc41\"],[0.9,\"#4d9221\"],[1,\"#276419\"]],\"sequential\":[[0.0,\"#0d0887\"],[0.1111111111111111,\"#46039f\"],[0.2222222222222222,\"#7201a8\"],[0.3333333333333333,\"#9c179e\"],[0.4444444444444444,\"#bd3786\"],[0.5555555555555556,\"#d8576b\"],[0.6666666666666666,\"#ed7953\"],[0.7777777777777778,\"#fb9f3a\"],[0.8888888888888888,\"#fdca26\"],[1.0,\"#f0f921\"]],\"sequentialminus\":[[0.0,\"#0d0887\"],[0.1111111111111111,\"#46039f\"],[0.2222222222222222,\"#7201a8\"],[0.3333333333333333,\"#9c179e\"],[0.4444444444444444,\"#bd3786\"],[0.5555555555555556,\"#d8576b\"],[0.6666666666666666,\"#ed7953\"],[0.7777777777777778,\"#fb9f3a\"],[0.8888888888888888,\"#fdca26\"],[1.0,\"#f0f921\"]]},\"colorway\":[\"#636efa\",\"#EF553B\",\"#00cc96\",\"#ab63fa\",\"#FFA15A\",\"#19d3f3\",\"#FF6692\",\"#B6E880\",\"#FF97FF\",\"#FECB52\"],\"font\":{\"color\":\"#2a3f5f\"},\"geo\":{\"bgcolor\":\"white\",\"lakecolor\":\"white\",\"landcolor\":\"#E5ECF6\",\"showlakes\":true,\"showland\":true,\"subunitcolor\":\"white\"},\"hoverlabel\":{\"align\":\"left\"},\"hovermode\":\"closest\",\"mapbox\":{\"style\":\"light\"},\"paper_bgcolor\":\"white\",\"plot_bgcolor\":\"#E5ECF6\",\"polar\":{\"angularaxis\":{\"gridcolor\":\"white\",\"linecolor\":\"white\",\"ticks\":\"\"},\"bgcolor\":\"#E5ECF6\",\"radialaxis\":{\"gridcolor\":\"white\",\"linecolor\":\"white\",\"ticks\":\"\"}},\"scene\":{\"xaxis\":{\"backgroundcolor\":\"#E5ECF6\",\"gridcolor\":\"white\",\"gridwidth\":2,\"linecolor\":\"white\",\"showbackground\":true,\"ticks\":\"\",\"zerolinecolor\":\"white\"},\"yaxis\":{\"backgroundcolor\":\"#E5ECF6\",\"gridcolor\":\"white\",\"gridwidth\":2,\"linecolor\":\"white\",\"showbackground\":true,\"ticks\":\"\",\"zerolinecolor\":\"white\"},\"zaxis\":{\"backgroundcolor\":\"#E5ECF6\",\"gridcolor\":\"white\",\"gridwidth\":2,\"linecolor\":\"white\",\"showbackground\":true,\"ticks\":\"\",\"zerolinecolor\":\"white\"}},\"shapedefaults\":{\"line\":{\"color\":\"#2a3f5f\"}},\"ternary\":{\"aaxis\":{\"gridcolor\":\"white\",\"linecolor\":\"white\",\"ticks\":\"\"},\"baxis\":{\"gridcolor\":\"white\",\"linecolor\":\"white\",\"ticks\":\"\"},\"bgcolor\":\"#E5ECF6\",\"caxis\":{\"gridcolor\":\"white\",\"linecolor\":\"white\",\"ticks\":\"\"}},\"title\":{\"x\":0.05},\"xaxis\":{\"automargin\":true,\"gridcolor\":\"white\",\"linecolor\":\"white\",\"ticks\":\"\",\"title\":{\"standoff\":15},\"zerolinecolor\":\"white\",\"zerolinewidth\":2},\"yaxis\":{\"automargin\":true,\"gridcolor\":\"white\",\"linecolor\":\"white\",\"ticks\":\"\",\"title\":{\"standoff\":15},\"zerolinecolor\":\"white\",\"zerolinewidth\":2}}},\"title\":{\"text\":\"No of models: 17 -- Spacing:3\",\"x\":0.4,\"xanchor\":\"center\",\"y\":0.9,\"yanchor\":\"top\"},\"xaxis\":{\"title\":{\"text\":\"Number of topics\"}},\"yaxis\":{\"title\":{\"text\":\"Topic coherence score\"}}},                        {\"responsive\": true}                    ).then(function(){\n",
       "                            \n",
       "var gd = document.getElementById('219fb4f3-c47b-4c5a-b430-1c85c5c55d8c');\n",
       "var x = new MutationObserver(function (mutations, observer) {{\n",
       "        var display = window.getComputedStyle(gd).display;\n",
       "        if (!display || display === 'none') {{\n",
       "            console.log([gd, 'removed!']);\n",
       "            Plotly.purge(gd);\n",
       "            observer.disconnect();\n",
       "        }}\n",
       "}});\n",
       "\n",
       "// Listen for the removal of the full notebook cells\n",
       "var notebookContainer = gd.closest('#notebook-container');\n",
       "if (notebookContainer) {{\n",
       "    x.observe(notebookContainer, {childList: true});\n",
       "}}\n",
       "\n",
       "// Listen for the clearing of the current output cell\n",
       "var outputEl = gd.closest('.output');\n",
       "if (outputEl) {{\n",
       "    x.observe(outputEl, {childList: true});\n",
       "}}\n",
       "\n",
       "                        })                };                });            </script>        </div>"
      ]
     },
     "metadata": {},
     "output_type": "display_data"
    },
    {
     "name": "stdout",
     "output_type": "stream",
     "text": [
      "(10, 0.3599397244085109, <gensim.models.ldamodel.LdaModel object at 0x127c5cbe0>)\n"
     ]
    }
   ],
   "source": [
    "no_topics_multex = 10\n",
    "plot_topic_scores(multex_scores,reference = no_topics_multex)\n",
    "\n",
    "multex_model = extract_model(multex_scores, no_topics_multex)\n",
    "print(multex_model)\n"
   ]
  },
  {
   "cell_type": "code",
   "execution_count": 23,
   "id": "be781f8a-644f-423c-9a42-a047460c2e44",
   "metadata": {
    "execution": {
     "iopub.execute_input": "2021-11-14T09:02:31.797758Z",
     "iopub.status.busy": "2021-11-14T09:02:31.796684Z",
     "iopub.status.idle": "2021-11-14T09:02:31.820595Z",
     "shell.execute_reply": "2021-11-14T09:02:31.817443Z",
     "shell.execute_reply.started": "2021-11-14T09:02:31.797695Z"
    },
    "tags": []
   },
   "outputs": [
    {
     "name": "stdout",
     "output_type": "stream",
     "text": [
      "stored_models_experiment4/multex_1 0.27108189724972126\n",
      "stored_models_experiment4/multex_4 0.2681295657627959\n",
      "stored_models_experiment4/multex_7 0.33481733465285046\n",
      "stored_models_experiment4/multex_10 0.3599397244085109\n",
      "stored_models_experiment4/multex_13 0.32058081700506597\n",
      "stored_models_experiment4/multex_16 0.2911107632853138\n",
      "stored_models_experiment4/multex_19 0.31107551125631483\n",
      "stored_models_experiment4/multex_22 0.2767092744448474\n",
      "stored_models_experiment4/multex_25 0.2976831075000242\n",
      "stored_models_experiment4/multex_28 0.24432363245609928\n",
      "stored_models_experiment4/multex_31 0.2805697362769851\n",
      "stored_models_experiment4/multex_34 0.3171641352202053\n",
      "stored_models_experiment4/multex_37 0.2717403056549738\n",
      "stored_models_experiment4/multex_40 0.292871633250863\n",
      "stored_models_experiment4/multex_43 0.276376190068313\n",
      "stored_models_experiment4/multex_46 0.2737474153078257\n",
      "stored_models_experiment4/multex_49 0.29437288576005516\n",
      "[(1, 0.27108189724972126, <gensim.models.ldamodel.LdaModel object at 0x128d5b1c0>), (4, 0.2681295657627959, <gensim.models.ldamodel.LdaModel object at 0x127c5ca60>), (7, 0.33481733465285046, <gensim.models.ldamodel.LdaModel object at 0x111546880>), (10, 0.3599397244085109, <gensim.models.ldamodel.LdaModel object at 0x127c5cbe0>), (13, 0.32058081700506597, <gensim.models.ldamodel.LdaModel object at 0x1113b4880>), (16, 0.2911107632853138, <gensim.models.ldamodel.LdaModel object at 0x127c4e400>), (19, 0.31107551125631483, <gensim.models.ldamodel.LdaModel object at 0x128d92940>), (22, 0.2767092744448474, <gensim.models.ldamodel.LdaModel object at 0x111542100>), (25, 0.2976831075000242, <gensim.models.ldamodel.LdaModel object at 0x127e51610>), (28, 0.24432363245609928, <gensim.models.ldamodel.LdaModel object at 0x1113b4d30>), (31, 0.2805697362769851, <gensim.models.ldamodel.LdaModel object at 0x127c4e670>), (34, 0.3171641352202053, <gensim.models.ldamodel.LdaModel object at 0x127c5ca90>), (37, 0.2717403056549738, <gensim.models.ldamodel.LdaModel object at 0x128d92910>), (40, 0.292871633250863, <gensim.models.ldamodel.LdaModel object at 0x128d5b370>), (43, 0.276376190068313, <gensim.models.ldamodel.LdaModel object at 0x127c6f9d0>), (46, 0.2737474153078257, <gensim.models.ldamodel.LdaModel object at 0x127c6f6a0>), (49, 0.29437288576005516, <gensim.models.ldamodel.LdaModel object at 0x111542190>)]\n"
     ]
    }
   ],
   "source": [
    "#store_scored_models(multex_scores, 'stored_models_experiment4/','multex_')\n",
    "#store_scored_models_data(multex_scores, 'stored_models_experiment4/','multex_')\n",
    "\n",
    "#print(load_scored_models_data('stored_models_experiment4/','multex_'))\n",
    "\n",
    "model_dict = load_scored_models_data('stored_models_experiment4/','multex_')\n",
    "for key in model_dict:\n",
    "    print(key,model_dict[key])\n",
    "\n",
    "print(multex_scores)"
   ]
  },
  {
   "cell_type": "code",
   "execution_count": 56,
   "id": "b6339bc1-7b65-415e-b99d-bc3559ff54e1",
   "metadata": {
    "execution": {
     "iopub.execute_input": "2021-11-15T14:06:48.635777Z",
     "iopub.status.busy": "2021-11-15T14:06:48.635351Z",
     "iopub.status.idle": "2021-11-15T14:06:51.438678Z",
     "shell.execute_reply": "2021-11-15T14:06:51.437131Z",
     "shell.execute_reply.started": "2021-11-15T14:06:48.635746Z"
    },
    "tags": []
   },
   "outputs": [
    {
     "name": "stdout",
     "output_type": "stream",
     "text": [
      "Ranking emails\n"
     ]
    },
    {
     "name": "stderr",
     "output_type": "stream",
     "text": [
      "100%|█████████████████████████████████████| 3183/3183 [00:02<00:00, 1165.29it/s]"
     ]
    },
    {
     "name": "stdout",
     "output_type": "stream",
     "text": [
      "Calculating stats\n",
      "---------------------------------------------\n",
      "Top:  10\n",
      "Total number of results returned 10\n",
      "Relevant:  10 Non-relevant:  0\n",
      "Precision:  1.0\n",
      "Recall :  0.06711409395973154\n",
      "\n",
      "Top:  20\n",
      "Total number of results returned 20\n",
      "Relevant:  20 Non-relevant:  0\n",
      "Precision:  1.0\n",
      "Recall :  0.1342281879194631\n",
      "\n",
      "Top:  30\n",
      "Total number of results returned 30\n",
      "Relevant:  27 Non-relevant:  3\n",
      "Precision:  0.9\n",
      "Recall :  0.18120805369127516\n",
      "\n",
      "Top:  50\n",
      "Total number of results returned 50\n",
      "Relevant:  27 Non-relevant:  23\n",
      "Precision:  0.54\n",
      "Recall :  0.18120805369127516\n",
      "\n",
      "Top:  5000\n",
      "Total number of results returned 2575\n",
      "Relevant:  60 Non-relevant:  2515\n",
      "Precision:  0.02330097087378641\n",
      "Recall :  0.40268456375838924\n",
      "\n"
     ]
    },
    {
     "name": "stderr",
     "output_type": "stream",
     "text": [
      "\n"
     ]
    }
   ],
   "source": [
    "# Select a query email and score it.\n",
    "\n",
    "# Build a list of 10 query email filenames\n",
    "query_filenames = []\n",
    "multex_query_scores = []\n",
    "for filenumber in range(1,11):\n",
    "    query_filenames.append(os.path.join(multex_subdir,'Multex_' + str(filenumber) + '.json'))\n",
    "\n",
    "\n",
    "#Load and score the ten emails\n",
    "for query_email_filename in query_filenames:\n",
    "#    multex_query_score = score_query(query_email_filename, multex_model, multex_dictionary)\n",
    "    multex_query_score = score_query(query_email_filename, multex_model, multex_dictionary)\n",
    "    multex_query_scores.append(multex_query_score)\n",
    "    \n",
    "multex_query_score = multex_query_scores[0]\n",
    "\n",
    "print('Ranking emails')\n",
    "ranked_emails_multex,file_mapping_multex  = score_mails(multex_model, multex_query_score, multex_dictionary, query_texts, query_files)\n",
    "\n",
    "total_relevant = 149\n",
    "top_n = [10,20,30,50,5000]\n",
    "\n",
    "print('Calculating stats')\n",
    "print('---------------------------------------------')\n",
    "for top in top_n:\n",
    "    print('Top: ',top)\n",
    "    top_results = extract_top_results(ranked_emails_multex, file_mapping_multex, top)\n",
    "    #print(top_results)\n",
    "    relevant,non_relevant = calculate_correct_hits(top_results,'Multex')\n",
    "    printStats(relevant, non_relevant, total_relevant, top_results)\n",
    "\n"
   ]
  },
  {
   "cell_type": "code",
   "execution_count": 60,
   "id": "6a2da624-b29f-4d1f-8aac-c33af1084872",
   "metadata": {
    "execution": {
     "iopub.execute_input": "2021-11-18T07:16:33.080605Z",
     "iopub.status.busy": "2021-11-18T07:16:33.078003Z",
     "iopub.status.idle": "2021-11-18T07:17:00.866393Z",
     "shell.execute_reply": "2021-11-18T07:17:00.864808Z",
     "shell.execute_reply.started": "2021-11-18T07:16:33.080542Z"
    },
    "tags": []
   },
   "outputs": [
    {
     "name": "stderr",
     "output_type": "stream",
     "text": [
      "100%|█████████████████████████████████████| 3183/3183 [00:03<00:00, 1024.20it/s]\n",
      "100%|█████████████████████████████████████| 3183/3183 [00:02<00:00, 1166.49it/s]\n",
      "100%|█████████████████████████████████████| 3183/3183 [00:02<00:00, 1281.98it/s]\n",
      "100%|█████████████████████████████████████| 3183/3183 [00:02<00:00, 1291.78it/s]\n",
      "100%|█████████████████████████████████████| 3183/3183 [00:02<00:00, 1210.05it/s]\n",
      "100%|█████████████████████████████████████| 3183/3183 [00:02<00:00, 1185.54it/s]\n",
      "100%|█████████████████████████████████████| 3183/3183 [00:02<00:00, 1221.96it/s]\n",
      "100%|█████████████████████████████████████| 3183/3183 [00:02<00:00, 1162.94it/s]\n",
      "100%|██████████████████████████████████████| 3183/3183 [00:03<00:00, 999.23it/s]\n",
      "100%|█████████████████████████████████████| 3183/3183 [00:02<00:00, 1124.04it/s]\n"
     ]
    },
    {
     "data": {
      "application/vnd.plotly.v1+json": {
       "config": {
        "plotlyServerURL": "https://plot.ly"
       },
       "data": [
        {
         "name": "Precision",
         "type": "scatter",
         "x": [
          10,
          20,
          30,
          40,
          50,
          60,
          70,
          80,
          90,
          100,
          110,
          120,
          130,
          140,
          150,
          160,
          170,
          180,
          190,
          200,
          210,
          220,
          230,
          240,
          250,
          260,
          270,
          280,
          290,
          300,
          310,
          320,
          330,
          340,
          350,
          360,
          370,
          380,
          390,
          400,
          410,
          420,
          430,
          440,
          450,
          460,
          470,
          480,
          490
         ],
         "y": [
          0.73,
          0.6699999999999999,
          0.6033333333333333,
          0.47750000000000004,
          0.406,
          0.34500000000000003,
          0.29714285714285715,
          0.25999999999999995,
          0.2333333333333333,
          0.21000000000000002,
          0.19090909090909086,
          0.17500000000000004,
          0.16153846153846155,
          0.15000000000000002,
          0.14133333333333334,
          0.135,
          0.12705882352941175,
          0.1233333333333333,
          0.12105263157894737,
          0.11599999999999999,
          0.11285714285714285,
          0.10818181818181818,
          0.10391304347826087,
          0.09958333333333333,
          0.09640000000000001,
          0.09346153846153847,
          0.09037037037037036,
          0.08714285714285716,
          0.08482758620689654,
          0.08233333333333333,
          0.07967741935483871,
          0.07812500000000001,
          0.07575757575757575,
          0.0738235294117647,
          0.07199999999999998,
          0.07,
          0.06810810810810812,
          0.06868421052631579,
          0.07076923076923078,
          0.06949999999999998,
          0.06780487804878048,
          0.06619047619047619,
          0.0658139534883721,
          0.06454545454545454,
          0.06333333333333334,
          0.06304347826086956,
          0.06404255319148937,
          0.06583333333333333,
          0.0653061224489796
         ]
        },
        {
         "name": "Recall",
         "type": "scatter",
         "x": [
          10,
          20,
          30,
          40,
          50,
          60,
          70,
          80,
          90,
          100,
          110,
          120,
          130,
          140,
          150,
          160,
          170,
          180,
          190,
          200,
          210,
          220,
          230,
          240,
          250,
          260,
          270,
          280,
          290,
          300,
          310,
          320,
          330,
          340,
          350,
          360,
          370,
          380,
          390,
          400,
          410,
          420,
          430,
          440,
          450,
          460,
          470,
          480,
          490
         ],
         "y": [
          0.04899328859060403,
          0.08993288590604027,
          0.12147651006711409,
          0.12818791946308725,
          0.13624161073825503,
          0.1389261744966443,
          0.1395973154362416,
          0.1395973154362416,
          0.14093959731543626,
          0.14093959731543626,
          0.14093959731543626,
          0.14093959731543626,
          0.14093959731543626,
          0.14093959731543626,
          0.1422818791946309,
          0.14496644295302014,
          0.14496644295302014,
          0.14899328859060404,
          0.15436241610738255,
          0.15570469798657718,
          0.15906040268456378,
          0.1597315436241611,
          0.1604026845637584,
          0.1604026845637584,
          0.16174496644295303,
          0.16308724832214766,
          0.16375838926174496,
          0.16375838926174496,
          0.1651006711409396,
          0.16577181208053693,
          0.16577181208053693,
          0.16778523489932887,
          0.16778523489932887,
          0.16845637583892617,
          0.1691275167785235,
          0.1691275167785235,
          0.1691275167785235,
          0.17516778523489934,
          0.18523489932885903,
          0.1865771812080537,
          0.1865771812080537,
          0.1865771812080537,
          0.1899328859060403,
          0.1906040268456376,
          0.1912751677852349,
          0.19463087248322147,
          0.20201342281879192,
          0.21208053691275164,
          0.2147651006711409
         ]
        }
       ],
       "layout": {
        "autosize": true,
        "font": {
         "family": "Arial"
        },
        "legend": {
         "title": {
          "text": "Score Type"
         }
        },
        "template": {
         "data": {
          "bar": [
           {
            "error_x": {
             "color": "#2a3f5f"
            },
            "error_y": {
             "color": "#2a3f5f"
            },
            "marker": {
             "line": {
              "color": "#E5ECF6",
              "width": 0.5
             },
             "pattern": {
              "fillmode": "overlay",
              "size": 10,
              "solidity": 0.2
             }
            },
            "type": "bar"
           }
          ],
          "barpolar": [
           {
            "marker": {
             "line": {
              "color": "#E5ECF6",
              "width": 0.5
             },
             "pattern": {
              "fillmode": "overlay",
              "size": 10,
              "solidity": 0.2
             }
            },
            "type": "barpolar"
           }
          ],
          "carpet": [
           {
            "aaxis": {
             "endlinecolor": "#2a3f5f",
             "gridcolor": "white",
             "linecolor": "white",
             "minorgridcolor": "white",
             "startlinecolor": "#2a3f5f"
            },
            "baxis": {
             "endlinecolor": "#2a3f5f",
             "gridcolor": "white",
             "linecolor": "white",
             "minorgridcolor": "white",
             "startlinecolor": "#2a3f5f"
            },
            "type": "carpet"
           }
          ],
          "choropleth": [
           {
            "colorbar": {
             "outlinewidth": 0,
             "ticks": ""
            },
            "type": "choropleth"
           }
          ],
          "contour": [
           {
            "colorbar": {
             "outlinewidth": 0,
             "ticks": ""
            },
            "colorscale": [
             [
              0,
              "#0d0887"
             ],
             [
              0.1111111111111111,
              "#46039f"
             ],
             [
              0.2222222222222222,
              "#7201a8"
             ],
             [
              0.3333333333333333,
              "#9c179e"
             ],
             [
              0.4444444444444444,
              "#bd3786"
             ],
             [
              0.5555555555555556,
              "#d8576b"
             ],
             [
              0.6666666666666666,
              "#ed7953"
             ],
             [
              0.7777777777777778,
              "#fb9f3a"
             ],
             [
              0.8888888888888888,
              "#fdca26"
             ],
             [
              1,
              "#f0f921"
             ]
            ],
            "type": "contour"
           }
          ],
          "contourcarpet": [
           {
            "colorbar": {
             "outlinewidth": 0,
             "ticks": ""
            },
            "type": "contourcarpet"
           }
          ],
          "heatmap": [
           {
            "colorbar": {
             "outlinewidth": 0,
             "ticks": ""
            },
            "colorscale": [
             [
              0,
              "#0d0887"
             ],
             [
              0.1111111111111111,
              "#46039f"
             ],
             [
              0.2222222222222222,
              "#7201a8"
             ],
             [
              0.3333333333333333,
              "#9c179e"
             ],
             [
              0.4444444444444444,
              "#bd3786"
             ],
             [
              0.5555555555555556,
              "#d8576b"
             ],
             [
              0.6666666666666666,
              "#ed7953"
             ],
             [
              0.7777777777777778,
              "#fb9f3a"
             ],
             [
              0.8888888888888888,
              "#fdca26"
             ],
             [
              1,
              "#f0f921"
             ]
            ],
            "type": "heatmap"
           }
          ],
          "heatmapgl": [
           {
            "colorbar": {
             "outlinewidth": 0,
             "ticks": ""
            },
            "colorscale": [
             [
              0,
              "#0d0887"
             ],
             [
              0.1111111111111111,
              "#46039f"
             ],
             [
              0.2222222222222222,
              "#7201a8"
             ],
             [
              0.3333333333333333,
              "#9c179e"
             ],
             [
              0.4444444444444444,
              "#bd3786"
             ],
             [
              0.5555555555555556,
              "#d8576b"
             ],
             [
              0.6666666666666666,
              "#ed7953"
             ],
             [
              0.7777777777777778,
              "#fb9f3a"
             ],
             [
              0.8888888888888888,
              "#fdca26"
             ],
             [
              1,
              "#f0f921"
             ]
            ],
            "type": "heatmapgl"
           }
          ],
          "histogram": [
           {
            "marker": {
             "pattern": {
              "fillmode": "overlay",
              "size": 10,
              "solidity": 0.2
             }
            },
            "type": "histogram"
           }
          ],
          "histogram2d": [
           {
            "colorbar": {
             "outlinewidth": 0,
             "ticks": ""
            },
            "colorscale": [
             [
              0,
              "#0d0887"
             ],
             [
              0.1111111111111111,
              "#46039f"
             ],
             [
              0.2222222222222222,
              "#7201a8"
             ],
             [
              0.3333333333333333,
              "#9c179e"
             ],
             [
              0.4444444444444444,
              "#bd3786"
             ],
             [
              0.5555555555555556,
              "#d8576b"
             ],
             [
              0.6666666666666666,
              "#ed7953"
             ],
             [
              0.7777777777777778,
              "#fb9f3a"
             ],
             [
              0.8888888888888888,
              "#fdca26"
             ],
             [
              1,
              "#f0f921"
             ]
            ],
            "type": "histogram2d"
           }
          ],
          "histogram2dcontour": [
           {
            "colorbar": {
             "outlinewidth": 0,
             "ticks": ""
            },
            "colorscale": [
             [
              0,
              "#0d0887"
             ],
             [
              0.1111111111111111,
              "#46039f"
             ],
             [
              0.2222222222222222,
              "#7201a8"
             ],
             [
              0.3333333333333333,
              "#9c179e"
             ],
             [
              0.4444444444444444,
              "#bd3786"
             ],
             [
              0.5555555555555556,
              "#d8576b"
             ],
             [
              0.6666666666666666,
              "#ed7953"
             ],
             [
              0.7777777777777778,
              "#fb9f3a"
             ],
             [
              0.8888888888888888,
              "#fdca26"
             ],
             [
              1,
              "#f0f921"
             ]
            ],
            "type": "histogram2dcontour"
           }
          ],
          "mesh3d": [
           {
            "colorbar": {
             "outlinewidth": 0,
             "ticks": ""
            },
            "type": "mesh3d"
           }
          ],
          "parcoords": [
           {
            "line": {
             "colorbar": {
              "outlinewidth": 0,
              "ticks": ""
             }
            },
            "type": "parcoords"
           }
          ],
          "pie": [
           {
            "automargin": true,
            "type": "pie"
           }
          ],
          "scatter": [
           {
            "marker": {
             "colorbar": {
              "outlinewidth": 0,
              "ticks": ""
             }
            },
            "type": "scatter"
           }
          ],
          "scatter3d": [
           {
            "line": {
             "colorbar": {
              "outlinewidth": 0,
              "ticks": ""
             }
            },
            "marker": {
             "colorbar": {
              "outlinewidth": 0,
              "ticks": ""
             }
            },
            "type": "scatter3d"
           }
          ],
          "scattercarpet": [
           {
            "marker": {
             "colorbar": {
              "outlinewidth": 0,
              "ticks": ""
             }
            },
            "type": "scattercarpet"
           }
          ],
          "scattergeo": [
           {
            "marker": {
             "colorbar": {
              "outlinewidth": 0,
              "ticks": ""
             }
            },
            "type": "scattergeo"
           }
          ],
          "scattergl": [
           {
            "marker": {
             "colorbar": {
              "outlinewidth": 0,
              "ticks": ""
             }
            },
            "type": "scattergl"
           }
          ],
          "scattermapbox": [
           {
            "marker": {
             "colorbar": {
              "outlinewidth": 0,
              "ticks": ""
             }
            },
            "type": "scattermapbox"
           }
          ],
          "scatterpolar": [
           {
            "marker": {
             "colorbar": {
              "outlinewidth": 0,
              "ticks": ""
             }
            },
            "type": "scatterpolar"
           }
          ],
          "scatterpolargl": [
           {
            "marker": {
             "colorbar": {
              "outlinewidth": 0,
              "ticks": ""
             }
            },
            "type": "scatterpolargl"
           }
          ],
          "scatterternary": [
           {
            "marker": {
             "colorbar": {
              "outlinewidth": 0,
              "ticks": ""
             }
            },
            "type": "scatterternary"
           }
          ],
          "surface": [
           {
            "colorbar": {
             "outlinewidth": 0,
             "ticks": ""
            },
            "colorscale": [
             [
              0,
              "#0d0887"
             ],
             [
              0.1111111111111111,
              "#46039f"
             ],
             [
              0.2222222222222222,
              "#7201a8"
             ],
             [
              0.3333333333333333,
              "#9c179e"
             ],
             [
              0.4444444444444444,
              "#bd3786"
             ],
             [
              0.5555555555555556,
              "#d8576b"
             ],
             [
              0.6666666666666666,
              "#ed7953"
             ],
             [
              0.7777777777777778,
              "#fb9f3a"
             ],
             [
              0.8888888888888888,
              "#fdca26"
             ],
             [
              1,
              "#f0f921"
             ]
            ],
            "type": "surface"
           }
          ],
          "table": [
           {
            "cells": {
             "fill": {
              "color": "#EBF0F8"
             },
             "line": {
              "color": "white"
             }
            },
            "header": {
             "fill": {
              "color": "#C8D4E3"
             },
             "line": {
              "color": "white"
             }
            },
            "type": "table"
           }
          ]
         },
         "layout": {
          "annotationdefaults": {
           "arrowcolor": "#2a3f5f",
           "arrowhead": 0,
           "arrowwidth": 1
          },
          "autotypenumbers": "strict",
          "coloraxis": {
           "colorbar": {
            "outlinewidth": 0,
            "ticks": ""
           }
          },
          "colorscale": {
           "diverging": [
            [
             0,
             "#8e0152"
            ],
            [
             0.1,
             "#c51b7d"
            ],
            [
             0.2,
             "#de77ae"
            ],
            [
             0.3,
             "#f1b6da"
            ],
            [
             0.4,
             "#fde0ef"
            ],
            [
             0.5,
             "#f7f7f7"
            ],
            [
             0.6,
             "#e6f5d0"
            ],
            [
             0.7,
             "#b8e186"
            ],
            [
             0.8,
             "#7fbc41"
            ],
            [
             0.9,
             "#4d9221"
            ],
            [
             1,
             "#276419"
            ]
           ],
           "sequential": [
            [
             0,
             "#0d0887"
            ],
            [
             0.1111111111111111,
             "#46039f"
            ],
            [
             0.2222222222222222,
             "#7201a8"
            ],
            [
             0.3333333333333333,
             "#9c179e"
            ],
            [
             0.4444444444444444,
             "#bd3786"
            ],
            [
             0.5555555555555556,
             "#d8576b"
            ],
            [
             0.6666666666666666,
             "#ed7953"
            ],
            [
             0.7777777777777778,
             "#fb9f3a"
            ],
            [
             0.8888888888888888,
             "#fdca26"
            ],
            [
             1,
             "#f0f921"
            ]
           ],
           "sequentialminus": [
            [
             0,
             "#0d0887"
            ],
            [
             0.1111111111111111,
             "#46039f"
            ],
            [
             0.2222222222222222,
             "#7201a8"
            ],
            [
             0.3333333333333333,
             "#9c179e"
            ],
            [
             0.4444444444444444,
             "#bd3786"
            ],
            [
             0.5555555555555556,
             "#d8576b"
            ],
            [
             0.6666666666666666,
             "#ed7953"
            ],
            [
             0.7777777777777778,
             "#fb9f3a"
            ],
            [
             0.8888888888888888,
             "#fdca26"
            ],
            [
             1,
             "#f0f921"
            ]
           ]
          },
          "colorway": [
           "#636efa",
           "#EF553B",
           "#00cc96",
           "#ab63fa",
           "#FFA15A",
           "#19d3f3",
           "#FF6692",
           "#B6E880",
           "#FF97FF",
           "#FECB52"
          ],
          "font": {
           "color": "#2a3f5f"
          },
          "geo": {
           "bgcolor": "white",
           "lakecolor": "white",
           "landcolor": "#E5ECF6",
           "showlakes": true,
           "showland": true,
           "subunitcolor": "white"
          },
          "hoverlabel": {
           "align": "left"
          },
          "hovermode": "closest",
          "mapbox": {
           "style": "light"
          },
          "paper_bgcolor": "white",
          "plot_bgcolor": "#E5ECF6",
          "polar": {
           "angularaxis": {
            "gridcolor": "white",
            "linecolor": "white",
            "ticks": ""
           },
           "bgcolor": "#E5ECF6",
           "radialaxis": {
            "gridcolor": "white",
            "linecolor": "white",
            "ticks": ""
           }
          },
          "scene": {
           "xaxis": {
            "backgroundcolor": "#E5ECF6",
            "gridcolor": "white",
            "gridwidth": 2,
            "linecolor": "white",
            "showbackground": true,
            "ticks": "",
            "zerolinecolor": "white"
           },
           "yaxis": {
            "backgroundcolor": "#E5ECF6",
            "gridcolor": "white",
            "gridwidth": 2,
            "linecolor": "white",
            "showbackground": true,
            "ticks": "",
            "zerolinecolor": "white"
           },
           "zaxis": {
            "backgroundcolor": "#E5ECF6",
            "gridcolor": "white",
            "gridwidth": 2,
            "linecolor": "white",
            "showbackground": true,
            "ticks": "",
            "zerolinecolor": "white"
           }
          },
          "shapedefaults": {
           "line": {
            "color": "#2a3f5f"
           }
          },
          "ternary": {
           "aaxis": {
            "gridcolor": "white",
            "linecolor": "white",
            "ticks": ""
           },
           "baxis": {
            "gridcolor": "white",
            "linecolor": "white",
            "ticks": ""
           },
           "bgcolor": "#E5ECF6",
           "caxis": {
            "gridcolor": "white",
            "linecolor": "white",
            "ticks": ""
           }
          },
          "title": {
           "x": 0.05
          },
          "xaxis": {
           "automargin": true,
           "gridcolor": "white",
           "linecolor": "white",
           "ticks": "",
           "title": {
            "standoff": 15
           },
           "zerolinecolor": "white",
           "zerolinewidth": 2
          },
          "yaxis": {
           "automargin": true,
           "gridcolor": "white",
           "linecolor": "white",
           "ticks": "",
           "title": {
            "standoff": 15
           },
           "zerolinecolor": "white",
           "zerolinewidth": 2
          }
         }
        },
        "title": {
         "text": "Precision and Recall averages",
         "x": 0.5,
         "xanchor": "center",
         "y": 0.9,
         "yanchor": "top"
        },
        "xaxis": {
         "autorange": true,
         "range": [
          10,
          490
         ],
         "title": {
          "text": "Top results"
         },
         "type": "linear"
        },
        "yaxis": {
         "autorange": true,
         "range": [
          0.011159582401193142,
          0.7678337061894108
         ],
         "title": {
          "text": ""
         },
         "type": "linear"
        }
       }
      },
      "image/png": "[encoded data removed]",
      "text/html": [
       "<div>                            <div id=\"7c654cd2-c8da-49e1-9aa0-d376b8373661\" class=\"plotly-graph-div\" style=\"height:525px; width:100%;\"></div>            <script type=\"text/javascript\">                require([\"plotly\"], function(Plotly) {                    window.PLOTLYENV=window.PLOTLYENV || {};                                    if (document.getElementById(\"7c654cd2-c8da-49e1-9aa0-d376b8373661\")) {                    Plotly.newPlot(                        \"7c654cd2-c8da-49e1-9aa0-d376b8373661\",                        [{\"name\":\"Precision\",\"type\":\"scatter\",\"x\":[10,20,30,40,50,60,70,80,90,100,110,120,130,140,150,160,170,180,190,200,210,220,230,240,250,260,270,280,290,300,310,320,330,340,350,360,370,380,390,400,410,420,430,440,450,460,470,480,490],\"y\":[0.73,0.6699999999999999,0.6033333333333333,0.47750000000000004,0.406,0.34500000000000003,0.29714285714285715,0.25999999999999995,0.2333333333333333,0.21000000000000002,0.19090909090909086,0.17500000000000004,0.16153846153846155,0.15000000000000002,0.14133333333333334,0.135,0.12705882352941175,0.1233333333333333,0.12105263157894737,0.11599999999999999,0.11285714285714285,0.10818181818181818,0.10391304347826087,0.09958333333333333,0.09640000000000001,0.09346153846153847,0.09037037037037036,0.08714285714285716,0.08482758620689654,0.08233333333333333,0.07967741935483871,0.07812500000000001,0.07575757575757575,0.0738235294117647,0.07199999999999998,0.07,0.06810810810810812,0.06868421052631579,0.07076923076923078,0.06949999999999998,0.06780487804878048,0.06619047619047619,0.0658139534883721,0.06454545454545454,0.06333333333333334,0.06304347826086956,0.06404255319148937,0.06583333333333333,0.0653061224489796]},{\"name\":\"Recall\",\"type\":\"scatter\",\"x\":[10,20,30,40,50,60,70,80,90,100,110,120,130,140,150,160,170,180,190,200,210,220,230,240,250,260,270,280,290,300,310,320,330,340,350,360,370,380,390,400,410,420,430,440,450,460,470,480,490],\"y\":[0.04899328859060403,0.08993288590604027,0.12147651006711409,0.12818791946308725,0.13624161073825503,0.1389261744966443,0.1395973154362416,0.1395973154362416,0.14093959731543626,0.14093959731543626,0.14093959731543626,0.14093959731543626,0.14093959731543626,0.14093959731543626,0.1422818791946309,0.14496644295302014,0.14496644295302014,0.14899328859060404,0.15436241610738255,0.15570469798657718,0.15906040268456378,0.1597315436241611,0.1604026845637584,0.1604026845637584,0.16174496644295303,0.16308724832214766,0.16375838926174496,0.16375838926174496,0.1651006711409396,0.16577181208053693,0.16577181208053693,0.16778523489932887,0.16778523489932887,0.16845637583892617,0.1691275167785235,0.1691275167785235,0.1691275167785235,0.17516778523489934,0.18523489932885903,0.1865771812080537,0.1865771812080537,0.1865771812080537,0.1899328859060403,0.1906040268456376,0.1912751677852349,0.19463087248322147,0.20201342281879192,0.21208053691275164,0.2147651006711409]}],                        {\"font\":{\"family\":\"Arial\"},\"legend\":{\"title\":{\"text\":\"Score Type\"}},\"template\":{\"data\":{\"bar\":[{\"error_x\":{\"color\":\"#2a3f5f\"},\"error_y\":{\"color\":\"#2a3f5f\"},\"marker\":{\"line\":{\"color\":\"#E5ECF6\",\"width\":0.5},\"pattern\":{\"fillmode\":\"overlay\",\"size\":10,\"solidity\":0.2}},\"type\":\"bar\"}],\"barpolar\":[{\"marker\":{\"line\":{\"color\":\"#E5ECF6\",\"width\":0.5},\"pattern\":{\"fillmode\":\"overlay\",\"size\":10,\"solidity\":0.2}},\"type\":\"barpolar\"}],\"carpet\":[{\"aaxis\":{\"endlinecolor\":\"#2a3f5f\",\"gridcolor\":\"white\",\"linecolor\":\"white\",\"minorgridcolor\":\"white\",\"startlinecolor\":\"#2a3f5f\"},\"baxis\":{\"endlinecolor\":\"#2a3f5f\",\"gridcolor\":\"white\",\"linecolor\":\"white\",\"minorgridcolor\":\"white\",\"startlinecolor\":\"#2a3f5f\"},\"type\":\"carpet\"}],\"choropleth\":[{\"colorbar\":{\"outlinewidth\":0,\"ticks\":\"\"},\"type\":\"choropleth\"}],\"contour\":[{\"colorbar\":{\"outlinewidth\":0,\"ticks\":\"\"},\"colorscale\":[[0.0,\"#0d0887\"],[0.1111111111111111,\"#46039f\"],[0.2222222222222222,\"#7201a8\"],[0.3333333333333333,\"#9c179e\"],[0.4444444444444444,\"#bd3786\"],[0.5555555555555556,\"#d8576b\"],[0.6666666666666666,\"#ed7953\"],[0.7777777777777778,\"#fb9f3a\"],[0.8888888888888888,\"#fdca26\"],[1.0,\"#f0f921\"]],\"type\":\"contour\"}],\"contourcarpet\":[{\"colorbar\":{\"outlinewidth\":0,\"ticks\":\"\"},\"type\":\"contourcarpet\"}],\"heatmap\":[{\"colorbar\":{\"outlinewidth\":0,\"ticks\":\"\"},\"colorscale\":[[0.0,\"#0d0887\"],[0.1111111111111111,\"#46039f\"],[0.2222222222222222,\"#7201a8\"],[0.3333333333333333,\"#9c179e\"],[0.4444444444444444,\"#bd3786\"],[0.5555555555555556,\"#d8576b\"],[0.6666666666666666,\"#ed7953\"],[0.7777777777777778,\"#fb9f3a\"],[0.8888888888888888,\"#fdca26\"],[1.0,\"#f0f921\"]],\"type\":\"heatmap\"}],\"heatmapgl\":[{\"colorbar\":{\"outlinewidth\":0,\"ticks\":\"\"},\"colorscale\":[[0.0,\"#0d0887\"],[0.1111111111111111,\"#46039f\"],[0.2222222222222222,\"#7201a8\"],[0.3333333333333333,\"#9c179e\"],[0.4444444444444444,\"#bd3786\"],[0.5555555555555556,\"#d8576b\"],[0.6666666666666666,\"#ed7953\"],[0.7777777777777778,\"#fb9f3a\"],[0.8888888888888888,\"#fdca26\"],[1.0,\"#f0f921\"]],\"type\":\"heatmapgl\"}],\"histogram\":[{\"marker\":{\"pattern\":{\"fillmode\":\"overlay\",\"size\":10,\"solidity\":0.2}},\"type\":\"histogram\"}],\"histogram2d\":[{\"colorbar\":{\"outlinewidth\":0,\"ticks\":\"\"},\"colorscale\":[[0.0,\"#0d0887\"],[0.1111111111111111,\"#46039f\"],[0.2222222222222222,\"#7201a8\"],[0.3333333333333333,\"#9c179e\"],[0.4444444444444444,\"#bd3786\"],[0.5555555555555556,\"#d8576b\"],[0.6666666666666666,\"#ed7953\"],[0.7777777777777778,\"#fb9f3a\"],[0.8888888888888888,\"#fdca26\"],[1.0,\"#f0f921\"]],\"type\":\"histogram2d\"}],\"histogram2dcontour\":[{\"colorbar\":{\"outlinewidth\":0,\"ticks\":\"\"},\"colorscale\":[[0.0,\"#0d0887\"],[0.1111111111111111,\"#46039f\"],[0.2222222222222222,\"#7201a8\"],[0.3333333333333333,\"#9c179e\"],[0.4444444444444444,\"#bd3786\"],[0.5555555555555556,\"#d8576b\"],[0.6666666666666666,\"#ed7953\"],[0.7777777777777778,\"#fb9f3a\"],[0.8888888888888888,\"#fdca26\"],[1.0,\"#f0f921\"]],\"type\":\"histogram2dcontour\"}],\"mesh3d\":[{\"colorbar\":{\"outlinewidth\":0,\"ticks\":\"\"},\"type\":\"mesh3d\"}],\"parcoords\":[{\"line\":{\"colorbar\":{\"outlinewidth\":0,\"ticks\":\"\"}},\"type\":\"parcoords\"}],\"pie\":[{\"automargin\":true,\"type\":\"pie\"}],\"scatter\":[{\"marker\":{\"colorbar\":{\"outlinewidth\":0,\"ticks\":\"\"}},\"type\":\"scatter\"}],\"scatter3d\":[{\"line\":{\"colorbar\":{\"outlinewidth\":0,\"ticks\":\"\"}},\"marker\":{\"colorbar\":{\"outlinewidth\":0,\"ticks\":\"\"}},\"type\":\"scatter3d\"}],\"scattercarpet\":[{\"marker\":{\"colorbar\":{\"outlinewidth\":0,\"ticks\":\"\"}},\"type\":\"scattercarpet\"}],\"scattergeo\":[{\"marker\":{\"colorbar\":{\"outlinewidth\":0,\"ticks\":\"\"}},\"type\":\"scattergeo\"}],\"scattergl\":[{\"marker\":{\"colorbar\":{\"outlinewidth\":0,\"ticks\":\"\"}},\"type\":\"scattergl\"}],\"scattermapbox\":[{\"marker\":{\"colorbar\":{\"outlinewidth\":0,\"ticks\":\"\"}},\"type\":\"scattermapbox\"}],\"scatterpolar\":[{\"marker\":{\"colorbar\":{\"outlinewidth\":0,\"ticks\":\"\"}},\"type\":\"scatterpolar\"}],\"scatterpolargl\":[{\"marker\":{\"colorbar\":{\"outlinewidth\":0,\"ticks\":\"\"}},\"type\":\"scatterpolargl\"}],\"scatterternary\":[{\"marker\":{\"colorbar\":{\"outlinewidth\":0,\"ticks\":\"\"}},\"type\":\"scatterternary\"}],\"surface\":[{\"colorbar\":{\"outlinewidth\":0,\"ticks\":\"\"},\"colorscale\":[[0.0,\"#0d0887\"],[0.1111111111111111,\"#46039f\"],[0.2222222222222222,\"#7201a8\"],[0.3333333333333333,\"#9c179e\"],[0.4444444444444444,\"#bd3786\"],[0.5555555555555556,\"#d8576b\"],[0.6666666666666666,\"#ed7953\"],[0.7777777777777778,\"#fb9f3a\"],[0.8888888888888888,\"#fdca26\"],[1.0,\"#f0f921\"]],\"type\":\"surface\"}],\"table\":[{\"cells\":{\"fill\":{\"color\":\"#EBF0F8\"},\"line\":{\"color\":\"white\"}},\"header\":{\"fill\":{\"color\":\"#C8D4E3\"},\"line\":{\"color\":\"white\"}},\"type\":\"table\"}]},\"layout\":{\"annotationdefaults\":{\"arrowcolor\":\"#2a3f5f\",\"arrowhead\":0,\"arrowwidth\":1},\"autotypenumbers\":\"strict\",\"coloraxis\":{\"colorbar\":{\"outlinewidth\":0,\"ticks\":\"\"}},\"colorscale\":{\"diverging\":[[0,\"#8e0152\"],[0.1,\"#c51b7d\"],[0.2,\"#de77ae\"],[0.3,\"#f1b6da\"],[0.4,\"#fde0ef\"],[0.5,\"#f7f7f7\"],[0.6,\"#e6f5d0\"],[0.7,\"#b8e186\"],[0.8,\"#7fbc41\"],[0.9,\"#4d9221\"],[1,\"#276419\"]],\"sequential\":[[0.0,\"#0d0887\"],[0.1111111111111111,\"#46039f\"],[0.2222222222222222,\"#7201a8\"],[0.3333333333333333,\"#9c179e\"],[0.4444444444444444,\"#bd3786\"],[0.5555555555555556,\"#d8576b\"],[0.6666666666666666,\"#ed7953\"],[0.7777777777777778,\"#fb9f3a\"],[0.8888888888888888,\"#fdca26\"],[1.0,\"#f0f921\"]],\"sequentialminus\":[[0.0,\"#0d0887\"],[0.1111111111111111,\"#46039f\"],[0.2222222222222222,\"#7201a8\"],[0.3333333333333333,\"#9c179e\"],[0.4444444444444444,\"#bd3786\"],[0.5555555555555556,\"#d8576b\"],[0.6666666666666666,\"#ed7953\"],[0.7777777777777778,\"#fb9f3a\"],[0.8888888888888888,\"#fdca26\"],[1.0,\"#f0f921\"]]},\"colorway\":[\"#636efa\",\"#EF553B\",\"#00cc96\",\"#ab63fa\",\"#FFA15A\",\"#19d3f3\",\"#FF6692\",\"#B6E880\",\"#FF97FF\",\"#FECB52\"],\"font\":{\"color\":\"#2a3f5f\"},\"geo\":{\"bgcolor\":\"white\",\"lakecolor\":\"white\",\"landcolor\":\"#E5ECF6\",\"showlakes\":true,\"showland\":true,\"subunitcolor\":\"white\"},\"hoverlabel\":{\"align\":\"left\"},\"hovermode\":\"closest\",\"mapbox\":{\"style\":\"light\"},\"paper_bgcolor\":\"white\",\"plot_bgcolor\":\"#E5ECF6\",\"polar\":{\"angularaxis\":{\"gridcolor\":\"white\",\"linecolor\":\"white\",\"ticks\":\"\"},\"bgcolor\":\"#E5ECF6\",\"radialaxis\":{\"gridcolor\":\"white\",\"linecolor\":\"white\",\"ticks\":\"\"}},\"scene\":{\"xaxis\":{\"backgroundcolor\":\"#E5ECF6\",\"gridcolor\":\"white\",\"gridwidth\":2,\"linecolor\":\"white\",\"showbackground\":true,\"ticks\":\"\",\"zerolinecolor\":\"white\"},\"yaxis\":{\"backgroundcolor\":\"#E5ECF6\",\"gridcolor\":\"white\",\"gridwidth\":2,\"linecolor\":\"white\",\"showbackground\":true,\"ticks\":\"\",\"zerolinecolor\":\"white\"},\"zaxis\":{\"backgroundcolor\":\"#E5ECF6\",\"gridcolor\":\"white\",\"gridwidth\":2,\"linecolor\":\"white\",\"showbackground\":true,\"ticks\":\"\",\"zerolinecolor\":\"white\"}},\"shapedefaults\":{\"line\":{\"color\":\"#2a3f5f\"}},\"ternary\":{\"aaxis\":{\"gridcolor\":\"white\",\"linecolor\":\"white\",\"ticks\":\"\"},\"baxis\":{\"gridcolor\":\"white\",\"linecolor\":\"white\",\"ticks\":\"\"},\"bgcolor\":\"#E5ECF6\",\"caxis\":{\"gridcolor\":\"white\",\"linecolor\":\"white\",\"ticks\":\"\"}},\"title\":{\"x\":0.05},\"xaxis\":{\"automargin\":true,\"gridcolor\":\"white\",\"linecolor\":\"white\",\"ticks\":\"\",\"title\":{\"standoff\":15},\"zerolinecolor\":\"white\",\"zerolinewidth\":2},\"yaxis\":{\"automargin\":true,\"gridcolor\":\"white\",\"linecolor\":\"white\",\"ticks\":\"\",\"title\":{\"standoff\":15},\"zerolinecolor\":\"white\",\"zerolinewidth\":2}}},\"title\":{\"text\":\"Precision and Recall averages\",\"x\":0.5,\"xanchor\":\"center\",\"y\":0.9,\"yanchor\":\"top\"},\"xaxis\":{\"title\":{\"text\":\"Top results\"}},\"yaxis\":{\"title\":{\"text\":\"\"}}},                        {\"responsive\": true}                    ).then(function(){\n",
       "                            \n",
       "var gd = document.getElementById('7c654cd2-c8da-49e1-9aa0-d376b8373661');\n",
       "var x = new MutationObserver(function (mutations, observer) {{\n",
       "        var display = window.getComputedStyle(gd).display;\n",
       "        if (!display || display === 'none') {{\n",
       "            console.log([gd, 'removed!']);\n",
       "            Plotly.purge(gd);\n",
       "            observer.disconnect();\n",
       "        }}\n",
       "}});\n",
       "\n",
       "// Listen for the removal of the full notebook cells\n",
       "var notebookContainer = gd.closest('#notebook-container');\n",
       "if (notebookContainer) {{\n",
       "    x.observe(notebookContainer, {childList: true});\n",
       "}}\n",
       "\n",
       "// Listen for the clearing of the current output cell\n",
       "var outputEl = gd.closest('.output');\n",
       "if (outputEl) {{\n",
       "    x.observe(outputEl, {childList: true});\n",
       "}}\n",
       "\n",
       "                        })                };                });            </script>        </div>"
      ]
     },
     "metadata": {},
     "output_type": "display_data"
    }
   ],
   "source": [
    "from operator import add\n",
    "\n",
    "top_n = [x*10 for x in range(1, 50)]\n",
    "no_samples = len(multex_query_scores)\n",
    "\n",
    "def sum_metrics(list1,list2):\n",
    "    sum = list( map(add, list1, list2) )\n",
    "    return sum\n",
    "\n",
    "precision_avg = [0] * len(top_n)\n",
    "recall_avg = [0] * len(top_n)\n",
    "\n",
    "for multex_query_score in multex_query_scores:\n",
    "    ranked_emails_multex,file_mapping_multex  = score_mails(multex_model, multex_query_score, multex_dictionary, query_texts, query_files)\n",
    "    precision_list,recall_list = generate_metrics(ranked_emails_multex, file_mapping_multex, top_n)\n",
    "    precision_avg = sum_metrics(precision_avg,precision_list)\n",
    "    recall_avg = sum_metrics(recall_avg,recall_list)\n",
    "\n",
    "precision_avg = [number / no_samples for number in precision_avg]\n",
    "recall_avg = [number / no_samples for number in recall_avg]\n",
    "\n",
    "title = \"Precision and Recall averages\"\n",
    "plot_pr_metrics(top_n, precision_avg, recall_avg, title, reference = 0)"
   ]
  },
  {
   "cell_type": "code",
   "execution_count": 59,
   "id": "097c3590-52dd-4178-8dca-90bef68e64d9",
   "metadata": {
    "execution": {
     "iopub.execute_input": "2021-11-18T07:06:05.558021Z",
     "iopub.status.busy": "2021-11-18T07:06:05.557418Z",
     "iopub.status.idle": "2021-11-18T07:06:06.550076Z",
     "shell.execute_reply": "2021-11-18T07:06:06.548788Z",
     "shell.execute_reply.started": "2021-11-18T07:06:05.557958Z"
    },
    "tags": []
   },
   "outputs": [
    {
     "name": "stdout",
     "output_type": "stream",
     "text": [
      "Model: Multex - Document: email\n"
     ]
    },
    {
     "name": "stderr",
     "output_type": "stream",
     "text": [
      "100%|████████████████████████████████████████| 149/149 [00:00<00:00, 251.94it/s]"
     ]
    },
    {
     "name": "stdout",
     "output_type": "stream",
     "text": [
      "Model: Multex ---- Document definition: Email\n",
      "---------------------------------------------\n",
      "Top:  10\n",
      "{'../../data/processed/Multex/Multex_16.json': 1, '../../data/processed/Multex/Multex_2.json': 2, '../../data/processed/Multex/Multex_57.json': 3, '../../data/processed/Multex/Multex_56.json': 4, '../../data/processed/Multex/Multex_17.json': 5, '../../data/processed/Multex/Multex_60.json': 6, '../../data/processed/Multex/Multex_76.json': 7, '../../data/processed/Multex/Multex_21.json': 8, '../../data/processed/Multex/Multex_4.json': 9, '../../data/processed/Multex/Multex_26.json': 10}\n",
      "Total number of results returned 10\n",
      "Relevant:  10 Non-relevant:  0\n",
      "Precision:  1.0\n",
      "Recall :  0.06711409395973154\n",
      "\n",
      "Top:  20\n",
      "{'../../data/processed/Multex/Multex_16.json': 1, '../../data/processed/Multex/Multex_2.json': 2, '../../data/processed/Multex/Multex_57.json': 3, '../../data/processed/Multex/Multex_56.json': 4, '../../data/processed/Multex/Multex_17.json': 5, '../../data/processed/Multex/Multex_60.json': 6, '../../data/processed/Multex/Multex_76.json': 7, '../../data/processed/Multex/Multex_21.json': 8, '../../data/processed/Multex/Multex_4.json': 9, '../../data/processed/Multex/Multex_26.json': 10, '../../data/processed/Multex/Multex_8.json': 11, '../../data/processed/Multex/Multex_9.json': 12, '../../data/processed/Multex/Multex_89.json': 13, '../../data/processed/Multex/Multex_6.json': 14, '../../data/processed/Multex/Multex_104.json': 15, '../../data/processed/Multex/Multex_32.json': 16, '../../data/processed/Multex/Multex_24.json': 17, '../../data/processed/Multex/Multex_109.json': 18, '../../data/processed/Multex/Multex_68.json': 19, '../../data/processed/Multex/Multex_13.json': 20}\n",
      "Total number of results returned 20\n",
      "Relevant:  20 Non-relevant:  0\n",
      "Precision:  1.0\n",
      "Recall :  0.1342281879194631\n",
      "\n",
      "Top:  30\n",
      "{'../../data/processed/Multex/Multex_16.json': 1, '../../data/processed/Multex/Multex_2.json': 2, '../../data/processed/Multex/Multex_57.json': 3, '../../data/processed/Multex/Multex_56.json': 4, '../../data/processed/Multex/Multex_17.json': 5, '../../data/processed/Multex/Multex_60.json': 6, '../../data/processed/Multex/Multex_76.json': 7, '../../data/processed/Multex/Multex_21.json': 8, '../../data/processed/Multex/Multex_4.json': 9, '../../data/processed/Multex/Multex_26.json': 10, '../../data/processed/Multex/Multex_8.json': 11, '../../data/processed/Multex/Multex_9.json': 12, '../../data/processed/Multex/Multex_89.json': 13, '../../data/processed/Multex/Multex_6.json': 14, '../../data/processed/Multex/Multex_104.json': 15, '../../data/processed/Multex/Multex_32.json': 16, '../../data/processed/Multex/Multex_24.json': 17, '../../data/processed/Multex/Multex_109.json': 18, '../../data/processed/Multex/Multex_68.json': 19, '../../data/processed/Multex/Multex_13.json': 20, '../../data/processed/Multex/Multex_59.json': 21, '../../data/processed/Multex/Multex_18.json': 22, '../../data/processed/Multex/Multex_22.json': 23, '../../data/processed/Multex/Multex_14.json': 24, '../../data/processed/Multex/Multex_79.json': 25, '../../data/processed/Multex/Multex_1.json': 26, '../../data/processed/Multex/Multex_15.json': 27, '../../data/processed/Multex/Multex_3.json': 28, '../../data/processed/Multex/Multex_144.json': 29, '../../data/processed/Multex/Multex_142.json': 30}\n",
      "Total number of results returned 30\n",
      "Relevant:  30 Non-relevant:  0\n",
      "Precision:  1.0\n",
      "Recall :  0.20134228187919462\n",
      "\n",
      "Top:  50\n",
      "{'../../data/processed/Multex/Multex_16.json': 1, '../../data/processed/Multex/Multex_2.json': 2, '../../data/processed/Multex/Multex_57.json': 3, '../../data/processed/Multex/Multex_56.json': 4, '../../data/processed/Multex/Multex_17.json': 5, '../../data/processed/Multex/Multex_60.json': 6, '../../data/processed/Multex/Multex_76.json': 7, '../../data/processed/Multex/Multex_21.json': 8, '../../data/processed/Multex/Multex_4.json': 9, '../../data/processed/Multex/Multex_26.json': 10, '../../data/processed/Multex/Multex_8.json': 11, '../../data/processed/Multex/Multex_9.json': 12, '../../data/processed/Multex/Multex_89.json': 13, '../../data/processed/Multex/Multex_6.json': 14, '../../data/processed/Multex/Multex_104.json': 15, '../../data/processed/Multex/Multex_32.json': 16, '../../data/processed/Multex/Multex_24.json': 17, '../../data/processed/Multex/Multex_109.json': 18, '../../data/processed/Multex/Multex_68.json': 19, '../../data/processed/Multex/Multex_13.json': 20, '../../data/processed/Multex/Multex_59.json': 21, '../../data/processed/Multex/Multex_18.json': 22, '../../data/processed/Multex/Multex_22.json': 23, '../../data/processed/Multex/Multex_14.json': 24, '../../data/processed/Multex/Multex_79.json': 25, '../../data/processed/Multex/Multex_1.json': 26, '../../data/processed/Multex/Multex_15.json': 27, '../../data/processed/Multex/Multex_3.json': 28, '../../data/processed/Multex/Multex_144.json': 29, '../../data/processed/Multex/Multex_142.json': 30, '../../data/processed/Multex/Multex_20.json': 31, '../../data/processed/Multex/Multex_139.json': 32, '../../data/processed/Multex/Multex_10.json': 33, '../../data/processed/Multex/Multex_119.json': 34, '../../data/processed/Multex/Multex_115.json': 35, '../../data/processed/Multex/Multex_138.json': 36, '../../data/processed/Multex/Multex_141.json': 37, '../../data/processed/Multex/Multex_38.json': 38, '../../data/processed/Multex/Multex_147.json': 39, '../../data/processed/Multex/Multex_63.json': 40, '../../data/processed/Multex/Multex_97.json': 41, '../../data/processed/Multex/Multex_146.json': 42, '../../data/processed/Multex/Multex_11.json': 43, '../../data/processed/Multex/Multex_28.json': 44, '../../data/processed/Multex/Multex_25.json': 45, '../../data/processed/Multex/Multex_51.json': 46, '../../data/processed/Multex/Multex_74.json': 47, '../../data/processed/Multex/Multex_29.json': 48, '../../data/processed/Multex/Multex_101.json': 49, '../../data/processed/Multex/Multex_7.json': 50}\n",
      "Total number of results returned 50\n",
      "Relevant:  50 Non-relevant:  0\n",
      "Precision:  1.0\n",
      "Recall :  0.33557046979865773\n",
      "\n",
      "Top:  5000\n",
      "{'../../data/processed/Multex/Multex_16.json': 1, '../../data/processed/Multex/Multex_2.json': 2, '../../data/processed/Multex/Multex_57.json': 3, '../../data/processed/Multex/Multex_56.json': 4, '../../data/processed/Multex/Multex_17.json': 5, '../../data/processed/Multex/Multex_60.json': 6, '../../data/processed/Multex/Multex_76.json': 7, '../../data/processed/Multex/Multex_21.json': 8, '../../data/processed/Multex/Multex_4.json': 9, '../../data/processed/Multex/Multex_26.json': 10, '../../data/processed/Multex/Multex_8.json': 11, '../../data/processed/Multex/Multex_9.json': 12, '../../data/processed/Multex/Multex_89.json': 13, '../../data/processed/Multex/Multex_6.json': 14, '../../data/processed/Multex/Multex_104.json': 15, '../../data/processed/Multex/Multex_32.json': 16, '../../data/processed/Multex/Multex_24.json': 17, '../../data/processed/Multex/Multex_109.json': 18, '../../data/processed/Multex/Multex_68.json': 19, '../../data/processed/Multex/Multex_13.json': 20, '../../data/processed/Multex/Multex_59.json': 21, '../../data/processed/Multex/Multex_18.json': 22, '../../data/processed/Multex/Multex_22.json': 23, '../../data/processed/Multex/Multex_14.json': 24, '../../data/processed/Multex/Multex_79.json': 25, '../../data/processed/Multex/Multex_1.json': 26, '../../data/processed/Multex/Multex_15.json': 27, '../../data/processed/Multex/Multex_3.json': 28, '../../data/processed/Multex/Multex_144.json': 29, '../../data/processed/Multex/Multex_142.json': 30, '../../data/processed/Multex/Multex_20.json': 31, '../../data/processed/Multex/Multex_139.json': 32, '../../data/processed/Multex/Multex_10.json': 33, '../../data/processed/Multex/Multex_119.json': 34, '../../data/processed/Multex/Multex_115.json': 35, '../../data/processed/Multex/Multex_138.json': 36, '../../data/processed/Multex/Multex_141.json': 37, '../../data/processed/Multex/Multex_38.json': 38, '../../data/processed/Multex/Multex_147.json': 39, '../../data/processed/Multex/Multex_63.json': 40, '../../data/processed/Multex/Multex_97.json': 41, '../../data/processed/Multex/Multex_146.json': 42, '../../data/processed/Multex/Multex_11.json': 43, '../../data/processed/Multex/Multex_28.json': 44, '../../data/processed/Multex/Multex_25.json': 45, '../../data/processed/Multex/Multex_51.json': 46, '../../data/processed/Multex/Multex_74.json': 47, '../../data/processed/Multex/Multex_29.json': 48, '../../data/processed/Multex/Multex_101.json': 49, '../../data/processed/Multex/Multex_7.json': 50, '../../data/processed/Multex/Multex_127.json': 51, '../../data/processed/Multex/Multex_149.json': 52, '../../data/processed/Multex/Multex_136.json': 53, '../../data/processed/Multex/Multex_143.json': 54, '../../data/processed/Multex/Multex_125.json': 55, '../../data/processed/Multex/Multex_131.json': 56, '../../data/processed/Multex/Multex_120.json': 57, '../../data/processed/Multex/Multex_73.json': 58, '../../data/processed/Multex/Multex_113.json': 59, '../../data/processed/Multex/Multex_129.json': 60}\n",
      "Total number of results returned 60\n",
      "Relevant:  60 Non-relevant:  0\n",
      "Precision:  1.0\n",
      "Recall :  0.40268456375838924\n",
      "\n"
     ]
    },
    {
     "name": "stderr",
     "output_type": "stream",
     "text": [
      "\n"
     ]
    }
   ],
   "source": [
    "# Select a query email and score it.\n",
    "\n",
    "query_email_filename = os.path.join(multex_subdir,'Multex_1.json')\n",
    "\n",
    "multex_query_score = score_query(query_email_filename, multex_model, multex_dictionary)\n",
    "\n",
    "print('Model: Multex - Document: email')\n",
    "ranked_emails_multex,file_mapping_multex  = score_mails(multex_model, multex_query_score, multex_dictionary, multex_texts, multex_files)\n",
    "\n",
    "total_relevant = 149\n",
    "top_n = [10,20,30,50,5000]\n",
    "\n",
    "print('Model: Multex ---- Document definition: Email')\n",
    "print('---------------------------------------------')\n",
    "for top in top_n:\n",
    "    print('Top: ',top)\n",
    "    top_results = extract_top_results(ranked_emails_multex, file_mapping_multex, top)\n",
    "    print(top_results)\n",
    "    relevant,non_relevant = calculate_correct_hits(top_results,'Multex')\n",
    "    printStats(relevant, non_relevant, total_relevant, top_results)\n",
    "\n"
   ]
  }
 ],
 "metadata": {
  "kernelspec": {
   "display_name": "Python 3 (ipykernel)",
   "language": "python",
   "name": "python3"
  },
  "language_info": {
   "codemirror_mode": {
    "name": "ipython",
    "version": 3
   },
   "file_extension": ".py",
   "mimetype": "text/x-python",
   "name": "python",
   "nbconvert_exporter": "python",
   "pygments_lexer": "ipython3",
   "version": "3.9.6"
  }
 },
 "nbformat": 4,
 "nbformat_minor": 5
}
