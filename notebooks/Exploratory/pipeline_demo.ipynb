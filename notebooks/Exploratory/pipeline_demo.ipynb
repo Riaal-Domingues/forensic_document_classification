{
 "cells": [
  {
   "cell_type": "code",
   "execution_count": 6,
   "metadata": {
    "execution": {
     "iopub.execute_input": "2020-08-05T21:05:03.155209Z",
     "iopub.status.busy": "2020-08-05T21:05:03.154240Z",
     "iopub.status.idle": "2020-08-05T21:05:13.333682Z",
     "shell.execute_reply": "2020-08-05T21:05:13.332333Z",
     "shell.execute_reply.started": "2020-08-05T21:05:03.155124Z"
    }
   },
   "outputs": [
    {
     "name": "stdout",
     "output_type": "stream",
     "text": [
      "0\n",
      "2\n",
      "4\n",
      "6\n",
      "8\n",
      "10\n",
      "12\n",
      "14\n",
      "16\n",
      "18\n"
     ]
    }
   ],
   "source": [
    "import multiprocessing\n",
    "#import workers\n",
    "from workers import is_even\n",
    "from time import sleep\n",
    "\n",
    "#def is_even(numbers, q):\n",
    "#    for n in numbers:\n",
    "#        if n % 2 == 0:\n",
    "#            q.put(n)\n",
    "            \n",
    "if __name__ == \"__main__\":\n",
    " \n",
    "    q = multiprocessing.Queue()\n",
    "    #p = multiprocessing.Process(target=workers.is_even, args=(range(20), q))\n",
    "    p = multiprocessing.Process(target=is_even, args=(range(20), q))\n",
    " \n",
    "    p.start()\n",
    "    #p.join()\n",
    " \n",
    "    while q:\n",
    "        result = q.get()\n",
    "        if result == None:\n",
    "            break\n",
    "        print(result)\n",
    "        sleep(1)\n",
    "    p.terminate()"
   ]
  },
  {
   "cell_type": "code",
   "execution_count": 3,
   "metadata": {
    "execution": {
     "iopub.execute_input": "2020-08-05T21:14:41.297033Z",
     "iopub.status.busy": "2020-08-05T21:14:41.296612Z",
     "iopub.status.idle": "2020-08-05T21:14:52.472877Z",
     "shell.execute_reply": "2020-08-05T21:14:52.470713Z",
     "shell.execute_reply.started": "2020-08-05T21:14:41.296980Z"
    }
   },
   "outputs": [
    {
     "name": "stdout",
     "output_type": "stream",
     "text": [
      "defined\n",
      "started\n",
      "joined\n",
      "0\n",
      "2\n",
      "4\n",
      "6\n",
      "8\n",
      "10\n",
      "12\n",
      "14\n",
      "16\n",
      "18\n",
      "20\n"
     ]
    }
   ],
   "source": [
    "import multiprocessing\n",
    "#import workers\n",
    "from workers import even_is\n",
    "from time import sleep\n",
    "\n",
    "#def is_even(numbers, q):\n",
    "#    for n in numbers:\n",
    "#        if n % 2 == 0:\n",
    "#            q.put(n)\n",
    "            \n",
    "if __name__ == \"__main__\":\n",
    "    \n",
    "    in_q = multiprocessing.Queue()\n",
    "    out_q = multiprocessing.Queue()\n",
    "    #p = multiprocessing.Process(target=workers.is_even, args=(range(20), q))\n",
    "    p = multiprocessing.Process(target=even_is, args=(in_q, out_q))\n",
    "    print(\"defined\")\n",
    " \n",
    "    p.start()\n",
    "    print(\"started\")\n",
    "    \n",
    "    \n",
    "    #p.join()\n",
    "    print(\"joined\")\n",
    "    \n",
    "    for n in range(20):\n",
    "        #print(n)\n",
    "        in_q.put(n)\n",
    "    #in_q.put(None)\n",
    "\n",
    "    \n",
    " \n",
    "    while out_q:\n",
    "        result = out_q.get()\n",
    "        if result == None:\n",
    "            break\n",
    "        print(result)\n",
    "        if result == 18:\n",
    "            in_q.put(20)\n",
    "            in_q.put(None)\n",
    "        sleep(1)\n",
    "        \n",
    "    p.terminate()"
   ]
  },
  {
   "cell_type": "code",
   "execution_count": 1,
   "metadata": {
    "execution": {
     "iopub.execute_input": "2020-08-06T16:21:30.074519Z",
     "iopub.status.busy": "2020-08-06T16:21:30.073701Z",
     "iopub.status.idle": "2020-08-06T17:22:12.678727Z",
     "shell.execute_reply": "2020-08-06T17:22:12.672978Z",
     "shell.execute_reply.started": "2020-08-06T16:21:30.074235Z"
    }
   },
   "outputs": [
    {
     "name": "stdout",
     "output_type": "stream",
     "text": [
      "defined\n",
      "started\n",
      "0\n",
      "4\n",
      "16\n",
      "36\n",
      "64\n",
      "100\n",
      "144\n",
      "196\n",
      "256\n",
      "324\n"
     ]
    },
    {
     "ename": "KeyboardInterrupt",
     "evalue": "",
     "output_type": "error",
     "traceback": [
      "\u001b[0;31m---------------------------------------------------------------------------\u001b[0m",
      "\u001b[0;31mKeyboardInterrupt\u001b[0m                         Traceback (most recent call last)",
      "\u001b[0;32m<ipython-input-1-6329bae1c987>\u001b[0m in \u001b[0;36m<module>\u001b[0;34m\u001b[0m\n\u001b[1;32m     36\u001b[0m \u001b[0;34m\u001b[0m\u001b[0m\n\u001b[1;32m     37\u001b[0m     \u001b[0;32mwhile\u001b[0m \u001b[0mproc_out\u001b[0m\u001b[0;34m:\u001b[0m\u001b[0;34m\u001b[0m\u001b[0;34m\u001b[0m\u001b[0m\n\u001b[0;32m---> 38\u001b[0;31m         \u001b[0mresult\u001b[0m \u001b[0;34m=\u001b[0m \u001b[0mproc_out\u001b[0m\u001b[0;34m.\u001b[0m\u001b[0mget\u001b[0m\u001b[0;34m(\u001b[0m\u001b[0;34m)\u001b[0m\u001b[0;34m\u001b[0m\u001b[0;34m\u001b[0m\u001b[0m\n\u001b[0m\u001b[1;32m     39\u001b[0m         \u001b[0;32mif\u001b[0m \u001b[0mresult\u001b[0m \u001b[0;34m==\u001b[0m \u001b[0;32mNone\u001b[0m\u001b[0;34m:\u001b[0m\u001b[0;34m\u001b[0m\u001b[0;34m\u001b[0m\u001b[0m\n\u001b[1;32m     40\u001b[0m             \u001b[0;32mbreak\u001b[0m\u001b[0;34m\u001b[0m\u001b[0;34m\u001b[0m\u001b[0m\n",
      "\u001b[0;32m~/.pyenv/versions/3.8.1/lib/python3.8/multiprocessing/queues.py\u001b[0m in \u001b[0;36mget\u001b[0;34m(self, block, timeout)\u001b[0m\n\u001b[1;32m     95\u001b[0m         \u001b[0;32mif\u001b[0m \u001b[0mblock\u001b[0m \u001b[0;32mand\u001b[0m \u001b[0mtimeout\u001b[0m \u001b[0;32mis\u001b[0m \u001b[0;32mNone\u001b[0m\u001b[0;34m:\u001b[0m\u001b[0;34m\u001b[0m\u001b[0;34m\u001b[0m\u001b[0m\n\u001b[1;32m     96\u001b[0m             \u001b[0;32mwith\u001b[0m \u001b[0mself\u001b[0m\u001b[0;34m.\u001b[0m\u001b[0m_rlock\u001b[0m\u001b[0;34m:\u001b[0m\u001b[0;34m\u001b[0m\u001b[0;34m\u001b[0m\u001b[0m\n\u001b[0;32m---> 97\u001b[0;31m                 \u001b[0mres\u001b[0m \u001b[0;34m=\u001b[0m \u001b[0mself\u001b[0m\u001b[0;34m.\u001b[0m\u001b[0m_recv_bytes\u001b[0m\u001b[0;34m(\u001b[0m\u001b[0;34m)\u001b[0m\u001b[0;34m\u001b[0m\u001b[0;34m\u001b[0m\u001b[0m\n\u001b[0m\u001b[1;32m     98\u001b[0m             \u001b[0mself\u001b[0m\u001b[0;34m.\u001b[0m\u001b[0m_sem\u001b[0m\u001b[0;34m.\u001b[0m\u001b[0mrelease\u001b[0m\u001b[0;34m(\u001b[0m\u001b[0;34m)\u001b[0m\u001b[0;34m\u001b[0m\u001b[0;34m\u001b[0m\u001b[0m\n\u001b[1;32m     99\u001b[0m         \u001b[0;32melse\u001b[0m\u001b[0;34m:\u001b[0m\u001b[0;34m\u001b[0m\u001b[0;34m\u001b[0m\u001b[0m\n",
      "\u001b[0;32m~/.pyenv/versions/3.8.1/lib/python3.8/multiprocessing/connection.py\u001b[0m in \u001b[0;36mrecv_bytes\u001b[0;34m(self, maxlength)\u001b[0m\n\u001b[1;32m    214\u001b[0m         \u001b[0;32mif\u001b[0m \u001b[0mmaxlength\u001b[0m \u001b[0;32mis\u001b[0m \u001b[0;32mnot\u001b[0m \u001b[0;32mNone\u001b[0m \u001b[0;32mand\u001b[0m \u001b[0mmaxlength\u001b[0m \u001b[0;34m<\u001b[0m \u001b[0;36m0\u001b[0m\u001b[0;34m:\u001b[0m\u001b[0;34m\u001b[0m\u001b[0;34m\u001b[0m\u001b[0m\n\u001b[1;32m    215\u001b[0m             \u001b[0;32mraise\u001b[0m \u001b[0mValueError\u001b[0m\u001b[0;34m(\u001b[0m\u001b[0;34m\"negative maxlength\"\u001b[0m\u001b[0;34m)\u001b[0m\u001b[0;34m\u001b[0m\u001b[0;34m\u001b[0m\u001b[0m\n\u001b[0;32m--> 216\u001b[0;31m         \u001b[0mbuf\u001b[0m \u001b[0;34m=\u001b[0m \u001b[0mself\u001b[0m\u001b[0;34m.\u001b[0m\u001b[0m_recv_bytes\u001b[0m\u001b[0;34m(\u001b[0m\u001b[0mmaxlength\u001b[0m\u001b[0;34m)\u001b[0m\u001b[0;34m\u001b[0m\u001b[0;34m\u001b[0m\u001b[0m\n\u001b[0m\u001b[1;32m    217\u001b[0m         \u001b[0;32mif\u001b[0m \u001b[0mbuf\u001b[0m \u001b[0;32mis\u001b[0m \u001b[0;32mNone\u001b[0m\u001b[0;34m:\u001b[0m\u001b[0;34m\u001b[0m\u001b[0;34m\u001b[0m\u001b[0m\n\u001b[1;32m    218\u001b[0m             \u001b[0mself\u001b[0m\u001b[0;34m.\u001b[0m\u001b[0m_bad_message_length\u001b[0m\u001b[0;34m(\u001b[0m\u001b[0;34m)\u001b[0m\u001b[0;34m\u001b[0m\u001b[0;34m\u001b[0m\u001b[0m\n",
      "\u001b[0;32m~/.pyenv/versions/3.8.1/lib/python3.8/multiprocessing/connection.py\u001b[0m in \u001b[0;36m_recv_bytes\u001b[0;34m(self, maxsize)\u001b[0m\n\u001b[1;32m    412\u001b[0m \u001b[0;34m\u001b[0m\u001b[0m\n\u001b[1;32m    413\u001b[0m     \u001b[0;32mdef\u001b[0m \u001b[0m_recv_bytes\u001b[0m\u001b[0;34m(\u001b[0m\u001b[0mself\u001b[0m\u001b[0;34m,\u001b[0m \u001b[0mmaxsize\u001b[0m\u001b[0;34m=\u001b[0m\u001b[0;32mNone\u001b[0m\u001b[0;34m)\u001b[0m\u001b[0;34m:\u001b[0m\u001b[0;34m\u001b[0m\u001b[0;34m\u001b[0m\u001b[0m\n\u001b[0;32m--> 414\u001b[0;31m         \u001b[0mbuf\u001b[0m \u001b[0;34m=\u001b[0m \u001b[0mself\u001b[0m\u001b[0;34m.\u001b[0m\u001b[0m_recv\u001b[0m\u001b[0;34m(\u001b[0m\u001b[0;36m4\u001b[0m\u001b[0;34m)\u001b[0m\u001b[0;34m\u001b[0m\u001b[0;34m\u001b[0m\u001b[0m\n\u001b[0m\u001b[1;32m    415\u001b[0m         \u001b[0msize\u001b[0m\u001b[0;34m,\u001b[0m \u001b[0;34m=\u001b[0m \u001b[0mstruct\u001b[0m\u001b[0;34m.\u001b[0m\u001b[0munpack\u001b[0m\u001b[0;34m(\u001b[0m\u001b[0;34m\"!i\"\u001b[0m\u001b[0;34m,\u001b[0m \u001b[0mbuf\u001b[0m\u001b[0;34m.\u001b[0m\u001b[0mgetvalue\u001b[0m\u001b[0;34m(\u001b[0m\u001b[0;34m)\u001b[0m\u001b[0;34m)\u001b[0m\u001b[0;34m\u001b[0m\u001b[0;34m\u001b[0m\u001b[0m\n\u001b[1;32m    416\u001b[0m         \u001b[0;32mif\u001b[0m \u001b[0msize\u001b[0m \u001b[0;34m==\u001b[0m \u001b[0;34m-\u001b[0m\u001b[0;36m1\u001b[0m\u001b[0;34m:\u001b[0m\u001b[0;34m\u001b[0m\u001b[0;34m\u001b[0m\u001b[0m\n",
      "\u001b[0;32m~/.pyenv/versions/3.8.1/lib/python3.8/multiprocessing/connection.py\u001b[0m in \u001b[0;36m_recv\u001b[0;34m(self, size, read)\u001b[0m\n\u001b[1;32m    377\u001b[0m         \u001b[0mremaining\u001b[0m \u001b[0;34m=\u001b[0m \u001b[0msize\u001b[0m\u001b[0;34m\u001b[0m\u001b[0;34m\u001b[0m\u001b[0m\n\u001b[1;32m    378\u001b[0m         \u001b[0;32mwhile\u001b[0m \u001b[0mremaining\u001b[0m \u001b[0;34m>\u001b[0m \u001b[0;36m0\u001b[0m\u001b[0;34m:\u001b[0m\u001b[0;34m\u001b[0m\u001b[0;34m\u001b[0m\u001b[0m\n\u001b[0;32m--> 379\u001b[0;31m             \u001b[0mchunk\u001b[0m \u001b[0;34m=\u001b[0m \u001b[0mread\u001b[0m\u001b[0;34m(\u001b[0m\u001b[0mhandle\u001b[0m\u001b[0;34m,\u001b[0m \u001b[0mremaining\u001b[0m\u001b[0;34m)\u001b[0m\u001b[0;34m\u001b[0m\u001b[0;34m\u001b[0m\u001b[0m\n\u001b[0m\u001b[1;32m    380\u001b[0m             \u001b[0mn\u001b[0m \u001b[0;34m=\u001b[0m \u001b[0mlen\u001b[0m\u001b[0;34m(\u001b[0m\u001b[0mchunk\u001b[0m\u001b[0;34m)\u001b[0m\u001b[0;34m\u001b[0m\u001b[0;34m\u001b[0m\u001b[0m\n\u001b[1;32m    381\u001b[0m             \u001b[0;32mif\u001b[0m \u001b[0mn\u001b[0m \u001b[0;34m==\u001b[0m \u001b[0;36m0\u001b[0m\u001b[0;34m:\u001b[0m\u001b[0;34m\u001b[0m\u001b[0;34m\u001b[0m\u001b[0m\n",
      "\u001b[0;31mKeyboardInterrupt\u001b[0m: "
     ]
    }
   ],
   "source": [
    "import multiprocessing\n",
    "#import workers\n",
    "from workers import even_is\n",
    "from workers import square\n",
    "from time import sleep\n",
    "\n",
    "#def is_even(numbers, q):\n",
    "#    for n in numbers:\n",
    "#        if n % 2 == 0:\n",
    "#            q.put(n)\n",
    "            \n",
    "if __name__ == \"__main__\":\n",
    "    \n",
    "    proc_in = multiprocessing.Queue()\n",
    "    proc_out = multiprocessing.Queue()\n",
    "    op1_out = multiprocessing.Queue()\n",
    "    #op2_out = multiprocessing.Queue()\n",
    "\n",
    "    #p = multiprocessing.Process(target=workers.is_even, args=(range(20), q))\n",
    "    op1 = multiprocessing.Process(target=even_is, args=(proc_in, op1_out))\n",
    "    op2 = multiprocessing.Process(target=square, args=(op1_out, proc_out))\n",
    "\n",
    "    print(\"defined\")\n",
    " \n",
    "    op1.start()\n",
    "    op2.start()\n",
    "    print(\"started\")\n",
    "    \n",
    "    \n",
    "    for n in range(20):\n",
    "        #print(n)\n",
    "        proc_in.put(n)\n",
    "    #in_q.put(None)\n",
    "\n",
    "    \n",
    " \n",
    "    while proc_out:\n",
    "        result = proc_out.get()\n",
    "        if result == None:\n",
    "            break\n",
    "        print(result)\n",
    "        if result == 18:\n",
    "            proc_in.put(20)\n",
    "            proc_in.put(None)\n",
    "        sleep(1)\n",
    "        \n",
    "    op1.terminate()\n",
    "    op2.terminate()"
   ]
  },
  {
   "cell_type": "code",
   "execution_count": null,
   "metadata": {
    "execution": {
     "iopub.execute_input": "2020-08-06T20:35:00.006677Z",
     "iopub.status.busy": "2020-08-06T20:35:00.006256Z"
    }
   },
   "outputs": [
    {
     "name": "stdout",
     "output_type": "stream",
     "text": [
      "12\n",
      "defined\n",
      "started\n",
      "object sent\n",
      "13\n"
     ]
    }
   ],
   "source": [
    "import multiprocessing\n",
    "#import workers\n",
    "from workers import holderClass\n",
    "from time import sleep\n",
    "\n",
    "#def is_even(numbers, q):\n",
    "#    for n in numbers:\n",
    "#        if n % 2 == 0:\n",
    "#            q.put(n)\n",
    "            \n",
    "if __name__ == \"__main__\":\n",
    "    \n",
    "    holder = holderClass()\n",
    "    print(holder.x)\n",
    "    #holder.increment()\n",
    "    #print(holder.x)\n",
    "    \n",
    "    in_q = multiprocessing.Queue()\n",
    "    out_q = multiprocessing.Queue()\n",
    "    #p = multiprocessing.Process(target=workers.is_even, args=(range(20), q))\n",
    "    p = multiprocessing.Process(target=holder.increment, args=(in_q, out_q))\n",
    "    print(\"defined\")\n",
    " \n",
    "    p.start()\n",
    "    print(\"started\")\n",
    "    \n",
    "    \n",
    "    in_q.put(holder)\n",
    "    print(\"object sent\")\n",
    "\n",
    "    \n",
    " \n",
    "    while out_q:\n",
    "        result = out_q.get()\n",
    "        print(result.x)        \n",
    "    p.terminate()"
   ]
  },
  {
   "cell_type": "code",
   "execution_count": 1,
   "metadata": {
    "execution": {
     "iopub.execute_input": "2020-08-05T20:40:56.322903Z",
     "iopub.status.busy": "2020-08-05T20:40:56.322456Z",
     "iopub.status.idle": "2020-08-05T20:40:56.530685Z",
     "shell.execute_reply": "2020-08-05T20:40:56.528900Z",
     "shell.execute_reply.started": "2020-08-05T20:40:56.322820Z"
    }
   },
   "outputs": [
    {
     "name": "stdout",
     "output_type": "stream",
     "text": [
      "[0, 1, 4]\n"
     ]
    }
   ],
   "source": [
    "from multiprocessing import Pool\n",
    "import workers\n",
    "\n",
    "if __name__ ==  '__main__':\n",
    "    num_processors = 3\n",
    "    p=Pool(processes = num_processors)\n",
    "    output = p.map(workers.worker,[i for i in range(0,3)])\n",
    "    print(output)"
   ]
  },
  {
   "cell_type": "code",
   "execution_count": 3,
   "metadata": {
    "execution": {
     "iopub.execute_input": "2020-08-06T20:22:28.322081Z",
     "iopub.status.busy": "2020-08-06T20:22:28.321655Z",
     "iopub.status.idle": "2020-08-06T20:22:28.607527Z",
     "shell.execute_reply": "2020-08-06T20:22:28.606283Z",
     "shell.execute_reply.started": "2020-08-06T20:22:28.322029Z"
    }
   },
   "outputs": [
    {
     "name": "stdout",
     "output_type": "stream",
     "text": [
      "12\n",
      "12\n",
      "0\n",
      "1\n",
      "4\n",
      "9\n",
      "16\n",
      "25\n",
      "36\n",
      "49\n",
      "64\n",
      "81\n"
     ]
    }
   ],
   "source": [
    "import multiprocessing\n",
    "from workers import testClass\n",
    "\n",
    "\n",
    "\n",
    "\n",
    "def main():\n",
    "    c = testClass()\n",
    "    #c.x = 11\n",
    "    print(c.x)\n",
    "    c.process()\n",
    "    print(c.x)\n",
    "    c.pool()\n",
    "\n",
    "if __name__ == \"__main__\":\n",
    "    main()"
   ]
  },
  {
   "cell_type": "code",
   "execution_count": 2,
   "metadata": {
    "execution": {
     "iopub.execute_input": "2020-08-07T16:02:01.433743Z",
     "iopub.status.busy": "2020-08-07T16:02:01.432163Z",
     "iopub.status.idle": "2020-08-07T16:02:02.143182Z",
     "shell.execute_reply": "2020-08-07T16:02:02.141092Z",
     "shell.execute_reply.started": "2020-08-07T16:02:01.433558Z"
    }
   },
   "outputs": [
    {
     "name": "stdout",
     "output_type": "stream",
     "text": [
      "4\n",
      "assign\n",
      "1 2\n",
      "assign\n",
      "2 3\n",
      "assign\n",
      "3 4\n",
      "1 4\n",
      "100000000\n"
     ]
    }
   ],
   "source": [
    "import multiprocessing\n",
    "from time import sleep\n",
    "from workers import square\n",
    "\n",
    "\n",
    "queue_list = []\n",
    "func_list = []\n",
    "\n",
    "nr_stages = 3\n",
    "\n",
    "nr_queues = nr_stages + 1\n",
    "\n",
    "for i in range(nr_queues):\n",
    "    queue_list.append(multiprocessing.Queue())\n",
    "    \n",
    "print(len(queue_list))\n",
    "    \n",
    "func_list.append(square)\n",
    "func_list.append(square)\n",
    "func_list.append(square)\n",
    "\n",
    "\n",
    "q_iter = iter(queue_list)\n",
    "out_q = next(q_iter)\n",
    "\n",
    "process_list = []\n",
    "\n",
    "for func in func_list:\n",
    "    print(\"assign\")\n",
    "    in_n = out_n\n",
    "    out_n = next(n_iter)\n",
    "    in_q = out_q\n",
    "    out_q = next(q_iter)\n",
    "    print(in_n,out_n)\n",
    "    process = multiprocessing.Process(target=func, args=(in_q, out_q))\n",
    "    process_list.append(process)\n",
    "\n",
    "in_q = queue_list[0]\n",
    "out_q = queue_list[-1]\n",
    "\n",
    "for process in process_list:\n",
    "    process.start()\n",
    "    sleep(0.1)\n",
    "\n",
    "in_q.put(10)\n",
    "print(out_q.get())\n",
    "\n",
    "\n",
    "for process in process_list:\n",
    "    process.terminate()\n",
    "    sleep(0.1)\n",
    "    process.close()"
   ]
  },
  {
   "cell_type": "code",
   "execution_count": 22,
   "metadata": {
    "execution": {
     "iopub.execute_input": "2020-08-07T15:57:39.729853Z",
     "iopub.status.busy": "2020-08-07T15:57:39.729441Z",
     "iopub.status.idle": "2020-08-07T15:57:39.780194Z",
     "shell.execute_reply": "2020-08-07T15:57:39.774108Z",
     "shell.execute_reply.started": "2020-08-07T15:57:39.729798Z"
    }
   },
   "outputs": [
    {
     "ename": "ValueError",
     "evalue": "process object is closed",
     "output_type": "error",
     "traceback": [
      "\u001b[0;31m---------------------------------------------------------------------------\u001b[0m",
      "\u001b[0;31mValueError\u001b[0m                                Traceback (most recent call last)",
      "\u001b[0;32m<ipython-input-22-e19848036f42>\u001b[0m in \u001b[0;36m<module>\u001b[0;34m\u001b[0m\n\u001b[1;32m      1\u001b[0m \u001b[0;32mfor\u001b[0m \u001b[0mprocess\u001b[0m \u001b[0;32min\u001b[0m \u001b[0mprocess_list\u001b[0m\u001b[0;34m:\u001b[0m\u001b[0;34m\u001b[0m\u001b[0;34m\u001b[0m\u001b[0m\n\u001b[0;32m----> 2\u001b[0;31m     \u001b[0mprocess\u001b[0m\u001b[0;34m.\u001b[0m\u001b[0mterminate\u001b[0m\u001b[0;34m(\u001b[0m\u001b[0;34m)\u001b[0m\u001b[0;34m\u001b[0m\u001b[0;34m\u001b[0m\u001b[0m\n\u001b[0m\u001b[1;32m      3\u001b[0m     \u001b[0msleep\u001b[0m\u001b[0;34m(\u001b[0m\u001b[0;36m0.1\u001b[0m\u001b[0;34m)\u001b[0m\u001b[0;34m\u001b[0m\u001b[0;34m\u001b[0m\u001b[0m\n\u001b[1;32m      4\u001b[0m     \u001b[0mprocess\u001b[0m\u001b[0;34m.\u001b[0m\u001b[0mclose\u001b[0m\u001b[0;34m(\u001b[0m\u001b[0;34m)\u001b[0m\u001b[0;34m\u001b[0m\u001b[0;34m\u001b[0m\u001b[0m\n",
      "\u001b[0;32m~/.pyenv/versions/3.8.1/lib/python3.8/multiprocessing/process.py\u001b[0m in \u001b[0;36mterminate\u001b[0;34m(self)\u001b[0m\n\u001b[1;32m    130\u001b[0m         \u001b[0mTerminate\u001b[0m \u001b[0mprocess\u001b[0m\u001b[0;34m;\u001b[0m \u001b[0msends\u001b[0m \u001b[0mSIGTERM\u001b[0m \u001b[0msignal\u001b[0m \u001b[0;32mor\u001b[0m \u001b[0muses\u001b[0m \u001b[0mTerminateProcess\u001b[0m\u001b[0;34m(\u001b[0m\u001b[0;34m)\u001b[0m\u001b[0;34m\u001b[0m\u001b[0;34m\u001b[0m\u001b[0m\n\u001b[1;32m    131\u001b[0m         '''\n\u001b[0;32m--> 132\u001b[0;31m         \u001b[0mself\u001b[0m\u001b[0;34m.\u001b[0m\u001b[0m_check_closed\u001b[0m\u001b[0;34m(\u001b[0m\u001b[0;34m)\u001b[0m\u001b[0;34m\u001b[0m\u001b[0;34m\u001b[0m\u001b[0m\n\u001b[0m\u001b[1;32m    133\u001b[0m         \u001b[0mself\u001b[0m\u001b[0;34m.\u001b[0m\u001b[0m_popen\u001b[0m\u001b[0;34m.\u001b[0m\u001b[0mterminate\u001b[0m\u001b[0;34m(\u001b[0m\u001b[0;34m)\u001b[0m\u001b[0;34m\u001b[0m\u001b[0;34m\u001b[0m\u001b[0m\n\u001b[1;32m    134\u001b[0m \u001b[0;34m\u001b[0m\u001b[0m\n",
      "\u001b[0;32m~/.pyenv/versions/3.8.1/lib/python3.8/multiprocessing/process.py\u001b[0m in \u001b[0;36m_check_closed\u001b[0;34m(self)\u001b[0m\n\u001b[1;32m     99\u001b[0m     \u001b[0;32mdef\u001b[0m \u001b[0m_check_closed\u001b[0m\u001b[0;34m(\u001b[0m\u001b[0mself\u001b[0m\u001b[0;34m)\u001b[0m\u001b[0;34m:\u001b[0m\u001b[0;34m\u001b[0m\u001b[0;34m\u001b[0m\u001b[0m\n\u001b[1;32m    100\u001b[0m         \u001b[0;32mif\u001b[0m \u001b[0mself\u001b[0m\u001b[0;34m.\u001b[0m\u001b[0m_closed\u001b[0m\u001b[0;34m:\u001b[0m\u001b[0;34m\u001b[0m\u001b[0;34m\u001b[0m\u001b[0m\n\u001b[0;32m--> 101\u001b[0;31m             \u001b[0;32mraise\u001b[0m \u001b[0mValueError\u001b[0m\u001b[0;34m(\u001b[0m\u001b[0;34m\"process object is closed\"\u001b[0m\u001b[0;34m)\u001b[0m\u001b[0;34m\u001b[0m\u001b[0;34m\u001b[0m\u001b[0m\n\u001b[0m\u001b[1;32m    102\u001b[0m \u001b[0;34m\u001b[0m\u001b[0m\n\u001b[1;32m    103\u001b[0m     \u001b[0;32mdef\u001b[0m \u001b[0mrun\u001b[0m\u001b[0;34m(\u001b[0m\u001b[0mself\u001b[0m\u001b[0;34m)\u001b[0m\u001b[0;34m:\u001b[0m\u001b[0;34m\u001b[0m\u001b[0;34m\u001b[0m\u001b[0m\n",
      "\u001b[0;31mValueError\u001b[0m: process object is closed"
     ]
    }
   ],
   "source": [
    "for process in process_list:\n",
    "    process.terminate()\n",
    "    sleep(0.1)\n",
    "    process.close()"
   ]
  },
  {
   "cell_type": "code",
   "execution_count": 9,
   "metadata": {
    "execution": {
     "iopub.execute_input": "2020-08-08T19:41:41.850441Z",
     "iopub.status.busy": "2020-08-08T19:41:41.845357Z",
     "iopub.status.idle": "2020-08-08T19:41:42.373820Z",
     "shell.execute_reply": "2020-08-08T19:41:42.368811Z",
     "shell.execute_reply.started": "2020-08-08T19:41:41.850339Z"
    }
   },
   "outputs": [
    {
     "name": "stdout",
     "output_type": "stream",
     "text": [
      "10000\n"
     ]
    }
   ],
   "source": [
    "from pipeline import Pipeline\n",
    "import importlib\n",
    "\n",
    "importlib.reload(pipeline)\n",
    "\n",
    "from workers import square\n",
    "\n",
    "func_list = [square,square]\n",
    "\n",
    "pipe = Pipeline()\n",
    "pipe.new_pipeline(func_list)\n",
    "\n",
    "pipe.in_q.put(10)\n",
    "print(pipe.out_q.get())\n",
    "\n",
    "pipe.terminate_pipeline()"
   ]
  },
  {
   "cell_type": "code",
   "execution_count": null,
   "metadata": {},
   "outputs": [],
   "source": []
  }
 ],
 "metadata": {
  "kernelspec": {
   "display_name": "Python 3",
   "language": "python",
   "name": "python3"
  },
  "language_info": {
   "codemirror_mode": {
    "name": "ipython",
    "version": 3
   },
   "file_extension": ".py",
   "mimetype": "text/x-python",
   "name": "python",
   "nbconvert_exporter": "python",
   "pygments_lexer": "ipython3",
   "version": "3.8.1"
  }
 },
 "nbformat": 4,
 "nbformat_minor": 4
}
